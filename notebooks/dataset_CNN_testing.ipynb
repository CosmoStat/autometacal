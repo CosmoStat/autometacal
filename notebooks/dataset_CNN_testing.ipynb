{
 "cells": [
  {
   "cell_type": "markdown",
   "id": "ultimate-rocket",
   "metadata": {},
   "source": [
    "# Testing CNN Shape Measurements of Simple Galaxy Models"
   ]
  },
  {
   "cell_type": "code",
   "execution_count": 1,
   "id": "violent-chemistry",
   "metadata": {},
   "outputs": [
    {
     "name": "stdout",
     "output_type": "stream",
     "text": [
      "Tensorflow version: 2.8.0\n"
     ]
    }
   ],
   "source": [
    "import numpy as np\n",
    "from matplotlib import pyplot as plt\n",
    "from scipy.stats import gaussian_kde, pearsonr\n",
    "\n",
    "#tensorflow\n",
    "import tensorflow as tf\n",
    "config = tf.compat.v1.ConfigProto()\n",
    "config.gpu_options.allow_growth = True\n",
    "sess = tf.compat.v1.Session(config=config)\n",
    "print(\"Tensorflow version: {}\".format(tf.version.VERSION))\n",
    "\n",
    "\n",
    "#keras only after gpu ID and memory usage is set\n",
    "import tensorflow.keras.models as km\n",
    "import tensorflow.keras.layers as kl\n",
    "import tensorflow.keras.regularizers as kr\n",
    "import tensorflow.keras.optimizers as ko\n",
    "\n",
    "import tensorflow_datasets as tfds"
   ]
  },
  {
   "cell_type": "markdown",
   "id": "blessed-guest",
   "metadata": {},
   "source": [
    "## CNN Models"
   ]
  },
  {
   "cell_type": "code",
   "execution_count": 2,
   "id": "cooperative-madison",
   "metadata": {},
   "outputs": [],
   "source": [
    "def Ribli19(imsize=50, n_target=2 ,n_channels=1, nf=64, reg = 5e-5,\n",
    "          padding='same', gpu='0'):\n",
    "\n",
    "    #input\n",
    "    inp = kl.Input((imsize, imsize,n_channels))\n",
    "    \n",
    "    # conv block 1\n",
    "    x = kl.Conv2D(nf, (3, 3), padding=padding,kernel_regularizer=kr.l2(reg))(inp)\n",
    "    x = kl.Activation('relu')(kl.BatchNormalization()(x))\n",
    "    \n",
    "    x = kl.Conv2D(nf, (3, 3), padding=padding,kernel_regularizer=kr.l2(reg))(x)\n",
    "    x = kl.Activation('relu')(kl.BatchNormalization()(x))\n",
    "    \n",
    "    x = kl.MaxPooling2D(strides=(2,2))(x)\n",
    "    \n",
    "    # conv block 2\n",
    "    x = kl.Conv2D(2*nf, (3, 3), padding=padding,kernel_regularizer=kr.l2(reg))(x)\n",
    "    x = kl.Activation('relu')(kl.BatchNormalization()(x))\n",
    "    \n",
    "    x = kl.Conv2D(2*nf, (3, 3), padding=padding, kernel_regularizer=kr.l2(reg))(x)\n",
    "    x = kl.Activation('relu')(kl.BatchNormalization()(x))\n",
    "    \n",
    "    x = kl.MaxPooling2D(strides=(2,2))(x)\n",
    "\n",
    "    # conv block 3\n",
    "    x = kl.Conv2D(4*nf, (3, 3), padding=padding, kernel_regularizer=kr.l2(reg))(x)\n",
    "    x = kl.Activation('relu')(kl.BatchNormalization()(x))\n",
    "    \n",
    "    x = kl.Conv2D(2*nf, (1, 1), padding=padding, kernel_regularizer=kr.l2(reg))(x)\n",
    "    x = kl.Activation('relu')(kl.BatchNormalization()(x))\n",
    "    \n",
    "    x = kl.Conv2D(4*nf, (3, 3), padding=padding, kernel_regularizer=kr.l2(reg))(x)\n",
    "    x = kl.Activation('relu')(kl.BatchNormalization()(x))\n",
    "    x = kl.MaxPooling2D(strides=(2,2))(x)\n",
    "\n",
    "    # conv block 4\n",
    "    x = kl.Conv2D(8*nf, (3, 3), padding=padding, kernel_regularizer=kr.l2(reg))(x)\n",
    "    x = kl.Activation('relu')(kl.BatchNormalization()(x))\n",
    "    \n",
    "    x = kl.Conv2D(4*nf, (1, 1), padding=padding, kernel_regularizer=kr.l2(reg))(x)\n",
    "    x = kl.Activation('relu')(kl.BatchNormalization()(x))\n",
    "    \n",
    "    x = kl.Conv2D(8*nf, (3, 3), padding=padding, kernel_regularizer=kr.l2(reg))(x)\n",
    "    x = kl.Activation('relu')(kl.BatchNormalization()(x))\n",
    "    x = kl.MaxPooling2D(strides=(2,2))(x)\n",
    "    \n",
    "    # conv block 5\n",
    "    x = kl.Conv2D(16*nf, (3, 3), padding=padding, kernel_regularizer=kr.l2(reg))(x)\n",
    "    x = kl.Activation('relu')(kl.BatchNormalization()(x))\n",
    "    \n",
    "    x = kl.Conv2D(8*nf, (1, 1), padding=padding,  kernel_regularizer=kr.l2(reg))(x)\n",
    "    x = kl.Activation('relu')(kl.BatchNormalization()(x))\n",
    "    \n",
    "    x = kl.Conv2D(16*nf, (3, 3), padding=padding, kernel_regularizer=kr.l2(reg))(x)\n",
    "    x = kl.Activation('relu')(kl.BatchNormalization()(x))\n",
    "    \n",
    "    #  end of conv\n",
    "    \n",
    "    x = kl.GlobalAveragePooling2D()(x)    \n",
    "    x = kl.Dense(n_target, name = 'final_dense_n%d_ngpu%d' % (n_target, len(gpu.split(','))))(x)  \n",
    "\n",
    "    model = km.Model(inputs=inp, outputs=x)  # make model\n",
    "       \n",
    "    return model"
   ]
  },
  {
   "cell_type": "code",
   "execution_count": 3,
   "id": "automatic-sugar",
   "metadata": {},
   "outputs": [
    {
     "name": "stderr",
     "output_type": "stream",
     "text": [
      "/home/LSC/vitorelli/.local/lib/python3.9/site-packages/tensorflow_addons/utils/ensure_tf_install.py:53: UserWarning: Tensorflow Addons supports using Python ops for all Tensorflow versions above or equal to 2.5.0 and strictly below 2.8.0 (nightly versions are not supported). \n",
      " The versions of TensorFlow you are currently using is 2.8.0 and is not supported. \n",
      "Some things might work, some things might not.\n",
      "If you were to encounter a bug, do not file an issue.\n",
      "If you want to make sure you're using a tested and supported configuration, either change the TensorFlow version or the TensorFlow Addons's version. \n",
      "You can find the compatibility matrix in TensorFlow Addon's readme:\n",
      "https://github.com/tensorflow/addons\n",
      "  warnings.warn(\n"
     ]
    }
   ],
   "source": [
    "from autometacal.python.datasets import GalGen"
   ]
  },
  {
   "cell_type": "markdown",
   "id": "crazy-rover",
   "metadata": {},
   "source": [
    "## Load Data"
   ]
  },
  {
   "cell_type": "code",
   "execution_count": 4,
   "id": "excellent-prototype",
   "metadata": {
    "tags": []
   },
   "outputs": [
    {
     "name": "stdout",
     "output_type": "stream",
     "text": [
      "\u001b[1mDownloading and preparing dataset Unknown size (download: Unknown size, generated: Unknown size, total: Unknown size) to /home/LSC/vitorelli/tensorflow_datasets/gal_gen/small_stamp_100k/2.0.0...\u001b[0m\n"
     ]
    },
    {
     "data": {
      "application/vnd.jupyter.widget-view+json": {
       "model_id": "",
       "version_major": 2,
       "version_minor": 0
      },
      "text/plain": [
       "Generating splits...:   0%|          | 0/1 [00:00<?, ? splits/s]"
      ]
     },
     "metadata": {},
     "output_type": "display_data"
    },
    {
     "data": {
      "application/vnd.jupyter.widget-view+json": {
       "model_id": "",
       "version_major": 2,
       "version_minor": 0
      },
      "text/plain": [
       "Generating train examples...: 0 examples [00:00, ? examples/s]"
      ]
     },
     "metadata": {},
     "output_type": "display_data"
    },
    {
     "data": {
      "application/vnd.jupyter.widget-view+json": {
       "model_id": "",
       "version_major": 2,
       "version_minor": 0
      },
      "text/plain": [
       "Shuffling gal_gen-train.tfrecord...:   0%|          | 0/100000 [00:00<?, ? examples/s]"
      ]
     },
     "metadata": {},
     "output_type": "display_data"
    },
    {
     "name": "stdout",
     "output_type": "stream",
     "text": [
      "\u001b[1mDataset gal_gen downloaded and prepared to /home/LSC/vitorelli/tensorflow_datasets/gal_gen/small_stamp_100k/2.0.0. Subsequent calls will reuse this data.\u001b[0m\n"
     ]
    }
   ],
   "source": [
    "(datat, datav), ds_info = tfds.load('GalGen/small_stamp_100k',as_supervised=True,split=['train[:14%]', 'train[14%:20%]'],with_info=True)\n",
    "datat = datat.cache()\n",
    "datat = datat.shuffle(ds_info.splits['train'].num_examples)\n",
    "datat = datat.batch(512)\n",
    "datat = datat.prefetch(tf.data.experimental.AUTOTUNE)"
   ]
  },
  {
   "cell_type": "code",
   "execution_count": 5,
   "id": "qualified-denial",
   "metadata": {},
   "outputs": [],
   "source": [
    "datav = datav.cache()\n",
    "datav = datav.batch(512)\n",
    "datav = datav.prefetch(tf.data.experimental.AUTOTUNE)"
   ]
  },
  {
   "cell_type": "code",
   "execution_count": 15,
   "id": "e7bcb2ca-e441-4d23-847b-73df01de9169",
   "metadata": {},
   "outputs": [
    {
     "data": {
      "text/plain": [
       "<PrefetchDataset element_spec=(TensorSpec(shape=(None, 50, 50), dtype=tf.float32, name=None), TensorSpec(shape=(None, 2), dtype=tf.float32, name=None))>"
      ]
     },
     "execution_count": 15,
     "metadata": {},
     "output_type": "execute_result"
    }
   ],
   "source": [
    "datav"
   ]
  },
  {
   "cell_type": "code",
   "execution_count": 14,
   "id": "bb1c96a2-4028-4d7f-83f2-ac1741a7c068",
   "metadata": {},
   "outputs": [
    {
     "ename": "NameError",
     "evalue": "name 'gal_images' is not defined",
     "output_type": "error",
     "traceback": [
      "\u001b[0;31m---------------------------------------------------------------------------\u001b[0m",
      "\u001b[0;31mNameError\u001b[0m                                 Traceback (most recent call last)",
      "\u001b[0;32m<ipython-input-14-f965c12b217a>\u001b[0m in \u001b[0;36m<module>\u001b[0;34m\u001b[0m\n\u001b[1;32m      3\u001b[0m \u001b[0;32mfor\u001b[0m \u001b[0mi\u001b[0m \u001b[0;32min\u001b[0m \u001b[0mrange\u001b[0m\u001b[0;34m(\u001b[0m\u001b[0;36m16\u001b[0m\u001b[0;34m)\u001b[0m\u001b[0;34m:\u001b[0m\u001b[0;34m\u001b[0m\u001b[0;34m\u001b[0m\u001b[0m\n\u001b[1;32m      4\u001b[0m   \u001b[0mplt\u001b[0m\u001b[0;34m.\u001b[0m\u001b[0msubplot\u001b[0m\u001b[0;34m(\u001b[0m\u001b[0;36m4\u001b[0m\u001b[0;34m,\u001b[0m\u001b[0;36m4\u001b[0m\u001b[0;34m,\u001b[0m\u001b[0mi\u001b[0m\u001b[0;34m+\u001b[0m\u001b[0;36m1\u001b[0m\u001b[0;34m)\u001b[0m\u001b[0;34m\u001b[0m\u001b[0;34m\u001b[0m\u001b[0m\n\u001b[0;32m----> 5\u001b[0;31m   \u001b[0mplt\u001b[0m\u001b[0;34m.\u001b[0m\u001b[0mimshow\u001b[0m\u001b[0;34m(\u001b[0m\u001b[0mgal_images\u001b[0m\u001b[0;34m[\u001b[0m\u001b[0mi\u001b[0m\u001b[0;34m]\u001b[0m\u001b[0;34m)\u001b[0m\u001b[0;34m\u001b[0m\u001b[0;34m\u001b[0m\u001b[0m\n\u001b[0m",
      "\u001b[0;31mNameError\u001b[0m: name 'gal_images' is not defined"
     ]
    },
    {
     "data": {
      "image/png": "[encoded data removed]",
      "text/plain": [
       "<Figure size 1000x1000 with 1 Axes>"
      ]
     },
     "metadata": {},
     "output_type": "display_data"
    }
   ],
   "source": [
    "plt.style.use('default')\n",
    "plt.figure(figsize=(10,10))\n",
    "for i in range(16):\n",
    "  plt.subplot(4,4,i+1)\n",
    "  plt.imshow(gal_images[i])"
   ]
  },
  {
   "cell_type": "markdown",
   "id": "circular-effect",
   "metadata": {},
   "source": [
    "## Generate Model"
   ]
  },
  {
   "cell_type": "code",
   "execution_count": 6,
   "id": "following-peace",
   "metadata": {},
   "outputs": [],
   "source": [
    "model = Ribli19(50,n_channels=1)"
   ]
  },
  {
   "cell_type": "markdown",
   "id": "defined-halifax",
   "metadata": {},
   "source": [
    "## Optimise Model"
   ]
  },
  {
   "cell_type": "code",
   "execution_count": 7,
   "id": "foster-philadelphia",
   "metadata": {},
   "outputs": [
    {
     "name": "stdout",
     "output_type": "stream",
     "text": [
      "Epoch 1/40\n"
     ]
    },
    {
     "name": "stderr",
     "output_type": "stream",
     "text": [
      "/home/LSC/vitorelli/.local/lib/python3.9/site-packages/keras/optimizer_v2/gradient_descent.py:102: UserWarning: The `lr` argument is deprecated, use `learning_rate` instead.\n",
      "  super(SGD, self).__init__(name, **kwargs)\n"
     ]
    },
    {
     "name": "stdout",
     "output_type": "stream",
     "text": [
      "28/28 [==============================] - 24s 394ms/step - loss: 0.2327 - mae: 0.1418 - mse: 0.0395 - val_loss: 0.2550 - val_mae: 0.1994 - val_mse: 0.0619\n",
      "Epoch 2/40\n",
      "28/28 [==============================] - 7s 243ms/step - loss: 0.2005 - mae: 0.0679 - mse: 0.0074 - val_loss: 0.2550 - val_mae: 0.1996 - val_mse: 0.0619\n",
      "Epoch 3/40\n",
      "28/28 [==============================] - 7s 243ms/step - loss: 0.1967 - mae: 0.0476 - mse: 0.0036 - val_loss: 0.2551 - val_mae: 0.1998 - val_mse: 0.0621\n",
      "Epoch 4/40\n",
      "28/28 [==============================] - 7s 243ms/step - loss: 0.1959 - mae: 0.0429 - mse: 0.0029 - val_loss: 0.2545 - val_mae: 0.1988 - val_mse: 0.0616\n",
      "Epoch 5/40\n",
      "28/28 [==============================] - 7s 244ms/step - loss: 0.1950 - mae: 0.0357 - mse: 0.0020 - val_loss: 0.2507 - val_mae: 0.1918 - val_mse: 0.0578\n",
      "Epoch 6/40\n",
      "28/28 [==============================] - 7s 245ms/step - loss: 0.1951 - mae: 0.0378 - mse: 0.0023 - val_loss: 0.2457 - val_mae: 0.1827 - val_mse: 0.0529\n",
      "Epoch 7/40\n",
      "28/28 [==============================] - 7s 245ms/step - loss: 0.1945 - mae: 0.0329 - mse: 0.0017 - val_loss: 0.2355 - val_mae: 0.1634 - val_mse: 0.0427\n",
      "Epoch 8/40\n",
      "28/28 [==============================] - 7s 244ms/step - loss: 0.1942 - mae: 0.0297 - mse: 0.0014 - val_loss: 0.2244 - val_mae: 0.1398 - val_mse: 0.0316\n",
      "Epoch 9/40\n",
      "28/28 [==============================] - 7s 245ms/step - loss: 0.1941 - mae: 0.0292 - mse: 0.0013 - val_loss: 0.2155 - val_mae: 0.1182 - val_mse: 0.0228\n",
      "Epoch 10/40\n",
      "28/28 [==============================] - 7s 246ms/step - loss: 0.1940 - mae: 0.0292 - mse: 0.0013 - val_loss: 0.2070 - val_mae: 0.0933 - val_mse: 0.0144\n",
      "Epoch 11/40\n",
      "28/28 [==============================] - 7s 245ms/step - loss: 0.1939 - mae: 0.0293 - mse: 0.0013 - val_loss: 0.2015 - val_mae: 0.0741 - val_mse: 0.0089\n",
      "Epoch 12/40\n",
      "28/28 [==============================] - 7s 246ms/step - loss: 0.1937 - mae: 0.0267 - mse: 0.0011 - val_loss: 0.1985 - val_mae: 0.0604 - val_mse: 0.0060\n",
      "Epoch 13/40\n",
      "28/28 [==============================] - 7s 246ms/step - loss: 0.1941 - mae: 0.0322 - mse: 0.0016 - val_loss: 0.1968 - val_mae: 0.0510 - val_mse: 0.0043\n",
      "Epoch 14/40\n",
      "28/28 [==============================] - 7s 246ms/step - loss: 0.1934 - mae: 0.0246 - mse: 9.3111e-04 - val_loss: 0.1973 - val_mae: 0.0552 - val_mse: 0.0048\n",
      "Epoch 15/40\n",
      "28/28 [==============================] - 7s 246ms/step - loss: 0.1938 - mae: 0.0293 - mse: 0.0014 - val_loss: 0.1946 - val_mae: 0.0373 - val_mse: 0.0023\n",
      "Epoch 16/40\n",
      "28/28 [==============================] - 7s 246ms/step - loss: 0.1935 - mae: 0.0268 - mse: 0.0012 - val_loss: 0.1942 - val_mae: 0.0331 - val_mse: 0.0018\n",
      "Epoch 17/40\n",
      "28/28 [==============================] - 7s 246ms/step - loss: 0.1931 - mae: 0.0225 - mse: 8.1581e-04 - val_loss: 0.1960 - val_mae: 0.0495 - val_mse: 0.0037\n",
      "Epoch 18/40\n",
      "28/28 [==============================] - 7s 246ms/step - loss: 0.1932 - mae: 0.0243 - mse: 9.5281e-04 - val_loss: 0.1939 - val_mae: 0.0322 - val_mse: 0.0017\n",
      "Epoch 19/40\n",
      "28/28 [==============================] - 7s 247ms/step - loss: 0.1931 - mae: 0.0244 - mse: 9.5255e-04 - val_loss: 0.1937 - val_mae: 0.0311 - val_mse: 0.0016\n",
      "Epoch 20/40\n",
      "28/28 [==============================] - 7s 247ms/step - loss: 0.1928 - mae: 0.0201 - mse: 6.4553e-04 - val_loss: 0.1940 - val_mae: 0.0351 - val_mse: 0.0020\n",
      "Epoch 21/40\n",
      "28/28 [==============================] - 7s 247ms/step - loss: 0.1931 - mae: 0.0259 - mse: 0.0011 - val_loss: 0.1949 - val_mae: 0.0441 - val_mse: 0.0029\n",
      "Epoch 22/40\n",
      "28/28 [==============================] - 7s 247ms/step - loss: 0.1928 - mae: 0.0232 - mse: 8.2504e-04 - val_loss: 0.1944 - val_mae: 0.0397 - val_mse: 0.0024\n",
      "Epoch 23/40\n",
      "28/28 [==============================] - 7s 247ms/step - loss: 0.1929 - mae: 0.0239 - mse: 9.4975e-04 - val_loss: 0.1944 - val_mae: 0.0408 - val_mse: 0.0025\n",
      "Epoch 24/40\n",
      "28/28 [==============================] - 7s 247ms/step - loss: 0.1929 - mae: 0.0251 - mse: 9.6892e-04 - val_loss: 0.1933 - val_mae: 0.0296 - val_mse: 0.0014\n",
      "Epoch 25/40\n",
      "28/28 [==============================] - 7s 248ms/step - loss: 0.1926 - mae: 0.0218 - mse: 7.1987e-04 - val_loss: 0.1935 - val_mae: 0.0322 - val_mse: 0.0017\n",
      "Epoch 26/40\n",
      "28/28 [==============================] - 7s 247ms/step - loss: 0.1926 - mae: 0.0220 - mse: 7.9618e-04 - val_loss: 0.1971 - val_mae: 0.0591 - val_mse: 0.0053\n",
      "Epoch 27/40\n",
      "28/28 [==============================] - 7s 247ms/step - loss: 0.1928 - mae: 0.0256 - mse: 0.0011 - val_loss: 0.1954 - val_mae: 0.0506 - val_mse: 0.0037\n",
      "Epoch 28/40\n",
      "28/28 [==============================] - 7s 247ms/step - loss: 0.1926 - mae: 0.0242 - mse: 9.5275e-04 - val_loss: 0.1932 - val_mae: 0.0311 - val_mse: 0.0016\n",
      "Epoch 29/40\n",
      "28/28 [==============================] - 7s 247ms/step - loss: 0.1922 - mae: 0.0195 - mse: 6.0113e-04 - val_loss: 0.1954 - val_mae: 0.0519 - val_mse: 0.0038\n",
      "Epoch 30/40\n",
      "28/28 [==============================] - 7s 247ms/step - loss: 0.1925 - mae: 0.0237 - mse: 8.8021e-04 - val_loss: 0.1932 - val_mae: 0.0325 - val_mse: 0.0017\n",
      "Epoch 31/40\n",
      "28/28 [==============================] - 7s 248ms/step - loss: 0.1925 - mae: 0.0244 - mse: 9.3670e-04 - val_loss: 0.1930 - val_mae: 0.0299 - val_mse: 0.0014\n",
      "Epoch 32/40\n",
      "28/28 [==============================] - 7s 248ms/step - loss: 0.1923 - mae: 0.0227 - mse: 8.3704e-04 - val_loss: 0.1944 - val_mae: 0.0448 - val_mse: 0.0029\n",
      "Epoch 33/40\n",
      "28/28 [==============================] - 7s 248ms/step - loss: 0.1920 - mae: 0.0188 - mse: 5.6780e-04 - val_loss: 0.1932 - val_mae: 0.0337 - val_mse: 0.0018\n",
      "Epoch 34/40\n",
      "28/28 [==============================] - 7s 248ms/step - loss: 0.1919 - mae: 0.0174 - mse: 4.8521e-04 - val_loss: 0.1955 - val_mae: 0.0526 - val_mse: 0.0042\n",
      "Epoch 35/40\n",
      "28/28 [==============================] - 7s 248ms/step - loss: 0.1922 - mae: 0.0228 - mse: 9.0290e-04 - val_loss: 0.1931 - val_mae: 0.0335 - val_mse: 0.0018\n",
      "Epoch 36/40\n",
      "28/28 [==============================] - 7s 248ms/step - loss: 0.1921 - mae: 0.0226 - mse: 8.3629e-04 - val_loss: 0.1944 - val_mae: 0.0456 - val_mse: 0.0032\n",
      "Epoch 37/40\n",
      "28/28 [==============================] - 7s 249ms/step - loss: 0.1920 - mae: 0.0221 - mse: 8.1288e-04 - val_loss: 0.1928 - val_mae: 0.0323 - val_mse: 0.0017\n",
      "Epoch 38/40\n",
      "28/28 [==============================] - 7s 248ms/step - loss: 0.1919 - mae: 0.0206 - mse: 6.9505e-04 - val_loss: 0.1939 - val_mae: 0.0436 - val_mse: 0.0028\n",
      "Epoch 39/40\n",
      "28/28 [==============================] - 7s 248ms/step - loss: 0.1919 - mae: 0.0213 - mse: 7.4757e-04 - val_loss: 0.1930 - val_mae: 0.0355 - val_mse: 0.0020\n",
      "Epoch 40/40\n",
      "28/28 [==============================] - 7s 248ms/step - loss: 0.1918 - mae: 0.0220 - mse: 7.9896e-04 - val_loss: 0.1935 - val_mae: 0.0407 - val_mse: 0.0025\n",
      "Epoch 1/20\n",
      "28/28 [==============================] - 8s 257ms/step - loss: 0.1914 - mae: 0.0157 - mse: 4.0348e-04 - val_loss: 0.1923 - val_mae: 0.0280 - val_mse: 0.0013\n",
      "Epoch 2/20\n",
      "28/28 [==============================] - 7s 248ms/step - loss: 0.1913 - mae: 0.0125 - mse: 2.4341e-04 - val_loss: 0.1923 - val_mae: 0.0280 - val_mse: 0.0013\n",
      "Epoch 3/20\n",
      "28/28 [==============================] - 7s 249ms/step - loss: 0.1913 - mae: 0.0138 - mse: 3.0060e-04 - val_loss: 0.1923 - val_mae: 0.0280 - val_mse: 0.0013\n",
      "Epoch 4/20\n",
      "28/28 [==============================] - 7s 248ms/step - loss: 0.1913 - mae: 0.0130 - mse: 2.6625e-04 - val_loss: 0.1923 - val_mae: 0.0281 - val_mse: 0.0013\n",
      "Epoch 5/20\n",
      "28/28 [==============================] - 7s 249ms/step - loss: 0.1912 - mae: 0.0124 - mse: 2.4445e-04 - val_loss: 0.1923 - val_mae: 0.0281 - val_mse: 0.0013\n",
      "Epoch 6/20\n",
      "28/28 [==============================] - 7s 248ms/step - loss: 0.1912 - mae: 0.0127 - mse: 2.5452e-04 - val_loss: 0.1923 - val_mae: 0.0283 - val_mse: 0.0013\n",
      "Epoch 7/20\n",
      "28/28 [==============================] - 7s 249ms/step - loss: 0.1912 - mae: 0.0127 - mse: 2.5326e-04 - val_loss: 0.1923 - val_mae: 0.0280 - val_mse: 0.0013\n",
      "Epoch 8/20\n",
      "28/28 [==============================] - 7s 249ms/step - loss: 0.1913 - mae: 0.0131 - mse: 2.7131e-04 - val_loss: 0.1923 - val_mae: 0.0283 - val_mse: 0.0013\n",
      "Epoch 9/20\n",
      "28/28 [==============================] - 7s 249ms/step - loss: 0.1912 - mae: 0.0127 - mse: 2.6291e-04 - val_loss: 0.1922 - val_mae: 0.0279 - val_mse: 0.0013\n",
      "Epoch 10/20\n",
      "28/28 [==============================] - 7s 249ms/step - loss: 0.1913 - mae: 0.0138 - mse: 2.9934e-04 - val_loss: 0.1922 - val_mae: 0.0279 - val_mse: 0.0013\n",
      "Epoch 11/20\n",
      "28/28 [==============================] - 7s 249ms/step - loss: 0.1912 - mae: 0.0120 - mse: 2.2992e-04 - val_loss: 0.1923 - val_mae: 0.0286 - val_mse: 0.0013\n",
      "Epoch 12/20\n",
      "28/28 [==============================] - 7s 249ms/step - loss: 0.1912 - mae: 0.0124 - mse: 2.4266e-04 - val_loss: 0.1923 - val_mae: 0.0283 - val_mse: 0.0013\n",
      "Epoch 13/20\n",
      "28/28 [==============================] - 7s 248ms/step - loss: 0.1912 - mae: 0.0118 - mse: 2.1786e-04 - val_loss: 0.1922 - val_mae: 0.0281 - val_mse: 0.0013\n",
      "Epoch 14/20\n",
      "28/28 [==============================] - 7s 247ms/step - loss: 0.1912 - mae: 0.0130 - mse: 2.7302e-04 - val_loss: 0.1923 - val_mae: 0.0284 - val_mse: 0.0013\n",
      "Epoch 15/20\n",
      "28/28 [==============================] - 7s 248ms/step - loss: 0.1912 - mae: 0.0126 - mse: 2.4805e-04 - val_loss: 0.1922 - val_mae: 0.0282 - val_mse: 0.0013\n",
      "Epoch 16/20\n",
      "28/28 [==============================] - 7s 248ms/step - loss: 0.1912 - mae: 0.0121 - mse: 2.2823e-04 - val_loss: 0.1922 - val_mae: 0.0280 - val_mse: 0.0013\n",
      "Epoch 17/20\n",
      "28/28 [==============================] - 7s 248ms/step - loss: 0.1912 - mae: 0.0120 - mse: 2.2749e-04 - val_loss: 0.1922 - val_mae: 0.0283 - val_mse: 0.0013\n",
      "Epoch 18/20\n",
      "28/28 [==============================] - 7s 248ms/step - loss: 0.1912 - mae: 0.0122 - mse: 2.3510e-04 - val_loss: 0.1922 - val_mae: 0.0280 - val_mse: 0.0013\n",
      "Epoch 19/20\n",
      "28/28 [==============================] - 7s 248ms/step - loss: 0.1912 - mae: 0.0126 - mse: 2.5323e-04 - val_loss: 0.1923 - val_mae: 0.0289 - val_mse: 0.0014\n",
      "Epoch 20/20\n",
      "28/28 [==============================] - 7s 249ms/step - loss: 0.1912 - mae: 0.0134 - mse: 2.8650e-04 - val_loss: 0.1922 - val_mae: 0.0284 - val_mse: 0.0013\n",
      "Epoch 1/20\n",
      "28/28 [==============================] - 8s 257ms/step - loss: 0.1911 - mae: 0.0119 - mse: 2.2588e-04 - val_loss: 0.1922 - val_mae: 0.0279 - val_mse: 0.0013\n",
      "Epoch 2/20\n",
      "28/28 [==============================] - 7s 248ms/step - loss: 0.1912 - mae: 0.0124 - mse: 2.4506e-04 - val_loss: 0.1922 - val_mae: 0.0279 - val_mse: 0.0013\n",
      "Epoch 3/20\n",
      "28/28 [==============================] - 7s 249ms/step - loss: 0.1911 - mae: 0.0117 - mse: 2.1542e-04 - val_loss: 0.1922 - val_mae: 0.0279 - val_mse: 0.0013\n",
      "Epoch 4/20\n",
      "28/28 [==============================] - 7s 248ms/step - loss: 0.1911 - mae: 0.0117 - mse: 2.1684e-04 - val_loss: 0.1922 - val_mae: 0.0279 - val_mse: 0.0013\n",
      "Epoch 5/20\n",
      "28/28 [==============================] - 7s 249ms/step - loss: 0.1911 - mae: 0.0118 - mse: 2.1836e-04 - val_loss: 0.1922 - val_mae: 0.0279 - val_mse: 0.0013\n",
      "Epoch 6/20\n",
      "28/28 [==============================] - 7s 248ms/step - loss: 0.1911 - mae: 0.0119 - mse: 2.2257e-04 - val_loss: 0.1922 - val_mae: 0.0279 - val_mse: 0.0013\n",
      "Epoch 7/20\n",
      "28/28 [==============================] - 7s 249ms/step - loss: 0.1911 - mae: 0.0110 - mse: 1.9134e-04 - val_loss: 0.1922 - val_mae: 0.0279 - val_mse: 0.0013\n",
      "Epoch 8/20\n",
      "28/28 [==============================] - 7s 248ms/step - loss: 0.1911 - mae: 0.0120 - mse: 2.2831e-04 - val_loss: 0.1922 - val_mae: 0.0279 - val_mse: 0.0013\n",
      "Epoch 9/20\n",
      "28/28 [==============================] - 7s 249ms/step - loss: 0.1911 - mae: 0.0120 - mse: 2.2959e-04 - val_loss: 0.1922 - val_mae: 0.0279 - val_mse: 0.0013\n",
      "Epoch 10/20\n",
      "28/28 [==============================] - 7s 249ms/step - loss: 0.1912 - mae: 0.0128 - mse: 2.6180e-04 - val_loss: 0.1922 - val_mae: 0.0279 - val_mse: 0.0013\n",
      "Epoch 11/20\n",
      "28/28 [==============================] - 7s 249ms/step - loss: 0.1911 - mae: 0.0115 - mse: 2.0781e-04 - val_loss: 0.1922 - val_mae: 0.0279 - val_mse: 0.0013\n",
      "Epoch 12/20\n",
      "28/28 [==============================] - 7s 249ms/step - loss: 0.1911 - mae: 0.0118 - mse: 2.1955e-04 - val_loss: 0.1922 - val_mae: 0.0279 - val_mse: 0.0013\n",
      "Epoch 13/20\n",
      "28/28 [==============================] - 7s 249ms/step - loss: 0.1911 - mae: 0.0121 - mse: 2.3052e-04 - val_loss: 0.1922 - val_mae: 0.0279 - val_mse: 0.0013\n",
      "Epoch 14/20\n",
      "28/28 [==============================] - 7s 250ms/step - loss: 0.1911 - mae: 0.0120 - mse: 2.2894e-04 - val_loss: 0.1922 - val_mae: 0.0279 - val_mse: 0.0013\n",
      "Epoch 15/20\n",
      "28/28 [==============================] - 7s 249ms/step - loss: 0.1911 - mae: 0.0118 - mse: 2.1981e-04 - val_loss: 0.1922 - val_mae: 0.0279 - val_mse: 0.0013\n",
      "Epoch 16/20\n",
      "28/28 [==============================] - 7s 248ms/step - loss: 0.1911 - mae: 0.0110 - mse: 1.8843e-04 - val_loss: 0.1922 - val_mae: 0.0278 - val_mse: 0.0013\n",
      "Epoch 17/20\n",
      "28/28 [==============================] - 7s 249ms/step - loss: 0.1911 - mae: 0.0119 - mse: 2.2159e-04 - val_loss: 0.1922 - val_mae: 0.0279 - val_mse: 0.0013\n",
      "Epoch 18/20\n",
      "28/28 [==============================] - 7s 249ms/step - loss: 0.1912 - mae: 0.0126 - mse: 2.5166e-04 - val_loss: 0.1922 - val_mae: 0.0279 - val_mse: 0.0013\n",
      "Epoch 19/20\n",
      "28/28 [==============================] - 7s 249ms/step - loss: 0.1912 - mae: 0.0125 - mse: 2.4943e-04 - val_loss: 0.1922 - val_mae: 0.0278 - val_mse: 0.0013\n",
      "Epoch 20/20\n",
      "28/28 [==============================] - 7s 249ms/step - loss: 0.1911 - mae: 0.0117 - mse: 2.1731e-04 - val_loss: 0.1922 - val_mae: 0.0278 - val_mse: 0.0013\n"
     ]
    },
    {
     "data": {
      "text/plain": [
       "<keras.callbacks.History at 0x7fba0ac54be0>"
      ]
     },
     "execution_count": 7,
     "metadata": {},
     "output_type": "execute_result"
    }
   ],
   "source": [
    "sgd = ko.SGD(lr=0.005, decay=0., momentum=0.9, nesterov=True)\n",
    "model.compile(loss='mse',optimizer=sgd, metrics=['mae','mse'])\n",
    "\n",
    "model.fit(datat,\n",
    "          epochs=40,\n",
    "          validation_data=datav,\n",
    "          verbose=1)\n",
    "\n",
    "sgd = ko.SGD(lr=0.0005, decay=0., momentum=0.9, nesterov=True)\n",
    "model.compile(loss='mse',optimizer=sgd, metrics=['mae','mse'])\n",
    "\n",
    "model.fit(datat,\n",
    "          epochs=20,\n",
    "          validation_data=datav,\n",
    "          verbose=1)\n",
    "\n",
    "sgd = ko.SGD(lr=0.00005, decay=0., momentum=0.9, nesterov=True)\n",
    "model.compile(loss='mse',optimizer=sgd, metrics=['mae','mse'])\n",
    "\n",
    "model.fit(datat,\n",
    "          epochs=20,\n",
    "          validation_data=datav,\n",
    "          verbose=1)"
   ]
  },
  {
   "cell_type": "markdown",
   "id": "systematic-joyce",
   "metadata": {},
   "source": [
    "## Predict on Test Set"
   ]
  },
  {
   "cell_type": "code",
   "execution_count": 8,
   "id": "charming-vancouver",
   "metadata": {},
   "outputs": [],
   "source": [
    "test  = datav\n",
    "\n",
    "#predictions\n",
    "predictions = model.predict(test)\n",
    "\n",
    "#labels\n",
    "test_unb  = test.unbatch()\n",
    "test_unb_it = test_unb.as_numpy_iterator()\n",
    "listtest  = [next(test_unb_it) for i in range(len(predictions))]\n",
    "labels = np.array([listtest[i][1] for i in range(len(predictions))])"
   ]
  },
  {
   "cell_type": "markdown",
   "id": "documentary-explorer",
   "metadata": {},
   "source": [
    "## Plot the Results"
   ]
  },
  {
   "cell_type": "code",
   "execution_count": 9,
   "id": "assisted-trick",
   "metadata": {},
   "outputs": [
    {
     "data": {
      "image/png": "[encoded data removed]",
      "text/plain": [
       "<Figure size 720x720 with 1 Axes>"
      ]
     },
     "metadata": {},
     "output_type": "display_data"
    }
   ],
   "source": [
    "plt.style.use('seaborn')\n",
    "plt.figure(figsize=(10,10))\n",
    "\n",
    "#linear fit\n",
    "poly_g1 = np.polyfit(labels[:,0],predictions[:,0],1)\n",
    "poly_g2 = np.polyfit(labels[:,1],predictions[:,1],1)\n",
    "\n",
    "#correlation coefficient\n",
    "corr_g1 = pearsonr(labels[:,0],predictions[:,0])\n",
    "corr_g2 = pearsonr(labels[:,1],predictions[:,1])\n",
    "\n",
    "#plots\n",
    "plt.scatter(labels[:,0],predictions[:,0]-labels[:,0],alpha=0.5,label='g1')\n",
    "plt.scatter(labels[:,1],predictions[:,1]-labels[:,1],alpha=0.5,label='g2')\n",
    "\n",
    "#text\n",
    "plt.text(-.25,0.75, \"$m_1$ = {:.2e},  $c_1$ = {:.2e}, r = {:.2e}\".format(1-poly_g1[0],poly_g1[1],corr_g1[0]),fontsize=15)\n",
    "plt.text(-.25,0.5 , \"$m_2$ = {:.2e},  $c_2$ = {:.2e}, r = {:.2e}\".format(1-poly_g2[0],poly_g2[1],corr_g2[0]),fontsize=15)\n",
    "\n",
    "#zero\n",
    "plt.plot([-1,1],[0,0],'k-')\n",
    "\n",
    "#settings\n",
    "plt.xlim(-1,1)\n",
    "plt.ylim(-1,1)\n",
    "plt.title(\"Exponential Model, Noisy (SNR=80) , no PSF, CNN Test\",fontsize=20)\n",
    "plt.xlabel(\"True\",fontsize=20)\n",
    "plt.ylabel(\"Residuals\",fontsize=20)\n",
    "plt.legend(fontsize=20)\n",
    "\n",
    "#save\n",
    "plt.savefig(\"first_test.png\",bbox_inches=\"tight\")"
   ]
  },
  {
   "cell_type": "markdown",
   "id": "9721d631-4d0f-4186-964d-4a2109e454c9",
   "metadata": {},
   "source": [
    "# Exercise with Enets"
   ]
  },
  {
   "cell_type": "code",
   "execution_count": 11,
   "id": "543fc5a4-57ce-48da-b984-98251c88d4e6",
   "metadata": {},
   "outputs": [],
   "source": [
    "from tensorflow.keras.applications import EfficientNetB0"
   ]
  },
  {
   "cell_type": "code",
   "execution_count": null,
   "id": "4b579626-4397-4052-8a17-7a719ef776d8",
   "metadata": {},
   "outputs": [],
   "source": []
  }
 ],
 "metadata": {
  "kernelspec": {
   "display_name": "Python 3",
   "language": "python",
   "name": "python3"
  },
  "language_info": {
   "codemirror_mode": {
    "name": "ipython",
    "version": 3
   },
   "file_extension": ".py",
   "mimetype": "text/x-python",
   "name": "python",
   "nbconvert_exporter": "python",
   "pygments_lexer": "ipython3",
   "version": "3.9.5"
  }
 },
 "nbformat": 4,
 "nbformat_minor": 5
}
