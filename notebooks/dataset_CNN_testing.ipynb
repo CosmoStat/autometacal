{
 "cells": [
  {
   "cell_type": "markdown",
   "id": "ultimate-rocket",
   "metadata": {},
   "source": [
    "# Testing CNN Shape Measurements of Simple Galaxy Models"
   ]
  },
  {
   "cell_type": "code",
   "execution_count": null,
   "id": "violent-chemistry",
   "metadata": {},
   "outputs": [],
   "source": [
    "import numpy as np\n",
    "from matplotlib import pyplot as plt\n",
    "from scipy.stats import gaussian_kde, pearsonr\n",
    "\n",
    "#tensorflow\n",
    "import tensorflow as tf\n",
    "config = tf.compat.v1.ConfigProto()\n",
    "config.gpu_options.allow_growth = True\n",
    "sess = tf.compat.v1.Session(config=config)\n",
    "print(\"Tensorflow version: {}\".format(tf.version.VERSION))\n",
    "\n",
    "\n",
    "#keras only after gpu ID and memory usage is set\n",
    "import tensorflow.keras.models as km\n",
    "import tensorflow.keras.layers as kl\n",
    "import tensorflow.keras.regularizers as kr\n",
    "import tensorflow.keras.optimizers as ko\n",
    "\n",
    "import tensorflow_datasets as tfds"
   ]
  },
  {
   "cell_type": "markdown",
   "id": "blessed-guest",
   "metadata": {},
   "source": [
    "## CNN Models"
   ]
  },
  {
   "cell_type": "code",
   "execution_count": null,
   "id": "cooperative-madison",
   "metadata": {},
   "outputs": [],
   "source": [
    "def Ribli19(imsize=50, n_target=2 ,n_channels=1, nf=64, reg = 5e-5,\n",
    "          padding='same', gpu='0'):\n",
    "\n",
    "    #input\n",
    "    inp = kl.Input((imsize, imsize,n_channels))\n",
    "    \n",
    "    # conv block 1\n",
    "    x = kl.Conv2D(nf, (3, 3), padding=padding,kernel_regularizer=kr.l2(reg))(inp)\n",
    "    x = kl.Activation('relu')(kl.BatchNormalization()(x))\n",
    "    \n",
    "    x = kl.Conv2D(nf, (3, 3), padding=padding,kernel_regularizer=kr.l2(reg))(x)\n",
    "    x = kl.Activation('relu')(kl.BatchNormalization()(x))\n",
    "    \n",
    "    x = kl.MaxPooling2D(strides=(2,2))(x)\n",
    "    \n",
    "    # conv block 2\n",
    "    x = kl.Conv2D(2*nf, (3, 3), padding=padding,kernel_regularizer=kr.l2(reg))(x)\n",
    "    x = kl.Activation('relu')(kl.BatchNormalization()(x))\n",
    "    \n",
    "    x = kl.Conv2D(2*nf, (3, 3), padding=padding, kernel_regularizer=kr.l2(reg))(x)\n",
    "    x = kl.Activation('relu')(kl.BatchNormalization()(x))\n",
    "    \n",
    "    x = kl.MaxPooling2D(strides=(2,2))(x)\n",
    "\n",
    "    # conv block 3\n",
    "    x = kl.Conv2D(4*nf, (3, 3), padding=padding, kernel_regularizer=kr.l2(reg))(x)\n",
    "    x = kl.Activation('relu')(kl.BatchNormalization()(x))\n",
    "    \n",
    "    x = kl.Conv2D(2*nf, (1, 1), padding=padding, kernel_regularizer=kr.l2(reg))(x)\n",
    "    x = kl.Activation('relu')(kl.BatchNormalization()(x))\n",
    "    \n",
    "    x = kl.Conv2D(4*nf, (3, 3), padding=padding, kernel_regularizer=kr.l2(reg))(x)\n",
    "    x = kl.Activation('relu')(kl.BatchNormalization()(x))\n",
    "    x = kl.MaxPooling2D(strides=(2,2))(x)\n",
    "\n",
    "    # conv block 4\n",
    "    x = kl.Conv2D(8*nf, (3, 3), padding=padding, kernel_regularizer=kr.l2(reg))(x)\n",
    "    x = kl.Activation('relu')(kl.BatchNormalization()(x))\n",
    "    \n",
    "    x = kl.Conv2D(4*nf, (1, 1), padding=padding, kernel_regularizer=kr.l2(reg))(x)\n",
    "    x = kl.Activation('relu')(kl.BatchNormalization()(x))\n",
    "    \n",
    "    x = kl.Conv2D(8*nf, (3, 3), padding=padding, kernel_regularizer=kr.l2(reg))(x)\n",
    "    x = kl.Activation('relu')(kl.BatchNormalization()(x))\n",
    "    x = kl.MaxPooling2D(strides=(2,2))(x)\n",
    "    \n",
    "    # conv block 5\n",
    "    x = kl.Conv2D(16*nf, (3, 3), padding=padding, kernel_regularizer=kr.l2(reg))(x)\n",
    "    x = kl.Activation('relu')(kl.BatchNormalization()(x))\n",
    "    \n",
    "    x = kl.Conv2D(8*nf, (1, 1), padding=padding,  kernel_regularizer=kr.l2(reg))(x)\n",
    "    x = kl.Activation('relu')(kl.BatchNormalization()(x))\n",
    "    \n",
    "    x = kl.Conv2D(16*nf, (3, 3), padding=padding, kernel_regularizer=kr.l2(reg))(x)\n",
    "    x = kl.Activation('relu')(kl.BatchNormalization()(x))\n",
    "    \n",
    "    #  end of conv\n",
    "    \n",
    "    x = kl.GlobalAveragePooling2D()(x)    \n",
    "    x = kl.Dense(n_target, name = 'final_dense_n%d_ngpu%d' % (n_target, len(gpu.split(','))))(x)  \n",
    "\n",
    "    model = km.Model(inputs=inp, outputs=x)  # make model\n",
    "       \n",
    "    return model"
   ]
  },
  {
   "cell_type": "code",
   "execution_count": null,
   "id": "automatic-sugar",
   "metadata": {},
   "outputs": [],
   "source": [
    "# TODO: Enet untrained\n",
    "# TODO: VGG16 pre-trained"
   ]
  },
  {
   "cell_type": "markdown",
   "id": "crazy-rover",
   "metadata": {},
   "source": [
    "## Load Data"
   ]
  },
  {
   "cell_type": "code",
   "execution_count": null,
   "id": "excellent-prototype",
   "metadata": {
    "tags": []
   },
   "outputs": [],
   "source": [
    "(datat, datav), ds_info = tfds.load('inverse_cat',as_supervised=True,split=['train[:14%]', 'train[14%:20%]'],with_info=True)\n",
    "datat = datat.cache()\n",
    "datat = datat.shuffle(ds_info.splits['train'].num_examples)\n",
    "datat = datat.batch(512)\n",
    "datat = datat.prefetch(tf.data.experimental.AUTOTUNE)"
   ]
  },
  {
   "cell_type": "code",
   "execution_count": null,
   "id": "qualified-denial",
   "metadata": {},
   "outputs": [],
   "source": [
    "datav = datav.cache()\n",
    "datav = datav.batch(512)\n",
    "datav = datav.prefetch(tf.data.experimental.AUTOTUNE)"
   ]
  },
  {
   "cell_type": "markdown",
   "id": "circular-effect",
   "metadata": {},
   "source": [
    "## Generate Model"
   ]
  },
  {
   "cell_type": "code",
   "execution_count": null,
   "id": "following-peace",
   "metadata": {},
   "outputs": [],
   "source": [
    "model = Ribli19(50,n_channels=1)"
   ]
  },
  {
   "cell_type": "markdown",
   "id": "defined-halifax",
   "metadata": {},
   "source": [
    "## Optimise Model"
   ]
  },
  {
   "cell_type": "code",
   "execution_count": null,
   "id": "foster-philadelphia",
   "metadata": {},
   "outputs": [],
   "source": [
    "sgd = ko.SGD(lr=0.005, decay=0., momentum=0.9, nesterov=True)\n",
    "model.compile(loss='mse',optimizer=sgd, metrics=['mae','mse'])\n",
    "\n",
    "model.fit(datat,\n",
    "          epochs=40,\n",
    "          validation_data=datav,\n",
    "          verbose=1)\n",
    "\n",
    "sgd = ko.SGD(lr=0.0005, decay=0., momentum=0.9, nesterov=True)\n",
    "model.compile(loss='mse',optimizer=sgd, metrics=['mae','mse'])\n",
    "\n",
    "model.fit(datat,\n",
    "          epochs=20,\n",
    "          validation_data=datav,\n",
    "          verbose=1)\n",
    "\n",
    "sgd = ko.SGD(lr=0.00005, decay=0., momentum=0.9, nesterov=True)\n",
    "model.compile(loss='mse',optimizer=sgd, metrics=['mae','mse'])\n",
    "\n",
    "model.fit(datat,\n",
    "          epochs=20,\n",
    "          validation_data=datav,\n",
    "          verbose=1)"
   ]
  },
  {
   "cell_type": "markdown",
   "id": "systematic-joyce",
   "metadata": {},
   "source": [
    "## Predict on Test Set"
   ]
  },
  {
   "cell_type": "code",
   "execution_count": null,
   "id": "charming-vancouver",
   "metadata": {},
   "outputs": [],
   "source": [
    "test  = datav\n",
    "\n",
    "#predictions\n",
    "predictions = model.predict(test)\n",
    "\n",
    "#labels\n",
    "test_unb  = test.unbatch()\n",
    "test_unb_it = test_unb.as_numpy_iterator()\n",
    "listtest  = [next(test_unb_it) for i in range(len(predictions))]\n",
    "labels = np.array([listtest[i][1] for i in range(len(predictions))])"
   ]
  },
  {
   "cell_type": "markdown",
   "id": "documentary-explorer",
   "metadata": {},
   "source": [
    "## Plot the Results"
   ]
  },
  {
   "cell_type": "code",
   "execution_count": null,
   "id": "assisted-trick",
   "metadata": {},
   "outputs": [],
   "source": [
    "plt.style.use('seaborn')\n",
    "plt.figure(figsize=(10,10))\n",
    "\n",
    "#linear fit\n",
    "poly_g1 = np.polyfit(labels[:,0],predictions[:,0],1)\n",
    "poly_g2 = np.polyfit(labels[:,1],predictions[:,1],1)\n",
    "\n",
    "#correlation coefficient\n",
    "corr_g1 = pearsonr(labels[:,0],predictions[:,0])\n",
    "corr_g2 = pearsonr(labels[:,1],predictions[:,1])\n",
    "\n",
    "#plots\n",
    "plt.scatter(labels[:,0],predictions[:,0]-labels[:,0],alpha=0.5,label='g1')\n",
    "plt.scatter(labels[:,1],predictions[:,1]-labels[:,1],alpha=0.5,label='g2')\n",
    "\n",
    "#text\n",
    "plt.text(-.25,0.75, \"$m_1$ = {:.2e},  $c_1$ = {:.2e}, r = {:.2e}\".format(1-poly_g1[0],poly_g1[1],corr_g1[0]),fontsize=15)\n",
    "plt.text(-.25,0.5 , \"$m_2$ = {:.2e},  $c_2$ = {:.2e}, r = {:.2e}\".format(1-poly_g2[0],poly_g2[1],corr_g2[0]),fontsize=15)\n",
    "\n",
    "#zero\n",
    "plt.plot([-1,1],[0,0],'k-')\n",
    "\n",
    "#settings\n",
    "plt.xlim(-1,1)\n",
    "plt.ylim(-1,1)\n",
    "plt.title(\"Exponential Model, Noisy (SNR=80) , no PSF, CNN Test\",fontsize=20)\n",
    "plt.xlabel(\"True\",fontsize=20)\n",
    "plt.ylabel(\"Residuals\",fontsize=20)\n",
    "plt.legend(fontsize=20)\n",
    "\n",
    "#save\n",
    "plt.savefig(\"first_test.png\",bbox_inches=\"tight\")"
   ]
  },
  {
   "cell_type": "code",
   "execution_count": null,
   "id": "aboriginal-niagara",
   "metadata": {},
   "outputs": [],
   "source": []
  }
 ],
 "metadata": {
  "kernelspec": {
   "display_name": "Python 3",
   "language": "python",
   "name": "python3"
  },
  "language_info": {
   "codemirror_mode": {
    "name": "ipython",
    "version": 3
   },
   "file_extension": ".py",
   "mimetype": "text/x-python",
   "name": "python",
   "nbconvert_exporter": "python",
   "pygments_lexer": "ipython3",
   "version": "3.8.6"
  }
 },
 "nbformat": 4,
 "nbformat_minor": 5
}
