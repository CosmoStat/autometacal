{
 "cells": [
  {
   "cell_type": "markdown",
   "id": "ultimate-rocket",
   "metadata": {},
   "source": [
    "# Testing CNN Shape Measurements of Simple Galaxy Models"
   ]
  },
  {
   "cell_type": "code",
   "execution_count": 1,
   "id": "violent-chemistry",
   "metadata": {},
   "outputs": [
    {
     "name": "stderr",
     "output_type": "stream",
     "text": [
      "<frozen importlib._bootstrap>:219: RuntimeWarning: scipy._lib.messagestream.MessageStream size changed, may indicate binary incompatibility. Expected 56 from C header, got 64 from PyObject\n"
     ]
    },
    {
     "name": "stdout",
     "output_type": "stream",
     "text": [
      "Tensorflow version: 2.7.0\n"
     ]
    }
   ],
   "source": [
    "import numpy as np\n",
    "from matplotlib import pyplot as plt\n",
    "from scipy.stats import gaussian_kde, pearsonr\n",
    "\n",
    "#tensorflow\n",
    "import tensorflow as tf\n",
    "config = tf.compat.v1.ConfigProto()\n",
    "config.gpu_options.allow_growth = True\n",
    "sess = tf.compat.v1.Session(config=config)\n",
    "print(\"Tensorflow version: {}\".format(tf.version.VERSION))\n",
    "\n",
    "\n",
    "#keras only after gpu ID and memory usage is set\n",
    "import tensorflow.keras.models as km\n",
    "import tensorflow.keras.layers as kl\n",
    "import tensorflow.keras.regularizers as kr\n",
    "import tensorflow.keras.optimizers as ko\n",
    "\n",
    "import tensorflow_datasets as tfds"
   ]
  },
  {
   "cell_type": "markdown",
   "id": "blessed-guest",
   "metadata": {},
   "source": [
    "## CNN Models"
   ]
  },
  {
   "cell_type": "code",
   "execution_count": 2,
   "id": "cooperative-madison",
   "metadata": {},
   "outputs": [],
   "source": [
    "def Ribli19(imsize=50, n_target=2 ,n_channels=1, nf=64, reg = 5e-5,\n",
    "          padding='same', gpu='0'):\n",
    "\n",
    "    #input\n",
    "    inp = kl.Input((imsize, imsize,n_channels))\n",
    "    \n",
    "    # conv block 1\n",
    "    x = kl.Conv2D(nf, (3, 3), padding=padding,kernel_regularizer=kr.l2(reg))(inp)\n",
    "    x = kl.Activation('relu')(kl.BatchNormalization()(x))\n",
    "    \n",
    "    x = kl.Conv2D(nf, (3, 3), padding=padding,kernel_regularizer=kr.l2(reg))(x)\n",
    "    x = kl.Activation('relu')(kl.BatchNormalization()(x))\n",
    "    \n",
    "    x = kl.MaxPooling2D(strides=(2,2))(x)\n",
    "    \n",
    "    # conv block 2\n",
    "    x = kl.Conv2D(2*nf, (3, 3), padding=padding,kernel_regularizer=kr.l2(reg))(x)\n",
    "    x = kl.Activation('relu')(kl.BatchNormalization()(x))\n",
    "    \n",
    "    x = kl.Conv2D(2*nf, (3, 3), padding=padding, kernel_regularizer=kr.l2(reg))(x)\n",
    "    x = kl.Activation('relu')(kl.BatchNormalization()(x))\n",
    "    \n",
    "    x = kl.MaxPooling2D(strides=(2,2))(x)\n",
    "\n",
    "    # conv block 3\n",
    "    x = kl.Conv2D(4*nf, (3, 3), padding=padding, kernel_regularizer=kr.l2(reg))(x)\n",
    "    x = kl.Activation('relu')(kl.BatchNormalization()(x))\n",
    "    \n",
    "    x = kl.Conv2D(2*nf, (1, 1), padding=padding, kernel_regularizer=kr.l2(reg))(x)\n",
    "    x = kl.Activation('relu')(kl.BatchNormalization()(x))\n",
    "    \n",
    "    x = kl.Conv2D(4*nf, (3, 3), padding=padding, kernel_regularizer=kr.l2(reg))(x)\n",
    "    x = kl.Activation('relu')(kl.BatchNormalization()(x))\n",
    "    x = kl.MaxPooling2D(strides=(2,2))(x)\n",
    "\n",
    "    # conv block 4\n",
    "    x = kl.Conv2D(8*nf, (3, 3), padding=padding, kernel_regularizer=kr.l2(reg))(x)\n",
    "    x = kl.Activation('relu')(kl.BatchNormalization()(x))\n",
    "    \n",
    "    x = kl.Conv2D(4*nf, (1, 1), padding=padding, kernel_regularizer=kr.l2(reg))(x)\n",
    "    x = kl.Activation('relu')(kl.BatchNormalization()(x))\n",
    "    \n",
    "    x = kl.Conv2D(8*nf, (3, 3), padding=padding, kernel_regularizer=kr.l2(reg))(x)\n",
    "    x = kl.Activation('relu')(kl.BatchNormalization()(x))\n",
    "    x = kl.MaxPooling2D(strides=(2,2))(x)\n",
    "    \n",
    "    # conv block 5\n",
    "    x = kl.Conv2D(16*nf, (3, 3), padding=padding, kernel_regularizer=kr.l2(reg))(x)\n",
    "    x = kl.Activation('relu')(kl.BatchNormalization()(x))\n",
    "    \n",
    "    x = kl.Conv2D(8*nf, (1, 1), padding=padding,  kernel_regularizer=kr.l2(reg))(x)\n",
    "    x = kl.Activation('relu')(kl.BatchNormalization()(x))\n",
    "    \n",
    "    x = kl.Conv2D(16*nf, (3, 3), padding=padding, kernel_regularizer=kr.l2(reg))(x)\n",
    "    x = kl.Activation('relu')(kl.BatchNormalization()(x))\n",
    "    \n",
    "    #  end of conv\n",
    "    \n",
    "    x = kl.GlobalAveragePooling2D()(x)    \n",
    "    x = kl.Dense(n_target)(x)#, name = 'final_dense_n%d_ngpu%d' % (n_target, len(gpu.split(','))))(x)  \n",
    "\n",
    "    model = km.Model(inputs=inp, outputs=x)  # make model\n",
    "       \n",
    "    return model"
   ]
  },
  {
   "cell_type": "code",
   "execution_count": 3,
   "id": "automatic-sugar",
   "metadata": {},
   "outputs": [],
   "source": [
    "from autometacal.python.datasets import GalGen"
   ]
  },
  {
   "cell_type": "markdown",
   "id": "crazy-rover",
   "metadata": {},
   "source": [
    "## Load Data"
   ]
  },
  {
   "cell_type": "code",
   "execution_count": 4,
   "id": "excellent-prototype",
   "metadata": {
    "tags": []
   },
   "outputs": [],
   "source": [
    "(datat, datav), ds_info = tfds.load('GalGen/small_stamp_100k',as_supervised=True,split=['train[:14%]', 'train[14%:20%]'],with_info=True)\n",
    "datat = datat.cache()\n",
    "datat = datat.shuffle(ds_info.splits['train'].num_examples)\n",
    "datat = datat.batch(512)\n",
    "datat = datat.prefetch(tf.data.experimental.AUTOTUNE)"
   ]
  },
  {
   "cell_type": "code",
   "execution_count": 5,
   "id": "qualified-denial",
   "metadata": {},
   "outputs": [],
   "source": [
    "datav = datav.cache()\n",
    "datav = datav.batch(512)\n",
    "datav = datav.prefetch(tf.data.experimental.AUTOTUNE)"
   ]
  },
  {
   "cell_type": "code",
   "execution_count": 6,
   "id": "e7bcb2ca-e441-4d23-847b-73df01de9169",
   "metadata": {},
   "outputs": [],
   "source": [
    "data= tfds.load('GalGen/small_stamp_100k')\n",
    "data = data['train'].cache()\n",
    "data = data.batch(8)\n",
    "data = data.prefetch(tf.data.experimental.AUTOTUNE)"
   ]
  },
  {
   "cell_type": "code",
   "execution_count": 7,
   "id": "a5031542-ea98-446c-99b9-bef47788fca8",
   "metadata": {},
   "outputs": [],
   "source": [
    "batchit = data.as_numpy_iterator()\n",
    "onebatch = batchit.next()"
   ]
  },
  {
   "cell_type": "markdown",
   "id": "7de7f124-6606-4b14-a933-61841dba1c90",
   "metadata": {},
   "source": [
    "plt.style.use('default')\n",
    "plt.figure(figsize=(10,10))\n",
    "for i in range(16):\n",
    "  plt.subplot(4,4,i+1)\n",
    "  plt.imshow(gal_images[i])"
   ]
  },
  {
   "cell_type": "markdown",
   "id": "circular-effect",
   "metadata": {},
   "source": [
    "## Generate Model"
   ]
  },
  {
   "cell_type": "code",
   "execution_count": 8,
   "id": "following-peace",
   "metadata": {},
   "outputs": [],
   "source": [
    "model = Ribli19(51,n_channels=1)"
   ]
  },
  {
   "cell_type": "code",
   "execution_count": 9,
   "id": "97b5cca2-e514-4bbc-b0ff-125b64fb7953",
   "metadata": {},
   "outputs": [],
   "source": [
    "import autometacal as amc"
   ]
  },
  {
   "cell_type": "markdown",
   "id": "be23c2f0-16b7-4bed-ac55-3ce851b17887",
   "metadata": {},
   "source": [
    "## Create Loss Function"
   ]
  },
  {
   "cell_type": "code",
   "execution_count": 10,
   "id": "9fd56afc-c893-41c4-8519-b2f162873c89",
   "metadata": {},
   "outputs": [],
   "source": [
    "@tf.function\n",
    "def loss(batch):\n",
    "  #Apply shear here\n",
    "  \n",
    "  #compute response\n",
    "  R = amc.get_metacal_response(batch['obs_image'],batch['psf_image'],batch['psf_image'],0.01,model)[1]\n",
    "  \n",
    "  lost = tf.norm(R - tf.eye(2))\n",
    "  \n",
    "  return lost"
   ]
  },
  {
   "cell_type": "markdown",
   "id": "21fe94cc-c155-465c-ba53-e6229594844c",
   "metadata": {},
   "source": [
    "Testing the loss function:"
   ]
  },
  {
   "cell_type": "code",
   "execution_count": 11,
   "id": "5c129b6e-743b-4717-b7c1-d24f4c021102",
   "metadata": {
    "tags": []
   },
   "outputs": [],
   "source": [
    "batch_size = 8\n",
    "def step():\n",
    "  with tf.GradientTape() as tape:\n",
    "    tape.watch(model.trainable_variables)\n",
    "    batch = batchit.next()\n",
    "      \n",
    "    with tf.GradientTape() as tape2:\n",
    "      g = tf.zeros([batch_size, 2])\n",
    "      tape2.watch(g)\n",
    "      # Measure ellipticity under metacal\n",
    "      e = model(amc.generate_mcal_image(batch['obs_image'],\n",
    "                                     batch['psf_image'],\n",
    "                                     batch['psf_image'],\n",
    "                                     g))\n",
    "      # Compute response matrix\n",
    "      R = tape2.batch_jacobian(e, g)\n",
    "\n",
    "  \n",
    "    lost = tf.norm(R - tf.eye(2))\n",
    "    \n",
    "    print(lost)\n",
    "  grads = tape.gradient(lost, model.trainable_variables)\n",
    "  return grads\n"
   ]
  },
  {
   "cell_type": "code",
   "execution_count": 12,
   "id": "b4020f75-9318-4942-bb48-a65a030c5897",
   "metadata": {},
   "outputs": [
    {
     "data": {
      "text/plain": [
       "\u001b[0;31mInit signature:\u001b[0m\n",
       "\u001b[0mko\u001b[0m\u001b[0;34m.\u001b[0m\u001b[0mSGD\u001b[0m\u001b[0;34m(\u001b[0m\u001b[0;34m\u001b[0m\n",
       "\u001b[0;34m\u001b[0m    \u001b[0mlearning_rate\u001b[0m\u001b[0;34m=\u001b[0m\u001b[0;36m0.01\u001b[0m\u001b[0;34m,\u001b[0m\u001b[0;34m\u001b[0m\n",
       "\u001b[0;34m\u001b[0m    \u001b[0mmomentum\u001b[0m\u001b[0;34m=\u001b[0m\u001b[0;36m0.0\u001b[0m\u001b[0;34m,\u001b[0m\u001b[0;34m\u001b[0m\n",
       "\u001b[0;34m\u001b[0m    \u001b[0mnesterov\u001b[0m\u001b[0;34m=\u001b[0m\u001b[0;32mFalse\u001b[0m\u001b[0;34m,\u001b[0m\u001b[0;34m\u001b[0m\n",
       "\u001b[0;34m\u001b[0m    \u001b[0mname\u001b[0m\u001b[0;34m=\u001b[0m\u001b[0;34m'SGD'\u001b[0m\u001b[0;34m,\u001b[0m\u001b[0;34m\u001b[0m\n",
       "\u001b[0;34m\u001b[0m    \u001b[0;34m**\u001b[0m\u001b[0mkwargs\u001b[0m\u001b[0;34m,\u001b[0m\u001b[0;34m\u001b[0m\n",
       "\u001b[0;34m\u001b[0m\u001b[0;34m)\u001b[0m\u001b[0;34m\u001b[0m\u001b[0;34m\u001b[0m\u001b[0m\n",
       "\u001b[0;31mDocstring:\u001b[0m     \n",
       "Gradient descent (with momentum) optimizer.\n",
       "\n",
       "Update rule for parameter `w` with gradient `g` when `momentum` is 0:\n",
       "\n",
       "```python\n",
       "w = w - learning_rate * g\n",
       "```\n",
       "\n",
       "Update rule when `momentum` is larger than 0:\n",
       "\n",
       "```python\n",
       "velocity = momentum * velocity - learning_rate * g\n",
       "w = w + velocity\n",
       "```\n",
       "\n",
       "When `nesterov=True`, this rule becomes:\n",
       "\n",
       "```python\n",
       "velocity = momentum * velocity - learning_rate * g\n",
       "w = w + momentum * velocity - learning_rate * g\n",
       "```\n",
       "\n",
       "Args:\n",
       "  learning_rate: A `Tensor`, floating point value, or a schedule that is a\n",
       "    `tf.keras.optimizers.schedules.LearningRateSchedule`, or a callable\n",
       "    that takes no arguments and returns the actual value to use. The\n",
       "    learning rate. Defaults to 0.01.\n",
       "  momentum: float hyperparameter >= 0 that accelerates gradient descent\n",
       "    in the relevant\n",
       "    direction and dampens oscillations. Defaults to 0, i.e., vanilla gradient\n",
       "    descent.\n",
       "  nesterov: boolean. Whether to apply Nesterov momentum.\n",
       "    Defaults to `False`.\n",
       "  name: Optional name prefix for the operations created when applying\n",
       "    gradients.  Defaults to `\"SGD\"`.\n",
       "  **kwargs: Keyword arguments. Allowed to be one of\n",
       "    `\"clipnorm\"` or `\"clipvalue\"`.\n",
       "    `\"clipnorm\"` (float) clips gradients by norm; `\"clipvalue\"` (float) clips\n",
       "    gradients by value.\n",
       "\n",
       "Usage:\n",
       "\n",
       ">>> opt = tf.keras.optimizers.SGD(learning_rate=0.1)\n",
       ">>> var = tf.Variable(1.0)\n",
       ">>> loss = lambda: (var ** 2)/2.0         # d(loss)/d(var1) = var1\n",
       ">>> step_count = opt.minimize(loss, [var]).numpy()\n",
       ">>> # Step is `- learning_rate * grad`\n",
       ">>> var.numpy()\n",
       "0.9\n",
       "\n",
       ">>> opt = tf.keras.optimizers.SGD(learning_rate=0.1, momentum=0.9)\n",
       ">>> var = tf.Variable(1.0)\n",
       ">>> val0 = var.value()\n",
       ">>> loss = lambda: (var ** 2)/2.0         # d(loss)/d(var1) = var1\n",
       ">>> # First step is `- learning_rate * grad`\n",
       ">>> step_count = opt.minimize(loss, [var]).numpy()\n",
       ">>> val1 = var.value()\n",
       ">>> (val0 - val1).numpy()\n",
       "0.1\n",
       ">>> # On later steps, step-size increases because of momentum\n",
       ">>> step_count = opt.minimize(loss, [var]).numpy()\n",
       ">>> val2 = var.value()\n",
       ">>> (val1 - val2).numpy()\n",
       "0.18\n",
       "\n",
       "Reference:\n",
       "    - For `nesterov=True`, See [Sutskever et al., 2013](\n",
       "      http://jmlr.org/proceedings/papers/v28/sutskever13.pdf).\n",
       "\u001b[0;31mInit docstring:\u001b[0m\n",
       "Create a new Optimizer.\n",
       "\n",
       "This must be called by the constructors of subclasses.\n",
       "Note that Optimizer instances should not bind to a single graph,\n",
       "and so shouldn't keep Tensors as member variables. Generally\n",
       "you should be able to use the _set_hyper()/state.get_hyper()\n",
       "facility instead.\n",
       "\n",
       "This class is stateful and thread-compatible.\n",
       "\n",
       "Example of custom gradient transformations:\n",
       "\n",
       "```python\n",
       "def my_gradient_transformer(grads_and_vars):\n",
       "  # Simple example, double the gradients.\n",
       "  return [(2. * g, v) for g, v in grads_and_vars]\n",
       "\n",
       "optimizer = tf.keras.optimizers.SGD(\n",
       "    1e-3, gradient_transformers=[my_gradient_transformer])\n",
       "```\n",
       "\n",
       "Args:\n",
       "  name: String. The name to use for momentum accumulator weights created\n",
       "    by the optimizer.\n",
       "  gradient_aggregator: The function to use to aggregate gradients across\n",
       "    devices (when using `tf.distribute.Strategy`). If `None`, defaults to\n",
       "    summing the gradients across devices. The function should accept and\n",
       "    return a list of `(gradient, variable)` tuples.\n",
       "  gradient_transformers: Optional. List of functions to use to transform\n",
       "    gradients before applying updates to Variables. The functions are\n",
       "    applied after `gradient_aggregator`. The functions should accept and\n",
       "    return a list of `(gradient, variable)` tuples.\n",
       "  **kwargs: keyword arguments. Allowed arguments are `clipvalue`,\n",
       "    `clipnorm`, `global_clipnorm`.\n",
       "    If `clipvalue` (float) is set, the gradient of each weight\n",
       "    is clipped to be no higher than this value.\n",
       "    If `clipnorm` (float) is set, the gradient of each weight\n",
       "    is individually clipped so that its norm is no higher than this value.\n",
       "    If `global_clipnorm` (float) is set the gradient of all weights is\n",
       "    clipped so that their global norm is no higher than this value.\n",
       "\n",
       "Raises:\n",
       "  ValueError: in case of any invalid argument.\n",
       "\u001b[0;31mFile:\u001b[0m           ~/.local/lib/python3.8/site-packages/keras/optimizer_v2/gradient_descent.py\n",
       "\u001b[0;31mType:\u001b[0m           type\n",
       "\u001b[0;31mSubclasses:\u001b[0m     SGDW\n"
      ]
     },
     "metadata": {},
     "output_type": "display_data"
    }
   ],
   "source": [
    "ko.SGD?"
   ]
  },
  {
   "cell_type": "code",
   "execution_count": 13,
   "id": "e9144fe5-74a3-4152-98df-a49dd98ceb5f",
   "metadata": {},
   "outputs": [],
   "source": [
    "opt = ko.SGD(learning_rate=0.005,nesterov=True)"
   ]
  },
  {
   "cell_type": "markdown",
   "id": "126a58c6-61ac-40be-98e2-1a90a1dd103d",
   "metadata": {},
   "source": [
    "### Test with finitediff"
   ]
  },
  {
   "cell_type": "code",
   "execution_count": 14,
   "id": "8d620a8b-2ba5-4d73-a764-37a37f473ee3",
   "metadata": {},
   "outputs": [],
   "source": [
    "import tqdm"
   ]
  },
  {
   "cell_type": "code",
   "execution_count": 15,
   "id": "fa47e1f5-8e22-467f-8441-0baff46e8d33",
   "metadata": {
    "tags": []
   },
   "outputs": [
    {
     "name": "stderr",
     "output_type": "stream",
     "text": [
      "  0%|          | 0/4000 [00:00<?, ?it/s]"
     ]
    },
    {
     "name": "stdout",
     "output_type": "stream",
     "text": [
      "WARNING:tensorflow:Using a while_loop for converting Addons>ResamplerGrad\n"
     ]
    },
    {
     "name": "stderr",
     "output_type": "stream",
     "text": [
      "WARNING:tensorflow:Using a while_loop for converting Addons>ResamplerGrad\n"
     ]
    },
    {
     "name": "stdout",
     "output_type": "stream",
     "text": [
      "WARNING:tensorflow:Using a while_loop for converting Addons>ResamplerGrad\n"
     ]
    },
    {
     "name": "stderr",
     "output_type": "stream",
     "text": [
      "WARNING:tensorflow:Using a while_loop for converting Addons>ResamplerGrad\n",
      "100%|██████████| 4000/4000 [15:45<00:00,  4.23it/s]\n"
     ]
    }
   ],
   "source": [
    "@tf.function\n",
    "def loss_fd(batch,model):\n",
    "  #Apply shear here\n",
    "  \n",
    "  #compute response\n",
    "  R = amc.get_metacal_response_finitediff(batch['obs_image'],batch['psf_image'],batch['psf_image'],0.01,model)[1]\n",
    "  \n",
    "  lost = tf.norm(R - tf.eye(2))\n",
    "  \n",
    "  return lost\n",
    "\n",
    "modelfd = Ribli19(51,n_channels=1)\n",
    "def stepfd(batch):\n",
    "  with tf.GradientTape() as tape:\n",
    "    lost = loss_fd(batch,modelfd)\n",
    "    grads = tape.gradient(lost, modelfd.trainable_variables)\n",
    "    \n",
    "  opt.apply_gradients(zip(grads, modelfd.trainable_variables))\n",
    "  return lost\n",
    "\n",
    "\n",
    "\n",
    "\n",
    "@tf.function\n",
    "def loss_ad(batch,model):\n",
    "  #Apply shear here\n",
    "  \n",
    "  #compute response\n",
    "  R = amc.get_metacal_response(batch['obs_image'],batch['psf_image'],batch['psf_image'],model)[1]\n",
    "  \n",
    "  lost = tf.norm(R - tf.eye(2))\n",
    "  \n",
    "  return lost\n",
    "\n",
    "modelad = Ribli19(51,n_channels=1)\n",
    "def stepad(batch):\n",
    "  with tf.GradientTape() as tape:\n",
    "    lost = loss_ad(batch,modelad)\n",
    "    grads = tape.gradient(lost, modelad.trainable_variables)\n",
    "    \n",
    "  opt.apply_gradients(zip(grads, modelad.trainable_variables))\n",
    "\n",
    "  return lost\n",
    "loistad= []\n",
    "loistfd= []\n",
    "for _ in tqdm.tqdm(range(4000)):\n",
    "  batch = batchit.next()\n",
    "  lostad=stepad(batch)\n",
    "  loistad.append(lostad)\n",
    "  lostfd=stepfd(batch)\n",
    "  loistfd.append(lostfd)\n"
   ]
  },
  {
   "cell_type": "code",
   "execution_count": 18,
   "id": "56d3334b-ec35-4798-8d08-71c052022b36",
   "metadata": {},
   "outputs": [
    {
     "data": {
      "image/png": "[encoded data removed]",
      "text/plain": [
       "<Figure size 432x288 with 1 Axes>"
      ]
     },
     "metadata": {
      "needs_background": "light"
     },
     "output_type": "display_data"
    }
   ],
   "source": [
    "plt.plot(range(4000),loistfd,label='finitediff')\n",
    "plt.plot(range(4000),loistad,label='autodiff')\n",
    "plt.xlabel('iterations')\n",
    "plt.ylabel('loss')\n",
    "plt.yscale('log')\n",
    "plt.legend()\n",
    "plt.savefig('learning3.png',bbox_inches='tight')"
   ]
  },
  {
   "cell_type": "code",
   "execution_count": 17,
   "id": "4c499ee1-dbe2-47c8-a838-976d845777a4",
   "metadata": {},
   "outputs": [
    {
     "ename": "NameError",
     "evalue": "name 'banana' is not defined",
     "output_type": "error",
     "traceback": [
      "\u001b[0;31m---------------------------------------------------------------------------\u001b[0m",
      "\u001b[0;31mNameError\u001b[0m                                 Traceback (most recent call last)",
      "\u001b[0;32m<ipython-input-17-749e03177f1e>\u001b[0m in \u001b[0;36m<module>\u001b[0;34m\u001b[0m\n\u001b[0;32m----> 1\u001b[0;31m \u001b[0mbanana\u001b[0m\u001b[0;34m(\u001b[0m\u001b[0;34m)\u001b[0m\u001b[0;34m;\u001b[0m\u001b[0;34m\u001b[0m\u001b[0;34m\u001b[0m\u001b[0m\n\u001b[0m",
      "\u001b[0;31mNameError\u001b[0m: name 'banana' is not defined"
     ]
    }
   ],
   "source": [
    "banana();"
   ]
  },
  {
   "cell_type": "markdown",
   "id": "defined-halifax",
   "metadata": {},
   "source": [
    "## Optimise Model"
   ]
  },
  {
   "cell_type": "markdown",
   "id": "systematic-joyce",
   "metadata": {},
   "source": [
    "## Predict on Test Set"
   ]
  },
  {
   "cell_type": "code",
   "execution_count": null,
   "id": "charming-vancouver",
   "metadata": {},
   "outputs": [],
   "source": [
    "test  = datav\n",
    "\n",
    "#predictions\n",
    "predictions = model.predict(test)\n",
    "\n",
    "#labels\n",
    "test_unb  = test.unbatch()\n",
    "test_unb_it = test_unb.as_numpy_iterator()\n",
    "listtest  = [next(test_unb_it) for i in range(len(predictions))]\n",
    "labels = np.array([listtest[i][1] for i in range(len(predictions))])"
   ]
  },
  {
   "cell_type": "markdown",
   "id": "documentary-explorer",
   "metadata": {},
   "source": [
    "## Plot the Results"
   ]
  },
  {
   "cell_type": "code",
   "execution_count": null,
   "id": "assisted-trick",
   "metadata": {},
   "outputs": [],
   "source": [
    "plt.style.use('seaborn')\n",
    "plt.figure(figsize=(10,10))\n",
    "\n",
    "#linear fit\n",
    "poly_g1 = np.polyfit(labels[:,0],predictions[:,0],1)\n",
    "poly_g2 = np.polyfit(labels[:,1],predictions[:,1],1)\n",
    "\n",
    "#correlation coefficient\n",
    "corr_g1 = pearsonr(labels[:,0],predictions[:,0])\n",
    "corr_g2 = pearsonr(labels[:,1],predictions[:,1])\n",
    "\n",
    "#plots\n",
    "plt.scatter(labels[:,0],predictions[:,0]-labels[:,0],alpha=0.5,label='g1')\n",
    "plt.scatter(labels[:,1],predictions[:,1]-labels[:,1],alpha=0.5,label='g2')\n",
    "\n",
    "#text\n",
    "plt.text(-.25,0.75, \"$m_1$ = {:.2e},  $c_1$ = {:.2e}, r = {:.2e}\".format(1-poly_g1[0],poly_g1[1],corr_g1[0]),fontsize=15)\n",
    "plt.text(-.25,0.5 , \"$m_2$ = {:.2e},  $c_2$ = {:.2e}, r = {:.2e}\".format(1-poly_g2[0],poly_g2[1],corr_g2[0]),fontsize=15)\n",
    "\n",
    "#zero\n",
    "plt.plot([-1,1],[0,0],'k-')\n",
    "\n",
    "#settings\n",
    "plt.xlim(-1,1)\n",
    "plt.ylim(-1,1)\n",
    "plt.title(\"Exponential Model, Noisy (SNR=80) , no PSF, CNN Test\",fontsize=20)\n",
    "plt.xlabel(\"True\",fontsize=20)\n",
    "plt.ylabel(\"Residuals\",fontsize=20)\n",
    "plt.legend(fontsize=20)\n",
    "\n",
    "#save\n",
    "plt.savefig(\"first_test.png\",bbox_inches=\"tight\")"
   ]
  },
  {
   "cell_type": "code",
   "execution_count": null,
   "id": "4b579626-4397-4052-8a17-7a719ef776d8",
   "metadata": {},
   "outputs": [],
   "source": []
  }
 ],
 "metadata": {
  "kernelspec": {
   "display_name": "Python 3",
   "language": "python",
   "name": "python3"
  },
  "language_info": {
   "codemirror_mode": {
    "name": "ipython",
    "version": 3
   },
   "file_extension": ".py",
   "mimetype": "text/x-python",
   "name": "python",
   "nbconvert_exporter": "python",
   "pygments_lexer": "ipython3",
   "version": "3.8.8"
  }
 },
 "nbformat": 4,
 "nbformat_minor": 5
}
