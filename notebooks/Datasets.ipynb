{
 "cells": [
  {
   "cell_type": "markdown",
   "id": "3c9d5464-ecce-4fe4-8db5-697ccfdd47df",
   "metadata": {},
   "source": [
    "# Simulated Galaxies: The Return"
   ]
  },
  {
   "cell_type": "markdown",
   "id": "e282cb8c-0dcb-4bf7-ad01-b1c99efa2737",
   "metadata": {},
   "source": [
    "What we want in this notebook is to create and test several schemes to generate galaxy images. "
   ]
  },
  {
   "cell_type": "code",
   "execution_count": 1,
   "id": "6cbc53b3-d6bc-476c-aab5-dc1fa4c0df2c",
   "metadata": {},
   "outputs": [
    {
     "name": "stdout",
     "output_type": "stream",
     "text": [
      "Populating the interactive namespace from numpy and matplotlib\n"
     ]
    }
   ],
   "source": [
    "%pylab inline"
   ]
  },
  {
   "cell_type": "code",
   "execution_count": null,
   "id": "349771ac-db32-49c8-8e2d-a785304d65e4",
   "metadata": {},
   "outputs": [],
   "source": [
    "import galsim\n",
    "import tensorflow as tf\n",
    "import tensorflow_datasets as tfds\n",
    "import autometacal\n",
    "import tqdm"
   ]
  },
  {
   "cell_type": "code",
   "execution_count": null,
   "id": "3a749870-2a0a-47ce-b902-027eb7866797",
   "metadata": {},
   "outputs": [],
   "source": [
    "(datat, datav), ds_info = tfds.load('gal_gen/simple_100k',split=['train[:14%]', 'train[14%:20%]'],with_info=True)\n",
    "datat = datat.cache()\n",
    "datat = datat.shuffle(ds_info.splits['train'].num_examples)\n",
    "datat = datat.batch(10000)\n",
    "datat = datat.prefetch(tf.data.experimental.AUTOTUNE)"
   ]
  },
  {
   "cell_type": "code",
   "execution_count": null,
   "id": "b52ea774-31cf-44a6-9fed-05731bdbbd10",
   "metadata": {},
   "outputs": [],
   "source": [
    "data = datat.take(1)\n",
    "datait = data.as_numpy_iterator()\n",
    "test=datait.next()"
   ]
  },
  {
   "cell_type": "code",
   "execution_count": null,
   "id": "8cff9af2-d6b1-432c-a4cf-1b26fb4695c4",
   "metadata": {},
   "outputs": [],
   "source": [
    "sum(test['gal_image'][1])"
   ]
  },
  {
   "cell_type": "code",
   "execution_count": null,
   "id": "6e91b32e-8dd3-443b-9b22-d29d4457da02",
   "metadata": {},
   "outputs": [],
   "source": [
    "imshow(test['gal_image'][3])"
   ]
  },
  {
   "cell_type": "markdown",
   "id": "5f49cbae-e46c-4a88-a40c-688998549dba",
   "metadata": {},
   "source": [
    "# Autodiff Test"
   ]
  },
  {
   "cell_type": "code",
   "execution_count": null,
   "id": "fbfaeac2-75ab-471b-a9c0-54dc84adda77",
   "metadata": {},
   "outputs": [],
   "source": [
    "def line_and_contours(lines,percentiles=[2.5,16,50,84,97.5]):\n",
    "  line_and_contours = np.percentile(lines,percentiles,axis=1)\n",
    "  return line_and_contours"
   ]
  },
  {
   "cell_type": "code",
   "execution_count": null,
   "id": "eaa39ca1-bc56-42f8-84f0-6c9c9debc81b",
   "metadata": {},
   "outputs": [],
   "source": [
    "steps = logspace(-5,0,100)"
   ]
  },
  {
   "cell_type": "code",
   "execution_count": null,
   "id": "fda9e21a-336d-4b57-9efd-3696a6e61f89",
   "metadata": {},
   "outputs": [],
   "source": [
    "gal_images=test['gal_image'][:5000]\n",
    "psf_images=test['psf_image'][:5000]"
   ]
  },
  {
   "cell_type": "code",
   "execution_count": null,
   "id": "1c5753d6-9b3b-45eb-be39-1a2cc03b1d26",
   "metadata": {},
   "outputs": [],
   "source": [
    "reconv_psf = galsim.Moffat(beta=2.5, \n",
    "                    fwhm=0.9*1.2)\n",
    "reconv_psf_image = tf.expand_dims(tf.convert_to_tensor(\n",
    "  reconv_psf.drawImage(nx=51, \n",
    "                       ny=51, \n",
    "                       scale=.2).array),axis=0)"
   ]
  },
  {
   "cell_type": "code",
   "execution_count": null,
   "id": "a6f18066-3b53-4fbf-b3d5-d8bfea100141",
   "metadata": {},
   "outputs": [],
   "source": [
    "def get_ellipticities(image):\n",
    "  return autometacal.gaussian_moments(image,0.2,1.2)"
   ]
  },
  {
   "cell_type": "code",
   "execution_count": null,
   "id": "e730b089-a850-4209-820f-67a7a2b44f54",
   "metadata": {},
   "outputs": [],
   "source": [
    "e_finite_list = []\n",
    "R_finite_list = []\n",
    "for step in tqdm.tqdm(steps):\n",
    "    e_finite, R_finite = autometacal.metacal.get_metacal_response_finitediff(gal_images,\n",
    "                                                         psf_images,\n",
    "                                                         reconv_psf_image,\n",
    "                                                         step=step,method=get_ellipticities)\n",
    "    e_finite_list.append(e_finite)\n",
    "    R_finite_list.append(R_finite)\n",
    "    \n",
    "R_finite=np.array(R_finite_list)"
   ]
  },
  {
   "cell_type": "code",
   "execution_count": null,
   "id": "d75a6505-f047-4b0d-8b1e-efad8f8c3224",
   "metadata": {},
   "outputs": [],
   "source": [
    "e_auto, R_auto = autometacal.get_metacal_response(gal_images[:2500],psf_images[:2500],reconv_psf_image,get_ellipticities)\n",
    "calibre_f=tf.linalg.inv(R_auto[:]) @ tf.reshape(e_auto,[-1,2,1])\n",
    "\n",
    "e_auto1, R_auto1 = autometacal.get_metacal_response(gal_images[2500:],psf_images[2500:],reconv_psf_image,get_ellipticities)\n",
    "calibre_f1=tf.linalg.inv(R_auto1[:]) @ tf.reshape(e_auto1,[-1,2,1])\n",
    "\n",
    "e_auto = tf.concat([e_auto,e_auto1],axis=0)\n",
    "R_auto = tf.concat([R_auto,R_auto1],axis=0)\n",
    "calibre_f=tf.concat([calibre_f,calibre_f1],axis=0)"
   ]
  },
  {
   "cell_type": "code",
   "execution_count": null,
   "id": "f8e294d2-82a4-496c-af29-f7de9d380e94",
   "metadata": {},
   "outputs": [],
   "source": []
  },
  {
   "cell_type": "code",
   "execution_count": null,
   "id": "5e92ed97-91fc-4e20-862a-c77fb9bb81ee",
   "metadata": {},
   "outputs": [],
   "source": []
  },
  {
   "cell_type": "code",
   "execution_count": null,
   "id": "0c06c2ff-1f56-40d2-bd02-f08da7bf33e0",
   "metadata": {},
   "outputs": [],
   "source": []
  },
  {
   "cell_type": "code",
   "execution_count": null,
   "id": "f4d35d06-4e34-444f-ad5d-7061a9ab52bc",
   "metadata": {},
   "outputs": [],
   "source": [
    "figure(figsize=(20,8))\n",
    "subplot(122)\n",
    "hist(R_auto[:,0,0].numpy()[abs(e_auto[:,0])<1],bins=100,density=True,label=\"$R_{11}$\");\n",
    "hist(R_auto[:,1,1].numpy()[abs(e_auto[:,0])<1],bins=100,density=True,label=\"$R_{22}$\",alpha=.7);\n",
    "title(\"autometacal response matrix (1k obj),  diagonal\",fontsize=20)\n",
    "legend(fontsize=20)\n",
    "subplot(121)\n",
    "hist(R_auto[:,1,0].numpy()[abs(e_auto[:,0])<1],bins=100,label=\"$R_{21}$\",density=True);\n",
    "hist(R_auto[:,0,1].numpy()[abs(e_auto[:,0])<1],bins=100,label=\"$R_{12}$\",density=True,alpha=.7);\n",
    "title(\"autometacal response matrix (1k obj), off diagonal\",fontsize=20)\n",
    "legend(fontsize=20)\n",
    "savefig('response_simple.png',bbox_inches='tight')"
   ]
  },
  {
   "cell_type": "code",
   "execution_count": null,
   "id": "301ed013-655e-4ca4-9efa-a9bc4131871f",
   "metadata": {},
   "outputs": [],
   "source": [
    "style.use('ggplot')\n",
    "\n",
    "figure(figsize=(16,5))\n",
    "subplot(121)\n",
    "\n",
    "Y00_95, Y00_84, Y00_median, Y00_16, Y00_5 = line_and_contours(abs(R_auto[:,0,0]-R_finite[:,:,0,0]))\n",
    "fill_between(steps, Y00_5,Y00_95,color='red',alpha=0.1)####CL95\n",
    "fill_between(steps, Y00_16,Y00_84,color='red',alpha=0.3)####CL68\n",
    "plot(steps,Y00_median,label=\"R_{11}\",color='red')####Median \n",
    "\n",
    "Y11_95, Y11_84, Y11_median, Y11_16, Y11_5 = line_and_contours(abs(R_auto[:,1,1]-R_finite[:,:,1,1]))\n",
    "fill_between(steps, Y11_5,Y11_95,color='darkblue',alpha=0.1)####CL95\n",
    "fill_between(steps, Y11_16,Y11_84,color='darkblue',alpha=0.3)####CL68\n",
    "plot(steps,Y11_median,label=\"R_{22}\",color='darkblue')####Median \n",
    "plot([1e-2,1e-2],[1e-6,1e-1],'k-')\n",
    "\n",
    "ylim([1e-6,1e-1])\n",
    "xlabel('step size',fontsize=20)\n",
    "ylabel('$R_{auto}$ - $R_{finite}$',fontsize=20)\n",
    "legend()\n",
    "xscale('log')\n",
    "yscale('log')\n",
    "\n",
    "subplot(122)\n",
    "\n",
    "Y10_95, Y10_84, Y10_median, Y10_16, Y10_5 = line_and_contours(abs(R_auto[:,1,0]-R_finite[:,:,1,0]))\n",
    "fill_between(steps, Y10_5,Y10_95,color='red',alpha=0.1)####CL95\n",
    "fill_between(steps, Y10_16,Y10_84,color='red',alpha=0.3)####CL68\n",
    "plot(steps,Y10_median,label=\"R_{21}\",color='red')####Median \n",
    "\n",
    "Y01_95, Y01_84, Y01_median, Y01_16, Y01_5 = line_and_contours(abs(R_auto[:,0,1]-R_finite[:,:,0,1]))\n",
    "fill_between(steps, Y01_5,Y01_95,color='darkblue',alpha=0.1)####CL95\n",
    "fill_between(steps, Y01_16,Y01_84,color='darkblue',alpha=0.3)####CL68\n",
    "plot(steps,Y01_median,label=\"R_{12}\",color='darkblue')####Median \n",
    "\n",
    "plot([1e-2,1e-2],[1e-6,1e-1],'k-')\n",
    "\n",
    "ylim([1e-6,1e-1])\n",
    "xlabel('step size',fontsize=20)\n",
    "ylabel(\"$R_{auto}$ - $R_{finite}$\",fontsize=20)\n",
    "legend()\n",
    "xscale('log')\n",
    "yscale('log')\n",
    "savefig('simple.png',bbox_inches='tight')"
   ]
  },
  {
   "cell_type": "code",
   "execution_count": null,
   "id": "2998e019-e301-459d-bade-f636aa0aca2d",
   "metadata": {},
   "outputs": [],
   "source": []
  },
  {
   "cell_type": "code",
   "execution_count": null,
   "id": "4ef8241c-c297-42d5-942d-fca64daa857e",
   "metadata": {},
   "outputs": [],
   "source": []
  },
  {
   "cell_type": "code",
   "execution_count": null,
   "id": "4f24d26a-fa0d-457a-9b55-2642145f709d",
   "metadata": {},
   "outputs": [],
   "source": []
  }
 ],
 "metadata": {
  "kernelspec": {
   "display_name": "Python 3",
   "language": "python",
   "name": "python3"
  },
  "language_info": {
   "codemirror_mode": {
    "name": "ipython",
    "version": 3
   },
   "file_extension": ".py",
   "mimetype": "text/x-python",
   "name": "python",
   "nbconvert_exporter": "python",
   "pygments_lexer": "ipython3",
   "version": "3.8.6"
  }
 },
 "nbformat": 4,
 "nbformat_minor": 5
}
