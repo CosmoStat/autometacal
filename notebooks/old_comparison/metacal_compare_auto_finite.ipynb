{
 "cells": [
  {
   "cell_type": "markdown",
   "id": "neither-feedback",
   "metadata": {},
   "source": [
    "# Comparing _autodifferentiation_ & _finite differences_ in Metacalibration"
   ]
  },
  {
   "cell_type": "code",
   "execution_count": 1,
   "id": "worst-poker",
   "metadata": {},
   "outputs": [
    {
     "name": "stdout",
     "output_type": "stream",
     "text": [
      "Populating the interactive namespace from numpy and matplotlib\n"
     ]
    }
   ],
   "source": [
    "%pylab inline"
   ]
  },
  {
   "cell_type": "code",
   "execution_count": 2,
   "id": "forward-parallel",
   "metadata": {},
   "outputs": [],
   "source": [
    "import numpy as np\n",
    "import autometacal"
   ]
  },
  {
   "cell_type": "code",
   "execution_count": 3,
   "id": "exceptional-group",
   "metadata": {},
   "outputs": [],
   "source": [
    "##Local settings\n",
    "import time\n",
    "import os\n",
    "import galsim\n",
    "import tensorflow as tf\n",
    "\n",
    "import tqdm"
   ]
  },
  {
   "cell_type": "markdown",
   "id": "selected-arabic",
   "metadata": {},
   "source": [
    "## Generate Data"
   ]
  },
  {
   "cell_type": "code",
   "execution_count": 4,
   "id": "furnished-surge",
   "metadata": {},
   "outputs": [],
   "source": [
    "seed = 31415\n",
    "rng = np.random.RandomState(seed)"
   ]
  },
  {
   "cell_type": "code",
   "execution_count": 5,
   "id": "seeing-bidding",
   "metadata": {},
   "outputs": [],
   "source": [
    "img_noise = 1.0e-6\n",
    "psf_noise = img_noise/10\n",
    "scale = 0.2\n",
    "stamp_size = 65\n",
    "psf_fwhm = 0.9\n",
    "gal_hlr = 0.7"
   ]
  },
  {
   "cell_type": "code",
   "execution_count": 7,
   "id": "expired-steering",
   "metadata": {},
   "outputs": [
    {
     "ename": "TypeError",
     "evalue": "make_data() got an unexpected keyword argument 'psf_noise'",
     "output_type": "error",
     "traceback": [
      "\u001b[0;31m---------------------------------------------------------------------------\u001b[0m",
      "\u001b[0;31mTypeError\u001b[0m                                 Traceback (most recent call last)",
      "\u001b[0;32m<ipython-input-7-03bb4889a7f8>\u001b[0m in \u001b[0;36m<module>\u001b[0;34m\u001b[0m\n\u001b[0;32m----> 1\u001b[0;31m gal_images, psf_images = autometacal.datasets.galaxies.make_data(Ngals=2,psf_noise = psf_noise,\n\u001b[0m\u001b[1;32m      2\u001b[0m                                   \u001b[0mimg_noise\u001b[0m \u001b[0;34m=\u001b[0m \u001b[0mimg_noise\u001b[0m\u001b[0;34m,\u001b[0m\u001b[0;34m\u001b[0m\u001b[0;34m\u001b[0m\u001b[0m\n\u001b[1;32m      3\u001b[0m                                   \u001b[0mscale\u001b[0m \u001b[0;34m=\u001b[0m \u001b[0mscale\u001b[0m\u001b[0;34m,\u001b[0m\u001b[0;34m\u001b[0m\u001b[0;34m\u001b[0m\u001b[0m\n\u001b[1;32m      4\u001b[0m                                   \u001b[0mstamp_size\u001b[0m \u001b[0;34m=\u001b[0m \u001b[0mstamp_size\u001b[0m\u001b[0;34m,\u001b[0m\u001b[0;34m\u001b[0m\u001b[0;34m\u001b[0m\u001b[0m\n\u001b[1;32m      5\u001b[0m                                   \u001b[0mpsf_fwhm\u001b[0m \u001b[0;34m=\u001b[0m \u001b[0mpsf_fwhm\u001b[0m\u001b[0;34m,\u001b[0m\u001b[0;34m\u001b[0m\u001b[0;34m\u001b[0m\u001b[0m\n",
      "\u001b[0;31mTypeError\u001b[0m: make_data() got an unexpected keyword argument 'psf_noise'"
     ]
    }
   ],
   "source": [
    "gal_images, psf_images = autometacal.datasets.galaxies.make_data(Ngals=2,psf_noise = psf_noise,\n",
    "                                  img_noise = img_noise,\n",
    "                                  scale = scale,\n",
    "                                  stamp_size = stamp_size,\n",
    "                                  psf_fwhm = psf_fwhm,\n",
    "                                  gal_hlr = gal_hlr,\n",
    "                                  gal_g1 = [0.0,.01,-0.01],gal_g2=[0.0,.0,.01])"
   ]
  },
  {
   "cell_type": "code",
   "execution_count": null,
   "id": "streaming-remark",
   "metadata": {},
   "outputs": [],
   "source": [
    "style.use('default')\n",
    "figure(figsize=(15,5))\n",
    "subplot(131)\n",
    "imshow(gal_images[0]); title('observed image')\n",
    "subplot(132)\n",
    "imshow(psf_images[0]); title('psf model')"
   ]
  },
  {
   "cell_type": "markdown",
   "id": "automated-commission",
   "metadata": {},
   "source": [
    "## Generate a 20% larger PSF for reconvolution."
   ]
  },
  {
   "cell_type": "code",
   "execution_count": null,
   "id": "seventh-syracuse",
   "metadata": {},
   "outputs": [],
   "source": [
    "reconv_psf = galsim.Moffat(beta=2.5, \n",
    "                    fwhm=psf_fwhm*1.2)\n",
    "reconv_psf_image = tf.expand_dims(tf.convert_to_tensor(reconv_psf.drawImage(nx=stamp_size, ny=stamp_size, scale=scale).array),axis=0)"
   ]
  },
  {
   "cell_type": "code",
   "execution_count": null,
   "id": "canadian-annual",
   "metadata": {},
   "outputs": [],
   "source": [
    "style.use('default')\n",
    "figure(figsize=(20,5))\n",
    "subplot(131)\n",
    "imshow(psf_images[0]); title('original psf')\n",
    "subplot(132)\n",
    "imshow(reconv_psf_image[0]); title('enlarged psf')\n",
    "subplot(133)\n",
    "imshow(reconv_psf_image[0] - psf_images[0]); title('difference');colorbar()"
   ]
  },
  {
   "cell_type": "markdown",
   "id": "internal-people",
   "metadata": {},
   "source": [
    "## Test GalFlow Deconv/Reconv"
   ]
  },
  {
   "cell_type": "code",
   "execution_count": null,
   "id": "suffering-coffee",
   "metadata": {},
   "outputs": [],
   "source": [
    "style.use('default')\n",
    "imshow(autometacal.generate_mcal_image(gal_images[tf.newaxis,0],\n",
    "                                       psf_images[tf.newaxis,0],\n",
    "                                       psf_images[tf.newaxis,0],[[0.0,0.0]])[0]-gal_images[0]);title('residuals from reconv w/ same psf noshear');colorbar()\n"
   ]
  },
  {
   "cell_type": "markdown",
   "id": "underlying-curtis",
   "metadata": {},
   "source": [
    "## GalFlow vs GalSim"
   ]
  },
  {
   "cell_type": "code",
   "execution_count": null,
   "id": "radical-english",
   "metadata": {},
   "outputs": [],
   "source": [
    "obj0 = galsim.Exponential(half_light_radius=gal_hlr)\n",
    "counterfact = galsim.Convolve([reconv_psf,obj0.shear(g1=0.0,g2=0.0)])\n",
    "counterfact = tf.expand_dims( tf.convert_to_tensor(counterfact.drawImage(nx=stamp_size, ny=stamp_size, scale=scale).array),axis=0)\n",
    "imshow(autometacal.generate_mcal_image(gal_images[tf.newaxis,0],\n",
    "                                       psf_images[tf.newaxis,0],reconv_psf_image,[[0.0,0.0]])[0]-counterfact[0])"
   ]
  },
  {
   "cell_type": "code",
   "execution_count": null,
   "id": "dense-butter",
   "metadata": {},
   "outputs": [],
   "source": [
    "style.use('default')\n",
    "figure(figsize=(15,12))\n",
    "\n",
    "step = 0.01\n",
    "\n",
    "subplot(335)\n",
    "imshow(autometacal.generate_mcal_image(gal_images[tf.newaxis,0],psf_images,reconv_psf_image,[[0.0,0.0]])[0])\n",
    "title('metacal_img same psf noshear')\n",
    "\n",
    "subplot(332)\n",
    "imshow(autometacal.generate_mcal_image(gal_images[tf.newaxis,0],psf_images,reconv_psf_image,[[step,0.0]])[0])\n",
    "title(f'metacal_img same psf 1p {step}')\n",
    "\n",
    "subplot(338)\n",
    "imshow(autometacal.generate_mcal_image(gal_images[tf.newaxis,0],psf_images,reconv_psf_image,[[-step,0.0]])[0])\n",
    "title(f'metacal_img same psf 1m {step}')\n",
    "\n",
    "subplot(336)\n",
    "imshow(autometacal.generate_mcal_image(gal_images[tf.newaxis,0],psf_images,reconv_psf_image,[[0.0,step]])[0])\n",
    "title(f'metacal_img same psf 2p {step}')\n",
    "\n",
    "subplot(334)\n",
    "imshow(autometacal.generate_mcal_image(gal_images[tf.newaxis,0],psf_images,reconv_psf_image,[[0.0,-step]])[0])\n",
    "title(f'metacal_img same psf 2m {step}')\n",
    "savefig('problems1.png',bbox_inches='tight')"
   ]
  },
  {
   "cell_type": "code",
   "execution_count": null,
   "id": "random-hamilton",
   "metadata": {},
   "outputs": [],
   "source": [
    "style.use('default')\n",
    "figure(figsize=(15,12))\n",
    "\n",
    "step = 0.01\n",
    "\n",
    "subplot(335)\n",
    "counterfact = galsim.Convolve([reconv_psf,obj0.shear(g1=0.0,g2=0.0)])\n",
    "counterfact = tf.convert_to_tensor(counterfact.drawImage(nx=stamp_size, \n",
    "                                                         ny=stamp_size, \n",
    "                                                         scale=scale).array)[tf.newaxis]\n",
    "imshow(autometacal.generate_mcal_image(gal_images[tf.newaxis,0],\n",
    "                                       psf_images,\n",
    "                                       reconv_psf_image,[[0.0,0.0]])[0]-counterfact[0])\n",
    "title('reconv w/ same psf noshear');colorbar()\n",
    "\n",
    "subplot(332)\n",
    "counterfact = galsim.Convolve([reconv_psf,obj0.shear(g1=step,g2=0.0)])\n",
    "counterfact = tf.convert_to_tensor(counterfact.drawImage(nx=stamp_size, \n",
    "                                                         ny=stamp_size, \n",
    "                                                         scale=scale).array)[tf.newaxis]\n",
    "imshow(autometacal.generate_mcal_image(gal_images[tf.newaxis,0],\n",
    "                                       psf_images,\n",
    "                                       reconv_psf_image,[[step,0.0]])[0]-counterfact[0])\n",
    "title(f'reconv w/ same psf 1p {step}');colorbar()\n",
    "\n",
    "subplot(338)\n",
    "counterfact = galsim.Convolve([reconv_psf,obj0.shear(g1=-step,g2=0.0)])\n",
    "counterfact = tf.convert_to_tensor(counterfact.drawImage(nx=stamp_size, \n",
    "                                                         ny=stamp_size, \n",
    "                                                         scale=scale).array)[tf.newaxis]\n",
    "imshow(autometacal.generate_mcal_image(gal_images[tf.newaxis,0],\n",
    "                                       psf_images,\n",
    "                                       reconv_psf_image,[[-step,0.0]])[0]-counterfact[0])\n",
    "title(f'reconv w/ same psf 1m {step}');colorbar()\n",
    "\n",
    "subplot(336)\n",
    "counterfact = galsim.Convolve([reconv_psf,obj0.shear(g1=0.0,g2=step)])\n",
    "counterfact = tf.convert_to_tensor(counterfact.drawImage(nx=stamp_size, \n",
    "                                                         ny=stamp_size, \n",
    "                                                         scale=scale).array)[tf.newaxis]\n",
    "imshow(autometacal.generate_mcal_image(gal_images[tf.newaxis,0],\n",
    "                                       psf_images,\n",
    "                                       reconv_psf_image,[[0.0,step]])[0]-counterfact[0])\n",
    "title(f'reconv w/ same psf 2p {step}');colorbar()\n",
    "\n",
    "subplot(334)\n",
    "counterfact = galsim.Convolve([reconv_psf,obj0.shear(g1=0.0,g2=-step)])\n",
    "counterfact = tf.convert_to_tensor(counterfact.drawImage(nx=stamp_size, \n",
    "                                                         ny=stamp_size, \n",
    "                                                         scale=scale).array)[tf.newaxis]\n",
    "imshow(autometacal.generate_mcal_image(gal_images[tf.newaxis,0],\n",
    "                                       psf_images,\n",
    "                                       reconv_psf_image,[[0.0,-step]])[0]-counterfact[0])\n",
    "title(f'reconv w/ same psf 2m {step}');colorbar()\n",
    "savefig('problems2.png',bbox_inches='tight')"
   ]
  },
  {
   "cell_type": "markdown",
   "id": "italian-validity",
   "metadata": {},
   "source": [
    "## Simple Ellipticity Measurements"
   ]
  },
  {
   "cell_type": "code",
   "execution_count": null,
   "id": "sensitive-links",
   "metadata": {},
   "outputs": [],
   "source": [
    "def get_ellipticities(img):\n",
    "  img_size = len(img[0])\n",
    "  nx = img_size\n",
    "  ny = img_size\n",
    "  XX=np.zeros((nx,ny))\n",
    "  XY=np.zeros((nx,ny))\n",
    "  YY=np.zeros((nx,ny))\n",
    "  w = np.zeros((nx,ny))\n",
    "  sigma=img_size/3.\n",
    "  \n",
    "  for i in range(0,nx):\n",
    "      x=0.5+i-(nx)/2.0\n",
    "      for j in range(0,ny):\n",
    "          y=0.5+j-(ny)/2.0\n",
    "          XX[i,j]=x*x\n",
    "          XY[i,j]=x*y\n",
    "          YY[i,j]=y*y\n",
    "          w[i,j]=np.exp(-((x) ** 2 + (y) ** 2) /\n",
    "                                 (2 * sigma ** 2))\n",
    "  \n",
    "\n",
    "  norm = tf.reduce_sum(tf.reduce_sum(w*img, axis=-1), axis=-1)\n",
    "  Q11 = tf.reduce_sum(tf.reduce_sum(w*img*YY, axis=-1), axis=-1)/norm\n",
    "  Q12 = tf.reduce_sum(tf.reduce_sum(w*img*XY, axis=-1), axis=-1)/norm\n",
    "  Q21 = Q12\n",
    "  Q22 = tf.reduce_sum(tf.reduce_sum(w*img*XX, axis=-1), axis=-1)/norm\n",
    "  q1 = Q11 - Q22\n",
    "  q2 = 2*Q12\n",
    "  T= Q11 + Q22  + 2*tf.sqrt(abs(Q11*Q22 - Q12**2))\n",
    "  r = tf.stack([q1/T, q2/T], axis=-1)\n",
    "  return r"
   ]
  },
  {
   "cell_type": "code",
   "execution_count": null,
   "id": "roman-duncan",
   "metadata": {},
   "outputs": [],
   "source": [
    "get_ellipticities(gal_images)"
   ]
  },
  {
   "cell_type": "code",
   "execution_count": null,
   "id": "earlier-blowing",
   "metadata": {},
   "outputs": [],
   "source": [
    "g1, g2 = get_ellipticities(autometacal.generate_mcal_image(gal_images[tf.newaxis,0],psf_images,reconv_psf_image,[[0.0,0.0]])[0])\n",
    "print(f'0shear  g1={g1: .4f},  g2={g2: .4f}')\n",
    "print('--------------------------------')\n",
    "g1, g2 = get_ellipticities(autometacal.generate_mcal_image(gal_images[tf.newaxis,0],psf_images,reconv_psf_image,[[0.05,0.0]])[0])\n",
    "print(f'1p .05  g1={g1: .4f},  g2={g2: .4f}')\n",
    "g1, g2 = get_ellipticities(autometacal.generate_mcal_image(gal_images[tf.newaxis,0],psf_images,reconv_psf_image,[[-.05,0.0]])[0])\n",
    "print(f'1m .05  g1={g1: .4f},  g2={g2: .4f}')\n",
    "g1, g2 = get_ellipticities(autometacal.generate_mcal_image(gal_images[tf.newaxis,0],psf_images,reconv_psf_image,[[0.0,0.05]])[0])\n",
    "print(f'2p .05  g1={g1: .4f},  g2={g2: .4f}')\n",
    "g1, g2 = get_ellipticities(autometacal.generate_mcal_image(gal_images[tf.newaxis,0],psf_images,reconv_psf_image,[[0.0,-.05]])[0])\n",
    "print(f'2m .05  g1={g1: .4f},  g2={g2: .4f}')"
   ]
  },
  {
   "cell_type": "code",
   "execution_count": null,
   "id": "b8789c71-60e0-4edf-89fc-775384abd9e6",
   "metadata": {},
   "outputs": [],
   "source": [
    "autometacal.gaussian_moments(gal_images,.2,1.2)[0]"
   ]
  },
  {
   "cell_type": "markdown",
   "id": "featured-ebony",
   "metadata": {},
   "source": [
    "## Autodiff"
   ]
  },
  {
   "cell_type": "code",
   "execution_count": null,
   "id": "rocky-concern",
   "metadata": {},
   "outputs": [],
   "source": [
    "e, R =autometacal.get_metacal_response(gal_images,psf_images,reconv_psf_image,get_ellipticities)\n",
    "for e, R in zip(e,R):\n",
    "  calibre=tf.linalg.inv(R) @ tf.reshape(e,[2,1])\n",
    "  print(f'g1 = {calibre[0,0]: .5f}, g2 = {calibre[1,0]: .5f}')"
   ]
  },
  {
   "cell_type": "code",
   "execution_count": null,
   "id": "bizarre-butler",
   "metadata": {},
   "outputs": [],
   "source": [
    "e, R = autometacal.get_metacal_response(gal_images,psf_images,reconv_psf_image,get_ellipticities)\n",
    "calibre0 = tf.linalg.inv(R[0]) @ tf.reshape(e[0],[2,1])"
   ]
  },
  {
   "cell_type": "markdown",
   "id": "intimate-winning",
   "metadata": {},
   "source": [
    "## Single image comparison between Autodiff and Finite diff"
   ]
  },
  {
   "cell_type": "code",
   "execution_count": null,
   "id": "express-seminar",
   "metadata": {},
   "outputs": [],
   "source": [
    "def get_metacal_response_finitediff(gal_image,psf_image,reconv_psf_image,step,method):\n",
    "  \n",
    "  img0s = autometacal.generate_mcal_image(gal_image,psf_image,reconv_psf_image,[[0,0]]) \n",
    "  img1p = autometacal.generate_mcal_image(gal_image,psf_image,reconv_psf_image,[[step,0]]) \n",
    "  img1m = autometacal.generate_mcal_image(gal_image,psf_image,reconv_psf_image,[[-step,0]]) \n",
    "  img2p = autometacal.generate_mcal_image(gal_image,psf_image,reconv_psf_image,[[0,step]]) \n",
    "  img2m = autometacal.generate_mcal_image(gal_image,psf_image,reconv_psf_image,[[0,-step]]) \n",
    "  \n",
    "  g0s = get_ellipticities(img0s)\n",
    "  g1p = get_ellipticities(img1p)\n",
    "  g1m = get_ellipticities(img1m)\n",
    "  g2p = get_ellipticities(img2p)\n",
    "  g2m = get_ellipticities(img2m)\n",
    "  \n",
    "  d11 = (g1p[:,0]-g1m[:,0])/(2*step)\n",
    "  d21 = (g1p[:,1]-g1m[:,1])/(2*step) \n",
    "  d12 = (g2p[:,0]-g2m[:,0])/(2*step)\n",
    "  d22 = (g2p[:,1]-g2m[:,1])/(2*step)\n",
    " \n",
    "  R = np.array([[d11,d21],\n",
    "                [d12,d22]]).T\n",
    "  return g0s, R\n",
    "  \n",
    "e_f, R_f =get_metacal_response_finitediff(gal_image=abs(gal_images),\n",
    "                                          psf_image=psf_images,\n",
    "                                          reconv_psf_image=reconv_psf_image,\n",
    "                                          step=0.01,\n",
    "                                          method=get_ellipticities)\n",
    "\n",
    "for e_f, R_f in zip(e_f,R_f):\n",
    "  calibre_f=tf.linalg.inv(R_f) @ tf.reshape(e_f,[2,1])\n",
    "  #print(f'g1 = {calibre_f[0,0]: .5f}, g2 = {calibre_f[1,0]: .5f}')\n",
    "  #print(f'e = {np.sqrt(sum(calibre_f**2)): .5f}')"
   ]
  },
  {
   "cell_type": "code",
   "execution_count": null,
   "id": "5ee30188-5c07-40ce-aba8-3c56a360bdfd",
   "metadata": {},
   "outputs": [],
   "source": [
    "np.array([[[1,11,111],[2,22,222]],\n",
    "          [[3,33,333],[4,44,444]]])"
   ]
  },
  {
   "cell_type": "code",
   "execution_count": null,
   "id": "7a29e9bd-5946-4b19-b147-7d3f53caa69a",
   "metadata": {},
   "outputs": [],
   "source": [
    "np.array([[[1,11,111],[3,33,333]],\n",
    "          [[2,22,222],[4,44,444]]]).T"
   ]
  },
  {
   "cell_type": "code",
   "execution_count": null,
   "id": "occasional-catering",
   "metadata": {},
   "outputs": [],
   "source": [
    "steps = np.logspace(-5,0,100)\n",
    "ef_list = []\n",
    "R11f_list = [] \n",
    "R12f_list = []\n",
    "R21f_list = []\n",
    "R22f_list = []\n",
    "for step in steps:\n",
    "  \n",
    "  e_f, R_f=get_metacal_response_finitediff(gal_images[tf.newaxis,0],psf_images[tf.newaxis,0],reconv_psf_image,step,get_ellipticities)\n",
    "  R11f_list.append(R_f[0,0,0])\n",
    "  R12f_list.append(R_f[0,0,1])\n",
    "  R21f_list.append(R_f[0,1,0])\n",
    "  R22f_list.append(R_f[0,1,1])\n",
    "  try:\n",
    "    calibre_f=tf.linalg.inv(R_f) @ tf.reshape(e_f,[2,1])\n",
    "    ef_list.append(np.sqrt(sum(calibre_f**2)))\n",
    "    \n",
    "  except:\n",
    "    ef_list.append(np.nan)\n",
    "    print('Ops!')"
   ]
  },
  {
   "cell_type": "code",
   "execution_count": null,
   "id": "homeless-breast",
   "metadata": {},
   "outputs": [],
   "source": [
    "e = np.sqrt(sum(calibre0**2))"
   ]
  },
  {
   "cell_type": "code",
   "execution_count": null,
   "id": "greatest-arena",
   "metadata": {},
   "outputs": [],
   "source": [
    "figure(figsize=(16,9))\n",
    "plot(steps,abs(e-np.array(ef_list)) )\n",
    "xscale('log')\n",
    "yscale('log')\n",
    "ylabel('$|e_{auto} - e_{finite}|$',fontsize=20)\n",
    "xlabel('half-step size',fontsize=20)\n",
    "savefig(f'autofinite{time.time()}.jpeg',bbox_inches='tight')"
   ]
  },
  {
   "cell_type": "code",
   "execution_count": null,
   "id": "dominican-bonus",
   "metadata": {},
   "outputs": [],
   "source": [
    "R11 = R[0,0,0]\n",
    "R12 = R[0,0,1]\n",
    "R21 = R[0,1,0]\n",
    "R22 = R[0,1,1]"
   ]
  },
  {
   "cell_type": "code",
   "execution_count": null,
   "id": "polyphonic-hello",
   "metadata": {
    "tags": []
   },
   "outputs": [],
   "source": [
    "figure(figsize=(16,9))\n",
    "plot(steps,abs(R11-np.array(R11f_list)),label=\"$R_{11}$\" )\n",
    "plot(steps,abs(R12-np.array(R12f_list)),label=\"$R_{12}$\" )\n",
    "plot(steps,abs(R21-np.array(R21f_list)),label=\"$R_{21}$\" )\n",
    "plot(steps,abs(R22-np.array(R22f_list)),label=\"$R_{22}$\" )\n",
    "plot([1e-2,1e-2],[1e-7,1e-2],'k-')\n",
    "xscale('log')\n",
    "yscale('log')\n",
    "#ylim([1.5e-4,3e-4])\n",
    "ylabel('$|R_{auto}-R_{finite}|$',fontsize=20)\n",
    "xlabel('half-step size',fontsize=20)\n",
    "legend(fontsize=20)\n",
    "savefig(f'autofinite_response_log.jpeg',bbox_inches='tight')"
   ]
  },
  {
   "cell_type": "markdown",
   "id": "processed-stamp",
   "metadata": {},
   "source": [
    "## Galaxy Batches"
   ]
  },
  {
   "cell_type": "code",
   "execution_count": null,
   "id": "union-venezuela",
   "metadata": {},
   "outputs": [],
   "source": [
    "from scipy.stats import truncnorm"
   ]
  },
  {
   "cell_type": "code",
   "execution_count": null,
   "id": "a7651d9b-762b-4a5e-a299-6c38a2e92349",
   "metadata": {},
   "outputs": [],
   "source": [
    "def line_and_contours(lines,percentiles=[2.5,16,50,84,97.5]):\n",
    "  line_and_contours = np.percentile(lines,percentiles,axis=1)\n",
    "  return line_and_contours"
   ]
  },
  {
   "cell_type": "code",
   "execution_count": null,
   "id": "imperial-freedom",
   "metadata": {},
   "outputs": [],
   "source": [
    "g_list = []\n",
    "i=0\n",
    "gmax=.7\n",
    "gscale = .2\n",
    "gloc=0\n",
    "while i<1000 :\n",
    "  a, b = (-gmax - gloc) / gscale, (gmax - gloc) / gscale\n",
    "  g1=g2=1\n",
    "  #select ellipticities, ensure g<=1\n",
    "  while g1**2+g2**2>1:\n",
    "    g1 = truncnorm.rvs(a, b, loc=gloc, scale=gscale)\n",
    "    g2 = truncnorm.rvs(a, b, loc=gloc, scale=gscale)\n",
    "    i+=1\n",
    "  g_list.append([g1,g2])\n",
    "garray = np.array(g_list)"
   ]
  },
  {
   "cell_type": "code",
   "execution_count": null,
   "id": "ignored-tennessee",
   "metadata": {},
   "outputs": [],
   "source": [
    "\n",
    "gal_images, psf_images = autometacal.data.galaxies.make_data(Ngals=1000,\n",
    "                                  psf_noise = psf_noise,\n",
    "                                  img_noise = 1*img_noise,\n",
    "                                  scale = scale,\n",
    "                                  stamp_size = stamp_size,\n",
    "                                  psf_fwhm = psf_fwhm,\n",
    "                                  gal_hlr = gal_hlr,\n",
    "                                  gal_g1=garray.T[0],gal_g2=garray.T[1])"
   ]
  },
  {
   "cell_type": "code",
   "execution_count": null,
   "id": "official-reason",
   "metadata": {},
   "outputs": [],
   "source": [
    "style.use('default')\n",
    "figure(figsize=(10,10))\n",
    "for i in range(16):\n",
    "  subplot(4,4,i+1)\n",
    "  imshow(gal_images[i])"
   ]
  },
  {
   "cell_type": "code",
   "execution_count": null,
   "id": "abstract-mining",
   "metadata": {},
   "outputs": [],
   "source": [
    "e_auto, R_auto = autometacal.get_metacal_response(gal_images,psf_images,reconv_psf_image,get_ellipticities)\n",
    "calibre_f=tf.linalg.inv(R_auto[:]) @ tf.reshape(e_auto,[-1,2,1])"
   ]
  },
  {
   "cell_type": "code",
   "execution_count": null,
   "id": "generous-gauge",
   "metadata": {},
   "outputs": [],
   "source": [
    "figure(figsize=(20,8))\n",
    "subplot(122)\n",
    "hist(R_auto[:,0,0].numpy()[:],bins=100,density=True,label=\"$R_{11}$\");\n",
    "hist(R_auto[:,1,1].numpy()[:],bins=100,density=True,label=\"$R_{22}$\",alpha=.7);\n",
    "title(\"autometacal response matrix (1k obj),  diagonal\",fontsize=20)\n",
    "legend(fontsize=20)\n",
    "subplot(121)\n",
    "hist(R_auto[:,1,0].numpy()[:],bins=100,label=\"$R_{21}$\",density=True);\n",
    "hist(R_auto[:,0,1].numpy()[:],bins=100,label=\"$R_{12}$\",density=True,alpha=.7);\n",
    "title(\"autometacal response matrix (1k obj), off diagonal\",fontsize=20)\n",
    "legend(fontsize=20)"
   ]
  },
  {
   "cell_type": "code",
   "execution_count": null,
   "id": "paperback-abortion",
   "metadata": {},
   "outputs": [],
   "source": [
    "style.use('ggplot')\n",
    "figure(figsize=(20,10))\n",
    "subplot(121)\n",
    "scatter(garray[:,0],e_auto[:,0]-garray[:,0],alpha=.7,label=\"uncalibrated\")\n",
    "scatter(garray[:,0],calibre_f[:,0,0]-garray[:,0],alpha=.7,label=\"autometacal\")\n",
    "title(\"$e_1$ ellipticity measurements\", fontsize=20)\n",
    "xlabel(\"truth\",fontsize=20)\n",
    "ylabel(\"residuals\",fontsize=20)\n",
    "legend(fontsize=20)\n",
    "xlim(-0.7,0.7)\n",
    "ylim(-0.7,0.7)\n",
    "subplot(122)\n",
    "scatter(garray[:,1],e_auto[:,1]-garray[:,1],alpha=.7,label=\"uncalibrated\")\n",
    "scatter(garray[:,1],calibre_f[:,1,0]-garray[:,1],alpha=.7,label=\"autometacal\")\n",
    "title(\"$e_2$ ellipticity measurements\", fontsize=20)\n",
    "xlabel(\"truth\",fontsize=20)\n",
    "ylabel(\"residuals\",fontsize=20)\n",
    "legend(fontsize=20)\n",
    "xlim(-0.7,0.7)\n",
    "ylim(-0.7,0.7)\n",
    "savefig(\"linearity.png\",bbox_inches=\"tight\")"
   ]
  },
  {
   "cell_type": "markdown",
   "id": "positive-gilbert",
   "metadata": {},
   "source": [
    "* *This is not an École Polytechnique ad.* :-)"
   ]
  },
  {
   "cell_type": "code",
   "execution_count": null,
   "id": "northern-symbol",
   "metadata": {},
   "outputs": [],
   "source": [
    "style.use('ggplot')\n",
    "figure(figsize=(20,10))\n",
    "box_size=.2\n",
    "subplot(121)\n",
    "scatter(garray[:,0],e_auto[:,0]-garray[:,0],alpha=.7,label=\"uncalibrated\")\n",
    "scatter(garray[:,0],calibre_f[:,0,0]-garray[:,0],alpha=.7,label=\"autometacal\")\n",
    "title(\"$e_2$ ellipticity measurements\", fontsize=20)\n",
    "xlabel(\"truth\",fontsize=20)\n",
    "ylabel(\"residuals\",fontsize=20)\n",
    "legend(fontsize=20)\n",
    "xlim(-box_size,box_size)\n",
    "ylim(-box_size,box_size)\n",
    "\n",
    "subplot(122)\n",
    "scatter(garray[:,1],e_auto[:,1]-garray[:,1],alpha=.7,label=\"uncalibrated\")\n",
    "scatter(garray[:,1],calibre_f[:,1,0]-garray[:,1],alpha=.7,label=\"autometacal\")\n",
    "title(\"$e_2$ ellipticity measurements\", fontsize=20)\n",
    "xlabel(\"truth\",fontsize=20)\n",
    "ylabel(\"residuals\",fontsize=20)\n",
    "legend(fontsize=20)\n",
    "xlim(-box_size,box_size)\n",
    "ylim(-box_size,box_size)\n",
    "savefig(\"linearity_zoomed.png\",bbox_inches=\"tight\")\n"
   ]
  },
  {
   "cell_type": "markdown",
   "id": "portuguese-valuation",
   "metadata": {},
   "source": [
    "## Averaging the response comparison over many galaxies"
   ]
  },
  {
   "cell_type": "code",
   "execution_count": null,
   "id": "04daa81a-3f33-47a9-964f-97f377e2454b",
   "metadata": {},
   "outputs": [],
   "source": [
    "e_finite_list = []\n",
    "R_finite_list = []\n",
    "for step in tqdm.tqdm(steps):\n",
    "    e_finite, R_finite = get_metacal_response_finitediff(gal_images,\n",
    "                                                         psf_images,\n",
    "                                                         reconv_psf_image,\n",
    "                                                         step=step,\n",
    "                                                         method=get_ellipticities)\n",
    "    e_finite_list.append(e_finite)\n",
    "    R_finite_list.append(R_finite)\n",
    "    \n",
    "R_finite=np.array(R_finite_list)    \n",
    "e_auto, R_auto = autometacal.get_metacal_response(gal_images,psf_images,reconv_psf_image,get_ellipticities)\n",
    "calibre_f=tf.linalg.inv(R_auto[:]) @ tf.reshape(e_auto,[-1,2,1])"
   ]
  },
  {
   "cell_type": "code",
   "execution_count": null,
   "id": "timely-farming",
   "metadata": {},
   "outputs": [],
   "source": [
    "style.use('ggplot')\n",
    "R_finite=np.array(R_finite_list)\n",
    "figure(figsize=(16,5))\n",
    "subplot(121)\n",
    "\n",
    "Y00_95, Y00_84, Y00_median, Y00_16, Y00_5 = line_and_contours(abs(R_auto[:,0,0]-R_finite[:,:,0,0]))\n",
    "fill_between(steps, Y00_5,Y00_95,color='red',alpha=0.1)####CL95\n",
    "fill_between(steps, Y00_16,Y00_84,color='red',alpha=0.3)####CL68\n",
    "plot(steps,Y00_median,label=\"R_{12}\",color='red')####Median \n",
    "\n",
    "\n",
    "Y11_95, Y11_84, Y11_median, Y11_16, Y11_5 = line_and_contours(abs(R_auto[:,1,1]-R_finite[:,:,1,1]))\n",
    "fill_between(steps, Y11_5,Y11_95,color='darkblue',alpha=0.1)####CL95\n",
    "fill_between(steps, Y11_16,Y11_84,color='darkblue',alpha=0.3)####CL68\n",
    "plot(steps,Y11_median,label=\"R_{12}\",color='darkblue')####Median \n",
    "plot([1e-2,1e-2],[1e-6,1e-1],'k-')\n",
    "\n",
    "ylim([1e-6,1e-1])\n",
    "xlabel('step size',fontsize=20)\n",
    "ylabel('$R_{auto}$ - $R_{finite}$',fontsize=20)\n",
    "legend()\n",
    "xscale('log')\n",
    "yscale('log')\n",
    "\n",
    "subplot(122)\n",
    "\n",
    "Y10_95, Y10_84, Y10_median, Y10_16, Y10_5 = line_and_contours(abs(R_auto[:,1,0]-R_finite[:,:,1,0]))\n",
    "fill_between(steps, Y10_5,Y10_95,color='red',alpha=0.1)####CL95\n",
    "fill_between(steps, Y10_16,Y10_84,color='red',alpha=0.3)####CL68\n",
    "plot(steps,Y10_median,label=\"R_{12}\",color='red')####Median \n",
    "\n",
    "\n",
    "Y01_95, Y01_84, Y01_median, Y01_16, Y01_5 = line_and_contours(abs(R_auto[:,0,1]-R_finite[:,:,0,1]))\n",
    "fill_between(steps, Y01_5,Y01_95,color='darkblue',alpha=0.1)####CL95\n",
    "fill_between(steps, Y01_16,Y01_84,color='darkblue',alpha=0.3)####CL68\n",
    "plot(steps,Y01_median,label=\"R_{12}\",color='darkblue')####Median \n",
    "\n",
    "\n",
    "plot([1e-2,1e-2],[1e-6,1e-1],'k-')\n",
    "\n",
    "ylim([1e-6,1e-1])\n",
    "xlabel('step size',fontsize=20)\n",
    "ylabel(\"$R_{auto}$ - $R_{finite}$\",fontsize=20)\n",
    "legend()\n",
    "xscale('log')\n",
    "yscale('log')\n",
    "savefig('median_response.png',bbox_inches='tight')"
   ]
  },
  {
   "cell_type": "markdown",
   "id": "29481e12-4312-4d5b-8be2-6c0724e506b9",
   "metadata": {},
   "source": [
    "## Higher Noise"
   ]
  },
  {
   "cell_type": "markdown",
   "id": "562776bd-055d-41ec-9bfd-5618d249eea3",
   "metadata": {},
   "source": [
    "10x noise"
   ]
  },
  {
   "cell_type": "code",
   "execution_count": null,
   "id": "012fe5f5-9522-4f94-ba67-18b94d22b226",
   "metadata": {},
   "outputs": [],
   "source": [
    "gal_images, psf_images = autometacal.data.galaxies.make_data(Ngals=1000,\n",
    "                                  psf_noise = psf_noise,\n",
    "                                  img_noise = 10*img_noise,\n",
    "                                  scale = scale,\n",
    "                                  stamp_size = stamp_size,\n",
    "                                  psf_fwhm = psf_fwhm,\n",
    "                                  gal_hlr = gal_hlr,\n",
    "                                  gal_g1=garray.T[0],gal_g2=garray.T[1])"
   ]
  },
  {
   "cell_type": "code",
   "execution_count": null,
   "id": "248f9b09-ee44-40e8-912a-d82a81eab3cd",
   "metadata": {},
   "outputs": [],
   "source": [
    "style.use('default')\n",
    "figure(figsize=(10,10))\n",
    "for i in range(16):\n",
    "  subplot(4,4,i+1)\n",
    "  imshow(gal_images[i])"
   ]
  },
  {
   "cell_type": "code",
   "execution_count": null,
   "id": "5e63d581-566b-4218-9f59-ffee93c8f409",
   "metadata": {},
   "outputs": [],
   "source": [
    "e_finite_list = []\n",
    "R_finite_list = []\n",
    "for step in tqdm.tqdm(steps):\n",
    "    e_finite, R_finite = get_metacal_response_finitediff(gal_images,\n",
    "                                                         psf_images,\n",
    "                                                         reconv_psf_image,\n",
    "                                                         step=step,\n",
    "                                                         method=get_ellipticities)\n",
    "    e_finite_list.append(e_finite)\n",
    "    R_finite_list.append(R_finite)\n",
    "R_finite = np.array(R_finite_list)\n",
    "\n",
    "e_auto, R_auto = autometacal.get_metacal_response(gal_images,psf_images,reconv_psf_image,get_ellipticities)\n",
    "calibre_f=tf.linalg.inv(R_auto[:]) @ tf.reshape(e_auto,[-1,2,1])"
   ]
  },
  {
   "cell_type": "code",
   "execution_count": null,
   "id": "64f4c2c6-f3e9-4a89-8af6-6b135460a568",
   "metadata": {},
   "outputs": [],
   "source": [
    "figure(figsize=(20,8))\n",
    "subplot(122)\n",
    "hist(R_auto[:,0,0].numpy()[:],bins=100,density=True,label=\"$R_{11}$\");\n",
    "hist(R_auto[:,1,1].numpy()[:],bins=100,density=True,label=\"$R_{22}$\",alpha=.7);\n",
    "title(\"autometacal response matrix (1k obj),  diagonal\",fontsize=20)\n",
    "legend(fontsize=20)\n",
    "subplot(121)\n",
    "hist(R_auto[:,1,0].numpy()[:],bins=100,label=\"$R_{21}$\",density=True);\n",
    "hist(R_auto[:,0,1].numpy()[:],bins=100,label=\"$R_{12}$\",density=True,alpha=.7);\n",
    "title(\"autometacal response matrix (1k obj), off diagonal\",fontsize=20)\n",
    "legend(fontsize=20)"
   ]
  },
  {
   "cell_type": "code",
   "execution_count": null,
   "id": "e54ff0a0-efe7-427c-b734-4ad370463cc1",
   "metadata": {},
   "outputs": [],
   "source": [
    "style.use('ggplot')\n",
    "R_finite=np.array(R_finite_list)\n",
    "figure(figsize=(16,5))\n",
    "subplot(121)\n",
    "\n",
    "Y00_95, Y00_84, Y00_median, Y00_16, Y00_5 = line_and_contours(abs(R_auto[:,0,0]-R_finite[:,:,0,0]))\n",
    "fill_between(steps, Y00_5,Y00_95,color='red',alpha=0.1)####CL95\n",
    "fill_between(steps, Y00_16,Y00_84,color='red',alpha=0.3)####CL68\n",
    "plot(steps,Y00_median,label=\"R_{12}\",color='red')####Median \n",
    "\n",
    "\n",
    "Y11_95, Y11_84, Y11_median, Y11_16, Y11_5 = line_and_contours(abs(R_auto[:,1,1]-R_finite[:,:,1,1]))\n",
    "fill_between(steps, Y11_5,Y11_95,color='darkblue',alpha=0.1)####CL95\n",
    "fill_between(steps, Y11_16,Y11_84,color='darkblue',alpha=0.3)####CL68\n",
    "plot(steps,Y11_median,label=\"R_{12}\",color='darkblue')####Median \n",
    "plot([1e-2,1e-2],[1e-6,1e-1],'k-')\n",
    "\n",
    "ylim([1e-6,1e-1])\n",
    "xlabel('step size',fontsize=20)\n",
    "ylabel('$R_{auto}$ - $R_{finite}$',fontsize=20)\n",
    "legend()\n",
    "xscale('log')\n",
    "yscale('log')\n",
    "\n",
    "subplot(122)\n",
    "\n",
    "Y10_95, Y10_84, Y10_median, Y10_16, Y10_5 = line_and_contours(abs(R_auto[:,1,0]-R_finite[:,:,1,0]))\n",
    "fill_between(steps, Y10_5,Y10_95,color='red',alpha=0.1)####CL95\n",
    "fill_between(steps, Y10_16,Y10_84,color='red',alpha=0.3)####CL68\n",
    "plot(steps,Y10_median,label=\"R_{12}\",color='red')####Median \n",
    "\n",
    "\n",
    "Y01_95, Y01_84, Y01_median, Y01_16, Y01_5 = line_and_contours(abs(R_auto[:,0,1]-R_finite[:,:,0,1]))\n",
    "fill_between(steps, Y01_5,Y01_95,color='darkblue',alpha=0.1)####CL95\n",
    "fill_between(steps, Y01_16,Y01_84,color='darkblue',alpha=0.3)####CL68\n",
    "plot(steps,Y01_median,label=\"R_{12}\",color='darkblue')####Median \n",
    "\n",
    "\n",
    "plot([1e-2,1e-2],[1e-6,1e-1],'k-')\n",
    "\n",
    "ylim([1e-6,1e-1])\n",
    "xlabel('step size',fontsize=20)\n",
    "ylabel(\"$R_{auto}$ - $R_{finite}$\",fontsize=20)\n",
    "legend()\n",
    "xscale('log')\n",
    "yscale('log')\n",
    "savefig('median_response_10x_noise.png',bbox_inches='tight')"
   ]
  },
  {
   "cell_type": "markdown",
   "id": "12355955-22e9-4fce-95b9-eb9ad897b898",
   "metadata": {},
   "source": [
    "100x noise"
   ]
  },
  {
   "cell_type": "code",
   "execution_count": null,
   "id": "edb2055f-b4c2-4869-b3c0-bac7a3f276fa",
   "metadata": {},
   "outputs": [],
   "source": [
    "gal_images, psf_images = autometacal.data.galaxies.make_data(Ngals=1000,\n",
    "                                  psf_noise = psf_noise,\n",
    "                                  img_noise = 20*img_noise,\n",
    "                                  scale = scale,\n",
    "                                  stamp_size = stamp_size,\n",
    "                                  psf_fwhm = psf_fwhm,\n",
    "                                  gal_hlr = gal_hlr,\n",
    "                                  gal_g1=garray.T[0],gal_g2=garray.T[1])"
   ]
  },
  {
   "cell_type": "code",
   "execution_count": null,
   "id": "c8842990-d362-4476-899f-03bfd7de7420",
   "metadata": {},
   "outputs": [],
   "source": [
    "style.use('default')\n",
    "figure(figsize=(10,10))\n",
    "for i in range(16):\n",
    "  subplot(4,4,i+1)\n",
    "  imshow(gal_images[i])"
   ]
  },
  {
   "cell_type": "code",
   "execution_count": null,
   "id": "6be685ea-dd6a-448f-ac56-435f7e0ed8ba",
   "metadata": {},
   "outputs": [],
   "source": [
    "e_finite_list = []\n",
    "R_finite_list = []\n",
    "for step in tqdm.tqdm(steps):\n",
    "    e_finite, R_finite = get_metacal_response_finitediff(gal_images,\n",
    "                                                         psf_images,\n",
    "                                                         reconv_psf_image,\n",
    "                                                         step=step,\n",
    "                                                         method=get_ellipticities)\n",
    "    e_finite_list.append(e_finite)\n",
    "    R_finite_list.append(R_finite)\n",
    "R_finite = np.array(R_finite_list)\n",
    "\n",
    "e_auto, R_auto = autometacal.get_metacal_response(gal_images,psf_images,reconv_psf_image,get_ellipticities)\n",
    "calibre_f=tf.linalg.inv(R_auto[:]) @ tf.reshape(e_auto,[-1,2,1])"
   ]
  },
  {
   "cell_type": "code",
   "execution_count": null,
   "id": "05dda4db-0941-4a02-8c7a-75605226f59f",
   "metadata": {},
   "outputs": [],
   "source": [
    "figure(figsize=(20,8))\n",
    "subplot(122)\n",
    "hist(R_auto[:,0,0].numpy()[:],bins=100,density=True,label=\"$R_{11}$\");\n",
    "hist(R_auto[:,1,1].numpy()[:],bins=100,density=True,label=\"$R_{22}$\",alpha=.7);\n",
    "title(\"autometacal response matrix (1k obj),  diagonal\",fontsize=20)\n",
    "legend(fontsize=20)\n",
    "subplot(121)\n",
    "hist(R_auto[:,1,0].numpy()[:],bins=100,label=\"$R_{21}$\",density=True);\n",
    "hist(R_auto[:,0,1].numpy()[:],bins=100,label=\"$R_{12}$\",density=True,alpha=.7);\n",
    "title(\"autometacal response matrix (1k obj), off diagonal\",fontsize=20)\n",
    "legend(fontsize=20)"
   ]
  },
  {
   "cell_type": "code",
   "execution_count": null,
   "id": "eb0cbba9-eb25-4b78-9d31-ce43c2860ce0",
   "metadata": {},
   "outputs": [],
   "source": [
    "style.use('ggplot')\n",
    "R_finite=np.array(R_finite_list)\n",
    "figure(figsize=(16,5))\n",
    "subplot(121)\n",
    "\n",
    "Y00_95, Y00_84, Y00_median, Y00_16, Y00_5 = line_and_contours(abs(R_auto[:,0,0]-R_finite[:,:,0,0]))\n",
    "fill_between(steps, Y00_5,Y00_95,color='red',alpha=0.1)####CL95\n",
    "fill_between(steps, Y00_16,Y00_84,color='red',alpha=0.3)####CL68\n",
    "plot(steps,Y00_median,label=\"R_{12}\",color='red')####Median \n",
    "\n",
    "\n",
    "Y11_95, Y11_84, Y11_median, Y11_16, Y11_5 = line_and_contours(abs(R_auto[:,1,1]-R_finite[:,:,1,1]))\n",
    "fill_between(steps, Y11_5,Y11_95,color='darkblue',alpha=0.1)####CL95\n",
    "fill_between(steps, Y11_16,Y11_84,color='darkblue',alpha=0.3)####CL68\n",
    "plot(steps,Y11_median,label=\"R_{12}\",color='darkblue')####Median \n",
    "plot([1e-2,1e-2],[1e-6,1e-1],'k-')\n",
    "\n",
    "ylim([1e-6,1e-1])\n",
    "xlabel('step size',fontsize=20)\n",
    "ylabel('$R_{auto}$ - $R_{finite}$',fontsize=20)\n",
    "legend()\n",
    "xscale('log')\n",
    "yscale('log')\n",
    "\n",
    "subplot(122)\n",
    "\n",
    "Y10_95, Y10_84, Y10_median, Y10_16, Y10_5 = line_and_contours(abs(R_auto[:,1,0]-R_finite[:,:,1,0]))\n",
    "fill_between(steps, Y10_5,Y10_95,color='red',alpha=0.1)####CL95\n",
    "fill_between(steps, Y10_16,Y10_84,color='red',alpha=0.3)####CL68\n",
    "plot(steps,Y10_median,label=\"R_{12}\",color='red')####Median \n",
    "\n",
    "\n",
    "Y01_95, Y01_84, Y01_median, Y01_16, Y01_5 = line_and_contours(abs(R_auto[:,0,1]-R_finite[:,:,0,1]))\n",
    "fill_between(steps, Y01_5,Y01_95,color='darkblue',alpha=0.1)####CL95\n",
    "fill_between(steps, Y01_16,Y01_84,color='darkblue',alpha=0.3)####CL68\n",
    "plot(steps,Y01_median,label=\"R_{12}\",color='darkblue')####Median \n",
    "\n",
    "\n",
    "plot([1e-2,1e-2],[1e-6,1e-1],'k-')\n",
    "\n",
    "ylim([1e-6,1e-1])\n",
    "xlabel('step size',fontsize=20)\n",
    "ylabel(\"$R_{auto}$ - $R_{finite}$\",fontsize=20)\n",
    "legend()\n",
    "xscale('log')\n",
    "yscale('log')\n",
    "savefig('median_response_20x_noise.png',bbox_inches='tight')"
   ]
  },
  {
   "cell_type": "code",
   "execution_count": null,
   "id": "91ccbab8-c589-4a41-b64b-c4dca73b04c4",
   "metadata": {},
   "outputs": [],
   "source": []
  }
 ],
 "metadata": {
  "kernelspec": {
   "display_name": "Python 3",
   "language": "python",
   "name": "python3"
  },
  "language_info": {
   "codemirror_mode": {
    "name": "ipython",
    "version": 3
   },
   "file_extension": ".py",
   "mimetype": "text/x-python",
   "name": "python",
   "nbconvert_exporter": "python",
   "pygments_lexer": "ipython3",
   "version": "3.8.6"
  }
 },
 "nbformat": 4,
 "nbformat_minor": 5
}
