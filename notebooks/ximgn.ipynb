{
 "cells": [
  {
   "cell_type": "markdown",
   "id": "ec62a405-a6a3-4571-b072-66d1a5ebd016",
   "metadata": {},
   "source": [
    "# Reverse engineering ngmix' gaussian moments"
   ]
  },
  {
   "cell_type": "code",
   "execution_count": 1,
   "id": "13f57ed4-b6f6-4771-bb8f-e8bab4bc69cb",
   "metadata": {},
   "outputs": [
    {
     "name": "stdout",
     "output_type": "stream",
     "text": [
      "Populating the interactive namespace from numpy and matplotlib\n"
     ]
    }
   ],
   "source": [
    "%pylab inline"
   ]
  },
  {
   "cell_type": "code",
   "execution_count": 2,
   "id": "9e78cd47-9516-49c9-b99c-511802a05b64",
   "metadata": {},
   "outputs": [],
   "source": [
    "import ngmix\n",
    "import autometacal\n",
    "import tensorflow as tf"
   ]
  },
  {
   "cell_type": "markdown",
   "id": "ab1866c4-da66-4223-b30d-9fbfa2bad376",
   "metadata": {},
   "source": [
    "Get a galaxy:"
   ]
  },
  {
   "cell_type": "code",
   "execution_count": 3,
   "id": "834e94b4-2446-4de5-8eb4-d0d0297488dd",
   "metadata": {},
   "outputs": [],
   "source": [
    "scale = .2\n",
    "stamp_size=51\n",
    "gal, psf = autometacal.data.galaxies.make_data(img_noise=0.0005,gal_g1=[0.],gal_g2=[0.5],scale=scale)"
   ]
  },
  {
   "cell_type": "code",
   "execution_count": 4,
   "id": "5ee7780d-27cf-494b-a474-9959b08bbede",
   "metadata": {},
   "outputs": [
    {
     "data": {
      "image/png": "[encoded data removed]",
      "text/plain": [
       "<Figure size 432x288 with 1 Axes>"
      ]
     },
     "metadata": {
      "needs_background": "light"
     },
     "output_type": "display_data"
    }
   ],
   "source": [
    "imshow(gal.numpy()[0])\n",
    "obs=ngmix.Observation(gal.numpy()[0],jacobian=ngmix.DiagonalJacobian(\n",
    "        row=25, col=25, scale=.2,\n",
    "    )\n",
    ")"
   ]
  },
  {
   "cell_type": "markdown",
   "id": "77ea531b-abd9-47b5-81b7-4c0de9c2cf48",
   "metadata": {},
   "source": [
    "Set a fitter with Gaussian moments:"
   ]
  },
  {
   "cell_type": "code",
   "execution_count": 5,
   "id": "ea9cf507-448e-421c-91bd-ddcd3fb67ec4",
   "metadata": {},
   "outputs": [],
   "source": [
    "weight_fwhm = scale*stamp_size/2 # <- this sets everything for the window function\n",
    "fitter = ngmix.gaussmom.GaussMom(fwhm=weight_fwhm)"
   ]
  },
  {
   "cell_type": "markdown",
   "id": "27809cbd-e3a2-4bf2-b6e8-949d6392d1a5",
   "metadata": {},
   "source": [
    "calculate moments:"
   ]
  },
  {
   "cell_type": "code",
   "execution_count": 6,
   "id": "c29e09b3-2abd-49c0-850f-d289a835d4a7",
   "metadata": {},
   "outputs": [
    {
     "data": {
      "text/plain": [
       "{'flags': 0,\n",
       " 'npix': 2601,\n",
       " 'wsum': 28.391886409860447,\n",
       " 'sums': array([-0.00014082, -0.00075055,  0.00196324,  0.0283736 ,  0.05426553,\n",
       "         0.03195314]),\n",
       " 'sums_cov': array([[ 1.36575550e+00, -1.54954090e-18, -1.90131368e-16,\n",
       "         -2.00238589e-17, -1.15060956e-17, -7.90294975e-18],\n",
       "        [-2.41076165e-18,  1.36575550e+00, -2.89693738e-17,\n",
       "         -5.68748743e-17, -8.08188016e-17, -1.94671994e-18],\n",
       "        [-1.89264642e-16,  1.43853723e-17,  1.21351863e+01,\n",
       "          2.98011602e-17,  4.72483448e-17,  2.22713847e-15],\n",
       "        [-6.14268293e-18, -5.75253956e-17,  2.29164764e-17,\n",
       "          1.26799874e+01, -3.73507648e-17, -3.52111596e-18],\n",
       "        [-9.28348110e-18, -6.00800469e-17,  9.92976724e-17,\n",
       "         -6.49979202e-17,  2.48151738e+01,  2.73151100e+00],\n",
       "        [-7.90294975e-18, -1.94671994e-18,  2.22713847e-15,\n",
       "         -3.52111596e-18,  2.73151100e+00,  5.88419538e-01]]),\n",
       " 'pars': array([-0.00440716, -0.02348914,  0.06144117,  0.88797558,  1.69828491,\n",
       "         0.79882841]),\n",
       " 'F': array([ 5.,  5.,  0., 50., 50.,  1.]),\n",
       " 'flux': 0.7988284083667097,\n",
       " 'flux_err': 19.177127288957244,\n",
       " 'T': 1.698284912095798,\n",
       " 's2n': 0.04165526965171153,\n",
       " 'e': array([0.03617836, 0.52286608]),\n",
       " 'e_err': array([64.28055256, 81.30065206]),\n",
       " 'e_cov': array([[4131.98943679,    0.        ],\n",
       "        [   0.        , 6609.79602601]]),\n",
       " 'T_err': 129.92297713111597}"
      ]
     },
     "execution_count": 6,
     "metadata": {},
     "output_type": "execute_result"
    }
   ],
   "source": [
    "fitter._measure_moments(obs)"
   ]
  },
  {
   "cell_type": "markdown",
   "id": "f60e8914-42f9-4ba2-b550-a06a0e47874a",
   "metadata": {},
   "source": [
    "## How it works?"
   ]
  },
  {
   "cell_type": "markdown",
   "id": "8d429f91-4b95-476c-a758-3f244c5e9b29",
   "metadata": {},
   "source": [
    "ngmix dtypes:"
   ]
  },
  {
   "cell_type": "code",
   "execution_count": 7,
   "id": "4a6ccaae-b997-4321-b7a2-0f3318922496",
   "metadata": {},
   "outputs": [],
   "source": [
    "_gauss2d_dtype = [\n",
    "  (\"p\", \"f8\"),\n",
    "  (\"row\", \"f8\"),\n",
    "  (\"col\", \"f8\"),\n",
    "  (\"irr\", \"f8\"),\n",
    "  (\"irc\", \"f8\"),\n",
    "  (\"icc\", \"f8\"),\n",
    "  (\"det\", \"f8\"),\n",
    "  (\"norm_set\", \"i8\"),\n",
    "  (\"drr\", \"f8\"),\n",
    "  (\"drc\", \"f8\"),\n",
    "  (\"dcc\", \"f8\"),\n",
    "  (\"norm\", \"f8\"),\n",
    "  (\"pnorm\", \"f8\"),\n",
    "]\n",
    "\n",
    "_moments_result_dtype = [\n",
    "  ('flags', 'i4'),\n",
    "  ('npix', 'i4'),\n",
    "  ('wsum', 'f8'),\n",
    "  ('sums', 'f8', 6),\n",
    "  ('sums_cov', 'f8', (6, 6)),\n",
    "  ('pars', 'f8', 6),\n",
    "  ('F', 'f8', 6),\n",
    "]\n",
    "\n",
    "_pixels_dtype = [\n",
    "  (\"u\", \"f8\"),\n",
    "  (\"v\", \"f8\"),\n",
    "  (\"area\", \"f8\"),\n",
    "  (\"val\", \"f8\"),\n",
    "  (\"ierr\", \"f8\"),\n",
    "  (\"fdiff\", \"f8\"),\n",
    "]\n"
   ]
  },
  {
   "cell_type": "code",
   "execution_count": null,
   "id": "edf77331-5c19-43a0-b0b3-8b4f956c2dfe",
   "metadata": {},
   "outputs": [],
   "source": []
  },
  {
   "cell_type": "code",
   "execution_count": 82,
   "id": "5d8eb906-5852-4aac-8f55-b750c51cd457",
   "metadata": {},
   "outputs": [
    {
     "name": "stdout",
     "output_type": "stream",
     "text": [
      "[(29.47167182, 0., 0., 4.69056225, 0., 4.69056225, 22.00137424, 0, 0.21319406, 0., 0.21319406, 0.03393089, 0.03393089)]\n",
      "[(29.47167182, 0., 0., 4.69056225, 0., 4.69056225, 22.00137424, 1, 0.21319406, 0., 0.21319406, 0.03393089, 1.)]\n"
     ]
    }
   ],
   "source": [
    "T = ngmix.moments.fwhm_to_T(weight_fwhm)\n",
    "\n",
    "# the weight is always centered at 0, 0 or the\n",
    "# center of the coordinate system as defined\n",
    "# by the jacobian\n",
    "\n",
    "weight = ngmix.GMixModel(\n",
    "    [0.0, 0.0, 0.0, 0.0, T, 1.0],\n",
    "    'gauss',\n",
    ")\n",
    "\n",
    "# make the max of the weight 1.0 to get better\n",
    "# fluxes\n",
    "\n",
    "weight.set_norms()\n",
    "norm = weight.get_data()['norm'][0]\n",
    "weight.set_flux(1.0/norm)\n",
    "print(weight._data)\n",
    "weight.set_norms()\n",
    "print(weight._data)"
   ]
  },
  {
   "cell_type": "code",
   "execution_count": 11,
   "id": "aee1cde0-52cf-430e-b37c-678016a763d2",
   "metadata": {},
   "outputs": [],
   "source": [
    "import tensorflow as tf\n",
    "def g1g2_to_e1e2(g1, g2):\n",
    "    \"\"\"\n",
    "    convert g to e\n",
    "    \"\"\"\n",
    "\n",
    "    g = tf.math.sqrt(g1 * g1 + g2 * g2)\n",
    "\n",
    "\n",
    "    if g == 0.0:\n",
    "        e1 = 0.0\n",
    "        e2 = 0.0\n",
    "    else:\n",
    "\n",
    "        eta = 2 * tf.math.atanh(g)\n",
    "        e = tf.math.tanh(eta)\n",
    "        if e >= 1.0:\n",
    "            e = 0.99999999\n",
    "\n",
    "        fac = e / g\n",
    "\n",
    "        e1 = fac * g1\n",
    "        e2 = fac * g2\n",
    "\n",
    "    return e1, e2 #remove numpy later"
   ]
  },
  {
   "cell_type": "code",
   "execution_count": 86,
   "id": "a96e1150-b807-41ba-ab9a-142f2c7ddcfb",
   "metadata": {},
   "outputs": [],
   "source": [
    "_pvals_exp = array(\n",
    "    [\n",
    "        0.00061601229677880041,\n",
    "        0.0079461395724623237,\n",
    "        0.053280454055540001,\n",
    "        0.21797364640726541,\n",
    "        0.45496740582554868,\n",
    "        0.26521634184240478,\n",
    "    ]\n",
    ")\n",
    "\n",
    "_fvals_exp = array(\n",
    "    [\n",
    "        0.002467115141477932,\n",
    "        0.018147435573256168,\n",
    "        0.07944063151366336,\n",
    "        0.27137669897479122,\n",
    "        0.79782256866993773,\n",
    "        2.1623306025075739,\n",
    "    ]\n",
    ")\n",
    "\n",
    "_pvals_gauss = array([1.0])\n",
    "_fvals_gauss = array([1.0])\n",
    "\n",
    "def gauss2d_set(gauss,p, row, col, irr, irc, icc):\n",
    "    \"\"\"\n",
    "    set the gaussian, clearing normalizations\n",
    "    \"\"\"\n",
    "    \n",
    "    gauss[\"norm_set\"] = 0\n",
    "    gauss[\"drr\"] = nan\n",
    "    gauss[\"drc\"] = nan\n",
    "    gauss[\"dcc\"] = nan\n",
    "    gauss[\"norm\"] = nan\n",
    "    gauss[\"pnorm\"] = nan\n",
    "\n",
    "    gauss[\"p\"] = p\n",
    "    gauss[\"row\"] = row\n",
    "    gauss[\"col\"] = col\n",
    "    gauss[\"irr\"] = irr\n",
    "    gauss[\"irc\"] = irc\n",
    "    gauss[\"icc\"] = icc\n",
    "\n",
    "    gauss[\"det\"] = irr * icc - irc * irc\n",
    "\n",
    "def gmix_fill_simple(gmix, pars, fvals, pvals):\n",
    "    \"\"\"\n",
    "    fill a simple (6 parameter) gaussian mixture model\n",
    "    no error checking done here\n",
    "    \"\"\"\n",
    "\n",
    "    row = pars[0]\n",
    "    col = pars[1]\n",
    "    g1 = pars[2]\n",
    "    g2 = pars[3]\n",
    "    T = pars[4]\n",
    "    flux = pars[5]\n",
    "\n",
    "    e1, e2 = g1g2_to_e1e2(g1, g2)\n",
    "\n",
    "    n_gauss = gmix.size\n",
    "    for i in range(n_gauss):\n",
    "\n",
    "        gauss = gmix[i]\n",
    "\n",
    "        T_i_2 = 0.5 * T * fvals[i]\n",
    "        flux_i = flux * pvals[i]\n",
    "\n",
    "        gauss2d_set(\n",
    "            gauss,\n",
    "            flux_i,\n",
    "            row,\n",
    "            col,\n",
    "            T_i_2 * (1 - e1),\n",
    "            T_i_2 * e2,\n",
    "            T_i_2 * (1 + e1),\n",
    "        )\n",
    "\n",
    "def gauss2d_set_norm(gauss):\n",
    "    \"\"\"\n",
    "    set the normalization, and normalized variances\n",
    "\n",
    "    parameters\n",
    "    ----------\n",
    "    gauss: a 2-d gaussian structure\n",
    "        See gmix.py\n",
    "    \"\"\"\n",
    "\n",
    "    T = gauss[\"irr\"] + gauss[\"icc\"]\n",
    "    idet = 1.0 / gauss[\"det\"]\n",
    "\n",
    "    gauss[\"drr\"] = gauss[\"irr\"] * idet\n",
    "    gauss[\"drc\"] = gauss[\"irc\"] * idet\n",
    "    gauss[\"dcc\"] = gauss[\"icc\"] * idet\n",
    "    gauss[\"norm\"] = 1.0 / (2 * numpy.pi * numpy.sqrt(gauss[\"det\"]))\n",
    "    gauss[\"pnorm\"] = gauss[\"p\"] * gauss[\"norm\"]\n",
    "    gauss[\"norm_set\"] = 1\n",
    "        \n",
    "def create_empty_gmix(n_gauss):\n",
    "  empty_gmix = []\n",
    "    \n",
    "  for gau in range(n_gauss):\n",
    "    dt = np.dtype(_gauss2d_dtype)\n",
    "    gaussarray = np.zeros(1, dtype=dt)\n",
    "    empty_gmix.append(gaussarray)\n",
    "  \n",
    "  return np.array(empty_gmix)    \n",
    "\n",
    "\n",
    "def gmix_set_norms(gmix):\n",
    "    \"\"\"\n",
    "    set all norms for gaussians in the input gaussian mixture\n",
    "    parameters\n",
    "    ----------\n",
    "    gmix:\n",
    "       gaussian mixture\n",
    "    \"\"\"\n",
    "    for gauss in gmix:\n",
    "        gauss2d_set_norm(gauss)\n",
    "        \n",
    "def gmix_set_flux(gmix, psum):\n",
    "    \"\"\"\n",
    "    set a new value for sum(p)\n",
    "    \"\"\"\n",
    "\n",
    "\n",
    "    psum0 = sum([gauss[\"p\"] for gauss in gmix])\n",
    "    rat = psum / psum0\n",
    "    gmix[\"p\"] *= rat\n",
    "\n",
    "    # we will need to reset the pnorm values\n",
    "    gmix[\"norm_set\"] = 0\n",
    "\n",
    "def create_gmix(pars,model):\n",
    "  \n",
    "  if model == 'gauss':\n",
    "    n_gauss = 1\n",
    "    fvals =  _fvals_gauss\n",
    "    pvals = _pvals_gauss\n",
    "  \n",
    "  if model == 'exp': #this is not working yet, pnorms are not properly set?\n",
    "    n_gauss = 6\n",
    "    fvals = _fvals_exp\n",
    "    pvals = _pvals_exp\n",
    "  \n",
    "  gmix = create_empty_gmix(n_gauss)\n",
    "  gmix_fill_simple(gmix,pars,fvals,pvals)\n",
    "  gmix_set_norms(gmix)\n",
    "  gmix_set_flux(gmix,1./gmix['norm'])\n",
    "  gmix_set_norms(gmix)\n",
    "\n",
    "   \n",
    "  return gmix\n",
    "   \n",
    "  "
   ]
  },
  {
   "cell_type": "code",
   "execution_count": 63,
   "id": "f23c1d65-61fd-4cc3-8602-9e11ec959079",
   "metadata": {},
   "outputs": [],
   "source": [
    "gaussian[0][\"pnorm\"] =1"
   ]
  },
  {
   "cell_type": "code",
   "execution_count": 84,
   "id": "1d364eb6-6be5-47f7-888b-51ed45fdeee1",
   "metadata": {},
   "outputs": [
    {
     "data": {
      "text/plain": [
       "[(29.47167182, 0., 0., 4.69056225, 0., 4.69056225, 22.00137424, 1, 0.21319406, 0., 0.21319406, 0.03393089, 1.)]"
      ]
     },
     "execution_count": 84,
     "metadata": {},
     "output_type": "execute_result"
    }
   ],
   "source": [
    "T = ngmix.moments.fwhm_to_T(weight_fwhm)\n",
    "\n",
    "# the weight is always centered at 0, 0 or the\n",
    "# center of the coordinate system as defined\n",
    "# by the jacobian\n",
    "\n",
    "weight = ngmix.GMixModel(\n",
    "    [0.0, 0.0, 0.0, 0.0, T, 1.0],\n",
    "    'gauss',\n",
    ")\n",
    "\n",
    "# make the max of the weight 1.0 to get better\n",
    "# fluxes\n",
    "\n",
    "weight.set_norms()\n",
    "norm = weight.get_data()['norm'][0]\n",
    "weight.set_flux(1.0/norm)\n",
    "weight.set_norms()\n",
    "list(weight._data)"
   ]
  },
  {
   "cell_type": "code",
   "execution_count": 85,
   "id": "ca0f18cf-5663-45ea-b84a-b0c5c861f05d",
   "metadata": {},
   "outputs": [
    {
     "data": {
      "text/plain": [
       "{'p': 29.471671822231333,\n",
       " 'row': 0.0,\n",
       " 'col': 0.0,\n",
       " 'irr': 4.690562251690243,\n",
       " 'irc': 0.0,\n",
       " 'icc': 4.690562251690243,\n",
       " 'det': 22.00137423698144,\n",
       " 'norm_set': 1,\n",
       " 'drr': 0.2131940578423515,\n",
       " 'drc': 0.0,\n",
       " 'dcc': 0.2131940578423515,\n",
       " 'norm': 0.03393088814342969,\n",
       " 'pnorm': 1.0}"
      ]
     },
     "execution_count": 85,
     "metadata": {},
     "output_type": "execute_result"
    }
   ],
   "source": [
    "dict(zip(fitter.weight._data.dtype.names,fitter.weight._data[0]))"
   ]
  },
  {
   "cell_type": "code",
   "execution_count": 87,
   "id": "a741c225-87ea-43c0-8bf8-6334cae7b5fb",
   "metadata": {},
   "outputs": [
    {
     "data": {
      "text/plain": [
       "array([[(29.47167182, 0., 0., 4.69056225, 0., 4.69056225, 22.00137424, 1, 0.21319406, 0., 0.21319406, 0.03393089, 1.)]],\n",
       "      dtype=[('p', '<f8'), ('row', '<f8'), ('col', '<f8'), ('irr', '<f8'), ('irc', '<f8'), ('icc', '<f8'), ('det', '<f8'), ('norm_set', '<i8'), ('drr', '<f8'), ('drc', '<f8'), ('dcc', '<f8'), ('norm', '<f8'), ('pnorm', '<f8')])"
      ]
     },
     "execution_count": 87,
     "metadata": {},
     "output_type": "execute_result"
    }
   ],
   "source": [
    "T = ngmix.moments.fwhm_to_T(weight_fwhm)\n",
    "gaussian = create_gmix([0.,0.,0.,0.,T,1.],'gauss')\n",
    "gaussian"
   ]
  },
  {
   "cell_type": "code",
   "execution_count": 88,
   "id": "d3a9e62c-e520-4b4d-8b8c-b6a699a9f5b5",
   "metadata": {},
   "outputs": [
    {
     "data": {
      "text/plain": [
       "{'flags': 0,\n",
       " 'npix': 2601,\n",
       " 'wsum': 28.391886409860447,\n",
       " 'sums': array([-0.00014082, -0.00075055,  0.00196324,  0.0283736 ,  0.05426553,\n",
       "         0.03195314]),\n",
       " 'sums_cov': array([[ 1.36575550e+00, -1.54954090e-18, -1.90131368e-16,\n",
       "         -2.00238589e-17, -1.15060956e-17, -7.90294975e-18],\n",
       "        [-2.41076165e-18,  1.36575550e+00, -2.89693738e-17,\n",
       "         -5.68748743e-17, -8.08188016e-17, -1.94671994e-18],\n",
       "        [-1.89264642e-16,  1.43853723e-17,  1.21351863e+01,\n",
       "          2.98011602e-17,  4.72483448e-17,  2.22713847e-15],\n",
       "        [-6.14268293e-18, -5.75253956e-17,  2.29164764e-17,\n",
       "          1.26799874e+01, -3.73507648e-17, -3.52111596e-18],\n",
       "        [-9.28348110e-18, -6.00800469e-17,  9.92976724e-17,\n",
       "         -6.49979202e-17,  2.48151738e+01,  2.73151100e+00],\n",
       "        [-7.90294975e-18, -1.94671994e-18,  2.22713847e-15,\n",
       "         -3.52111596e-18,  2.73151100e+00,  5.88419538e-01]]),\n",
       " 'pars': array([0., 0., 0., 0., 0., 0.]),\n",
       " 'F': array([ 5.,  5.,  0., 50., 50.,  1.])}"
      ]
     },
     "execution_count": 88,
     "metadata": {},
     "output_type": "execute_result"
    }
   ],
   "source": [
    "def gauss2d_eval_pixel(gauss, pixel):\n",
    "    \"\"\"\n",
    "    evaluate a 2-d gaussian at the specified location\n",
    "    parameters\n",
    "    ----------\n",
    "    gauss2d: gauss2d structure\n",
    "        row,col,dcc,drr,drc,pnorm... See gmix.py\n",
    "    pixel: struct with coods\n",
    "        should have fields v,u\n",
    "    \"\"\"\n",
    "    model_val = 0.0\n",
    "\n",
    "\n",
    "    # v->row, u->col in gauss\n",
    "    vdiff = pixel[\"v\"] - gauss[\"row\"]\n",
    "    udiff = pixel[\"u\"] - gauss[\"col\"]\n",
    "\n",
    "    chi2 = (\n",
    "        gauss[\"dcc\"] * vdiff * vdiff\n",
    "        + gauss[\"drr\"] * udiff * udiff\n",
    "        - 2.0 * gauss[\"drc\"] * vdiff * udiff\n",
    "    )\n",
    "\n",
    "    model_val = gauss[\"pnorm\"] * numpy.exp(-0.5 * chi2) * pixel[\"area\"]\n",
    "    \n",
    "    return model_val\n",
    "  \n",
    "def gmix_eval_pixel(gmix, pixel):\n",
    "    \"\"\"\n",
    "    evaluate a single gaussian mixture\n",
    "    \"\"\"\n",
    "    model_val = 0.0\n",
    "    for igauss in range(gmix.size):\n",
    "\n",
    "        model_val += gauss2d_eval_pixel(gmix[igauss], pixel)\n",
    "\n",
    "    return model_val\n",
    "\n",
    "def get_weighted_sums(wt, pixels, maxrad):\n",
    "    \"\"\"\n",
    "    do sums for calculating the weighted moments\n",
    "    weight: a gaussian mixture\n",
    "    pixels: a set of pixels in the uv plane\n",
    "    \"\"\"\n",
    "\n",
    "    maxrad2 = maxrad ** 2\n",
    "    #create the result output\n",
    "\n",
    "    dt = np.dtype(_moments_result_dtype, align=True)\n",
    "    resarray = np.zeros(1, dtype=dt)\n",
    "    res = resarray[0]\n",
    "    \n",
    "    vcen = wt[\"row\"]\n",
    "    ucen = wt[\"col\"]\n",
    "    F = res[\"F\"]\n",
    "\n",
    "    n_pixels = pixels.size\n",
    "    for i_pixel in range(n_pixels):\n",
    "\n",
    "        pixel = pixels[i_pixel]\n",
    "\n",
    "        vmod = pixel[\"v\"] - wt[\"row\"]\n",
    "        umod = pixel[\"u\"] - wt[\"col\"]\n",
    "\n",
    "        rad2 = umod * umod + vmod * vmod\n",
    "        if rad2 < maxrad2:\n",
    "            #evaluate the gaussian weight at the position\n",
    "            weight = gmix_eval_pixel(wt, pixel)\n",
    "            \n",
    "            #calculate the variance of the pixel in the image\n",
    "            var = 1.0 / (pixel[\"ierr\"] * pixel[\"ierr\"])\n",
    "            \n",
    "            #data to be weighted is the weight * \n",
    "            wdata = weight * pixel[\"val\"]\n",
    "            \n",
    "            w2 = weight * weight\n",
    "\n",
    "\n",
    "            F[0] = pixel[\"v\"]\n",
    "            F[1] = pixel[\"u\"]\n",
    "            F[2] = umod * umod - vmod * vmod\n",
    "            F[3] = 2 * vmod * umod\n",
    "            F[4] = rad2\n",
    "            F[5] = 1.0\n",
    "\n",
    "            res[\"wsum\"] += weight\n",
    "            res[\"npix\"] += 1\n",
    "\n",
    "            for i in range(6):\n",
    "\n",
    "                res[\"sums\"][i] += wdata * res[\"F\"][i]\n",
    "                for j in range(6):\n",
    "                    res[\"sums_cov\"][i, j] += w2 * var * res[\"F\"][i] * res[\"F\"][j]\n",
    "    res=dict(zip(res.dtype.names,res))\n",
    "    return res\n",
    "\n",
    "get_weighted_sums(gaussian,obs.pixels,40)"
   ]
  },
  {
   "cell_type": "code",
   "execution_count": 89,
   "id": "fca1d6a9-ed12-4f50-99df-2191b26f4e40",
   "metadata": {},
   "outputs": [
    {
     "data": {
      "text/plain": [
       "{'flags': 0,\n",
       " 'npix': 2601,\n",
       " 'wsum': 28.391886409860447,\n",
       " 'sums': array([-0.00014082, -0.00075055,  0.00196324,  0.0283736 ,  0.05426553,\n",
       "         0.03195314]),\n",
       " 'sums_cov': array([[ 1.36575550e+00, -1.54954090e-18, -1.90131368e-16,\n",
       "         -2.00238589e-17, -1.15060956e-17, -7.90294975e-18],\n",
       "        [-2.41076165e-18,  1.36575550e+00, -2.89693738e-17,\n",
       "         -5.68748743e-17, -8.08188016e-17, -1.94671994e-18],\n",
       "        [-1.89264642e-16,  1.43853723e-17,  1.21351863e+01,\n",
       "          2.98011602e-17,  4.72483448e-17,  2.22713847e-15],\n",
       "        [-6.14268293e-18, -5.75253956e-17,  2.29164764e-17,\n",
       "          1.26799874e+01, -3.73507648e-17, -3.52111596e-18],\n",
       "        [-9.28348110e-18, -6.00800469e-17,  9.92976724e-17,\n",
       "         -6.49979202e-17,  2.48151738e+01,  2.73151100e+00],\n",
       "        [-7.90294975e-18, -1.94671994e-18,  2.22713847e-15,\n",
       "         -3.52111596e-18,  2.73151100e+00,  5.88419538e-01]]),\n",
       " 'pars': array([-0.00440716, -0.02348914,  0.06144117,  0.88797558,  1.69828491,\n",
       "         0.03195314]),\n",
       " 'F': array([ 5.,  5.,  0., 50., 50.,  1.]),\n",
       " 'flux': 0.03195313633466839,\n",
       " 'flux_err': 0.7670850915582899,\n",
       " 'T': 1.698284912095798,\n",
       " 's2n': 0.04165526965171153,\n",
       " 'e': array([0.03617836, 0.52286608]),\n",
       " 'e_err': array([64.28055256, 81.30065206]),\n",
       " 'e_cov': array([[4131.98943679,    0.        ],\n",
       "        [   0.        , 6609.79602601]]),\n",
       " 'T_err': 129.92297713111597}"
      ]
     },
     "execution_count": 89,
     "metadata": {},
     "output_type": "execute_result"
    }
   ],
   "source": [
    "res=fitter.weight.get_weighted_moments(obs=obs, maxrad=40)\n",
    "res"
   ]
  },
  {
   "cell_type": "markdown",
   "id": "ef7fc1cc-457a-413b-be08-8fe5ae4d4e2a",
   "metadata": {},
   "source": [
    "## How to make pixels."
   ]
  },
  {
   "cell_type": "code",
   "execution_count": 90,
   "id": "830fb743-1c0c-47da-b2ea-4909b94feb30",
   "metadata": {},
   "outputs": [],
   "source": [
    "def jacobian_get_vu(jacob, row, col):\n",
    "    \"\"\"\n",
    "    convert row,col to v,u using the input jacobian\n",
    "    \"\"\"\n",
    "\n",
    "    rowdiff = row - jacob['row0']\n",
    "    coldiff = col - jacob['col0']\n",
    "\n",
    "    v = jacob['dvdrow']*rowdiff + jacob['dvdcol']*coldiff\n",
    "    u = jacob['dudrow']*rowdiff + jacob['dudcol']*coldiff\n",
    "\n",
    "    return v, u\n",
    "def jacobian_get_area(jacob):\n",
    "    \"\"\"\n",
    "    get the pixel area\n",
    "    \"\"\"\n",
    "\n",
    "    return jacob['scale']**2"
   ]
  },
  {
   "cell_type": "code",
   "execution_count": 91,
   "id": "a3fa51d2-cf80-41a2-a03a-59210043b385",
   "metadata": {},
   "outputs": [],
   "source": [
    "def fill_pixels(pixels, image, weight, jacob, ignore_zero_weight=True):\n",
    "    \"\"\"\n",
    "    store v,u image value, and 1/err for each pixel\n",
    "    store into 1-d pixels array\n",
    "    parameters\n",
    "    ----------\n",
    "    pixels: array\n",
    "        1-d array of pixel structures, u,v,val,ierr\n",
    "    image: 2-d array\n",
    "        2-d image array\n",
    "    weight: 2-d array\n",
    "        2-d image array same shape as image\n",
    "    jacob: jacobian structure\n",
    "        row0,col0,dvdrow,dvdcol,dudrow,dudcol,...\n",
    "    ignore_zero_weight: bool\n",
    "        If set, zero or negative weight pixels are ignored.\n",
    "        In this case it verified that the input pixels\n",
    "        are equal in length to the set of positive weight\n",
    "        pixels in the weight image.  Default True.\n",
    "    \"\"\"\n",
    "    nrow, ncol = image.shape\n",
    "    pixel_area = jacobian_get_area(jacob)\n",
    "\n",
    "    ipixel = 0\n",
    "    for row in range(nrow):\n",
    "        for col in range(ncol):\n",
    "\n",
    "            ivar = weight[row, col]\n",
    "            if ignore_zero_weight and ivar <= 0.0:\n",
    "                continue\n",
    "\n",
    "            pixel = pixels[ipixel]\n",
    "\n",
    "            v, u = jacobian_get_vu(jacob, row, col)\n",
    "\n",
    "            pixel['v'] = v\n",
    "            pixel['u'] = u\n",
    "            pixel['area'] = pixel_area\n",
    "\n",
    "            pixel['val'] = image[row, col]\n",
    "\n",
    "            if ivar < 0.0:\n",
    "                ivar = 0.0\n",
    "\n",
    "            pixel['ierr'] = sqrt(ivar)\n",
    "\n",
    "            ipixel += 1"
   ]
  },
  {
   "cell_type": "code",
   "execution_count": 92,
   "id": "1cf77ae6-7c4d-4fdb-ba3b-71cd2b1d02b5",
   "metadata": {},
   "outputs": [],
   "source": [
    "def make_pixels(image, weight, jacob, ignore_zero_weight=True):\n",
    "    \"\"\"\n",
    "    make a pixel array from the image and weight\n",
    "    stores v,u image value, and 1/err for each pixel\n",
    "    parameters\n",
    "    ----------\n",
    "    pixels: array\n",
    "        1-d array of pixel structures, u,v,val,ierr\n",
    "    image: 2-d array\n",
    "        2-d image array\n",
    "    weight: 2-d array\n",
    "        2-d image array same shape as image\n",
    "    jacob: jacobian structure\n",
    "        row0,col0,dvdrow,dvdcol,dudrow,dudcol,...\n",
    "    ignore_zero_weight: bool\n",
    "        If set, zero or negative weight pixels are ignored.  In this case the\n",
    "        returned pixels array is equal in length to the set of positive weight\n",
    "        pixels in the weight image.  Default True.\n",
    "    returns\n",
    "    -------\n",
    "    1-d pixels array\n",
    "    \"\"\"\n",
    "\n",
    "    if ignore_zero_weight:\n",
    "        w = numpy.where(weight > 0.0)\n",
    "        npixels = w[0].size\n",
    "    else:\n",
    "        npixels = image.size\n",
    "        \n",
    "    pixels = numpy.zeros(npixels, dtype=_pixels_dtype)\n",
    "\n",
    "    fill_pixels(\n",
    "        pixels,\n",
    "        image,\n",
    "        weight,\n",
    "        jacob,\n",
    "        ignore_zero_weight=ignore_zero_weight,\n",
    "    )\n",
    "\n",
    "    return pixels"
   ]
  },
  {
   "cell_type": "code",
   "execution_count": 93,
   "id": "5354deb8-dbf2-4cd3-bd06-1e9abd5c3c8d",
   "metadata": {},
   "outputs": [],
   "source": [
    "jacob = ngmix.DiagonalJacobian(\n",
    "        row=25, col=25, scale=.2,\n",
    "    )"
   ]
  },
  {
   "cell_type": "code",
   "execution_count": 94,
   "id": "01652dc0-f43a-4341-9ae4-696beda97691",
   "metadata": {},
   "outputs": [],
   "source": [
    "jacob=dict(zip(jacob._data.dtype.names,jacob._data[0]))"
   ]
  },
  {
   "cell_type": "code",
   "execution_count": 95,
   "id": "4943a178-a1e8-46b0-bbde-83a07bc03e8d",
   "metadata": {},
   "outputs": [
    {
     "data": {
      "text/plain": [
       "{'row0': 25.0,\n",
       " 'col0': 25.0,\n",
       " 'dvdrow': 0.2,\n",
       " 'dvdcol': 0.0,\n",
       " 'dudrow': 0.0,\n",
       " 'dudcol': 0.2,\n",
       " 'det': 0.04000000000000001,\n",
       " 'scale': 0.2}"
      ]
     },
     "execution_count": 95,
     "metadata": {},
     "output_type": "execute_result"
    }
   ],
   "source": [
    "jacob"
   ]
  },
  {
   "cell_type": "code",
   "execution_count": 96,
   "id": "c0799e6e-6ba0-4da5-99e9-388529373458",
   "metadata": {},
   "outputs": [],
   "source": [
    "def make_diagonal_jacobian(row0, col0, scale):\n",
    "  jacob={'row0': row0,\n",
    "  'col0': col0,\n",
    "  'dvdrow': scale,\n",
    "  'dvdcol': 0.0,\n",
    "  'dudrow': 0.0,\n",
    "  'dudcol': scale,\n",
    "  'det': scale*scale,\n",
    "  'scale': scale}\n",
    "  return jacob"
   ]
  },
  {
   "cell_type": "code",
   "execution_count": 98,
   "id": "e6ad15ce-6c15-48ce-b454-a7e670e30c24",
   "metadata": {},
   "outputs": [
    {
     "data": {
      "text/plain": [
       "{'row0': 25,\n",
       " 'col0': 25,\n",
       " 'dvdrow': 0.2,\n",
       " 'dvdcol': 0.0,\n",
       " 'dudrow': 0.0,\n",
       " 'dudcol': 0.2,\n",
       " 'det': 0.04000000000000001,\n",
       " 'scale': 0.2}"
      ]
     },
     "execution_count": 98,
     "metadata": {},
     "output_type": "execute_result"
    }
   ],
   "source": [
    "jacob=make_diagonal_jacobian(25,25,.2)\n",
    "jacob"
   ]
  },
  {
   "cell_type": "code",
   "execution_count": 99,
   "id": "f1a91261-f43b-4bb0-bb2e-c50ca8b7e207",
   "metadata": {},
   "outputs": [],
   "source": [
    "image = gal.numpy()[0]"
   ]
  },
  {
   "cell_type": "code",
   "execution_count": 101,
   "id": "ddcfc84c-19b2-4407-abc5-84a8a10644b7",
   "metadata": {},
   "outputs": [],
   "source": [
    "pix_weights = ones([51,51])\n",
    "\n",
    "testepixels=make_pixels(image,pix_weights,jacob)"
   ]
  },
  {
   "cell_type": "code",
   "execution_count": 102,
   "id": "2cb0b971-3ec6-44cd-bc60-67e7f8472875",
   "metadata": {},
   "outputs": [],
   "source": [
    "obs=ngmix.Observation(image,jacobian=ngmix.DiagonalJacobian(\n",
    "        row=25, col=25, scale=.2,\n",
    "    )\n",
    ")"
   ]
  },
  {
   "cell_type": "code",
   "execution_count": 103,
   "id": "e4f3f921-7b7f-49d6-a2b7-491e12dd25ce",
   "metadata": {},
   "outputs": [
    {
     "data": {
      "text/plain": [
       "array([(-5. , -5., 0.04,  0.00068445, 1., 0.),\n",
       "       (-4.8, -5., 0.04,  0.00057085, 1., 0.),\n",
       "       (-4.6, -5., 0.04,  0.00118591, 1., 0.), ...,\n",
       "       ( 4.6,  5., 0.04,  0.00011576, 1., 0.),\n",
       "       ( 4.8,  5., 0.04, -0.00064798, 1., 0.),\n",
       "       ( 5. ,  5., 0.04, -0.00024993, 1., 0.)],\n",
       "      dtype=[('u', '<f8'), ('v', '<f8'), ('area', '<f8'), ('val', '<f8'), ('ierr', '<f8'), ('fdiff', '<f8')])"
      ]
     },
     "execution_count": 103,
     "metadata": {},
     "output_type": "execute_result"
    }
   ],
   "source": [
    "obs.pixels"
   ]
  },
  {
   "cell_type": "code",
   "execution_count": 104,
   "id": "008c1419-c503-44e9-97de-d510538b5f4c",
   "metadata": {},
   "outputs": [
    {
     "data": {
      "text/plain": [
       "array([(-5. , -5., 0.04,  0.00068445, 1., 0.),\n",
       "       (-4.8, -5., 0.04,  0.00057085, 1., 0.),\n",
       "       (-4.6, -5., 0.04,  0.00118591, 1., 0.), ...,\n",
       "       ( 4.6,  5., 0.04,  0.00011576, 1., 0.),\n",
       "       ( 4.8,  5., 0.04, -0.00064798, 1., 0.),\n",
       "       ( 5. ,  5., 0.04, -0.00024993, 1., 0.)],\n",
       "      dtype=[('u', '<f8'), ('v', '<f8'), ('area', '<f8'), ('val', '<f8'), ('ierr', '<f8'), ('fdiff', '<f8')])"
      ]
     },
     "execution_count": 104,
     "metadata": {},
     "output_type": "execute_result"
    }
   ],
   "source": [
    "testepixels"
   ]
  },
  {
   "cell_type": "code",
   "execution_count": null,
   "id": "4417e377-9d06-4e77-89ee-8c1e9414b7b8",
   "metadata": {},
   "outputs": [],
   "source": []
  }
 ],
 "metadata": {
  "kernelspec": {
   "display_name": "Python 3",
   "language": "python",
   "name": "python3"
  },
  "language_info": {
   "codemirror_mode": {
    "name": "ipython",
    "version": 3
   },
   "file_extension": ".py",
   "mimetype": "text/x-python",
   "name": "python",
   "nbconvert_exporter": "python",
   "pygments_lexer": "ipython3",
   "version": "3.8.6"
  }
 },
 "nbformat": 4,
 "nbformat_minor": 5
}
