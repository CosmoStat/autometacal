{
 "cells": [
  {
   "cell_type": "markdown",
   "id": "ec62a405-a6a3-4571-b072-66d1a5ebd016",
   "metadata": {},
   "source": [
    "# Reverse engineering ngmix' gaussian moments"
   ]
  },
  {
   "cell_type": "code",
   "execution_count": 1,
   "id": "13f57ed4-b6f6-4771-bb8f-e8bab4bc69cb",
   "metadata": {},
   "outputs": [
    {
     "name": "stdout",
     "output_type": "stream",
     "text": [
      "Populating the interactive namespace from numpy and matplotlib\n"
     ]
    }
   ],
   "source": [
    "%pylab inline"
   ]
  },
  {
   "cell_type": "code",
   "execution_count": 2,
   "id": "9e78cd47-9516-49c9-b99c-511802a05b64",
   "metadata": {},
   "outputs": [],
   "source": [
    "import ngmix\n",
    "import autometacal"
   ]
  },
  {
   "cell_type": "markdown",
   "id": "ab1866c4-da66-4223-b30d-9fbfa2bad376",
   "metadata": {},
   "source": [
    "Get a galaxy:"
   ]
  },
  {
   "cell_type": "code",
   "execution_count": 3,
   "id": "834e94b4-2446-4de5-8eb4-d0d0297488dd",
   "metadata": {},
   "outputs": [],
   "source": [
    "gal, psf = autometacal.data.galaxies.make_data(img_noise=0.001,gal_g1=[0.2],gal_g2=[0.])"
   ]
  },
  {
   "cell_type": "code",
   "execution_count": 4,
   "id": "5ee7780d-27cf-494b-a474-9959b08bbede",
   "metadata": {},
   "outputs": [
    {
     "data": {
      "text/plain": [
       "<matplotlib.image.AxesImage at 0x7ff1c005dc40>"
      ]
     },
     "execution_count": 4,
     "metadata": {},
     "output_type": "execute_result"
    },
    {
     "data": {
      "image/png": "[encoded data removed]",
      "text/plain": [
       "<Figure size 432x288 with 1 Axes>"
      ]
     },
     "metadata": {
      "needs_background": "light"
     },
     "output_type": "display_data"
    }
   ],
   "source": [
    "imshow(gal.numpy()[0])"
   ]
  },
  {
   "cell_type": "markdown",
   "id": "77ea531b-abd9-47b5-81b7-4c0de9c2cf48",
   "metadata": {},
   "source": [
    "Set a fitter with Gaussian moments:"
   ]
  },
  {
   "cell_type": "code",
   "execution_count": 22,
   "id": "ea9cf507-448e-421c-91bd-ddcd3fb67ec4",
   "metadata": {},
   "outputs": [],
   "source": [
    "weight_fwhm = 1.2\n",
    "fitter = ngmix.gaussmom.GaussMom(fwhm=weight_fwhm)\n",
    "psf_fitter = ngmix.gaussmom.GaussMom(fwhm=weight_fwhm)\n"
   ]
  },
  {
   "cell_type": "code",
   "execution_count": 23,
   "id": "e83633d0-19c0-4a8d-b147-0ad187dcf60b",
   "metadata": {},
   "outputs": [],
   "source": [
    "obs=ngmix.Observation(gal.numpy()[0])"
   ]
  },
  {
   "cell_type": "code",
   "execution_count": 9,
   "id": "3dd3970b-a831-418a-b201-13ef43623a9b",
   "metadata": {},
   "outputs": [
    {
     "data": {
      "text/plain": [
       "{'flags': 0,\n",
       " 'npix': 2601,\n",
       " 'wsum': 1.6706505883799125,\n",
       " 'sums': array([-2.54577813e-04,  2.50707747e-04,  3.82815390e-04,  1.69230218e-05,\n",
       "         1.14479158e-02,  2.67032991e-02]),\n",
       " 'sums_cov': array([[ 4.43347585e-02,  6.78187692e-21, -1.35702190e-19,\n",
       "          1.35617456e-20, -1.55991824e-19, -1.68057271e-18],\n",
       "        [ 6.78187692e-21,  4.43347585e-02, -6.43763098e-20,\n",
       "          3.33780411e-20, -5.10081244e-20,  1.74150585e-18],\n",
       "        [-1.35702190e-19, -6.43763098e-20,  8.50627684e-02,\n",
       "          6.01159860e-24,  1.14187922e-19,  1.22729489e-18],\n",
       "        [ 1.35617456e-20,  3.33780411e-20,  6.01159860e-24,\n",
       "          7.23395244e-03,  1.14822467e-19,  1.35637538e-20],\n",
       "        [-1.55991824e-19, -5.10081244e-20,  1.14187922e-19,\n",
       "          1.14822467e-19,  9.22967208e-02,  8.86695171e-02],\n",
       "        [-1.68057271e-18,  1.74150585e-18,  1.22729489e-18,\n",
       "          1.35637538e-20,  8.86695171e-02,  1.08685858e+00]]),\n",
       " 'pars': array([-0.00953357,  0.00938864,  0.01433588,  0.00063374,  0.42870792,\n",
       "         0.0267033 ]),\n",
       " 'F': array([2.50e+01, 2.50e+01, 0.00e+00, 1.25e+03, 1.25e+03, 1.00e+00]),\n",
       " 'flux': 0.026703299145247855,\n",
       " 'flux_err': 1.0425250962712358,\n",
       " 'T': 0.4287079200543317,\n",
       " 's2n': 0.0256140588277027,\n",
       " 'e': array([0.03343975, 0.00147826]),\n",
       " 'e_err': array([25.49216004,  7.42963453]),\n",
       " 'e_cov': array([[649.85022367,   0.        ],\n",
       "        [  0.        ,  55.19946929]]),\n",
       " 'T_err': 17.405496451826046}"
      ]
     },
     "execution_count": 9,
     "metadata": {},
     "output_type": "execute_result"
    }
   ],
   "source": [
    "fitter._measure_moments(obs)"
   ]
  },
  {
   "cell_type": "markdown",
   "id": "f60e8914-42f9-4ba2-b550-a06a0e47874a",
   "metadata": {},
   "source": [
    "## How it works?"
   ]
  },
  {
   "cell_type": "markdown",
   "id": "485479c1-e8c8-4587-a47d-578ea341648a",
   "metadata": {},
   "source": [
    "go(obs) calls:"
   ]
  },
  {
   "cell_type": "code",
   "execution_count": 49,
   "id": "74d49fb3-a632-4fae-9d94-08ec60cb56bd",
   "metadata": {},
   "outputs": [],
   "source": [
    "res=fitter.weight.get_weighted_moments(obs=obs, maxrad=0)"
   ]
  },
  {
   "cell_type": "markdown",
   "id": "93a73408-60e2-41a4-af16-fd43c9a023b3",
   "metadata": {},
   "source": [
    "which calls:"
   ]
  },
  {
   "cell_type": "code",
   "execution_count": 25,
   "id": "4a2575fa-529c-4837-94e3-cf0621efaac8",
   "metadata": {},
   "outputs": [
    {
     "data": {
      "text/plain": [
       "(0, 2601, 1.67065059, [-2.54577813e-04,  2.50707747e-04,  3.82815390e-04,  1.69230218e-05,  1.14479158e-02,  2.67032991e-02], [[ 4.43347585e-02,  6.78187692e-21, -1.35702190e-19,  1.35617456e-20, -1.55991824e-19, -1.68057271e-18], [ 6.78187692e-21,  4.43347585e-02, -6.43763098e-20,  3.33780411e-20, -5.10081244e-20,  1.74150585e-18], [-1.35702190e-19, -6.43763098e-20,  8.50627684e-02,  6.01159860e-24,  1.14187922e-19,  1.22729489e-18], [ 1.35617456e-20,  3.33780411e-20,  6.01159860e-24,  7.23395244e-03,  1.14822467e-19,  1.35637538e-20], [-1.55991824e-19, -5.10081244e-20,  1.14187922e-19,  1.14822467e-19,  9.22967208e-02,  8.86695171e-02], [-1.68057271e-18,  1.74150585e-18,  1.22729489e-18,  1.35637538e-20,  8.86695171e-02,  1.08685858e+00]], [0., 0., 0., 0., 0., 0.], [2.50e+01, 2.50e+01, 0.00e+00, 1.25e+03, 1.25e+03, 1.00e+00])"
      ]
     },
     "execution_count": 25,
     "metadata": {},
     "output_type": "execute_result"
    }
   ],
   "source": [
    "fitter.weight.get_weighted_sums(obs,maxrad=40)"
   ]
  },
  {
   "cell_type": "markdown",
   "id": "e0ba2c61-40e9-419b-b865-4b126c9a895b",
   "metadata": {},
   "source": [
    "weight is a GMix object, we need to get the settings of the object to the numba function:"
   ]
  },
  {
   "cell_type": "code",
   "execution_count": 26,
   "id": "681580b3-61ff-452d-a2ca-014da229d9aa",
   "metadata": {},
   "outputs": [],
   "source": [
    "wt_gm = fitter.weight.get_data()"
   ]
  },
  {
   "cell_type": "code",
   "execution_count": 27,
   "id": "d5231315-f4e1-44f8-9056-bde7328fde63",
   "metadata": {},
   "outputs": [
    {
     "data": {
      "text/plain": [
       "array([(1.63164965, 0., 0., 0.25968511, 0., 0.25968511, 0.06743635, 1, 3.85081767, 0., 3.85081767, 0.61287667, 1.)],\n",
       "      dtype=[('p', '<f8'), ('row', '<f8'), ('col', '<f8'), ('irr', '<f8'), ('irc', '<f8'), ('icc', '<f8'), ('det', '<f8'), ('norm_set', '<i8'), ('drr', '<f8'), ('drc', '<f8'), ('dcc', '<f8'), ('norm', '<f8'), ('pnorm', '<f8')])"
      ]
     },
     "execution_count": 27,
     "metadata": {},
     "output_type": "execute_result"
    }
   ],
   "source": [
    "wt_gm"
   ]
  },
  {
   "cell_type": "code",
   "execution_count": 28,
   "id": "997509a9-8651-4a33-9f88-a60c294833f5",
   "metadata": {},
   "outputs": [
    {
     "ename": "TypingError",
     "evalue": "Failed in nopython mode pipeline (step: nopython frontend)\nnon-precise type pyobject\nDuring: typing of argument at /local/home/az264973/github/ngmix/ngmix/gmix/gmix_nb.py (678)\n\nFile \"../../ngmix/ngmix/gmix/gmix_nb.py\", line 678:\ndef get_weighted_sums(wt, pixels, res, maxrad):\n    <source elided>\n\n    maxrad2 = maxrad ** 2\n    ^\n\nThis error may have been caused by the following argument(s):\n- argument 2: Cannot determine Numba type of <class 'dict'>\n\nThis error may have been caused by the following argument(s):\n- argument 2: Cannot determine Numba type of <class 'dict'>\n",
     "output_type": "error",
     "traceback": [
      "\u001b[0;31m---------------------------------------------------------------------------\u001b[0m",
      "\u001b[0;31mTypingError\u001b[0m                               Traceback (most recent call last)",
      "\u001b[0;32m<ipython-input-28-03ada22fad47>\u001b[0m in \u001b[0;36m<module>\u001b[0;34m\u001b[0m\n\u001b[0;32m----> 1\u001b[0;31m \u001b[0mngmix\u001b[0m\u001b[0;34m.\u001b[0m\u001b[0mgmix\u001b[0m\u001b[0;34m.\u001b[0m\u001b[0mgmix_nb\u001b[0m\u001b[0;34m.\u001b[0m\u001b[0mget_weighted_sums\u001b[0m\u001b[0;34m(\u001b[0m\u001b[0mwt_gm\u001b[0m\u001b[0;34m,\u001b[0m\u001b[0mobs\u001b[0m\u001b[0;34m.\u001b[0m\u001b[0mpixels\u001b[0m\u001b[0;34m,\u001b[0m\u001b[0mres\u001b[0m\u001b[0;34m,\u001b[0m\u001b[0;36m40\u001b[0m\u001b[0;34m)\u001b[0m\u001b[0;34m\u001b[0m\u001b[0;34m\u001b[0m\u001b[0m\n\u001b[0m",
      "\u001b[0;32m~/.local/lib/python3.8/site-packages/numba/core/dispatcher.py\u001b[0m in \u001b[0;36m_compile_for_args\u001b[0;34m(self, *args, **kws)\u001b[0m\n\u001b[1;32m    418\u001b[0m                 \u001b[0me\u001b[0m\u001b[0;34m.\u001b[0m\u001b[0mpatch_message\u001b[0m\u001b[0;34m(\u001b[0m\u001b[0mmsg\u001b[0m\u001b[0;34m)\u001b[0m\u001b[0;34m\u001b[0m\u001b[0;34m\u001b[0m\u001b[0m\n\u001b[1;32m    419\u001b[0m \u001b[0;34m\u001b[0m\u001b[0m\n\u001b[0;32m--> 420\u001b[0;31m             \u001b[0merror_rewrite\u001b[0m\u001b[0;34m(\u001b[0m\u001b[0me\u001b[0m\u001b[0;34m,\u001b[0m \u001b[0;34m'typing'\u001b[0m\u001b[0;34m)\u001b[0m\u001b[0;34m\u001b[0m\u001b[0;34m\u001b[0m\u001b[0m\n\u001b[0m\u001b[1;32m    421\u001b[0m         \u001b[0;32mexcept\u001b[0m \u001b[0merrors\u001b[0m\u001b[0;34m.\u001b[0m\u001b[0mUnsupportedError\u001b[0m \u001b[0;32mas\u001b[0m \u001b[0me\u001b[0m\u001b[0;34m:\u001b[0m\u001b[0;34m\u001b[0m\u001b[0;34m\u001b[0m\u001b[0m\n\u001b[1;32m    422\u001b[0m             \u001b[0;31m# Something unsupported is present in the user code, add help info\u001b[0m\u001b[0;34m\u001b[0m\u001b[0;34m\u001b[0m\u001b[0;34m\u001b[0m\u001b[0m\n",
      "\u001b[0;32m~/.local/lib/python3.8/site-packages/numba/core/dispatcher.py\u001b[0m in \u001b[0;36merror_rewrite\u001b[0;34m(e, issue_type)\u001b[0m\n\u001b[1;32m    359\u001b[0m                 \u001b[0;32mraise\u001b[0m \u001b[0me\u001b[0m\u001b[0;34m\u001b[0m\u001b[0;34m\u001b[0m\u001b[0m\n\u001b[1;32m    360\u001b[0m             \u001b[0;32melse\u001b[0m\u001b[0;34m:\u001b[0m\u001b[0;34m\u001b[0m\u001b[0;34m\u001b[0m\u001b[0m\n\u001b[0;32m--> 361\u001b[0;31m                 \u001b[0;32mraise\u001b[0m \u001b[0me\u001b[0m\u001b[0;34m.\u001b[0m\u001b[0mwith_traceback\u001b[0m\u001b[0;34m(\u001b[0m\u001b[0;32mNone\u001b[0m\u001b[0;34m)\u001b[0m\u001b[0;34m\u001b[0m\u001b[0;34m\u001b[0m\u001b[0m\n\u001b[0m\u001b[1;32m    362\u001b[0m \u001b[0;34m\u001b[0m\u001b[0m\n\u001b[1;32m    363\u001b[0m         \u001b[0margtypes\u001b[0m \u001b[0;34m=\u001b[0m \u001b[0;34m[\u001b[0m\u001b[0;34m]\u001b[0m\u001b[0;34m\u001b[0m\u001b[0;34m\u001b[0m\u001b[0m\n",
      "\u001b[0;31mTypingError\u001b[0m: Failed in nopython mode pipeline (step: nopython frontend)\nnon-precise type pyobject\nDuring: typing of argument at /local/home/az264973/github/ngmix/ngmix/gmix/gmix_nb.py (678)\n\nFile \"../../ngmix/ngmix/gmix/gmix_nb.py\", line 678:\ndef get_weighted_sums(wt, pixels, res, maxrad):\n    <source elided>\n\n    maxrad2 = maxrad ** 2\n    ^\n\nThis error may have been caused by the following argument(s):\n- argument 2: Cannot determine Numba type of <class 'dict'>\n\nThis error may have been caused by the following argument(s):\n- argument 2: Cannot determine Numba type of <class 'dict'>\n"
     ]
    }
   ],
   "source": [
    "ngmix.gmix.gmix_nb.get_weighted_sums(wt_gm,obs.pixels,res,40)"
   ]
  },
  {
   "cell_type": "code",
   "execution_count": 60,
   "id": "dff331ba-96fd-480a-9ec5-f1d918fbc77e",
   "metadata": {},
   "outputs": [],
   "source": [
    "res = {'flags': 0,\n",
    " 'npix': 0,\n",
    " 'wsum': 0,\n",
    " 'sums': array([0,  0,  0,  0, 0,  0]),\n",
    " 'sums_cov': zeros([6,6]),\n",
    " 'pars': array([0., 0., 0., 0., 0., 0.]),\n",
    " 'F': array([0,0,0,0,0,0]),\n",
    " 'flux': 0.0,\n",
    " 'flux_err': 9999.0,\n",
    " 'T': -9999.0,\n",
    " 's2n': -9999.0,\n",
    " 'e': array([-9999., -9999.]),\n",
    " 'e_err': array([9999., 9999.]),\n",
    " 'e_cov': array([[9999.,    0.],\n",
    "        [   0., 9999.]]),\n",
    " 'flagstr': 'zero var'}"
   ]
  },
  {
   "cell_type": "markdown",
   "id": "e1518fdc-c0ea-4c2b-ab28-a64223d23dd4",
   "metadata": {},
   "source": [
    "Ok, let's get the function without numba:"
   ]
  },
  {
   "cell_type": "code",
   "execution_count": 61,
   "id": "d3a9e62c-e520-4b4d-8b8c-b6a699a9f5b5",
   "metadata": {},
   "outputs": [],
   "source": [
    "def get_weighted_sums(wt, pixels, res, maxrad):\n",
    "    \"\"\"\n",
    "    do sums for calculating the weighted moments\n",
    "    \"\"\"\n",
    "\n",
    "    maxrad2 = maxrad ** 2\n",
    "\n",
    "    vcen = wt[\"row\"][0]\n",
    "    ucen = wt[\"col\"][0]\n",
    "    F = res[\"F\"]\n",
    "\n",
    "    n_pixels = pixels.size\n",
    "    for i_pixel in range(n_pixels):\n",
    "\n",
    "        pixel = pixels[i_pixel]\n",
    "\n",
    "        vmod = pixel[\"v\"] - vcen\n",
    "        umod = pixel[\"u\"] - ucen\n",
    "\n",
    "        rad2 = umod * umod + vmod * vmod\n",
    "        if rad2 < maxrad2:\n",
    "\n",
    "            weight = gmix_eval_pixel(wt, pixel)\n",
    "            var = 1.0 / (pixel[\"ierr\"] * pixel[\"ierr\"])\n",
    "\n",
    "            wdata = weight * pixel[\"val\"]\n",
    "            w2 = weight * weight\n",
    "\n",
    "            F[0] = pixel[\"v\"]\n",
    "            F[1] = pixel[\"u\"]\n",
    "            F[2] = umod * umod - vmod * vmod\n",
    "            F[3] = 2 * vmod * umod\n",
    "            F[4] = rad2\n",
    "            F[5] = 1.0\n",
    "\n",
    "            res[\"wsum\"] += weight\n",
    "            res[\"npix\"] += 1\n",
    "\n",
    "            for i in range(6):\n",
    "                res[\"sums\"][i] += wdata * F[i]\n",
    "                for j in range(6):\n",
    "                    res[\"sums_cov\"][i, j] += w2 * var * F[i] * F[j]"
   ]
  },
  {
   "cell_type": "code",
   "execution_count": 64,
   "id": "58396b4f-1e71-457d-a66d-39235b9de8cf",
   "metadata": {},
   "outputs": [],
   "source": [
    "get_weighted_sums(wt_gm,obs.pixels,res,40)"
   ]
  },
  {
   "cell_type": "code",
   "execution_count": 65,
   "id": "0690f194-2d21-48da-8a0c-fe44d026d179",
   "metadata": {},
   "outputs": [
    {
     "data": {
      "text/plain": [
       "{'flags': 0,\n",
       " 'npix': 5202,\n",
       " 'wsum': 3.3413011767598264,\n",
       " 'sums': array([0, 0, 0, 0, 0, 0]),\n",
       " 'sums_cov': array([[ 8.86695171e-02,  6.78187692e-21, -1.35702190e-19,\n",
       "          1.35617456e-20, -1.55991824e-19, -1.68057271e-18],\n",
       "        [ 6.78187692e-21,  8.86695171e-02, -6.43763098e-20,\n",
       "          3.33780411e-20, -5.10081244e-20,  1.74150585e-18],\n",
       "        [-1.35702190e-19, -6.43763098e-20,  1.70125537e-01,\n",
       "          1.26290435e-23,  1.14187922e-19,  4.69674184e-18],\n",
       "        [ 1.35617456e-20,  3.33780411e-20,  1.26290435e-23,\n",
       "          1.44679049e-02,  1.14822467e-19,  1.35637538e-20],\n",
       "        [-1.55991824e-19, -5.10081244e-20,  1.14187922e-19,\n",
       "          1.14822467e-19,  1.84593442e-01,  1.77339034e-01],\n",
       "        [-1.68057271e-18,  1.74150585e-18,  4.69674184e-18,\n",
       "          1.35637538e-20,  1.77339034e-01,  2.17371715e+00]]),\n",
       " 'pars': array([0., 0., 0., 0., 0., 0.]),\n",
       " 'F': array([  25,   25,    0, 1250, 1250,    1]),\n",
       " 'flux': 0.0,\n",
       " 'flux_err': 9999.0,\n",
       " 'T': -9999.0,\n",
       " 's2n': -9999.0,\n",
       " 'e': array([-9999., -9999.]),\n",
       " 'e_err': array([9999., 9999.]),\n",
       " 'e_cov': array([[9999.,    0.],\n",
       "        [   0., 9999.]]),\n",
       " 'flagstr': 'zero var'}"
      ]
     },
     "execution_count": 65,
     "metadata": {},
     "output_type": "execute_result"
    }
   ],
   "source": [
    "res"
   ]
  },
  {
   "cell_type": "markdown",
   "id": "2778f9bd-02e0-4ee0-9386-bddbef226cfb",
   "metadata": {},
   "source": [
    "Ok, we need gmix_eval_pixel..."
   ]
  },
  {
   "cell_type": "code",
   "execution_count": 57,
   "id": "383cce63-1b82-4229-a172-d3268d33e980",
   "metadata": {},
   "outputs": [],
   "source": [
    "def gmix_eval_pixel(gmix, pixel):\n",
    "    \"\"\"\n",
    "    evaluate a single gaussian mixture\n",
    "    \"\"\"\n",
    "    model_val = 0.0\n",
    "    for igauss in range(gmix.size):\n",
    "\n",
    "        model_val += gauss2d_eval_pixel(gmix[igauss], pixel,)\n",
    "\n",
    "    return model_val"
   ]
  },
  {
   "cell_type": "markdown",
   "id": "f978565b-ffb3-4907-b8ac-6b83fcc86f6b",
   "metadata": {},
   "source": [
    "And gauss2d_eval_pixel (I know exactly why: nvmix evaluated pixels invertedly from a round 2d gaussian...)"
   ]
  },
  {
   "cell_type": "code",
   "execution_count": 58,
   "id": "f77f32b5-8113-4a16-8ad3-074db06a6e9c",
   "metadata": {},
   "outputs": [],
   "source": [
    "def gauss2d_eval_pixel(gauss, pixel):\n",
    "    \"\"\"\n",
    "    evaluate a 2-d gaussian at the specified location\n",
    "    parameters\n",
    "    ----------\n",
    "    gauss2d: gauss2d structure\n",
    "        row,col,dcc,drr,drc,pnorm... See gmix.py\n",
    "    pixel: struct with coods\n",
    "        should have fields v,u\n",
    "    \"\"\"\n",
    "    model_val = 0.0\n",
    "\n",
    "    # v->row, u->col in gauss\n",
    "    vdiff = pixel[\"v\"] - gauss[\"row\"]\n",
    "    udiff = pixel[\"u\"] - gauss[\"col\"]\n",
    "\n",
    "    chi2 = (\n",
    "        gauss[\"dcc\"] * vdiff * vdiff\n",
    "        + gauss[\"drr\"] * udiff * udiff\n",
    "        - 2.0 * gauss[\"drc\"] * vdiff * udiff\n",
    "    )\n",
    "\n",
    "    model_val = gauss[\"pnorm\"] * numpy.exp(-0.5 * chi2) * pixel[\"area\"]\n",
    "\n",
    "    return model_val"
   ]
  },
  {
   "cell_type": "code",
   "execution_count": null,
   "id": "8a1e7cc0-085c-4d11-9521-f98da5e584e6",
   "metadata": {},
   "outputs": [],
   "source": []
  }
 ],
 "metadata": {
  "kernelspec": {
   "display_name": "Python 3",
   "language": "python",
   "name": "python3"
  },
  "language_info": {
   "codemirror_mode": {
    "name": "ipython",
    "version": 3
   },
   "file_extension": ".py",
   "mimetype": "text/x-python",
   "name": "python",
   "nbconvert_exporter": "python",
   "pygments_lexer": "ipython3",
   "version": "3.8.6"
  }
 },
 "nbformat": 4,
 "nbformat_minor": 5
}
