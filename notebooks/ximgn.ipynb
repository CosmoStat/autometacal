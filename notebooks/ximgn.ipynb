{
 "cells": [
  {
   "cell_type": "markdown",
   "id": "ec62a405-a6a3-4571-b072-66d1a5ebd016",
   "metadata": {},
   "source": [
    "# Reverse engineering ngmix' gaussian moments"
   ]
  },
  {
   "cell_type": "code",
   "execution_count": 1,
   "id": "13f57ed4-b6f6-4771-bb8f-e8bab4bc69cb",
   "metadata": {},
   "outputs": [
    {
     "name": "stdout",
     "output_type": "stream",
     "text": [
      "Populating the interactive namespace from numpy and matplotlib\n"
     ]
    }
   ],
   "source": [
    "%pylab inline"
   ]
  },
  {
   "cell_type": "code",
   "execution_count": 2,
   "id": "9e78cd47-9516-49c9-b99c-511802a05b64",
   "metadata": {},
   "outputs": [],
   "source": [
    "import ngmix\n",
    "import autometacal"
   ]
  },
  {
   "cell_type": "markdown",
   "id": "ab1866c4-da66-4223-b30d-9fbfa2bad376",
   "metadata": {},
   "source": [
    "Get a galaxy:"
   ]
  },
  {
   "cell_type": "code",
   "execution_count": 3,
   "id": "834e94b4-2446-4de5-8eb4-d0d0297488dd",
   "metadata": {},
   "outputs": [],
   "source": [
    "gal, psf = autometacal.data.galaxies.make_data(img_noise=0.001,gal_g1=[0.2],gal_g2=[0.])"
   ]
  },
  {
   "cell_type": "code",
   "execution_count": 4,
   "id": "5ee7780d-27cf-494b-a474-9959b08bbede",
   "metadata": {},
   "outputs": [
    {
     "data": {
      "image/png": "[encoded data removed]",
      "text/plain": [
       "<Figure size 432x288 with 1 Axes>"
      ]
     },
     "metadata": {
      "needs_background": "light"
     },
     "output_type": "display_data"
    }
   ],
   "source": [
    "imshow(gal.numpy()[0])\n",
    "obs=ngmix.Observation(gal.numpy()[0])"
   ]
  },
  {
   "cell_type": "markdown",
   "id": "77ea531b-abd9-47b5-81b7-4c0de9c2cf48",
   "metadata": {},
   "source": [
    "Set a fitter with Gaussian moments:"
   ]
  },
  {
   "cell_type": "code",
   "execution_count": 5,
   "id": "ea9cf507-448e-421c-91bd-ddcd3fb67ec4",
   "metadata": {},
   "outputs": [],
   "source": [
    "weight_fwhm = 1.2 # <- this sets everything for the window function\n",
    "fitter = ngmix.gaussmom.GaussMom(fwhm=weight_fwhm)"
   ]
  },
  {
   "cell_type": "markdown",
   "id": "27809cbd-e3a2-4bf2-b6e8-949d6392d1a5",
   "metadata": {},
   "source": [
    "calculate moments:"
   ]
  },
  {
   "cell_type": "code",
   "execution_count": 6,
   "id": "c29e09b3-2abd-49c0-850f-d289a835d4a7",
   "metadata": {},
   "outputs": [
    {
     "data": {
      "text/plain": [
       "{'flags': 0,\n",
       " 'npix': 2601,\n",
       " 'wsum': 1.6706505883799125,\n",
       " 'sums': array([-2.54577813e-04,  2.50707747e-04,  3.82815390e-04,  1.69230218e-05,\n",
       "         1.14479158e-02,  2.67032991e-02]),\n",
       " 'sums_cov': array([[ 4.43347585e-02,  6.78187692e-21, -1.35702190e-19,\n",
       "          1.35617456e-20, -1.55991824e-19, -1.68057271e-18],\n",
       "        [ 6.78187692e-21,  4.43347585e-02, -6.43763098e-20,\n",
       "          3.33780411e-20, -5.10081244e-20,  1.74150585e-18],\n",
       "        [-1.35702190e-19, -6.43763098e-20,  8.50627684e-02,\n",
       "          6.01159860e-24,  1.14187922e-19,  1.22729489e-18],\n",
       "        [ 1.35617456e-20,  3.33780411e-20,  6.01159860e-24,\n",
       "          7.23395244e-03,  1.14822467e-19,  1.35637538e-20],\n",
       "        [-1.55991824e-19, -5.10081244e-20,  1.14187922e-19,\n",
       "          1.14822467e-19,  9.22967208e-02,  8.86695171e-02],\n",
       "        [-1.68057271e-18,  1.74150585e-18,  1.22729489e-18,\n",
       "          1.35637538e-20,  8.86695171e-02,  1.08685858e+00]]),\n",
       " 'pars': array([-0.00953357,  0.00938864,  0.01433588,  0.00063374,  0.42870792,\n",
       "         0.0267033 ]),\n",
       " 'F': array([2.50e+01, 2.50e+01, 0.00e+00, 1.25e+03, 1.25e+03, 1.00e+00]),\n",
       " 'flux': 0.026703299145247855,\n",
       " 'flux_err': 1.0425250962712358,\n",
       " 'T': 0.4287079200543317,\n",
       " 's2n': 0.0256140588277027,\n",
       " 'e': array([0.03343975, 0.00147826]),\n",
       " 'e_err': array([25.49216004,  7.42963453]),\n",
       " 'e_cov': array([[649.85022367,   0.        ],\n",
       "        [  0.        ,  55.19946929]]),\n",
       " 'T_err': 17.405496451826046}"
      ]
     },
     "execution_count": 6,
     "metadata": {},
     "output_type": "execute_result"
    }
   ],
   "source": [
    "fitter._measure_moments(obs)"
   ]
  },
  {
   "cell_type": "markdown",
   "id": "f60e8914-42f9-4ba2-b550-a06a0e47874a",
   "metadata": {},
   "source": [
    "## How it works?"
   ]
  },
  {
   "cell_type": "markdown",
   "id": "4efef89b-29c7-4ee3-a5ec-edd12d99bbac",
   "metadata": {},
   "source": [
    "Let's build the weight map that is also a gaussian mixture (of 1 gaussian...)"
   ]
  },
  {
   "cell_type": "code",
   "execution_count": 7,
   "id": "4a9228d4-7245-497f-a051-859b54008783",
   "metadata": {},
   "outputs": [
    {
     "data": {
      "text/plain": [
       "{'p': 1.6316496510577898,\n",
       " 'row': 0.0,\n",
       " 'col': 0.0,\n",
       " 'irr': 0.25968510736001343,\n",
       " 'irc': 0.0,\n",
       " 'icc': 0.25968510736001343,\n",
       " 'det': 0.0674363549845817,\n",
       " 'norm_set': 1,\n",
       " 'drr': 3.850817669777474,\n",
       " 'drc': 0.0,\n",
       " 'dcc': 3.850817669777474,\n",
       " 'norm': 0.6128766670906989,\n",
       " 'pnorm': 1.0}"
      ]
     },
     "execution_count": 7,
     "metadata": {},
     "output_type": "execute_result"
    }
   ],
   "source": [
    "wt_gm = fitter.weight.get_data()\n",
    "dict(zip(wt_gm.dtype.names,[i for i in wt_gm[0]]))"
   ]
  },
  {
   "cell_type": "markdown",
   "id": "9f588525-6c58-4fe6-968a-a9cdfe66a7fc",
   "metadata": {},
   "source": [
    "How it gets build?"
   ]
  },
  {
   "cell_type": "code",
   "execution_count": 8,
   "id": "d42f3796-35bf-4ece-85c5-171e168bbfa6",
   "metadata": {},
   "outputs": [],
   "source": [
    "T = ngmix.moments.fwhm_to_T(weight_fwhm)\n",
    "\n",
    "teste=ngmix.GMixModel(\n",
    "            [0.0, 0.0, 0.0, 0.0, T, 1.0],\n",
    "            'gauss',\n",
    "        )\n",
    "teste.set_norms()\n",
    "norm = teste.get_data()['norm'][0]\n",
    "teste.set_flux(1.0/norm)"
   ]
  },
  {
   "cell_type": "markdown",
   "id": "8b942671-e1a7-41c8-bf47-24eb966d4298",
   "metadata": {},
   "source": [
    "GMixModel constructor calls the fill functions..."
   ]
  },
  {
   "cell_type": "code",
   "execution_count": null,
   "id": "598ad8a6-8105-41e2-82c9-8cf0e60c8835",
   "metadata": {},
   "outputs": [],
   "source": [
    "def gmix_fill_simple(gmix, pars, fvals, pvals):\n",
    "    \"\"\"\n",
    "    fill a simple (6 parameter) gaussian mixture model\n",
    "    no error checking done here\n",
    "    \"\"\"\n",
    "\n",
    "    row = pars[0]\n",
    "    col = pars[1]\n",
    "    g1 = pars[2]\n",
    "    g2 = pars[3]\n",
    "    T = pars[4]\n",
    "    flux = pars[5]\n",
    "\n",
    "    e1, e2 = g1g2_to_e1e2(g1, g2)\n",
    "\n",
    "    n_gauss = gmix.size\n",
    "    for i in range(n_gauss):\n",
    "\n",
    "        gauss = gmix[i]\n",
    "\n",
    "        T_i_2 = 0.5 * T * fvals[i]\n",
    "        flux_i = flux * pvals[i]\n",
    "\n",
    "        gauss2d_set(\n",
    "            gauss,\n",
    "            flux_i,\n",
    "            row,\n",
    "            col,\n",
    "            T_i_2 * (1 - e1),\n",
    "            T_i_2 * e2,\n",
    "            T_i_2 * (1 + e1),\n",
    "        )\n"
   ]
  },
  {
   "cell_type": "code",
   "execution_count": null,
   "id": "0e53a173-88fd-4940-92c1-92eaa6100825",
   "metadata": {},
   "outputs": [],
   "source": []
  },
  {
   "cell_type": "code",
   "execution_count": null,
   "id": "d8dfe458-52fa-4ab7-85b2-2b186fee0d7a",
   "metadata": {},
   "outputs": [],
   "source": []
  },
  {
   "cell_type": "code",
   "execution_count": 22,
   "id": "98fd56ac-ba24-464c-8a5a-bc96e2dd8c5b",
   "metadata": {},
   "outputs": [
    {
     "data": {
      "text/plain": [
       "{'p': 1.6316496510577898,\n",
       " 'row': 0.0,\n",
       " 'col': 0.0,\n",
       " 'irr': 0.25968510736001343,\n",
       " 'irc': 0.0,\n",
       " 'icc': 0.25968510736001343,\n",
       " 'det': 0.0674363549845817,\n",
       " 'norm_set': 1,\n",
       " 'drr': 3.850817669777474,\n",
       " 'drc': 0.0,\n",
       " 'dcc': 3.850817669777474,\n",
       " 'norm': 0.6128766670906989,\n",
       " 'pnorm': 1.0}"
      ]
     },
     "execution_count": 22,
     "metadata": {},
     "output_type": "execute_result"
    }
   ],
   "source": [
    "wt_gm2=teste._data\n",
    "wt_gm2['norm_set']=1\n",
    "wt_gm2['pnorm']=1\n",
    "dict(zip(wt_gm2.dtype.names,[i for i in wt_gm2[0]]))\n"
   ]
  },
  {
   "cell_type": "code",
   "execution_count": null,
   "id": "2f360b3a-a8b8-4b08-be11-39d8f59327fa",
   "metadata": {},
   "outputs": [],
   "source": []
  },
  {
   "cell_type": "code",
   "execution_count": 23,
   "id": "d3a9e62c-e520-4b4d-8b8c-b6a699a9f5b5",
   "metadata": {},
   "outputs": [
    {
     "data": {
      "text/plain": [
       "{'flags': 0,\n",
       " 'npix': 2601,\n",
       " 'wsum': 1.6706505883799125,\n",
       " 'sums': array([-2.54577813e-04,  2.50707747e-04,  3.82815390e-04,  1.69230218e-05,\n",
       "         1.14479158e-02,  2.67032991e-02]),\n",
       " 'sums_cov': array([[ 4.43347585e-02,  6.78187692e-21, -1.35702190e-19,\n",
       "          1.35617456e-20, -1.55991824e-19, -1.68057271e-18],\n",
       "        [ 6.78187692e-21,  4.43347585e-02, -6.43763098e-20,\n",
       "          3.33780411e-20, -5.10081244e-20,  1.74150585e-18],\n",
       "        [-1.35702190e-19, -6.43763098e-20,  8.50627684e-02,\n",
       "          6.01159860e-24,  1.14187922e-19,  1.22729489e-18],\n",
       "        [ 1.35617456e-20,  3.33780411e-20,  6.01159860e-24,\n",
       "          7.23395244e-03,  1.14822467e-19,  1.35637538e-20],\n",
       "        [-1.55991824e-19, -5.10081244e-20,  1.14187922e-19,\n",
       "          1.14822467e-19,  9.22967208e-02,  8.86695171e-02],\n",
       "        [-1.68057271e-18,  1.74150585e-18,  1.22729489e-18,\n",
       "          1.35637538e-20,  8.86695171e-02,  1.08685858e+00]]),\n",
       " 'pars': array([0., 0., 0., 0., 0., 0.]),\n",
       " 'F': array([2.50e+01, 2.50e+01, 0.00e+00, 1.25e+03, 1.25e+03, 1.00e+00])}"
      ]
     },
     "execution_count": 23,
     "metadata": {},
     "output_type": "execute_result"
    }
   ],
   "source": [
    "_moments_result_dtype = [\n",
    "    ('flags', 'i4'),\n",
    "    ('npix', 'i4'),\n",
    "    ('wsum', 'f8'),\n",
    "\n",
    "    ('sums', 'f8', 6),\n",
    "    ('sums_cov', 'f8', (6, 6)),\n",
    "    ('pars', 'f8', 6),\n",
    "    ('F', 'f8', 6),\n",
    "]\n",
    "\n",
    "dt = np.dtype(_moments_result_dtype, align=True)\n",
    "resarray = np.zeros(1, dtype=dt)\n",
    "res = resarray[0]\n",
    "\n",
    "def gauss2d_eval_pixel(gauss, pixel):\n",
    "    \"\"\"\n",
    "    evaluate a 2-d gaussian at the specified location\n",
    "    parameters\n",
    "    ----------\n",
    "    gauss2d: gauss2d structure\n",
    "        row,col,dcc,drr,drc,pnorm... See gmix.py\n",
    "    pixel: struct with coods\n",
    "        should have fields v,u\n",
    "    \"\"\"\n",
    "    model_val = 0.0\n",
    "\n",
    "\n",
    "    # v->row, u->col in gauss\n",
    "    vdiff = pixel[\"v\"] - gauss[\"row\"]\n",
    "    udiff = pixel[\"u\"] - gauss[\"col\"]\n",
    "\n",
    "    chi2 = (\n",
    "        gauss[\"dcc\"] * vdiff * vdiff\n",
    "        + gauss[\"drr\"] * udiff * udiff\n",
    "        - 2.0 * gauss[\"drc\"] * vdiff * udiff\n",
    "    )\n",
    "\n",
    "    model_val = gauss[\"pnorm\"] * numpy.exp(-0.5 * chi2) * pixel[\"area\"]\n",
    "\n",
    "    return model_val\n",
    "  \n",
    "def gmix_eval_pixel(gmix, pixel):\n",
    "    \"\"\"\n",
    "    evaluate a single gaussian mixture\n",
    "    \"\"\"\n",
    "    model_val = 0.0\n",
    "    for igauss in range(gmix.size):\n",
    "\n",
    "        model_val += gauss2d_eval_pixel(gmix[igauss], pixel,)\n",
    "\n",
    "    return model_val\n",
    "\n",
    "def get_weighted_sums(wt, pixels, res, maxrad):\n",
    "    \"\"\"\n",
    "    do sums for calculating the weighted moments\n",
    "    \"\"\"\n",
    "\n",
    "    maxrad2 = maxrad ** 2\n",
    "\n",
    "    vcen = wt[\"row\"][0]\n",
    "    ucen = wt[\"col\"][0]\n",
    "    F = res[\"F\"]\n",
    "\n",
    "    n_pixels = pixels.size\n",
    "    for i_pixel in range(n_pixels):\n",
    "\n",
    "        pixel = pixels[i_pixel]\n",
    "\n",
    "        vmod = pixel[\"v\"] - vcen\n",
    "        umod = pixel[\"u\"] - ucen\n",
    "\n",
    "        rad2 = umod * umod + vmod * vmod\n",
    "        if rad2 < maxrad2:\n",
    "\n",
    "            weight = gmix_eval_pixel(wt, pixel)\n",
    "            var = 1.0 / (pixel[\"ierr\"] * pixel[\"ierr\"])\n",
    "            \n",
    "            wdata = weight * pixel[\"val\"]\n",
    "            \n",
    "            w2 = weight * weight\n",
    "\n",
    "\n",
    "            F[0] = pixel[\"v\"]\n",
    "            F[1] = pixel[\"u\"]\n",
    "            F[2] = umod * umod - vmod * vmod\n",
    "            F[3] = 2 * vmod * umod\n",
    "            F[4] = rad2\n",
    "            F[5] = 1.0\n",
    "\n",
    "            res[\"wsum\"] += weight\n",
    "            res[\"npix\"] += 1\n",
    "\n",
    "            for i in range(6):\n",
    "\n",
    "                res[\"sums\"][i] += wdata * F[i]\n",
    "                for j in range(6):\n",
    "                    res[\"sums_cov\"][i, j] += w2 * var * F[i] * F[j]\n",
    "\n",
    "get_weighted_sums(wt_gm2,obs.pixels,res,400)\n",
    "res=dict(zip(res.dtype.names,res))\n",
    "res"
   ]
  },
  {
   "cell_type": "code",
   "execution_count": 12,
   "id": "fca1d6a9-ed12-4f50-99df-2191b26f4e40",
   "metadata": {},
   "outputs": [
    {
     "data": {
      "text/plain": [
       "{'flags': 0,\n",
       " 'npix': 2601,\n",
       " 'wsum': 1.6706505883799125,\n",
       " 'sums': array([-2.54577813e-04,  2.50707747e-04,  3.82815390e-04,  1.69230218e-05,\n",
       "         1.14479158e-02,  2.67032991e-02]),\n",
       " 'sums_cov': array([[ 4.43347585e-02,  6.78187692e-21, -1.35702190e-19,\n",
       "          1.35617456e-20, -1.55991824e-19, -1.68057271e-18],\n",
       "        [ 6.78187692e-21,  4.43347585e-02, -6.43763098e-20,\n",
       "          3.33780411e-20, -5.10081244e-20,  1.74150585e-18],\n",
       "        [-1.35702190e-19, -6.43763098e-20,  8.50627684e-02,\n",
       "          6.01159860e-24,  1.14187922e-19,  1.22729489e-18],\n",
       "        [ 1.35617456e-20,  3.33780411e-20,  6.01159860e-24,\n",
       "          7.23395244e-03,  1.14822467e-19,  1.35637538e-20],\n",
       "        [-1.55991824e-19, -5.10081244e-20,  1.14187922e-19,\n",
       "          1.14822467e-19,  9.22967208e-02,  8.86695171e-02],\n",
       "        [-1.68057271e-18,  1.74150585e-18,  1.22729489e-18,\n",
       "          1.35637538e-20,  8.86695171e-02,  1.08685858e+00]]),\n",
       " 'pars': array([-0.00953357,  0.00938864,  0.01433588,  0.00063374,  0.42870792,\n",
       "         0.0267033 ]),\n",
       " 'F': array([2.50e+01, 2.50e+01, 0.00e+00, 1.25e+03, 1.25e+03, 1.00e+00]),\n",
       " 'flux': 0.026703299145247855,\n",
       " 'flux_err': 1.0425250962712358,\n",
       " 'T': 0.4287079200543317,\n",
       " 's2n': 0.0256140588277027,\n",
       " 'e': array([0.03343975, 0.00147826]),\n",
       " 'e_err': array([25.49216004,  7.42963453]),\n",
       " 'e_cov': array([[649.85022367,   0.        ],\n",
       "        [  0.        ,  55.19946929]]),\n",
       " 'T_err': 17.405496451826046}"
      ]
     },
     "execution_count": 12,
     "metadata": {},
     "output_type": "execute_result"
    }
   ],
   "source": [
    "res=fitter.weight.get_weighted_moments(obs=obs, maxrad=40)\n",
    "res"
   ]
  },
  {
   "cell_type": "code",
   "execution_count": null,
   "id": "84bd145d-c0c0-43c8-bb65-f00e074aacfd",
   "metadata": {},
   "outputs": [],
   "source": []
  },
  {
   "cell_type": "code",
   "execution_count": null,
   "id": "32d8868e-2518-4c70-90b7-4fd8473329f4",
   "metadata": {},
   "outputs": [],
   "source": []
  }
 ],
 "metadata": {
  "kernelspec": {
   "display_name": "Python 3",
   "language": "python",
   "name": "python3"
  },
  "language_info": {
   "codemirror_mode": {
    "name": "ipython",
    "version": 3
   },
   "file_extension": ".py",
   "mimetype": "text/x-python",
   "name": "python",
   "nbconvert_exporter": "python",
   "pygments_lexer": "ipython3",
   "version": "3.8.6"
  }
 },
 "nbformat": 4,
 "nbformat_minor": 5
}
