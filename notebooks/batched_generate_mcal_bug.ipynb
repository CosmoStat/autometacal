{
 "cells": [
  {
   "cell_type": "markdown",
   "id": "c3a9f36d-3de0-4ee8-984d-fcfa8ce1ad14",
   "metadata": {},
   "source": [
    "# Problem with metacal function stacking"
   ]
  },
  {
   "cell_type": "code",
   "execution_count": 1,
   "id": "a27198f7-62ad-4cd3-871d-1a83ab6a373b",
   "metadata": {},
   "outputs": [
    {
     "name": "stdout",
     "output_type": "stream",
     "text": [
      "Populating the interactive namespace from numpy and matplotlib\n"
     ]
    }
   ],
   "source": [
    "%pylab inline"
   ]
  },
  {
   "cell_type": "code",
   "execution_count": 2,
   "id": "f435dfb3-d430-44d3-8710-52380075b514",
   "metadata": {},
   "outputs": [],
   "source": [
    "import numpy as np\n",
    "import autometacal"
   ]
  },
  {
   "cell_type": "code",
   "execution_count": 3,
   "id": "6f96ea84-86d0-4618-b35c-e0313dbc09d6",
   "metadata": {},
   "outputs": [],
   "source": [
    "##Local settings\n",
    "import time\n",
    "import os\n",
    "os.environ[\"CUDA_VISIBLE_DEVICES\"]=\"-1\"\n",
    "import galsim\n",
    "import tensorflow as tf\n",
    "import tqdm"
   ]
  },
  {
   "cell_type": "markdown",
   "id": "db1fd798-6247-490f-ae09-546fe383c4a9",
   "metadata": {
    "tags": []
   },
   "source": [
    "## Create some data"
   ]
  },
  {
   "cell_type": "code",
   "execution_count": 4,
   "id": "4ba66221-e330-4da7-9760-6e03dcb56bad",
   "metadata": {},
   "outputs": [],
   "source": [
    "seed = 31415\n",
    "rng = np.random.RandomState(seed)"
   ]
  },
  {
   "cell_type": "code",
   "execution_count": 5,
   "id": "89b7b261-0c2e-4fa8-b380-ecac227c8603",
   "metadata": {},
   "outputs": [],
   "source": [
    "def make_data(N=1,\n",
    "  psf_noise = 1.0e-5,\n",
    "  img_noise = 1.0e-4,\n",
    "  scale = 0.263,\n",
    "  stamp_size = 51,\n",
    "  psf_fwhm = 0.9,\n",
    "  gal_hlr = 0.7,\n",
    "  gal_g1 = [0],\n",
    "  gal_g2 = [0]):\n",
    "  \n",
    "  gal_list = []\n",
    "  psf_list = []\n",
    "  \n",
    "  for n in range(N):\n",
    "    psf = galsim.Moffat(beta=2.5, \n",
    "                      fwhm=psf_fwhm)\n",
    "\n",
    "    obj0 = galsim.Exponential(half_light_radius=gal_hlr).shear(g1=gal_g1[n],g2=gal_g2[n])\n",
    "    obj = galsim.Convolve(psf, obj0)\n",
    "\n",
    "    psf_image = psf.drawImage(nx=stamp_size, ny=stamp_size, scale=scale).array\n",
    "    gal_image = obj.drawImage(nx=stamp_size, ny=stamp_size, scale=scale).array\n",
    "\n",
    "    psf_image += rng.normal(scale=psf_noise, size=psf_image.shape)\n",
    "    gal_image += rng.normal(scale=img_noise, size=gal_image.shape)\n",
    "    gal_image = tf.convert_to_tensor(gal_image)\n",
    "    psf_image = tf.convert_to_tensor(psf_image)\n",
    "    gal_list.append(gal_image)\n",
    "    psf_list.append(psf_image)\n",
    "    del gal_image\n",
    "    del psf_image\n",
    "  gal_image_stack = tf.stack(gal_list)\n",
    "  psf_image_stack = tf.stack(psf_list)\n",
    "  return gal_image_stack, psf_image_stack"
   ]
  },
  {
   "cell_type": "code",
   "execution_count": 6,
   "id": "f923e05e-5f7d-4570-bf67-270c39b006fb",
   "metadata": {},
   "outputs": [],
   "source": [
    "img_noise = 1.0e-5\n",
    "psf_noise = img_noise/10\n",
    "scale = 0.263\n",
    "stamp_size = 64\n",
    "psf_fwhm = 0.9\n",
    "gal_hlr = 0.5\n",
    "\n",
    "gal_images, psf_images = make_data(N=2,psf_noise = psf_noise,\n",
    "                                  img_noise = img_noise,\n",
    "                                  scale = scale,\n",
    "                                  stamp_size = stamp_size,\n",
    "                                  psf_fwhm = psf_fwhm,\n",
    "                                  gal_hlr = gal_hlr,\n",
    "                                  gal_g1 = [0.0,.0,0.0],gal_g2=[0.0,.0,.0])"
   ]
  },
  {
   "cell_type": "code",
   "execution_count": 7,
   "id": "12129b30-5cb1-4d87-a3d3-8aac02787814",
   "metadata": {},
   "outputs": [
    {
     "data": {
      "text/plain": [
       "<matplotlib.image.AxesImage at 0x7f9b5c7bb7f0>"
      ]
     },
     "execution_count": 7,
     "metadata": {},
     "output_type": "execute_result"
    },
    {
     "data": {
      "image/png": "[encoded data removed]",
      "text/plain": [
       "<Figure size 432x288 with 2 Axes>"
      ]
     },
     "metadata": {
      "needs_background": "light"
     },
     "output_type": "display_data"
    }
   ],
   "source": [
    "subplot(121)\n",
    "imshow(gal_images[0])\n",
    "subplot(122)\n",
    "imshow(gal_images[1])"
   ]
  },
  {
   "cell_type": "markdown",
   "id": "4a2eb3e0-3eda-432a-8b58-29287b2b9ccf",
   "metadata": {},
   "source": [
    "## Create Reconvolution PSF"
   ]
  },
  {
   "cell_type": "code",
   "execution_count": 8,
   "id": "0c83ba1b-93a5-4171-af00-b0aec5590be1",
   "metadata": {},
   "outputs": [],
   "source": [
    "reconv_psf = galsim.Moffat(beta=2.5, \n",
    "                    fwhm=psf_fwhm*1.2)\n",
    "reconv_psf_image = tf.expand_dims(tf.convert_to_tensor(reconv_psf.drawImage(nx=stamp_size, ny=stamp_size, scale=scale).array),axis=0)"
   ]
  },
  {
   "cell_type": "markdown",
   "id": "5d58a4a2-ef62-4f8a-8ff6-d5495435c740",
   "metadata": {},
   "source": [
    "## Create \"zero test\": difference between the same ops to check deterministic execution"
   ]
  },
  {
   "cell_type": "code",
   "execution_count": 9,
   "id": "81d60d8a-c7ea-4e90-abc6-d33a330e2aeb",
   "metadata": {},
   "outputs": [],
   "source": [
    "gal_image = gal_images[0:2]\n",
    "psf_image = psf_images[0:2]\n",
    "img0s1 = autometacal.generate_mcal_image(gal_image,psf_image,reconv_psf_image,[[0,0]])\n",
    "gal_image = gal_images[0:2]\n",
    "psf_image = psf_images[0:2]\n",
    "img0s2 = autometacal.generate_mcal_image(gal_image,psf_image,reconv_psf_image,[[0,0]])"
   ]
  },
  {
   "cell_type": "code",
   "execution_count": 10,
   "id": "ba42ca0b-f0ff-476f-8943-418edf62b24e",
   "metadata": {},
   "outputs": [
    {
     "data": {
      "text/plain": [
       "<matplotlib.image.AxesImage at 0x7f9b5c5a03a0>"
      ]
     },
     "execution_count": 10,
     "metadata": {},
     "output_type": "execute_result"
    },
    {
     "data": {
      "image/png": "[encoded data removed]",
      "text/plain": [
       "<Figure size 432x288 with 1 Axes>"
      ]
     },
     "metadata": {
      "needs_background": "light"
     },
     "output_type": "display_data"
    }
   ],
   "source": [
    "imshow(img0s1[0]-img0s2[0])"
   ]
  },
  {
   "cell_type": "markdown",
   "id": "4f01b132-f316-4bc9-91d1-0a36328286af",
   "metadata": {},
   "source": [
    "## Confront results for 1st galaxy of a 2 galaxy and 1 galaxy set."
   ]
  },
  {
   "cell_type": "code",
   "execution_count": 11,
   "id": "3ad0c0e6-cd2d-491d-90e5-b65f609d3011",
   "metadata": {},
   "outputs": [],
   "source": [
    "gal_image = gal_images[0:2]\n",
    "psf_image = psf_images[0:2]\n",
    "img0s1 = autometacal.generate_mcal_image(gal_image,psf_image,reconv_psf_image,[[0,0]])\n",
    "gal_image = gal_images[0:1]\n",
    "psf_image = psf_images[0:1]\n",
    "img0s2 = autometacal.generate_mcal_image(gal_image,psf_image,reconv_psf_image,[[0,0]])"
   ]
  },
  {
   "cell_type": "code",
   "execution_count": 12,
   "id": "c103c8be-13fc-4d7e-b111-7f950f6cc9b9",
   "metadata": {},
   "outputs": [
    {
     "data": {
      "text/plain": [
       "<matplotlib.image.AxesImage at 0x7f9b545a5970>"
      ]
     },
     "execution_count": 12,
     "metadata": {},
     "output_type": "execute_result"
    },
    {
     "data": {
      "image/png": "[encoded data removed]",
      "text/plain": [
       "<Figure size 432x288 with 1 Axes>"
      ]
     },
     "metadata": {
      "needs_background": "light"
     },
     "output_type": "display_data"
    }
   ],
   "source": [
    "imshow(img0s1[0]-img0s2[0])"
   ]
  },
  {
   "cell_type": "markdown",
   "id": "75be97ef-98a7-4ac4-ada8-b24a7cc46bd9",
   "metadata": {},
   "source": [
    "# !!!"
   ]
  },
  {
   "cell_type": "code",
   "execution_count": null,
   "id": "76faecb3-4cc8-44ca-84ba-a261a87bc452",
   "metadata": {},
   "outputs": [],
   "source": []
  },
  {
   "cell_type": "code",
   "execution_count": null,
   "id": "58e22125-a5c2-40ac-81f5-c983cfffd7a2",
   "metadata": {},
   "outputs": [],
   "source": []
  }
 ],
 "metadata": {
  "kernelspec": {
   "display_name": "Python 3",
   "language": "python",
   "name": "python3"
  },
  "language_info": {
   "codemirror_mode": {
    "name": "ipython",
    "version": 3
   },
   "file_extension": ".py",
   "mimetype": "text/x-python",
   "name": "python",
   "nbconvert_exporter": "python",
   "pygments_lexer": "ipython3",
   "version": "3.8.6"
  }
 },
 "nbformat": 4,
 "nbformat_minor": 5
}
