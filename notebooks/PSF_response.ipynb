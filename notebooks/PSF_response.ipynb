{
 "cells": [
  {
   "cell_type": "markdown",
   "id": "641295d1-11d6-4530-bfcb-6cfce654a256",
   "metadata": {},
   "source": [
    "# Testing the PSF response"
   ]
  },
  {
   "cell_type": "code",
   "execution_count": 1,
   "id": "62f484bc-7342-4ced-9fc1-d909da447991",
   "metadata": {},
   "outputs": [
    {
     "name": "stdout",
     "output_type": "stream",
     "text": [
      "Populating the interactive namespace from numpy and matplotlib\n"
     ]
    }
   ],
   "source": [
    "%pylab inline"
   ]
  },
  {
   "cell_type": "code",
   "execution_count": 2,
   "id": "b1a8187a-5c2a-4ff8-8aec-854df3876842",
   "metadata": {},
   "outputs": [
    {
     "name": "stderr",
     "output_type": "stream",
     "text": [
      "<frozen importlib._bootstrap>:219: RuntimeWarning: scipy._lib.messagestream.MessageStream size changed, may indicate binary incompatibility. Expected 56 from C header, got 64 from PyObject\n"
     ]
    }
   ],
   "source": [
    "import autometacal as amc"
   ]
  },
  {
   "cell_type": "code",
   "execution_count": null,
   "id": "3b32b2e5-ece2-4115-a8a4-ae97e456aecc",
   "metadata": {},
   "outputs": [],
   "source": []
  }
 ],
 "metadata": {
  "kernelspec": {
   "display_name": "Python 3",
   "language": "python",
   "name": "python3"
  },
  "language_info": {
   "codemirror_mode": {
    "name": "ipython",
    "version": 3
   },
   "file_extension": ".py",
   "mimetype": "text/x-python",
   "name": "python",
   "nbconvert_exporter": "python",
   "pygments_lexer": "ipython3",
   "version": "3.8.8"
  }
 },
 "nbformat": 4,
 "nbformat_minor": 5
}
