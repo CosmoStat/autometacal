{
 "cells": [
  {
   "cell_type": "code",
   "execution_count": 5,
   "id": "bc9b523f-260e-48d8-9c8a-73ee20219f1a",
   "metadata": {},
   "outputs": [
    {
     "name": "stdout",
     "output_type": "stream",
     "text": [
      "WARNING:tensorflow:AutoGraph could not transform <function pfor.<locals>.f at 0x7ff1d9799700> and will run it as-is.\n",
      "Please report this to the TensorFlow team. When filing the bug, set the verbosity to 10 (on Linux, `export AUTOGRAPH_VERBOSITY=10`) and attach the full output.\n",
      "Cause: unsupported operand type(s) for -: 'NoneType' and 'int'\n",
      "To silence this warning, decorate the function with @tf.autograph.experimental.do_not_convert\n",
      "WARNING: AutoGraph could not transform <function pfor.<locals>.f at 0x7ff1d9799700> and will run it as-is.\n",
      "Please report this to the TensorFlow team. When filing the bug, set the verbosity to 10 (on Linux, `export AUTOGRAPH_VERBOSITY=10`) and attach the full output.\n",
      "Cause: unsupported operand type(s) for -: 'NoneType' and 'int'\n",
      "To silence this warning, decorate the function with @tf.autograph.experimental.do_not_convert\n",
      "WARNING:tensorflow:AutoGraph could not transform <function _convert_function_call.<locals>.f at 0x7ff399c079d0> and will run it as-is.\n",
      "Please report this to the TensorFlow team. When filing the bug, set the verbosity to 10 (on Linux, `export AUTOGRAPH_VERBOSITY=10`) and attach the full output.\n",
      "Cause: unsupported operand type(s) for -: 'NoneType' and 'int'\n",
      "To silence this warning, decorate the function with @tf.autograph.experimental.do_not_convert\n",
      "WARNING: AutoGraph could not transform <function _convert_function_call.<locals>.f at 0x7ff399c079d0> and will run it as-is.\n",
      "Please report this to the TensorFlow team. When filing the bug, set the verbosity to 10 (on Linux, `export AUTOGRAPH_VERBOSITY=10`) and attach the full output.\n",
      "Cause: unsupported operand type(s) for -: 'NoneType' and 'int'\n",
      "To silence this warning, decorate the function with @tf.autograph.experimental.do_not_convert\n",
      "WARNING:tensorflow:Using a while_loop for converting Addons>ResamplerGrad\n"
     ]
    }
   ],
   "source": [
    "import numpy as np\n",
    "from matplotlib import pyplot as plt\n",
    "from tensorflow_addons.image import resampler\n",
    "from scipy.misc import face\n",
    "from bumps import numdifftools\n",
    "import tensorflow as tf\n",
    "\n",
    "with tf.device(\"/CPU:0\"):\n",
    "    #get an image\n",
    "    image = face(gray=True)[-512:-512+51,-512:-512+51].astype('float32')\n",
    "    image_tf = tf.convert_to_tensor(image.reshape([1,51,51, 1]))\n",
    "\n",
    "    #set a warp\n",
    "    warp = np.stack(np.meshgrid(np.arange(51), np.arange(51)), axis=-1).astype('float32')\n",
    "    warp_tf = tf.convert_to_tensor(warp.reshape([1,51,51,2]))\n",
    "\n",
    "    #define a shift\n",
    "    shift = tf.zeros([1,2])\n",
    "\n",
    "    #calculate derivatives via tf.GradientTape\n",
    "    with tf.GradientTape() as tape:\n",
    "        tape.watch(shift)\n",
    "        ws = tf.reshape(shift,[1,1,1,2]) + warp_tf\n",
    "        o = resampler(image_tf, ws, tf.image.ResizeMethod.MITCHELLCUBIC)\n",
    "    autodiff_jacobian = tape.batch_jacobian(o, shift) "
   ]
  },
  {
   "cell_type": "code",
   "execution_count": 16,
   "id": "98a3c321-5b0a-4673-bb68-12b9b992a1b8",
   "metadata": {},
   "outputs": [],
   "source": [
    "var=3.0000000000000001\n"
   ]
  },
  {
   "cell_type": "code",
   "execution_count": 17,
   "id": "c2315322-3363-4b65-aa67-6b4e51239e8f",
   "metadata": {},
   "outputs": [],
   "source": [
    "import math"
   ]
  },
  {
   "cell_type": "code",
   "execution_count": 18,
   "id": "84de8ba1-bad9-49dc-bd80-503fae4dba15",
   "metadata": {},
   "outputs": [
    {
     "data": {
      "text/plain": [
       "array([ True,  True])"
      ]
     },
     "execution_count": 18,
     "metadata": {},
     "output_type": "execute_result"
    }
   ],
   "source": [
    "np.array([var,var]) == 3"
   ]
  },
  {
   "cell_type": "code",
   "execution_count": 19,
   "id": "967bc05e-44a9-438b-aaae-394403f547d6",
   "metadata": {},
   "outputs": [
    {
     "name": "stdout",
     "output_type": "stream",
     "text": [
      "202 µs ± 1.92 µs per loop (mean ± std. dev. of 7 runs, 10000 loops each)\n"
     ]
    }
   ],
   "source": [
    "%%timeit\n",
    "o = resampler(image_tf, ws, tf.image.ResizeMethod.MITCHELLCUBIC)"
   ]
  },
  {
   "cell_type": "code",
   "execution_count": null,
   "id": "5efe7107-d027-4b61-8f33-d3e70d0fd629",
   "metadata": {},
   "outputs": [],
   "source": []
  }
 ],
 "metadata": {
  "kernelspec": {
   "display_name": "Python 3",
   "language": "python",
   "name": "python3"
  },
  "language_info": {
   "codemirror_mode": {
    "name": "ipython",
    "version": 3
   },
   "file_extension": ".py",
   "mimetype": "text/x-python",
   "name": "python",
   "nbconvert_exporter": "python",
   "pygments_lexer": "ipython3",
   "version": "3.8.6"
  }
 },
 "nbformat": 4,
 "nbformat_minor": 5
}
