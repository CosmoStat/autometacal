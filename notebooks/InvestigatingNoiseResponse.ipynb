{
 "cells": [
  {
   "cell_type": "code",
   "execution_count": 1,
   "metadata": {},
   "outputs": [
    {
     "name": "stdout",
     "output_type": "stream",
     "text": [
      "Populating the interactive namespace from numpy and matplotlib\n"
     ]
    }
   ],
   "source": [
    "%pylab inline\n",
    "import os\n",
    "os.environ['CUDA_VISIBLE_DEVICES']=\"\"\n",
    "\n",
    "import autometacal\n",
    "import tensorflow as tf\n",
    "import galsim"
   ]
  },
  {
   "cell_type": "markdown",
   "metadata": {},
   "source": [
    "## Creating some data"
   ]
  },
  {
   "cell_type": "code",
   "execution_count": 2,
   "metadata": {},
   "outputs": [],
   "source": [
    "# let's try to do shape measurement using weigthed moments\n",
    "nx = 45\n",
    "ny = 45\n",
    "XX=np.zeros((nx,ny))\n",
    "XY=np.zeros((nx,ny))\n",
    "YY=np.zeros((nx,ny))\n",
    "w = np.zeros((nx,ny))\n",
    "sigma=5\n",
    "\n",
    "for i in range(0,nx):\n",
    "    x=0.5+i-(nx)/2.0\n",
    "    for j in range(0,ny):\n",
    "        y=0.5+j-(ny)/2.0\n",
    "        XX[i,j]=x*x\n",
    "        XY[i,j]=x*y\n",
    "        YY[i,j]=y*y\n",
    "        w[i,j]=np.exp(-((x) ** 2 + (y) ** 2) /\n",
    "                               (2 * sigma ** 2))\n",
    "\n",
    "def get_ellipticity(img):\n",
    "    img = tf.convert_to_tensor(img, dtype=tf.float32)\n",
    "    norm = tf.reduce_sum(w*img)\n",
    "    Q11 = tf.reduce_sum(w*img*YY)/norm\n",
    "    Q12 = tf.reduce_sum(w*img*XY)/norm\n",
    "    Q21 = Q12\n",
    "    Q22 = tf.reduce_sum(w*img*XX)/norm\n",
    "    \n",
    "    q1 = Q11 - Q22\n",
    "    q2 = 2*Q12\n",
    "    \n",
    "    T= Q11 + Q22  + 2*tf.sqrt(Q11*Q22 - Q12**2)\n",
    "    return q1/T, q2/T"
   ]
  },
  {
   "cell_type": "code",
   "execution_count": 3,
   "metadata": {},
   "outputs": [],
   "source": [
    "noise_level = 2e-3\n",
    "\n",
    "ref_gal = galsim.Exponential(half_light_radius=1.5).shear(g1=0.2,g2=0.1)\n",
    "ref_psf = galsim.Moffat(beta=2.5, fwhm=0.9)\n",
    "ref_reconv_psf = galsim.Moffat(beta=2.5, fwhm=1.)\n",
    "\n",
    "gal = galsim.Convolve([ref_gal, ref_psf]).drawImage(nx=45,ny=45, scale=0.263).array[np.newaxis]\n",
    "psf = ref_psf.drawImage(nx=45,ny=45, scale=0.263).array[np.newaxis]\n",
    "reconv_psf = ref_reconv_psf.drawImage(nx=45,ny=45, scale=0.263).array[np.newaxis]\n",
    "\n",
    "img0 = noise_level*tf.random.normal(shape=[1,45,45])"
   ]
  },
  {
   "cell_type": "code",
   "execution_count": 4,
   "metadata": {},
   "outputs": [
    {
     "data": {
      "text/plain": [
       "Text(0.5, 1.0, 'True Galaxy')"
      ]
     },
     "execution_count": 4,
     "metadata": {},
     "output_type": "execute_result"
    },
    {
     "data": {
      "image/png": "[encoded data removed]",
      "text/plain": [
       "<Figure size 1080x360 with 3 Axes>"
      ]
     },
     "metadata": {
      "needs_background": "light"
     },
     "output_type": "display_data"
    }
   ],
   "source": [
    "figure(figsize=[15,5])\n",
    "subplot(131)\n",
    "imshow(img0[0]+gal[0])\n",
    "title('Noisy observations')\n",
    "subplot(132)\n",
    "imshow(gal[0])\n",
    "title('Observations without noise')\n",
    "subplot(133)\n",
    "imshow(ref_gal.drawImage(nx=45,ny=45, scale=0.263).array)\n",
    "title('True Galaxy')"
   ]
  },
  {
   "cell_type": "markdown",
   "metadata": {},
   "source": [
    "## Measuring response "
   ]
  },
  {
   "cell_type": "code",
   "execution_count": 5,
   "metadata": {},
   "outputs": [],
   "source": [
    "# Step I, let's measure the total response on this galaxy, without any noise\n",
    "@tf.function\n",
    "def get_response(img, noise):\n",
    "    img = tf.convert_to_tensor(img)\n",
    "    noise = tf.convert_to_tensor(noise)\n",
    "    g = tf.zeros([1,2])\n",
    "    with tf.GradientTape() as tape:\n",
    "        tape.watch(g)\n",
    "        mcal = autometacal.generate_mcal_image(img, psf, reconv_psf, g)\n",
    "        mcal_noise = autometacal.generate_mcal_image(noise, psf, reconv_psf, tf.zeros([1,2]))\n",
    "        mcal = mcal + mcal_noise\n",
    "        e = tf.reshape(get_ellipticity(mcal[0]), [1,2])\n",
    "    res = tape.batch_jacobian(e,g)\n",
    "    return mcal, e, res"
   ]
  },
  {
   "cell_type": "code",
   "execution_count": 6,
   "metadata": {},
   "outputs": [
    {
     "name": "stdout",
     "output_type": "stream",
     "text": [
      "WARNING:tensorflow:Using a while_loop for converting Roll\n",
      "WARNING:tensorflow:Using a while_loop for converting Roll\n",
      "WARNING:tensorflow:Using a while_loop for converting Addons>ResamplerGrad\n",
      "WARNING:tensorflow:Using a while_loop for converting Addons>ResamplerGrad\n"
     ]
    },
    {
     "data": {
      "text/plain": [
       "(<tf.Tensor: shape=(1, 2), dtype=float32, numpy=array([[0.06494457, 0.03247015]], dtype=float32)>,\n",
       " <tf.Tensor: shape=(1, 2, 2), dtype=float32, numpy=\n",
       " array([[[ 3.5876793e-01, -1.9329786e-04],\n",
       "         [-8.0222562e-03,  2.9750362e-01]]], dtype=float32)>)"
      ]
     },
     "execution_count": 6,
     "metadata": {},
     "output_type": "execute_result"
    }
   ],
   "source": [
    "# This is the response if we had an image without any noise\n",
    "ir, er, Rr = get_response(gal, 0*img0)\n",
    "er, Rr"
   ]
  },
  {
   "cell_type": "markdown",
   "metadata": {},
   "source": [
    "Now we add noise but, the noise is not sheared"
   ]
  },
  {
   "cell_type": "code",
   "execution_count": 7,
   "metadata": {},
   "outputs": [],
   "source": [
    "Rrs = []\n",
    "for i in range(5000):\n",
    "    img = noise_level*tf.random.normal(shape=[1,45,45])\n",
    "    i, e, R = get_response(gal, img)\n",
    "    Rrs.append(R[0])\n",
    "Rrs = np.stack(Rrs, axis=0)"
   ]
  },
  {
   "cell_type": "code",
   "execution_count": 8,
   "metadata": {},
   "outputs": [
    {
     "name": "stdout",
     "output_type": "stream",
     "text": [
      "mean: 0.0017351791 0.0013033198\n",
      "%bias: 0.4836494568735361 0.4380853846669197\n",
      "error on mean: 1.1126622557640076e-05 8.852962404489517e-06\n"
     ]
    },
    {
     "data": {
      "image/png": "[encoded data removed]",
      "text/plain": [
       "<Figure size 432x288 with 1 Axes>"
      ]
     },
     "metadata": {
      "needs_background": "light"
     },
     "output_type": "display_data"
    }
   ],
   "source": [
    "hist(Rrs[:,0,0] - Rr[0,0,0].numpy(),32, label='R00', range=[-0.1,0.1], alpha=0.5);\n",
    "hist(Rrs[:,1,1] - Rr[0,1,1].numpy(),32, label='R11', range=[-0.1,0.1], alpha=0.5);\n",
    "\n",
    "legend()\n",
    "axvline(mean(Rrs[:,0,0] - Rr[0,0,0].numpy()))\n",
    "axvline(mean(Rrs[:,1,1] - Rr[0,1,1].numpy()))\n",
    "print(\"mean:\",mean(Rrs[:,0,0] - Rr[0,0,0].numpy()), mean(Rrs[:,1,1] - Rr[0,1,1].numpy()))\n",
    "print(\"%bias:\",mean(Rrs[:,0,0] - Rr[0,0,0].numpy())/Rr[0,0,0].numpy()*100, \n",
    "               mean(Rrs[:,1,1] - Rr[0,1,1].numpy())/Rr[0,1,1].numpy()*100)\n",
    "print(\"error on mean:\",std(Rrs[:,0,0] - Rr[0,0,0].numpy())/sqrt(2000), std(Rrs[:,1,1] - Rr[0,1,1].numpy())/sqrt(2000))"
   ]
  },
  {
   "cell_type": "code",
   "execution_count": 9,
   "metadata": {},
   "outputs": [
    {
     "name": "stdout",
     "output_type": "stream",
     "text": [
      "mean: 2.4152954e-05 -5.619184e-05\n",
      "%bias: -0.3010743297636509 29.0700763463974\n",
      "error on mean: 6.957598961889744e-07 1.4565855963155628e-06\n"
     ]
    },
    {
     "data": {
      "image/png": "[encoded data removed]",
      "text/plain": [
       "<Figure size 432x288 with 1 Axes>"
      ]
     },
     "metadata": {
      "needs_background": "light"
     },
     "output_type": "display_data"
    }
   ],
   "source": [
    "hist(Rrs[:,0,1] - Rr[0,0,1].numpy(),32, label='R01', range=[-0.01,0.01], alpha=0.5);\n",
    "hist(Rrs[:,1,0] - Rr[0,1,0].numpy(),32, label='R10', range=[-0.01,0.01], alpha=0.5);\n",
    "\n",
    "legend()\n",
    "axvline(mean(Rrs[:,1,0] - Rr[0,1,0].numpy()))\n",
    "axvline(mean(Rrs[:,0,1] - Rr[0,0,1].numpy()))\n",
    "print(\"mean:\",mean(Rrs[:,1,0] - Rr[0,1,0].numpy()), mean(Rrs[:,0,1] - Rr[0,0,1].numpy()))\n",
    "print(\"%bias:\",mean(Rrs[:,1,0] - Rr[0,1,0].numpy())/Rr[0,1,0].numpy()*100, \n",
    "               mean(Rrs[:,0,1] - Rr[0,0,1].numpy())/Rr[0,0,1].numpy()*100)\n",
    "print(\"error on mean:\",std(Rrs[:,1,0] - Rr[0,1,0].numpy())/sqrt(2000), std(Rrs[:,0,1] - Rr[0,0,1].numpy())/sqrt(2000)"
   ]
  },
  {
   "cell_type": "code",
   "execution_count": 10,
   "metadata": {},
   "outputs": [],
   "source": [
    "# So, this will become our reference response matrix, the one that would be true if the noise was indeed added\n",
    "# after the shearing operation on the sky\n",
    "mR = Rrs.mean(axis=0)"
   ]
  },
  {
   "cell_type": "code",
   "execution_count": 11,
   "metadata": {},
   "outputs": [
    {
     "data": {
      "text/plain": [
       "(array([[ 3.6050314e-01, -2.4948959e-04],\n",
       "        [-7.9981163e-03,  2.9880735e-01]], dtype=float32),\n",
       " <tf.Tensor: shape=(2, 2), dtype=float32, numpy=\n",
       " array([[ 3.5876793e-01, -1.9329786e-04],\n",
       "        [-8.0222562e-03,  2.9750362e-01]], dtype=float32)>)"
      ]
     },
     "execution_count": 11,
     "metadata": {},
     "output_type": "execute_result"
    }
   ],
   "source": [
    "# And it should be different from the one without any noise\n",
    "mR, Rr[0]"
   ]
  },
  {
   "cell_type": "markdown",
   "metadata": {},
   "source": [
    "Very interestingly, in this case at least, the noise only seems to affect the diagonal part of the response matrix"
   ]
  },
  {
   "cell_type": "markdown",
   "metadata": {},
   "source": [
    "Now we add random noise on the image before shearing and compute the total response again"
   ]
  },
  {
   "cell_type": "code",
   "execution_count": 12,
   "metadata": {},
   "outputs": [],
   "source": [
    "Rs = []\n",
    "for i in range(2000):\n",
    "    img = noise_level*tf.random.normal(shape=[1,45,45])\n",
    "    i, e, R = get_response(gal+img, 0*img)\n",
    "    Rs.append(R[0])\n",
    "Rs = np.stack(Rs, axis=0)"
   ]
  },
  {
   "cell_type": "code",
   "execution_count": 13,
   "metadata": {},
   "outputs": [
    {
     "data": {
      "text/plain": [
       "Text(0.5, 1.0, 'Resiudal image')"
      ]
     },
     "execution_count": 13,
     "metadata": {},
     "output_type": "execute_result"
    },
    {
     "data": {
      "image/png": "[encoded data removed]",
      "text/plain": [
       "<Figure size 1080x360 with 6 Axes>"
      ]
     },
     "metadata": {
      "needs_background": "light"
     },
     "output_type": "display_data"
    }
   ],
   "source": [
    "figure(figsize=[15,5])\n",
    "subplot(131)\n",
    "imshow((gal+img)[0]); colorbar()\n",
    "title('Input image')\n",
    "subplot(132)\n",
    "imshow(i[0]); colorbar()\n",
    "title('Metacal image')\n",
    "subplot(133)\n",
    "imshow(i[0] - (gal+img)[0]); colorbar()\n",
    "title('Resiudal image')"
   ]
  },
  {
   "cell_type": "code",
   "execution_count": 14,
   "metadata": {},
   "outputs": [
    {
     "name": "stdout",
     "output_type": "stream",
     "text": [
      "mean: -0.0016655253 -0.0005426075\n",
      "error on mean: 1.4326325617730617e-05 1.9591661170125006e-05\n"
     ]
    },
    {
     "data": {
      "image/png": "[encoded data removed]",
      "text/plain": [
       "<Figure size 432x288 with 1 Axes>"
      ]
     },
     "metadata": {
      "needs_background": "light"
     },
     "output_type": "display_data"
    }
   ],
   "source": [
    "# Residuals with respect to a case where noise is not sheared\n",
    "hist(Rs[:,0,0] - mR[0,0],32, label='R00', range=[-0.1,0.1], alpha=0.5);\n",
    "hist(Rs[:,1,1] - mR[1,1],32, label='R11', range=[-0.1,0.1], alpha=0.5);\n",
    "\n",
    "legend()\n",
    "axvline(mean(Rs[:,0,0] - mR[0,0]))\n",
    "axvline(mean(Rs[:,1,1] - mR[1,1]))\n",
    "print(\"mean:\",mean(Rs[:,0,0] - mR[0,0]), mean(Rs[:,1,1] - mR[1,1]))\n",
    "print(\"error on mean:\",std(Rs[:,0,0] - mR[0,0])/sqrt(2000), std(Rs[:,1,1] - mR[1,1])/sqrt(2000))"
   ]
  },
  {
   "cell_type": "code",
   "execution_count": 15,
   "metadata": {},
   "outputs": [
    {
     "name": "stdout",
     "output_type": "stream",
     "text": [
      "mean: 0.0010094669 0.00057751185\n",
      "error on mean: 1.5088798478245735e-05 1.2460239231586456e-05\n"
     ]
    },
    {
     "data": {
      "image/png": "[encoded data removed]",
      "text/plain": [
       "<Figure size 432x288 with 1 Axes>"
      ]
     },
     "metadata": {
      "needs_background": "light"
     },
     "output_type": "display_data"
    }
   ],
   "source": [
    "hist(Rs[:,0,1] - mR[0,1],32, label='R01', range=[-0.1,0.1], alpha=0.5);\n",
    "hist(Rs[:,1,0] - mR[1,0],32, label='R10', range=[-0.1,0.1], alpha=0.5);\n",
    "\n",
    "legend()\n",
    "axvline(mean(Rs[:,0,1] - mR[0,1]))\n",
    "axvline(mean(Rs[:,1,0] - mR[1,0]))\n",
    "print(\"mean:\",mean(Rs[:,0,1] - mR[0,1]), mean(Rs[:,1,0] - mR[1,0]))\n",
    "print(\"error on mean:\",std(Rs[:,0,1] - mR[0,1])/sqrt(2000), std(Rs[:,1,0] - mR[1,0])/sqrt(2000))"
   ]
  },
  {
   "cell_type": "code",
   "execution_count": 16,
   "metadata": {},
   "outputs": [],
   "source": [
    "# This is the mean response matrix in practice from metacal without correction\n",
    "mRs = Rs.mean(axis=0)"
   ]
  },
  {
   "cell_type": "code",
   "execution_count": 17,
   "metadata": {},
   "outputs": [
    {
     "data": {
      "text/plain": [
       "array([[ 4.6204355e-01, -4.0461258e+02],\n",
       "       [-7.2205448e+00,  1.8157227e-01]], dtype=float32)"
      ]
     },
     "execution_count": 17,
     "metadata": {},
     "output_type": "execute_result"
    }
   ],
   "source": [
    "# Bias in percent\n",
    "abs(mRs - mR)/mR*100"
   ]
  },
  {
   "cell_type": "markdown",
   "metadata": {},
   "source": [
    "## Measuring bias term by term\n",
    "\n",
    "So, we know that the Jacobian can be written as:\n",
    "$$ \\frac{d e}{d I} \\frac{d I}{d g} = \\frac{d e}{d I}(I+n) \\left(\\frac{d I}{d g}(I_{gal}) + \\frac{d I}{d g}(n)\\right)$$\n",
    "\n",
    "Can we measure this term $\\frac{d e}{d I}(I+n) \\frac{d I}{d g}(n)$?\n",
    "\n",
    "To test that, we can try to compute the first term $\\frac{d e}{d I}(I+n) \\frac{d I}{d g}(I_{gal})$"
   ]
  },
  {
   "cell_type": "code",
   "execution_count": 18,
   "metadata": {},
   "outputs": [],
   "source": [
    "# we first need to compute dI/dg for the galaxy image\n",
    "@tf.function\n",
    "def get_jacobian(img):\n",
    "    img = tf.convert_to_tensor(img)\n",
    "    bs,nx,ny = img.shape.as_list()\n",
    "    g = tf.zeros([bs,2])\n",
    "    with tf.GradientTape() as tape:\n",
    "        tape.watch(g)\n",
    "        mcal = autometacal.generate_mcal_image(img, psf, reconv_psf, g)\n",
    "    res = tape.batch_jacobian(mcal,g)\n",
    "    return mcal, res"
   ]
  },
  {
   "cell_type": "code",
   "execution_count": 19,
   "metadata": {},
   "outputs": [
    {
     "name": "stdout",
     "output_type": "stream",
     "text": [
      "WARNING:tensorflow:Using a while_loop for converting Roll\n",
      "WARNING:tensorflow:Using a while_loop for converting Roll\n",
      "WARNING:tensorflow:Using a while_loop for converting Addons>ResamplerGrad\n",
      "WARNING:tensorflow:Using a while_loop for converting Addons>ResamplerGrad\n"
     ]
    }
   ],
   "source": [
    "mcal, image_jacobian = get_jacobian(gal)"
   ]
  },
  {
   "cell_type": "code",
   "execution_count": 20,
   "metadata": {},
   "outputs": [
    {
     "data": {
      "text/plain": [
       "<matplotlib.image.AxesImage at 0x7f968c389490>"
      ]
     },
     "execution_count": 20,
     "metadata": {},
     "output_type": "execute_result"
    },
    {
     "data": {
      "image/png": "[encoded data removed]",
      "text/plain": [
       "<Figure size 1080x360 with 3 Axes>"
      ]
     },
     "metadata": {
      "needs_background": "light"
     },
     "output_type": "display_data"
    }
   ],
   "source": [
    "figure(figsize=[15,5])\n",
    "subplot(131)\n",
    "imshow(mcal[0])\n",
    "subplot(132)\n",
    "imshow(image_jacobian[0,:,:,0])\n",
    "subplot(133)\n",
    "imshow(image_jacobian[0,:,:,1])"
   ]
  },
  {
   "cell_type": "code",
   "execution_count": 21,
   "metadata": {},
   "outputs": [],
   "source": [
    "# And we can compute the jacobian of the ellipticity measurement\n",
    "@tf.function\n",
    "def get_ellipticity_jacobian(img, noise):\n",
    "    img = tf.convert_to_tensor(img)\n",
    "    noise = tf.convert_to_tensor(noise)\n",
    "    g = tf.zeros([1,2])\n",
    "    with tf.GradientTape() as tape:\n",
    "        tape.watch(img)\n",
    "        tape.watch(noise)\n",
    "        mcal = autometacal.generate_mcal_image(img, psf, reconv_psf, g)\n",
    "        mcal_noise = autometacal.generate_mcal_image(noise, psf, reconv_psf, tf.zeros([1,2]))\n",
    "        mcal = mcal + mcal_noise\n",
    "        e = tf.reshape(get_ellipticity(mcal), [1,2])\n",
    "        res = tape.batch_jacobian(e,mcal)\n",
    "    return e, res"
   ]
  },
  {
   "cell_type": "code",
   "execution_count": 22,
   "metadata": {},
   "outputs": [],
   "source": [
    "e, e_jacobian = get_ellipticity_jacobian(gal, 0*img0)"
   ]
  },
  {
   "cell_type": "code",
   "execution_count": 23,
   "metadata": {},
   "outputs": [
    {
     "data": {
      "text/plain": [
       "<matplotlib.image.AxesImage at 0x7f966c3be190>"
      ]
     },
     "execution_count": 23,
     "metadata": {},
     "output_type": "execute_result"
    },
    {
     "data": {
      "image/png": "[encoded data removed]",
      "text/plain": [
       "<Figure size 1080x360 with 3 Axes>"
      ]
     },
     "metadata": {
      "needs_background": "light"
     },
     "output_type": "display_data"
    }
   ],
   "source": [
    "figure(figsize=[15,5])\n",
    "subplot(131)\n",
    "imshow(mcal[0])\n",
    "subplot(132)\n",
    "imshow(e_jacobian[0,0,:,:])\n",
    "subplot(133)\n",
    "imshow(e_jacobian[0,1,:,:])"
   ]
  },
  {
   "cell_type": "code",
   "execution_count": 24,
   "metadata": {},
   "outputs": [
    {
     "data": {
      "text/plain": [
       "TensorShape([1, 2, 45, 45])"
      ]
     },
     "execution_count": 24,
     "metadata": {},
     "output_type": "execute_result"
    }
   ],
   "source": [
    "e_jacobian.shape"
   ]
  },
  {
   "cell_type": "code",
   "execution_count": 25,
   "metadata": {},
   "outputs": [
    {
     "data": {
      "text/plain": [
       "TensorShape([1, 45, 45, 2])"
      ]
     },
     "execution_count": 25,
     "metadata": {},
     "output_type": "execute_result"
    }
   ],
   "source": [
    "image_jacobian.shape"
   ]
  },
  {
   "cell_type": "code",
   "execution_count": 26,
   "metadata": {},
   "outputs": [],
   "source": [
    "R_manual = tf.tensordot(e_jacobian, image_jacobian, axes=[[2,3],[1,2]])"
   ]
  },
  {
   "cell_type": "code",
   "execution_count": 27,
   "metadata": {},
   "outputs": [
    {
     "data": {
      "text/plain": [
       "(<tf.Tensor: shape=(1, 2, 1, 2), dtype=float32, numpy=\n",
       " array([[[[ 3.5876811e-01, -1.9315982e-04]],\n",
       " \n",
       "         [[-8.0225430e-03,  2.9750314e-01]]]], dtype=float32)>,\n",
       " <tf.Tensor: shape=(1, 2, 2), dtype=float32, numpy=\n",
       " array([[[ 3.5876793e-01, -1.9329786e-04],\n",
       "         [-8.0222562e-03,  2.9750362e-01]]], dtype=float32)>)"
      ]
     },
     "execution_count": 27,
     "metadata": {},
     "output_type": "execute_result"
    }
   ],
   "source": [
    "R_manual, Rr"
   ]
  },
  {
   "cell_type": "markdown",
   "metadata": {},
   "source": [
    "Ok, we indeed recover the correct response matrix when we compute it manually"
   ]
  },
  {
   "cell_type": "code",
   "execution_count": 43,
   "metadata": {},
   "outputs": [],
   "source": [
    "# Alright, so here we will compute the noisy ellipticity jacobian, but\n",
    "# assume the noise response to shear is 0\n",
    "Rm = []\n",
    "Rm2 = []\n",
    "for i in range(5000):\n",
    "    img = noise_level*tf.random.normal(shape=[1,45,45])\n",
    "    _, e_jac = get_ellipticity_jacobian(gal, img)\n",
    "    R = tf.tensordot(e_jac, image_jacobian, axes=[[2,3],[1,2]])\n",
    "    _, _, R2 = get_response(gal, img)\n",
    "    Rm.append(R[0,:,0])\n",
    "    Rm2.append(R2[0])\n",
    "Rm = np.stack(Rm, axis=0)\n",
    "Rm2 = np.stack(Rm2, axis=0)"
   ]
  },
  {
   "cell_type": "code",
   "execution_count": 34,
   "metadata": {},
   "outputs": [],
   "source": [
    "# Check that it's doing what it's supposed to"
   ]
  },
  {
   "cell_type": "code",
   "execution_count": 30,
   "metadata": {},
   "outputs": [],
   "source": [
    "i, e, R_test = get_response(gal, img)"
   ]
  },
  {
   "cell_type": "code",
   "execution_count": 31,
   "metadata": {},
   "outputs": [
    {
     "data": {
      "text/plain": [
       "<tf.Tensor: shape=(2, 2), dtype=float32, numpy=\n",
       "array([[ 7.7486038e-07,  3.0547380e-07],\n",
       "       [-7.9907477e-07, -4.4703484e-07]], dtype=float32)>"
      ]
     },
     "execution_count": 31,
     "metadata": {},
     "output_type": "execute_result"
    }
   ],
   "source": [
    "R_test[0] - R[0,:,0]"
   ]
  },
  {
   "cell_type": "code",
   "execution_count": 32,
   "metadata": {},
   "outputs": [],
   "source": [
    "i, e, R_test = get_response(gal+ img,0*img)"
   ]
  },
  {
   "cell_type": "code",
   "execution_count": 33,
   "metadata": {},
   "outputs": [
    {
     "data": {
      "text/plain": [
       "<tf.Tensor: shape=(2, 2), dtype=float32, numpy=\n",
       "array([[0.00715941, 0.04017202],\n",
       "       [0.02763738, 0.01990676]], dtype=float32)>"
      ]
     },
     "execution_count": 33,
     "metadata": {},
     "output_type": "execute_result"
    }
   ],
   "source": [
    "R_test[0] - R[0,:,0]"
   ]
  },
  {
   "cell_type": "code",
   "execution_count": 44,
   "metadata": {},
   "outputs": [],
   "source": [
    "# Ok. confirmed, we are indeed computing the response only with respect to the first term"
   ]
  },
  {
   "cell_type": "code",
   "execution_count": 42,
   "metadata": {},
   "outputs": [
    {
     "name": "stdout",
     "output_type": "stream",
     "text": [
      "mean: 0.000639379 0.000538512\n",
      "error on mean: 0.00031214048203399234 0.0002492343613397394\n"
     ]
    },
    {
     "data": {
      "image/png": "[encoded data removed]",
      "text/plain": [
       "<Figure size 432x288 with 1 Axes>"
      ]
     },
     "metadata": {
      "needs_background": "light"
     },
     "output_type": "display_data"
    }
   ],
   "source": [
    "hist(Rm[:,0,0] - mR[0,0],32, label='R00', range=[-0.1,0.1], alpha=0.5);\n",
    "hist(Rm[:,1,1] - mR[1,1],32, label='R11', range=[-0.1,0.1], alpha=0.5);\n",
    "\n",
    "legend()\n",
    "axvline(mean(Rm[:,0,0] - mR[0,0]))\n",
    "axvline(mean(Rm[:,1,1] - mR[1,1]))\n",
    "print(\"mean:\",mean(Rm[:,0,0])- mR[0,0], mean(Rm[:,1,1] - mR[1,1]))\n",
    "print(\"error on mean:\",std(Rm[:,0,0] - mR[0,0])/sqrt(5000), std(Rm[:,1,1] - mR[1,1])/sqrt(5000))"
   ]
  },
  {
   "cell_type": "code",
   "execution_count": 41,
   "metadata": {},
   "outputs": [
    {
     "name": "stdout",
     "output_type": "stream",
     "text": [
      "mean: -7.4488626e-06 3.4620255e-06\n",
      "error on mean: 2.027292553968481e-05 4.080569298588436e-05\n"
     ]
    },
    {
     "data": {
      "image/png": "[encoded data removed]",
      "text/plain": [
       "<Figure size 432x288 with 1 Axes>"
      ]
     },
     "metadata": {
      "needs_background": "light"
     },
     "output_type": "display_data"
    }
   ],
   "source": [
    "hist(Rm[:,1,0] - mR[1,0],32, label='R10', range=[-0.01,0.01], alpha=0.5);\n",
    "hist(Rm[:,0,1] - mR[0,1],32, label='R01', range=[-0.01,0.01], alpha=0.5);\n",
    "\n",
    "legend()\n",
    "axvline(mean(Rm[:,1,0] - mR[1,0]))\n",
    "axvline(mean(Rm[:,0,1] - mR[0,1]))\n",
    "print(\"mean:\",mean(Rm[:,1,0] - mR[1,0]), mean(Rm[:,0,1] - mR[0,1]))\n",
    "print(\"error on mean:\",std(Rm[:,1,0] - mR[1,0])/sqrt(5000), std(Rm[:,0,1] - mR[0,1])/sqrt(5000))"
   ]
  },
  {
   "cell_type": "code",
   "execution_count": 49,
   "metadata": {},
   "outputs": [
    {
     "data": {
      "text/plain": [
       "array([[-5.7800230e-07, -2.0406398e-04],\n",
       "       [-2.5834472e-05,  7.9686413e-07]], dtype=float32)"
      ]
     },
     "execution_count": 49,
     "metadata": {},
     "output_type": "execute_result"
    }
   ],
   "source": [
    "(Rm.mean(axis=0)- Rm2.mean(axis=0))/Rm2.mean(axis=0)"
   ]
  },
  {
   "cell_type": "code",
   "execution_count": 51,
   "metadata": {},
   "outputs": [
    {
     "data": {
      "text/plain": [
       "array([[  0.5820646 , 147.33824   ],\n",
       "       [ -8.331478  ,   0.31229687]], dtype=float32)"
      ]
     },
     "execution_count": 51,
     "metadata": {},
     "output_type": "execute_result"
    }
   ],
   "source": [
    "abs(Rm.mean(axis=0) - mRs)/mRs*100"
   ]
  },
  {
   "cell_type": "markdown",
   "metadata": {},
   "source": [
    "## Evaluating the second term directly\n"
   ]
  },
  {
   "cell_type": "code",
   "execution_count": 77,
   "metadata": {},
   "outputs": [],
   "source": [
    "# This will ignore the gradient with respect to the image, and just grab the gradient with respect to noise\n",
    "Rns = []\n",
    "Rgs = []\n",
    "Rts = []\n",
    "for i in range(5000):\n",
    "    img = noise_level*tf.random.normal(shape=[1,45,45])\n",
    "    _, _, Rn = get_response(img, gal) # Measure the de/di dI/dg(n) <- should be the source of bias\n",
    "    _, _, Rg = get_response(gal, img) # Measure the de/di dI/dg(Igal) <- should be the true\n",
    "    _, _, Rt = get_response(gal + img, 0*img) # Measure the de/di dI/dg(Igal+n) <- What we can measure in practice\n",
    "    \n",
    "    Rns.append(Rn[0])\n",
    "    Rgs.append(Rg[0])\n",
    "    Rts.append(Rt[0])"
   ]
  },
  {
   "cell_type": "code",
   "execution_count": 78,
   "metadata": {},
   "outputs": [],
   "source": [
    "Rns = np.stack(Rns,axis=0)\n",
    "Rgs = np.stack(Rgs,axis=0)\n",
    "Rts = np.stack(Rts,axis=0)"
   ]
  },
  {
   "cell_type": "code",
   "execution_count": 80,
   "metadata": {},
   "outputs": [
    {
     "data": {
      "text/plain": [
       "array([[-0.00115478,  0.00111552],\n",
       "       [ 0.00067625, -0.00083297]], dtype=float32)"
      ]
     },
     "execution_count": 80,
     "metadata": {},
     "output_type": "execute_result"
    }
   ],
   "source": [
    "Rns.mean(axis=0)"
   ]
  },
  {
   "cell_type": "code",
   "execution_count": 81,
   "metadata": {},
   "outputs": [
    {
     "data": {
      "text/plain": [
       "array([[ 3.6068901e-01, -3.0310225e-04],\n",
       "       [-7.9990597e-03,  2.9894286e-01]], dtype=float32)"
      ]
     },
     "execution_count": 81,
     "metadata": {},
     "output_type": "execute_result"
    }
   ],
   "source": [
    "Rgs.mean(axis=0)"
   ]
  },
  {
   "cell_type": "code",
   "execution_count": 82,
   "metadata": {},
   "outputs": [
    {
     "data": {
      "text/plain": [
       "array([[ 0.359534  ,  0.00081244],\n",
       "       [-0.00732278,  0.29810992]], dtype=float32)"
      ]
     },
     "execution_count": 82,
     "metadata": {},
     "output_type": "execute_result"
    }
   ],
   "source": [
    "Rts.mean(axis=0) "
   ]
  },
  {
   "cell_type": "code",
   "execution_count": 83,
   "metadata": {},
   "outputs": [
    {
     "data": {
      "text/plain": [
       "array([[ 0.35953423,  0.00081242],\n",
       "       [-0.00732281,  0.2981099 ]], dtype=float32)"
      ]
     },
     "execution_count": 83,
     "metadata": {},
     "output_type": "execute_result"
    }
   ],
   "source": [
    "Rgs.mean(axis=0) + Rns.mean(axis=0)"
   ]
  },
  {
   "cell_type": "code",
   "execution_count": 85,
   "metadata": {},
   "outputs": [
    {
     "data": {
      "text/plain": [
       "array([[  0.3212544 , 137.3077    ],\n",
       "       [ -9.235234  ,   0.27940872]], dtype=float32)"
      ]
     },
     "execution_count": 85,
     "metadata": {},
     "output_type": "execute_result"
    }
   ],
   "source": [
    "abs(Rgs.mean(axis=0) - Rts.mean(axis=0))/Rts.mean(axis=0)*100"
   ]
  },
  {
   "cell_type": "code",
   "execution_count": 86,
   "metadata": {},
   "outputs": [
    {
     "data": {
      "text/plain": [
       "array([[  0.3211883 , 137.30482   ],\n",
       "       [ -9.2348385 ,   0.27941585]], dtype=float32)"
      ]
     },
     "execution_count": 86,
     "metadata": {},
     "output_type": "execute_result"
    }
   ],
   "source": [
    "abs(Rns.mean(axis=0))/Rts.mean(axis=0)*100"
   ]
  },
  {
   "cell_type": "markdown",
   "metadata": {},
   "source": [
    "## Trying to estimate second term by noise simulations"
   ]
  },
  {
   "cell_type": "code",
   "execution_count": 176,
   "metadata": {},
   "outputs": [
    {
     "name": "stdout",
     "output_type": "stream",
     "text": [
      "4.56 s ± 36.2 ms per loop (mean ± std. dev. of 7 runs, 1 loop each)\n"
     ]
    }
   ],
   "source": [
    "mcal, image_jacobian = get_jacobian(gal+img0)"
   ]
  },
  {
   "cell_type": "code",
   "execution_count": 123,
   "metadata": {},
   "outputs": [
    {
     "data": {
      "text/plain": [
       "<matplotlib.image.AxesImage at 0x7f966c1041f0>"
      ]
     },
     "execution_count": 123,
     "metadata": {},
     "output_type": "execute_result"
    },
    {
     "data": {
      "image/png": "[encoded data removed]",
      "text/plain": [
       "<Figure size 1080x360 with 3 Axes>"
      ]
     },
     "metadata": {
      "needs_background": "light"
     },
     "output_type": "display_data"
    }
   ],
   "source": [
    "figure(figsize=[15,5])\n",
    "subplot(131)\n",
    "imshow(mcal[0])\n",
    "subplot(132)\n",
    "imshow(image_jacobian[0,:,:,0])\n",
    "subplot(133)\n",
    "imshow(image_jacobian[0,:,:,1])"
   ]
  },
  {
   "cell_type": "code",
   "execution_count": 133,
   "metadata": {},
   "outputs": [
    {
     "data": {
      "text/plain": [
       "<matplotlib.image.AxesImage at 0x7f966c2f4a90>"
      ]
     },
     "execution_count": 133,
     "metadata": {},
     "output_type": "execute_result"
    },
    {
     "data": {
      "image/png": "[encoded data removed]",
      "text/plain": [
       "<Figure size 1080x360 with 3 Axes>"
      ]
     },
     "metadata": {
      "needs_background": "light"
     },
     "output_type": "display_data"
    }
   ],
   "source": [
    "figure(figsize=[15,5])\n",
    "subplot(131)\n",
    "imshow(mcal[0])\n",
    "subplot(132)\n",
    "imshow(e_jacobian[0,0,:,:])\n",
    "subplot(133)\n",
    "imshow(e_jacobian[0,1,:,:])"
   ]
  },
  {
   "cell_type": "code",
   "execution_count": 225,
   "metadata": {},
   "outputs": [],
   "source": [
    "@tf.function\n",
    "def get_ellipticity_jacobian2(img):\n",
    "    img = tf.convert_to_tensor(img)\n",
    "    with tf.GradientTape() as tape:\n",
    "        tape.watch(img)\n",
    "        e = tf.reshape(get_ellipticity(img), [1,2])\n",
    "        res = tape.batch_jacobian(e,img)\n",
    "    return e, res"
   ]
  },
  {
   "cell_type": "code",
   "execution_count": 226,
   "metadata": {},
   "outputs": [],
   "source": [
    "_, e_jacobian = get_ellipticity_jacobian2(gal+img0)"
   ]
  },
  {
   "cell_type": "code",
   "execution_count": 227,
   "metadata": {},
   "outputs": [
    {
     "data": {
      "text/plain": [
       "TensorShape([1, 2, 45, 45])"
      ]
     },
     "execution_count": 227,
     "metadata": {},
     "output_type": "execute_result"
    }
   ],
   "source": [
    "e_jacobian.shape"
   ]
  },
  {
   "cell_type": "code",
   "execution_count": 228,
   "metadata": {},
   "outputs": [],
   "source": [
    "# # ok cool, so, now... question is whether we can estimate the bias term \n",
    "# @tf.custom_gradient\n",
    "# def myellipticit(img):\n",
    "#     def backward(dy):\n",
    "#         e_jac = get_ellipticity_jacobian2(gal+img)\n",
    "#         return tf.tensordot(dy,e_jacobian,[[1],[1]])[:,0]\n",
    "#     return tf.reshape(get_ellipticity(y[0]),[1,2]), backward"
   ]
  },
  {
   "cell_type": "code",
   "execution_count": 233,
   "metadata": {},
   "outputs": [],
   "source": [
    "@tf.function\n",
    "def get_custom_response(img):\n",
    "    img = tf.convert_to_tensor(img)\n",
    "    g = tf.zeros([1,2])\n",
    "    \n",
    "    @tf.custom_gradient\n",
    "    def myellipt(y):\n",
    "        def backward(dy):\n",
    "            _, e_jac = get_ellipticity_jacobian2(gal+img)\n",
    "            return tf.tensordot(dy,e_jac,[[1],[1]])[:,0]\n",
    "        return tf.reshape(get_ellipticity(y[0]),[1,2]), backward\n",
    "    \n",
    "    with tf.GradientTape() as tape:\n",
    "        tape.watch(g)\n",
    "        tape.watch(img)\n",
    "        imgn = noise_level*tf.random.normal(shape=[1,45,45])\n",
    "        mcal = autometacal.generate_mcal_image(imgn, psf, reconv_psf, g)\n",
    "        e = myellipt(mcal)\n",
    "    res = tape.batch_jacobian(e,g)\n",
    "    return mcal, e, res"
   ]
  },
  {
   "cell_type": "code",
   "execution_count": 207,
   "metadata": {},
   "outputs": [],
   "source": [
    "# ok, so this works. Now, the thing we want to try, is to add random noise but just a given noise realisation in\n",
    "# the first term, and see if it makes a significant difference"
   ]
  },
  {
   "cell_type": "code",
   "execution_count": 253,
   "metadata": {},
   "outputs": [],
   "source": [
    "Rb = []\n",
    "Rbt = []\n",
    "for i in range(100000):\n",
    "    img = noise_level*tf.random.normal(shape=[1,45,45])\n",
    "    _,_, Rcustom = get_custom_response(img) # Estimate bias for a given image with noise sims\n",
    "    _, _, Rn = get_response(img, gal) # Measure the de/di dI/dg(n) <- should be the source of bias\n",
    "    \n",
    "    Rb.append(Rcustom[0])\n",
    "    Rbt.append(Rn[0])\n",
    "Rb = np.stack(Rb, axis=0)\n",
    "Rbt = np.stack(Rbt, axis=0)"
   ]
  },
  {
   "cell_type": "code",
   "execution_count": 254,
   "metadata": {},
   "outputs": [
    {
     "data": {
      "text/plain": [
       "array([[-0.00011126, -0.00017324],\n",
       "       [-0.00013196,  0.00012943]], dtype=float32)"
      ]
     },
     "execution_count": 254,
     "metadata": {},
     "output_type": "execute_result"
    }
   ],
   "source": [
    "Rb.mean(axis=0)"
   ]
  },
  {
   "cell_type": "code",
   "execution_count": 255,
   "metadata": {},
   "outputs": [
    {
     "data": {
      "text/plain": [
       "array([[-1.0414132e-03,  2.5893329e-04],\n",
       "       [ 1.1139308e-05, -1.9840040e-04]], dtype=float32)"
      ]
     },
     "execution_count": 255,
     "metadata": {},
     "output_type": "execute_result"
    }
   ],
   "source": [
    "Rbt.mean(axis=0)"
   ]
  },
  {
   "cell_type": "code",
   "execution_count": 260,
   "metadata": {},
   "outputs": [
    {
     "data": {
      "text/plain": [
       "array([[ 0.8931686,  1.6690476],\n",
       "       [12.846037 ,  1.6523478]], dtype=float32)"
      ]
     },
     "execution_count": 260,
     "metadata": {},
     "output_type": "execute_result"
    }
   ],
   "source": [
    "abs(Rb.mean(axis=0) - Rbt.mean(axis=0))/abs(Rbt.mean(axis=0))"
   ]
  },
  {
   "cell_type": "code",
   "execution_count": 261,
   "metadata": {},
   "outputs": [
    {
     "data": {
      "text/plain": [
       "<tf.Tensor: shape=(1, 2, 2), dtype=float32, numpy=\n",
       "array([[[0.02125852, 0.03019539],\n",
       "        [0.00965834, 0.01128462]]], dtype=float32)>"
      ]
     },
     "execution_count": 261,
     "metadata": {},
     "output_type": "execute_result"
    }
   ],
   "source": [
    "Rcustom"
   ]
  },
  {
   "cell_type": "code",
   "execution_count": 262,
   "metadata": {},
   "outputs": [
    {
     "data": {
      "text/plain": [
       "<tf.Tensor: shape=(1, 2, 2), dtype=float32, numpy=\n",
       "array([[[ 0.00478487, -0.00396352],\n",
       "        [-0.01330478, -0.05332007]]], dtype=float32)>"
      ]
     },
     "execution_count": 262,
     "metadata": {},
     "output_type": "execute_result"
    }
   ],
   "source": [
    "Rn"
   ]
  },
  {
   "cell_type": "code",
   "execution_count": null,
   "metadata": {},
   "outputs": [],
   "source": []
  }
 ],
 "metadata": {
  "kernelspec": {
   "display_name": "Python 3",
   "language": "python",
   "name": "python3"
  },
  "language_info": {
   "codemirror_mode": {
    "name": "ipython",
    "version": 3
   },
   "file_extension": ".py",
   "mimetype": "text/x-python",
   "name": "python",
   "nbconvert_exporter": "python",
   "pygments_lexer": "ipython3",
   "version": "3.8.3"
  }
 },
 "nbformat": 4,
 "nbformat_minor": 4
}
