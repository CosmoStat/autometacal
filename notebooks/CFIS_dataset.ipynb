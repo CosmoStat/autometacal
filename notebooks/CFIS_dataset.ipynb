{
 "cells": [
  {
   "cell_type": "code",
   "execution_count": 1,
   "metadata": {},
   "outputs": [
    {
     "name": "stdout",
     "output_type": "stream",
     "text": [
      "Populating the interactive namespace from numpy and matplotlib\n"
     ]
    }
   ],
   "source": [
    "%pylab inline\n",
    "from autometacal.python.datasets import CFIS\n",
    "import tensorflow_datasets as tfds\n",
    "import tensorflow as tf"
   ]
  },
  {
   "cell_type": "markdown",
   "metadata": {},
   "source": [
    "## Loading the data\n",
    "\n",
    "The CFIS dataset includes simulated galaxies under simplistic CFIS-like\n",
    "observing conditions."
   ]
  },
  {
   "cell_type": "code",
   "execution_count": 2,
   "metadata": {},
   "outputs": [
    {
     "name": "stdout",
     "output_type": "stream",
     "text": [
      "\u001b[1mDownloading and preparing dataset Unknown size (download: Unknown size, generated: Unknown size, total: Unknown size) to /local/home/flanusse/tensorflow_datasets/cfis/parametric_shear_1k/0.0.1...\u001b[0m\n"
     ]
    },
    {
     "data": {
      "application/vnd.jupyter.widget-view+json": {
       "model_id": "",
       "version_major": 2,
       "version_minor": 0
      },
      "text/plain": [
       "HBox(children=(FloatProgress(value=0.0, description='Generating splits...', max=1.0, style=ProgressStyle(descr…"
      ]
     },
     "metadata": {},
     "output_type": "display_data"
    },
    {
     "data": {
      "application/vnd.jupyter.widget-view+json": {
       "model_id": "",
       "version_major": 2,
       "version_minor": 0
      },
      "text/plain": [
       "HBox(children=(FloatProgress(value=1.0, bar_style='info', description='Generating train examples...', layout=L…"
      ]
     },
     "metadata": {},
     "output_type": "display_data"
    },
    {
     "data": {
      "application/vnd.jupyter.widget-view+json": {
       "model_id": "",
       "version_major": 2,
       "version_minor": 0
      },
      "text/plain": [
       "HBox(children=(FloatProgress(value=0.0, description='Shuffling cfis-train.tfrecord...', max=1000.0, style=Prog…"
      ]
     },
     "metadata": {},
     "output_type": "display_data"
    },
    {
     "name": "stdout",
     "output_type": "stream",
     "text": [
      "\u001b[1mDataset cfis downloaded and prepared to /local/home/flanusse/tensorflow_datasets/cfis/parametric_shear_1k/0.0.1. Subsequent calls will reuse this data.\u001b[0m\n"
     ]
    }
   ],
   "source": [
    "# We create a function to add noise on the fly for data augmentation\n",
    "@tf.function\n",
    "def add_noise(example):\n",
    "    im_noise = example['obs'] + example['noise_std'] * tf.random.normal([51,51])\n",
    "    return im_noise, example\n",
    "\n",
    "dset = tfds.load('CFIS/parametric_shear_1k', split='train')\n",
    "dset = dset.map(add_noise)"
   ]
  },
  {
   "cell_type": "code",
   "execution_count": 3,
   "metadata": {},
   "outputs": [],
   "source": [
    "# Use ngmix to check these galaxies out\n",
    "import ngmix\n",
    "fitter = ngmix.gaussmom.GaussMom(fwhm=1.2)\n",
    "s2n = []\n",
    "mag = []\n",
    "for im, example in dset:\n",
    "    wt = np.zeros_like(im) + 1.0/example['noise_std']**2\n",
    "    obs = ngmix.Observation(im.numpy(),\n",
    "                            jacobian=ngmix.DiagonalJacobian(row=51/2, \n",
    "                                                            col=51/2, \n",
    "                                                            scale=0.187),\n",
    "                             weight=wt)\n",
    "    res = fitter.go(obs)\n",
    "    s2n.append(res['s2n'])\n",
    "    mag.append(example['mag'].numpy().squeeze())\n",
    "s2n = np.stack(s2n)\n",
    "mag = np.stack(mag)"
   ]
  },
  {
   "cell_type": "code",
   "execution_count": 4,
   "metadata": {
    "scrolled": true
   },
   "outputs": [
    {
     "data": {
      "image/png": "[encoded data removed]",
      "text/plain": [
       "<Figure size 432x288 with 1 Axes>"
      ]
     },
     "metadata": {
      "needs_background": "light"
     },
     "output_type": "display_data"
    }
   ],
   "source": [
    "scatter(mag,s2n)\n",
    "xlim(20,25)\n",
    "yscale('log')\n",
    "axvline(24.)\n",
    "axhline(10.)\n",
    "xlabel('mag_auto')\n",
    "ylabel('SNR');"
   ]
  },
  {
   "cell_type": "code",
   "execution_count": 5,
   "metadata": {},
   "outputs": [
    {
     "data": {
      "image/png": "[encoded data removed]",
      "text/plain": [
       "<Figure size 432x288 with 1 Axes>"
      ]
     },
     "metadata": {
      "needs_background": "light"
     },
     "output_type": "display_data"
    }
   ],
   "source": [
    "hist(s2n,100,range=[0,50]);\n",
    "xlabel('S2N');"
   ]
  },
  {
   "cell_type": "markdown",
   "metadata": {},
   "source": [
    "## Testing calibration bias with ngmix and autometacal"
   ]
  },
  {
   "cell_type": "code",
   "execution_count": 6,
   "metadata": {},
   "outputs": [],
   "source": [
    "# We will measure moments with a fixed gaussian weight function\n",
    "weight_fwhm = 1.2\n",
    "fitter = ngmix.gaussmom.GaussMom(fwhm=weight_fwhm)\n",
    "psf_fitter = ngmix.gaussmom.GaussMom(fwhm=weight_fwhm)\n",
    "# these \"runners\" run the measurement code on observations\n",
    "psf_runner = ngmix.runners.PSFRunner(fitter=psf_fitter)\n",
    "runner = ngmix.runners.Runner(fitter=fitter)\n",
    "\n",
    "rng = np.random.RandomState(31415)\n",
    "    \n",
    "boot = ngmix.metacal.MetacalBootstrapper(\n",
    "    runner=runner, psf_runner=psf_runner,\n",
    "    rng=rng,\n",
    "    psf='gauss',\n",
    "    types=['noshear', '1p', '1m'],\n",
    "    fixnoise=True,\n",
    ")\n",
    "\n",
    "def select(data, shear_type):\n",
    "    \"\"\"\n",
    "    select the data by shear type and size\n",
    "    Parameters\n",
    "    ----------\n",
    "    data: array\n",
    "        The array with fields shear_type and T\n",
    "    shear_type: str\n",
    "        e.g. 'noshear', '1p', etc.\n",
    "    Returns\n",
    "    -------\n",
    "    array of indices\n",
    "    \"\"\"\n",
    "\n",
    "    w, = np.where(\n",
    "        (data['flags'] == 0) & (data['shear_type'] == shear_type)\n",
    "    )\n",
    "    return w\n",
    "\n",
    "\n",
    "def make_struct(res, obs, shear_type):\n",
    "    \"\"\"\n",
    "    make the data structure\n",
    "    Parameters\n",
    "    ----------\n",
    "    res: dict\n",
    "        With keys 's2n', 'e', and 'T'\n",
    "    obs: ngmix.Observation\n",
    "        The observation for this shear type\n",
    "    shear_type: str\n",
    "        The shear type\n",
    "    Returns\n",
    "    -------\n",
    "    1-element array with fields\n",
    "    \"\"\"\n",
    "    dt = [\n",
    "        ('flags', 'i4'),\n",
    "        ('shear_type', 'U7'),\n",
    "        ('s2n', 'f8'),\n",
    "        ('g', 'f8', 2),\n",
    "        ('T', 'f8'),\n",
    "        ('Tpsf', 'f8'),\n",
    "    ]\n",
    "    data = np.zeros(1, dtype=dt)\n",
    "    data['shear_type'] = shear_type\n",
    "\n",
    "    if max(abs(res['e'])) > 5:\n",
    "        res['flags'] = -1\n",
    "        \n",
    "    data['flags'] = res['flags']\n",
    "        \n",
    "    if res['flags'] == 0:\n",
    "        data['s2n'] = res['s2n']\n",
    "        # for moments we are actually measureing e, the elliptity\n",
    "        data['g'] = res['e']\n",
    "        data['T'] = res['T']\n",
    "    else:\n",
    "        data['s2n'] = np.nan\n",
    "        data['g'] = np.nan\n",
    "        data['T'] = np.nan\n",
    "        data['Tpsf'] = np.nan\n",
    "\n",
    "        # we only have one epoch and band, so we can get the psf T from the\n",
    "        # observation rather than averaging over epochs/bands\n",
    "        data['Tpsf'] = obs.psf.meta['result']['T']\n",
    "\n",
    "    return data"
   ]
  },
  {
   "cell_type": "code",
   "execution_count": 7,
   "metadata": {},
   "outputs": [
    {
     "name": "stderr",
     "output_type": "stream",
     "text": [
      "100%|██████████| 1000/1000 [00:41<00:00, 24.05it/s]\n"
     ]
    }
   ],
   "source": [
    "from tqdm import tqdm\n",
    "dlist = []\n",
    "\n",
    "jacobian = ngmix.DiagonalJacobian(row=51/2, col=51/2, scale=0.187)\n",
    "\n",
    "for im, example in tqdm(dset):\n",
    "    wt = np.zeros_like(im) + 1.0/example['noise_std']**2\n",
    "\n",
    "    psf_obs = ngmix.Observation(\n",
    "        example['psf'].numpy(),\n",
    "        jacobian=jacobian,\n",
    "    )\n",
    "    \n",
    "    obs = ngmix.Observation(im.numpy(),\n",
    "                            jacobian=jacobian,\n",
    "                            psf=psf_obs,\n",
    "                            weight=wt)   \n",
    "    \n",
    "    resdict, obsdict = boot.go(obs)\n",
    "    \n",
    "    for stype, sres in resdict.items():\n",
    "        st = make_struct(res=sres, obs=obsdict[stype], shear_type=stype)\n",
    "        dlist.append(st)\n",
    "\n",
    "data = np.hstack(dlist)"
   ]
  },
  {
   "cell_type": "code",
   "execution_count": 8,
   "metadata": {},
   "outputs": [],
   "source": [
    "w = select(data=data, shear_type='noshear')\n",
    "w_1p = select(data=data, shear_type='1p')\n",
    "w_1m = select(data=data, shear_type='1m')\n",
    "\n",
    "g = data['g'][w].mean(axis=0)\n",
    "gerr = data['g'][w].std(axis=0) / np.sqrt(w.size)\n",
    "g1_1p = data['g'][w_1p, 0].mean()\n",
    "g1_1m = data['g'][w_1m, 0].mean()\n",
    "R11 = (g1_1p - g1_1m)/0.02\n",
    "\n",
    "shear = g / R11\n",
    "shear_err = gerr / R11\n",
    "m = shear[0] / 0.02 - 1\n",
    "merr = shear_err[0]/0.02\n",
    "s2n = data['s2n'][w].mean()"
   ]
  },
  {
   "cell_type": "code",
   "execution_count": 9,
   "metadata": {},
   "outputs": [
    {
     "name": "stdout",
     "output_type": "stream",
     "text": [
      "ngmix results:\n",
      "S/N: 17.1766\n",
      "R11: 0.326126\n",
      "m: -1.41607 +/- 7.39404 (99.7% conf)\n",
      "c: 0.064798 +/- 0.135984 (99.7% conf)\n"
     ]
    }
   ],
   "source": [
    "print('ngmix results:')\n",
    "print('S/N: %g' % s2n)\n",
    "print('R11: %g' % R11)\n",
    "print('m: %g +/- %g (99.7%% conf)' % (m, merr*3))\n",
    "print('c: %g +/- %g (99.7%% conf)' % (shear[1], shear_err[1]*3))"
   ]
  },
  {
   "cell_type": "code",
   "execution_count": 46,
   "metadata": {},
   "outputs": [],
   "source": [
    "# saving the reconv psf\n",
    "reconv_psf = tf.convert_to_tensor(obsdict['noshear'].psf.image.reshape([1,51,51]).repeat(200,axis=0).astype('float32'))"
   ]
  },
  {
   "cell_type": "markdown",
   "metadata": {},
   "source": [
    "#### Now doing the same thing with autometacal"
   ]
  },
  {
   "cell_type": "code",
   "execution_count": 47,
   "metadata": {},
   "outputs": [],
   "source": [
    "import autometacal \n",
    "\n",
    "@tf.function\n",
    "def get_autometacal_shape(im, example):\n",
    "    method = lambda x: autometacal.get_moment_ellipticities(x, scale=0.187, fwhm=weight_fwhm)\n",
    "    return autometacal.get_metacal_response(im, example['psf'], reconv_psf, method)"
   ]
  },
  {
   "cell_type": "code",
   "execution_count": 59,
   "metadata": {},
   "outputs": [],
   "source": [
    "dset = tfds.load('CFIS/parametric_shear_1k', split='train')\n",
    "dset = dset.map(add_noise)\n",
    "dset = dset.repeat(100)\n",
    "dset = dset.batch(200)\n",
    "dset = dset.prefetch(buffer_size=5)"
   ]
  },
  {
   "cell_type": "code",
   "execution_count": 60,
   "metadata": {
    "scrolled": true
   },
   "outputs": [
    {
     "name": "stderr",
     "output_type": "stream",
     "text": [
      "100%|██████████| 500/500 [01:05<00:00,  7.66it/s]\n"
     ]
    }
   ],
   "source": [
    "res_e = []\n",
    "res_R = []\n",
    "for im, example in tqdm(dset):\n",
    "    e, R = get_autometacal_shape(im, example)\n",
    "    res_e.append(e)\n",
    "    res_R.append(R)\n",
    "res_e = np.concatenate(res_e)\n",
    "res_R = np.concatenate(res_R)"
   ]
  },
  {
   "cell_type": "code",
   "execution_count": 61,
   "metadata": {},
   "outputs": [
    {
     "data": {
      "text/plain": [
       "(1538.4615384615386, 'measurements per sec')"
      ]
     },
     "execution_count": 61,
     "metadata": {},
     "output_type": "execute_result"
    }
   ],
   "source": [
    "100000/65, 'measurements per sec' # Batch of 200"
   ]
  },
  {
   "cell_type": "code",
   "execution_count": 62,
   "metadata": {},
   "outputs": [],
   "source": [
    "m = np.max(abs(res_e),axis=1) < 5\n",
    "auto_g = res_e[m].mean(axis=0)\n",
    "auto_R = res_R[m].mean(axis=0)"
   ]
  },
  {
   "cell_type": "code",
   "execution_count": 63,
   "metadata": {},
   "outputs": [],
   "source": [
    "auto_gerr = res_e[m].std(axis=0) / np.sqrt(res_e[m].size)\n",
    "auto_shear = auto_g / auto_R[0,0]\n",
    "auto_shear_err = auto_gerr / auto_R[0,0]\n",
    "auto_m = auto_shear[0] / 0.02 - 1\n",
    "auto_merr = auto_shear_err[0]/0.02"
   ]
  },
  {
   "cell_type": "code",
   "execution_count": 64,
   "metadata": {},
   "outputs": [
    {
     "name": "stdout",
     "output_type": "stream",
     "text": [
      "autometacal results:\n",
      "R11: 0.188488\n",
      "m: -0.829483 +/- 0.373999 (99.7% conf)\n",
      "c: 0.00575358 +/- 0.00748643 (99.7% conf)\n"
     ]
    }
   ],
   "source": [
    "print('autometacal results:')\n",
    "print('R11: %g' % auto_R[0,0])\n",
    "print('m: %g +/- %g (99.7%% conf)' % (auto_m, auto_merr*3))\n",
    "print('c: %g +/- %g (99.7%% conf)' % (auto_shear[1], auto_shear_err[1]*3))"
   ]
  },
  {
   "cell_type": "code",
   "execution_count": null,
   "metadata": {},
   "outputs": [],
   "source": []
  },
  {
   "cell_type": "code",
   "execution_count": null,
   "metadata": {},
   "outputs": [],
   "source": []
  },
  {
   "cell_type": "code",
   "execution_count": null,
   "metadata": {},
   "outputs": [],
   "source": []
  },
  {
   "cell_type": "code",
   "execution_count": null,
   "metadata": {},
   "outputs": [],
   "source": []
  }
 ],
 "metadata": {
  "kernelspec": {
   "display_name": "Python 3",
   "language": "python",
   "name": "python3"
  },
  "language_info": {
   "codemirror_mode": {
    "name": "ipython",
    "version": 3
   },
   "file_extension": ".py",
   "mimetype": "text/x-python",
   "name": "python",
   "nbconvert_exporter": "python",
   "pygments_lexer": "ipython3",
   "version": "3.8.6"
  }
 },
 "nbformat": 4,
 "nbformat_minor": 5
}
