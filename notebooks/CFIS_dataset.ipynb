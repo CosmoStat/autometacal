{
 "cells": [
  {
   "cell_type": "code",
   "execution_count": 1,
   "id": "54f52a71",
   "metadata": {},
   "outputs": [
    {
     "name": "stdout",
     "output_type": "stream",
     "text": [
      "Populating the interactive namespace from numpy and matplotlib\n"
     ]
    },
    {
     "name": "stderr",
     "output_type": "stream",
     "text": [
      "<frozen importlib._bootstrap>:219: RuntimeWarning: scipy._lib.messagestream.MessageStream size changed, may indicate binary incompatibility. Expected 56 from C header, got 64 from PyObject\n"
     ]
    }
   ],
   "source": [
    "%pylab inline\n",
    "from autometacal.python.datasets import CFIS\n",
    "import tensorflow_datasets as tfds\n",
    "import tensorflow as tf"
   ]
  },
  {
   "cell_type": "markdown",
   "id": "6b8582dd",
   "metadata": {},
   "source": [
    "## Loading the data\n",
    "\n",
    "The CFIS dataset includes simulated galaxies under simplistic CFIS-like\n",
    "observing conditions."
   ]
  },
  {
   "cell_type": "code",
   "execution_count": 42,
   "id": "a085afdf",
   "metadata": {},
   "outputs": [],
   "source": [
    "\n",
    "\n",
    "dset = tfds.load('CFIS/parametric_shear_1k', split='train')\n"
   ]
  },
  {
   "cell_type": "code",
   "execution_count": 43,
   "id": "c5f6270c-07f1-4fc3-8d92-8b50b191583e",
   "metadata": {},
   "outputs": [],
   "source": [
    "# We create a function to add noise on the fly for data augmentation\n",
    "@tf.function\n",
    "def add_noise(example):\n",
    "    im_noise = example['gal_image'] + example['noise_std'] * tf.random.normal([51,51])\n",
    "    return im_noise, example\n",
    "  \n",
    "dset = dset.map(add_noise)"
   ]
  },
  {
   "cell_type": "code",
   "execution_count": 5,
   "id": "e21a9069",
   "metadata": {},
   "outputs": [],
   "source": [
    "# Use ngmix to check these galaxies out\n",
    "import ngmix\n",
    "fitter = ngmix.gaussmom.GaussMom(fwhm=1.2)\n",
    "s2n = []\n",
    "mag = []\n",
    "for im, example in dset:\n",
    "    wt = np.zeros_like(im) + 1.0/example['noise_std']**2\n",
    "    obs = ngmix.Observation(im.numpy(),\n",
    "                            jacobian=ngmix.DiagonalJacobian(row=51/2, \n",
    "                                                            col=51/2, \n",
    "                                                            scale=0.187),\n",
    "                             weight=wt)\n",
    "    res = fitter.go(obs)\n",
    "    s2n.append(res['s2n'])\n",
    "    mag.append(example['mag'].numpy().squeeze())\n",
    "s2n = np.stack(s2n)\n",
    "mag = np.stack(mag)"
   ]
  },
  {
   "cell_type": "code",
   "execution_count": 6,
   "id": "5f0b507a",
   "metadata": {
    "scrolled": true
   },
   "outputs": [
    {
     "data": {
      "image/png": "[encoded data removed]",
      "text/plain": [
       "<Figure size 432x288 with 1 Axes>"
      ]
     },
     "metadata": {
      "needs_background": "light"
     },
     "output_type": "display_data"
    }
   ],
   "source": [
    "scatter(mag,s2n)\n",
    "xlim(20,25)\n",
    "yscale('log')\n",
    "axvline(24.)\n",
    "axhline(10.)\n",
    "xlabel('mag_auto')\n",
    "ylabel('SNR');"
   ]
  },
  {
   "cell_type": "code",
   "execution_count": 7,
   "id": "8fa76f9d",
   "metadata": {},
   "outputs": [
    {
     "data": {
      "image/png": "[encoded data removed]",
      "text/plain": [
       "<Figure size 432x288 with 1 Axes>"
      ]
     },
     "metadata": {
      "needs_background": "light"
     },
     "output_type": "display_data"
    }
   ],
   "source": [
    "hist(s2n,100,range=[0,50]);\n",
    "xlabel('S2N');"
   ]
  },
  {
   "cell_type": "markdown",
   "id": "a45cceaf",
   "metadata": {},
   "source": [
    "## Testing calibration bias with ngmix and autometacal"
   ]
  },
  {
   "cell_type": "code",
   "execution_count": 8,
   "id": "6cd00176",
   "metadata": {},
   "outputs": [],
   "source": [
    "# We will measure moments with a fixed gaussian weight function\n",
    "weight_fwhm = 1.2\n",
    "fitter = ngmix.gaussmom.GaussMom(fwhm=weight_fwhm)\n",
    "psf_fitter = ngmix.gaussmom.GaussMom(fwhm=weight_fwhm)\n",
    "# these \"runners\" run the measurement code on observations\n",
    "psf_runner = ngmix.runners.PSFRunner(fitter=psf_fitter)\n",
    "runner = ngmix.runners.Runner(fitter=fitter)\n",
    "\n",
    "rng = np.random.RandomState(31415)\n",
    "    \n",
    "boot = ngmix.metacal.MetacalBootstrapper(\n",
    "    runner=runner, psf_runner=psf_runner,\n",
    "    rng=rng,\n",
    "    psf='gauss',\n",
    "    types=['noshear', '1p', '1m'],\n",
    "    fixnoise=True,\n",
    ")\n",
    "\n",
    "def select(data, shear_type):\n",
    "    \"\"\"\n",
    "    select the data by shear type and size\n",
    "    Parameters\n",
    "    ----------\n",
    "    data: array\n",
    "        The array with fields shear_type and T\n",
    "    shear_type: str\n",
    "        e.g. 'noshear', '1p', etc.\n",
    "    Returns\n",
    "    -------\n",
    "    array of indices\n",
    "    \"\"\"\n",
    "\n",
    "    w, = np.where(\n",
    "        (data['flags'] == 0) & (data['shear_type'] == shear_type)\n",
    "    )\n",
    "    return w\n",
    "\n",
    "\n",
    "def make_struct(res, obs, shear_type):\n",
    "    \"\"\"\n",
    "    make the data structure\n",
    "    Parameters\n",
    "    ----------\n",
    "    res: dict\n",
    "        With keys 's2n', 'e', and 'T'\n",
    "    obs: ngmix.Observation\n",
    "        The observation for this shear type\n",
    "    shear_type: str\n",
    "        The shear type\n",
    "    Returns\n",
    "    -------\n",
    "    1-element array with fields\n",
    "    \"\"\"\n",
    "    dt = [\n",
    "        ('flags', 'i4'),\n",
    "        ('shear_type', 'U7'),\n",
    "        ('s2n', 'f8'),\n",
    "        ('g', 'f8', 2),\n",
    "        ('T', 'f8'),\n",
    "        ('Tpsf', 'f8'),\n",
    "    ]\n",
    "    data = np.zeros(1, dtype=dt)\n",
    "    data['shear_type'] = shear_type\n",
    "\n",
    "    if max(abs(res['e'])) > 5:\n",
    "        res['flags'] = -1\n",
    "        \n",
    "    data['flags'] = res['flags']\n",
    "        \n",
    "    if res['flags'] == 0:\n",
    "        data['s2n'] = res['s2n']\n",
    "        # for moments we are actually measureing e, the elliptity\n",
    "        data['g'] = res['e']\n",
    "        data['T'] = res['T']\n",
    "    else:\n",
    "        data['s2n'] = np.nan\n",
    "        data['g'] = np.nan\n",
    "        data['T'] = np.nan\n",
    "        data['Tpsf'] = np.nan\n",
    "\n",
    "        # we only have one epoch and band, so we can get the psf T from the\n",
    "        # observation rather than averaging over epochs/bands\n",
    "        data['Tpsf'] = obs.psf.meta['result']['T']\n",
    "\n",
    "    return data"
   ]
  },
  {
   "cell_type": "code",
   "execution_count": 10,
   "id": "f2b6dbf6",
   "metadata": {},
   "outputs": [
    {
     "name": "stderr",
     "output_type": "stream",
     "text": [
      "100%|██████████| 81499/81499 [53:27<00:00, 25.41it/s]  \n"
     ]
    }
   ],
   "source": [
    "from tqdm import tqdm\n",
    "dlist = []\n",
    "\n",
    "jacobian = ngmix.DiagonalJacobian(row=51/2, col=51/2, scale=0.187)\n",
    "\n",
    "for im, example in tqdm(dset):\n",
    "    wt = np.zeros_like(im) + 1.0/example['noise_std']**2\n",
    "\n",
    "    psf_obs = ngmix.Observation(\n",
    "        example['psf_image'].numpy(),\n",
    "        jacobian=jacobian,\n",
    "    )\n",
    "    \n",
    "    obs = ngmix.Observation(im.numpy(),\n",
    "                            jacobian=jacobian,\n",
    "                            psf=psf_obs,\n",
    "                            weight=wt)   \n",
    "    \n",
    "    resdict, obsdict = boot.go(obs)\n",
    "    \n",
    "    for stype, sres in resdict.items():\n",
    "        st = make_struct(res=sres, obs=obsdict[stype], shear_type=stype)\n",
    "        dlist.append(st)\n",
    "\n",
    "data = np.hstack(dlist)"
   ]
  },
  {
   "cell_type": "code",
   "execution_count": 11,
   "id": "6fd72de1",
   "metadata": {},
   "outputs": [],
   "source": [
    "w = select(data=data, shear_type='noshear')\n",
    "w_1p = select(data=data, shear_type='1p')\n",
    "w_1m = select(data=data, shear_type='1m')\n",
    "\n",
    "g = data['g'][w].mean(axis=0)\n",
    "gerr = data['g'][w].std(axis=0) / np.sqrt(w.size)\n",
    "g1_1p = data['g'][w_1p, 0].mean()\n",
    "g1_1m = data['g'][w_1m, 0].mean()\n",
    "R11 = (g1_1p - g1_1m)/0.02\n",
    "\n",
    "shear = g / R11\n",
    "shear_err = gerr / R11\n",
    "m = shear[0] / 0.02 - 1\n",
    "merr = shear_err[0]/0.02\n",
    "s2n = data['s2n'][w].mean()"
   ]
  },
  {
   "cell_type": "code",
   "execution_count": 12,
   "id": "a9369099",
   "metadata": {},
   "outputs": [
    {
     "name": "stdout",
     "output_type": "stream",
     "text": [
      "ngmix results:\n",
      "S/N: 16.4136\n",
      "R11: 0.299841\n",
      "m: 0.439048 +/- 0.887137 (99.7% conf)\n",
      "c: 0.129178 +/- 0.0176289 (99.7% conf)\n"
     ]
    }
   ],
   "source": [
    "print('ngmix results:')\n",
    "print('S/N: %g' % s2n)\n",
    "print('R11: %g' % R11)\n",
    "print('m: %g +/- %g (99.7%% conf)' % (m, merr*3))\n",
    "print('c: %g +/- %g (99.7%% conf)' % (shear[1], shear_err[1]*3))"
   ]
  },
  {
   "cell_type": "code",
   "execution_count": 44,
   "id": "9f6d2555",
   "metadata": {},
   "outputs": [],
   "source": [
    "# saving the reconv psf\n",
    "reconv_psf = tf.convert_to_tensor(obsdict['noshear'].psf.image.reshape([1,51,51]).repeat(1000,axis=0).astype('float32'))"
   ]
  },
  {
   "cell_type": "markdown",
   "id": "66912f6b",
   "metadata": {},
   "source": [
    "#### Now doing the same thing with autometacal"
   ]
  },
  {
   "cell_type": "code",
   "execution_count": 45,
   "id": "d3c7ae30",
   "metadata": {},
   "outputs": [],
   "source": [
    "import autometacal \n",
    "\n",
    "@tf.function\n",
    "def get_autometacal_shape(im, example):\n",
    "    method = lambda x: autometacal.get_moment_ellipticities(x, scale=0.187, fwhm=weight_fwhm)\n",
    "    return autometacal.get_metacal_response(im, example['psf_image'], reconv_psf, method)"
   ]
  },
  {
   "cell_type": "code",
   "execution_count": 46,
   "id": "6eb6d850",
   "metadata": {},
   "outputs": [],
   "source": [
    "dset = tfds.load('CFIS/parametric_shear_1k', split='train')\n",
    "dset = dset.map(add_noise)\n",
    "dset = dset.repeat(100)\n",
    "dset = dset.batch(1000)\n",
    "dset = dset.prefetch(buffer_size=5)"
   ]
  },
  {
   "cell_type": "code",
   "execution_count": 47,
   "id": "3c4416d7",
   "metadata": {
    "scrolled": true
   },
   "outputs": [
    {
     "name": "stderr",
     "output_type": "stream",
     "text": [
      "  0%|          | 0/8150 [00:00<?, ?it/s]"
     ]
    },
    {
     "name": "stdout",
     "output_type": "stream",
     "text": [
      "WARNING:tensorflow:Using a while_loop for converting Addons>ResamplerGrad\n"
     ]
    },
    {
     "name": "stderr",
     "output_type": "stream",
     "text": [
      "WARNING:tensorflow:Using a while_loop for converting Addons>ResamplerGrad\n"
     ]
    },
    {
     "name": "stdout",
     "output_type": "stream",
     "text": [
      "WARNING:tensorflow:Using a while_loop for converting Addons>ResamplerGrad\n"
     ]
    },
    {
     "name": "stderr",
     "output_type": "stream",
     "text": [
      "WARNING:tensorflow:Using a while_loop for converting Addons>ResamplerGrad\n",
      "  0%|          | 34/8150 [03:12<12:45:43,  5.66s/it]\n"
     ]
    },
    {
     "ename": "KeyboardInterrupt",
     "evalue": "",
     "output_type": "error",
     "traceback": [
      "\u001b[0;31m---------------------------------------------------------------------------\u001b[0m",
      "\u001b[0;31mKeyboardInterrupt\u001b[0m                         Traceback (most recent call last)",
      "\u001b[0;32m<ipython-input-47-4b932180c7a9>\u001b[0m in \u001b[0;36m<module>\u001b[0;34m\u001b[0m\n\u001b[1;32m      2\u001b[0m \u001b[0mres_R\u001b[0m \u001b[0;34m=\u001b[0m \u001b[0;34m[\u001b[0m\u001b[0;34m]\u001b[0m\u001b[0;34m\u001b[0m\u001b[0;34m\u001b[0m\u001b[0m\n\u001b[1;32m      3\u001b[0m \u001b[0;32mfor\u001b[0m \u001b[0mim\u001b[0m\u001b[0;34m,\u001b[0m \u001b[0mexample\u001b[0m \u001b[0;32min\u001b[0m \u001b[0mtqdm\u001b[0m\u001b[0;34m(\u001b[0m\u001b[0mdset\u001b[0m\u001b[0;34m)\u001b[0m\u001b[0;34m:\u001b[0m\u001b[0;34m\u001b[0m\u001b[0;34m\u001b[0m\u001b[0m\n\u001b[0;32m----> 4\u001b[0;31m     \u001b[0me\u001b[0m\u001b[0;34m,\u001b[0m \u001b[0mR\u001b[0m \u001b[0;34m=\u001b[0m \u001b[0mget_autometacal_shape\u001b[0m\u001b[0;34m(\u001b[0m\u001b[0mim\u001b[0m\u001b[0;34m,\u001b[0m \u001b[0mexample\u001b[0m\u001b[0;34m)\u001b[0m\u001b[0;34m\u001b[0m\u001b[0;34m\u001b[0m\u001b[0m\n\u001b[0m\u001b[1;32m      5\u001b[0m     \u001b[0mres_e\u001b[0m\u001b[0;34m.\u001b[0m\u001b[0mappend\u001b[0m\u001b[0;34m(\u001b[0m\u001b[0me\u001b[0m\u001b[0;34m)\u001b[0m\u001b[0;34m\u001b[0m\u001b[0;34m\u001b[0m\u001b[0m\n\u001b[1;32m      6\u001b[0m     \u001b[0mres_R\u001b[0m\u001b[0;34m.\u001b[0m\u001b[0mappend\u001b[0m\u001b[0;34m(\u001b[0m\u001b[0mR\u001b[0m\u001b[0;34m)\u001b[0m\u001b[0;34m\u001b[0m\u001b[0;34m\u001b[0m\u001b[0m\n",
      "\u001b[0;32m~/.local/lib/python3.8/site-packages/tensorflow/python/util/traceback_utils.py\u001b[0m in \u001b[0;36merror_handler\u001b[0;34m(*args, **kwargs)\u001b[0m\n\u001b[1;32m    148\u001b[0m     \u001b[0mfiltered_tb\u001b[0m \u001b[0;34m=\u001b[0m \u001b[0;32mNone\u001b[0m\u001b[0;34m\u001b[0m\u001b[0;34m\u001b[0m\u001b[0m\n\u001b[1;32m    149\u001b[0m     \u001b[0;32mtry\u001b[0m\u001b[0;34m:\u001b[0m\u001b[0;34m\u001b[0m\u001b[0;34m\u001b[0m\u001b[0m\n\u001b[0;32m--> 150\u001b[0;31m       \u001b[0;32mreturn\u001b[0m \u001b[0mfn\u001b[0m\u001b[0;34m(\u001b[0m\u001b[0;34m*\u001b[0m\u001b[0margs\u001b[0m\u001b[0;34m,\u001b[0m \u001b[0;34m**\u001b[0m\u001b[0mkwargs\u001b[0m\u001b[0;34m)\u001b[0m\u001b[0;34m\u001b[0m\u001b[0;34m\u001b[0m\u001b[0m\n\u001b[0m\u001b[1;32m    151\u001b[0m     \u001b[0;32mexcept\u001b[0m \u001b[0mException\u001b[0m \u001b[0;32mas\u001b[0m \u001b[0me\u001b[0m\u001b[0;34m:\u001b[0m\u001b[0;34m\u001b[0m\u001b[0;34m\u001b[0m\u001b[0m\n\u001b[1;32m    152\u001b[0m       \u001b[0mfiltered_tb\u001b[0m \u001b[0;34m=\u001b[0m \u001b[0m_process_traceback_frames\u001b[0m\u001b[0;34m(\u001b[0m\u001b[0me\u001b[0m\u001b[0;34m.\u001b[0m\u001b[0m__traceback__\u001b[0m\u001b[0;34m)\u001b[0m\u001b[0;34m\u001b[0m\u001b[0;34m\u001b[0m\u001b[0m\n",
      "\u001b[0;32m~/.local/lib/python3.8/site-packages/tensorflow/python/eager/def_function.py\u001b[0m in \u001b[0;36m__call__\u001b[0;34m(self, *args, **kwds)\u001b[0m\n\u001b[1;32m    908\u001b[0m \u001b[0;34m\u001b[0m\u001b[0m\n\u001b[1;32m    909\u001b[0m       \u001b[0;32mwith\u001b[0m \u001b[0mOptionalXlaContext\u001b[0m\u001b[0;34m(\u001b[0m\u001b[0mself\u001b[0m\u001b[0;34m.\u001b[0m\u001b[0m_jit_compile\u001b[0m\u001b[0;34m)\u001b[0m\u001b[0;34m:\u001b[0m\u001b[0;34m\u001b[0m\u001b[0;34m\u001b[0m\u001b[0m\n\u001b[0;32m--> 910\u001b[0;31m         \u001b[0mresult\u001b[0m \u001b[0;34m=\u001b[0m \u001b[0mself\u001b[0m\u001b[0;34m.\u001b[0m\u001b[0m_call\u001b[0m\u001b[0;34m(\u001b[0m\u001b[0;34m*\u001b[0m\u001b[0margs\u001b[0m\u001b[0;34m,\u001b[0m \u001b[0;34m**\u001b[0m\u001b[0mkwds\u001b[0m\u001b[0;34m)\u001b[0m\u001b[0;34m\u001b[0m\u001b[0;34m\u001b[0m\u001b[0m\n\u001b[0m\u001b[1;32m    911\u001b[0m \u001b[0;34m\u001b[0m\u001b[0m\n\u001b[1;32m    912\u001b[0m       \u001b[0mnew_tracing_count\u001b[0m \u001b[0;34m=\u001b[0m \u001b[0mself\u001b[0m\u001b[0;34m.\u001b[0m\u001b[0mexperimental_get_tracing_count\u001b[0m\u001b[0;34m(\u001b[0m\u001b[0;34m)\u001b[0m\u001b[0;34m\u001b[0m\u001b[0;34m\u001b[0m\u001b[0m\n",
      "\u001b[0;32m~/.local/lib/python3.8/site-packages/tensorflow/python/eager/def_function.py\u001b[0m in \u001b[0;36m_call\u001b[0;34m(self, *args, **kwds)\u001b[0m\n\u001b[1;32m    947\u001b[0m       \u001b[0;31m# In this case we have not created variables on the first call. So we can\u001b[0m\u001b[0;34m\u001b[0m\u001b[0;34m\u001b[0m\u001b[0;34m\u001b[0m\u001b[0m\n\u001b[1;32m    948\u001b[0m       \u001b[0;31m# run the first trace but we should fail if variables are created.\u001b[0m\u001b[0;34m\u001b[0m\u001b[0;34m\u001b[0m\u001b[0;34m\u001b[0m\u001b[0m\n\u001b[0;32m--> 949\u001b[0;31m       \u001b[0mresults\u001b[0m \u001b[0;34m=\u001b[0m \u001b[0mself\u001b[0m\u001b[0;34m.\u001b[0m\u001b[0m_stateful_fn\u001b[0m\u001b[0;34m(\u001b[0m\u001b[0;34m*\u001b[0m\u001b[0margs\u001b[0m\u001b[0;34m,\u001b[0m \u001b[0;34m**\u001b[0m\u001b[0mkwds\u001b[0m\u001b[0;34m)\u001b[0m\u001b[0;34m\u001b[0m\u001b[0;34m\u001b[0m\u001b[0m\n\u001b[0m\u001b[1;32m    950\u001b[0m       \u001b[0;32mif\u001b[0m \u001b[0mself\u001b[0m\u001b[0;34m.\u001b[0m\u001b[0m_created_variables\u001b[0m \u001b[0;32mand\u001b[0m \u001b[0;32mnot\u001b[0m \u001b[0mALLOW_DYNAMIC_VARIABLE_CREATION\u001b[0m\u001b[0;34m:\u001b[0m\u001b[0;34m\u001b[0m\u001b[0;34m\u001b[0m\u001b[0m\n\u001b[1;32m    951\u001b[0m         raise ValueError(\"Creating variables on a non-first call to a function\"\n",
      "\u001b[0;32m~/.local/lib/python3.8/site-packages/tensorflow/python/eager/function.py\u001b[0m in \u001b[0;36m__call__\u001b[0;34m(self, *args, **kwargs)\u001b[0m\n\u001b[1;32m   3128\u001b[0m       (graph_function,\n\u001b[1;32m   3129\u001b[0m        filtered_flat_args) = self._maybe_define_function(args, kwargs)\n\u001b[0;32m-> 3130\u001b[0;31m     return graph_function._call_flat(\n\u001b[0m\u001b[1;32m   3131\u001b[0m         filtered_flat_args, captured_inputs=graph_function.captured_inputs)  # pylint: disable=protected-access\n\u001b[1;32m   3132\u001b[0m \u001b[0;34m\u001b[0m\u001b[0m\n",
      "\u001b[0;32m~/.local/lib/python3.8/site-packages/tensorflow/python/eager/function.py\u001b[0m in \u001b[0;36m_call_flat\u001b[0;34m(self, args, captured_inputs, cancellation_manager)\u001b[0m\n\u001b[1;32m   1957\u001b[0m         and executing_eagerly):\n\u001b[1;32m   1958\u001b[0m       \u001b[0;31m# No tape is watching; skip to running the function.\u001b[0m\u001b[0;34m\u001b[0m\u001b[0;34m\u001b[0m\u001b[0;34m\u001b[0m\u001b[0m\n\u001b[0;32m-> 1959\u001b[0;31m       return self._build_call_outputs(self._inference_function.call(\n\u001b[0m\u001b[1;32m   1960\u001b[0m           ctx, args, cancellation_manager=cancellation_manager))\n\u001b[1;32m   1961\u001b[0m     forward_backward = self._select_forward_and_backward_functions(\n",
      "\u001b[0;32m~/.local/lib/python3.8/site-packages/tensorflow/python/eager/function.py\u001b[0m in \u001b[0;36mcall\u001b[0;34m(self, ctx, args, cancellation_manager)\u001b[0m\n\u001b[1;32m    596\u001b[0m       \u001b[0;32mwith\u001b[0m \u001b[0m_InterpolateFunctionError\u001b[0m\u001b[0;34m(\u001b[0m\u001b[0mself\u001b[0m\u001b[0;34m)\u001b[0m\u001b[0;34m:\u001b[0m\u001b[0;34m\u001b[0m\u001b[0;34m\u001b[0m\u001b[0m\n\u001b[1;32m    597\u001b[0m         \u001b[0;32mif\u001b[0m \u001b[0mcancellation_manager\u001b[0m \u001b[0;32mis\u001b[0m \u001b[0;32mNone\u001b[0m\u001b[0;34m:\u001b[0m\u001b[0;34m\u001b[0m\u001b[0;34m\u001b[0m\u001b[0m\n\u001b[0;32m--> 598\u001b[0;31m           outputs = execute.execute(\n\u001b[0m\u001b[1;32m    599\u001b[0m               \u001b[0mstr\u001b[0m\u001b[0;34m(\u001b[0m\u001b[0mself\u001b[0m\u001b[0;34m.\u001b[0m\u001b[0msignature\u001b[0m\u001b[0;34m.\u001b[0m\u001b[0mname\u001b[0m\u001b[0;34m)\u001b[0m\u001b[0;34m,\u001b[0m\u001b[0;34m\u001b[0m\u001b[0;34m\u001b[0m\u001b[0m\n\u001b[1;32m    600\u001b[0m               \u001b[0mnum_outputs\u001b[0m\u001b[0;34m=\u001b[0m\u001b[0mself\u001b[0m\u001b[0;34m.\u001b[0m\u001b[0m_num_outputs\u001b[0m\u001b[0;34m,\u001b[0m\u001b[0;34m\u001b[0m\u001b[0;34m\u001b[0m\u001b[0m\n",
      "\u001b[0;32m~/.local/lib/python3.8/site-packages/tensorflow/python/eager/execute.py\u001b[0m in \u001b[0;36mquick_execute\u001b[0;34m(op_name, num_outputs, inputs, attrs, ctx, name)\u001b[0m\n\u001b[1;32m     56\u001b[0m   \u001b[0;32mtry\u001b[0m\u001b[0;34m:\u001b[0m\u001b[0;34m\u001b[0m\u001b[0;34m\u001b[0m\u001b[0m\n\u001b[1;32m     57\u001b[0m     \u001b[0mctx\u001b[0m\u001b[0;34m.\u001b[0m\u001b[0mensure_initialized\u001b[0m\u001b[0;34m(\u001b[0m\u001b[0;34m)\u001b[0m\u001b[0;34m\u001b[0m\u001b[0;34m\u001b[0m\u001b[0m\n\u001b[0;32m---> 58\u001b[0;31m     tensors = pywrap_tfe.TFE_Py_Execute(ctx._handle, device_name, op_name,\n\u001b[0m\u001b[1;32m     59\u001b[0m                                         inputs, attrs, num_outputs)\n\u001b[1;32m     60\u001b[0m   \u001b[0;32mexcept\u001b[0m \u001b[0mcore\u001b[0m\u001b[0;34m.\u001b[0m\u001b[0m_NotOkStatusException\u001b[0m \u001b[0;32mas\u001b[0m \u001b[0me\u001b[0m\u001b[0;34m:\u001b[0m\u001b[0;34m\u001b[0m\u001b[0;34m\u001b[0m\u001b[0m\n",
      "\u001b[0;31mKeyboardInterrupt\u001b[0m: "
     ]
    }
   ],
   "source": [
    "res_e = []\n",
    "res_R = []\n",
    "for im, example in tqdm(dset):\n",
    "    e, R = get_autometacal_shape(im, example)\n",
    "    res_e.append(e)\n",
    "    res_R.append(R)\n",
    "res_e = np.concatenate(res_e)\n",
    "res_R = np.concatenate(res_R)"
   ]
  },
  {
   "cell_type": "code",
   "execution_count": null,
   "id": "eb9db1dc",
   "metadata": {},
   "outputs": [],
   "source": [
    "m = np.max(abs(res_e),axis=1) < 5\n",
    "auto_g = res_e[m].mean(axis=0)\n",
    "auto_R = res_R[m].mean(axis=0)"
   ]
  },
  {
   "cell_type": "code",
   "execution_count": null,
   "id": "fb782b7d",
   "metadata": {},
   "outputs": [],
   "source": [
    "auto_gerr = res_e[m].std(axis=0) / np.sqrt(res_e[m].size)\n",
    "auto_shear = auto_g / auto_R[0,0]\n",
    "auto_shear_err = auto_gerr / auto_R[0,0]\n",
    "auto_m = auto_shear[0] / 0.02 - 1\n",
    "auto_merr = auto_shear_err[0]/0.02"
   ]
  },
  {
   "cell_type": "code",
   "execution_count": null,
   "id": "38f28ee0",
   "metadata": {},
   "outputs": [],
   "source": [
    "print('autometacal results:')\n",
    "print('R11: %g' % auto_R[0,0])\n",
    "print('m: %g +/- %g (99.7%% conf)' % (auto_m, auto_merr*3))\n",
    "print('c: %g +/- %g (99.7%% conf)' % (auto_shear[1], auto_shear_err[1]*3))"
   ]
  },
  {
   "cell_type": "code",
   "execution_count": null,
   "id": "ebbea8c3",
   "metadata": {},
   "outputs": [],
   "source": []
  },
  {
   "cell_type": "code",
   "execution_count": null,
   "id": "87bea4ac",
   "metadata": {},
   "outputs": [],
   "source": []
  },
  {
   "cell_type": "code",
   "execution_count": null,
   "id": "327662da",
   "metadata": {},
   "outputs": [],
   "source": []
  },
  {
   "cell_type": "code",
   "execution_count": null,
   "id": "eebd68ef",
   "metadata": {},
   "outputs": [],
   "source": []
  }
 ],
 "metadata": {
  "kernelspec": {
   "display_name": "Python 3",
   "language": "python",
   "name": "python3"
  },
  "language_info": {
   "codemirror_mode": {
    "name": "ipython",
    "version": 3
   },
   "file_extension": ".py",
   "mimetype": "text/x-python",
   "name": "python",
   "nbconvert_exporter": "python",
   "pygments_lexer": "ipython3",
   "version": "3.8.12"
  }
 },
 "nbformat": 4,
 "nbformat_minor": 5
}
