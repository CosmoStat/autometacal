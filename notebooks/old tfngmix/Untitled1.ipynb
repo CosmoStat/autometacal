{
 "cells": [
  {
   "cell_type": "markdown",
   "id": "26ae66a6-091c-4d24-8e52-589d5c380c91",
   "metadata": {},
   "source": [
    "# testing metacal"
   ]
  },
  {
   "cell_type": "code",
   "execution_count": 2,
   "id": "359da011-6aa4-4af2-90c4-b7b17c4e497e",
   "metadata": {},
   "outputs": [],
   "source": [
    "# This module tests our implementation against ngmix\n",
    "import numpy as np\n",
    "import ngmix\n",
    "import galsim\n",
    "import autometacal\n",
    "\n",
    "from numpy.testing import assert_allclose\n",
    "\n",
    "# Generate some data, any old data will do\n",
    "def make_data(rng, noise, shear):\n",
    "    \"\"\"\n",
    "    simulate an exponential object with moffat psf\n",
    "    Parameters\n",
    "    ----------\n",
    "    rng: np.random.RandomState\n",
    "        The random number generator\n",
    "    noise: float\n",
    "        Noise for the image\n",
    "    shear: (g1, g2)\n",
    "        The shear in each component\n",
    "    Returns\n",
    "    -------\n",
    "    ngmix.Observation\n",
    "    \"\"\"\n",
    "\n",
    "    psf_noise = 1.0e-6\n",
    "\n",
    "    scale = 0.263\n",
    "    stamp_size = 45\n",
    "    psf_fwhm = 0.9\n",
    "    gal_hlr = 0.5\n",
    "    dy, dx = rng.uniform(low=-scale/2, high=scale/2, size=2)\n",
    "\n",
    "    psf = galsim.Moffat(\n",
    "        beta=2.5, fwhm=psf_fwhm,\n",
    "    ).shear(\n",
    "        g1=0.0,\n",
    "        g2=0.0,\n",
    "    )\n",
    "\n",
    "    obj0 = galsim.Exponential(\n",
    "        half_light_radius=gal_hlr,\n",
    "    ).shear(\n",
    "        g1=shear[0],\n",
    "        g2=shear[1],\n",
    "    ).shift(\n",
    "        dx=dx,\n",
    "        dy=dy,\n",
    "    )\n",
    "\n",
    "    obj = galsim.Convolve(psf, obj0)\n",
    "\n",
    "    psf_im = psf.drawImage(nx=stamp_size, ny=stamp_size, scale=scale).array\n",
    "    im = obj.drawImage(nx=stamp_size, ny=stamp_size, scale=scale).array\n",
    "\n",
    "    psf_im += rng.normal(scale=psf_noise, size=psf_im.shape)\n",
    "    im += rng.normal(scale=noise, size=im.shape)\n",
    "\n",
    "    cen = (np.array(im.shape))/2.0\n",
    "    psf_cen = (np.array(psf_im.shape))/2.0\n",
    "\n",
    "    jacobian = ngmix.DiagonalJacobian(\n",
    "        row=cen[0], col=cen[1], scale=scale,\n",
    "    )\n",
    "    psf_jacobian = ngmix.DiagonalJacobian(\n",
    "        row=psf_cen[0], col=psf_cen[1], scale=scale,\n",
    "    )\n",
    "\n",
    "    wt = im*0 + 1.0/noise**2\n",
    "    psf_wt = psf_im*0 + 1.0/psf_noise**2\n",
    "\n",
    "    psf_obs = ngmix.Observation(\n",
    "        psf_im,\n",
    "        weight=psf_wt,\n",
    "        jacobian=psf_jacobian,\n",
    "    )\n",
    "\n",
    "    obs = ngmix.Observation(\n",
    "        im,\n",
    "        weight=wt,\n",
    "        jacobian=jacobian,\n",
    "        psf=psf_obs,\n",
    "    )\n",
    "\n",
    "    return obs\n",
    "\n"
   ]
  },
  {
   "cell_type": "code",
   "execution_count": 3,
   "id": "7e1b5676-02e5-40cb-a4a7-1fb644cc9e89",
   "metadata": {},
   "outputs": [
    {
     "name": "stdout",
     "output_type": "stream",
     "text": [
      "WARNING:tensorflow:AutoGraph could not transform <function shear at 0x7fdaec149e50> and will run it as-is.\n",
      "Please report this to the TensorFlow team. When filing the bug, set the verbosity to 10 (on Linux, `export AUTOGRAPH_VERBOSITY=10`) and attach the full output.\n",
      "Cause: unsupported operand type(s) for -: 'NoneType' and 'int'\n",
      "To silence this warning, decorate the function with @tf.autograph.experimental.do_not_convert\n",
      "WARNING: AutoGraph could not transform <function shear at 0x7fdaec149e50> and will run it as-is.\n",
      "Please report this to the TensorFlow team. When filing the bug, set the verbosity to 10 (on Linux, `export AUTOGRAPH_VERBOSITY=10`) and attach the full output.\n",
      "Cause: unsupported operand type(s) for -: 'NoneType' and 'int'\n",
      "To silence this warning, decorate the function with @tf.autograph.experimental.do_not_convert\n"
     ]
    }
   ],
   "source": [
    "args={'seed':31415,\n",
    "      'ntrial':1000,\n",
    "      'noise': 1e-5,\n",
    "      'psf': 'gauss'}\n",
    "shear_true = [0.0, 0.00]\n",
    "rng = np.random.RandomState(args['seed'])\n",
    "\n",
    "\n",
    "\"\"\" Tests against ngmix\n",
    "\"\"\"\n",
    "obs = make_data(rng=rng, noise=args['noise'], shear=shear_true)\n",
    "# We will measure moments with a fixed gaussian weight function\n",
    "weight_fwhm = 1.2\n",
    "fitter = ngmix.gaussmom.GaussMom(fwhm=weight_fwhm)\n",
    "psf_fitter = ngmix.gaussmom.GaussMom(fwhm=weight_fwhm)\n",
    "# these \"runners\" run the measurement code on observations\n",
    "psf_runner = ngmix.runners.PSFRunner(fitter=psf_fitter)\n",
    "runner = ngmix.runners.Runner(fitter=fitter)\n",
    "\n",
    "boot = ngmix.metacal.MetacalBootstrapper(\n",
    "  runner=runner, psf_runner=psf_runner,\n",
    "  rng=rng,\n",
    "  psf=args['psf'],\n",
    "  step=0.01,\n",
    "  fixnoise=False\n",
    ")\n",
    "# Run metacal\n",
    "resdict, obsdict = boot.go(obs)\n",
    "\n",
    "# Run autometacal\n",
    "im = obs.image.reshape(1,45,45).astype('float32')\n",
    "psf = obs.psf.image.reshape(1,45,45).astype('float32') \n",
    "rpsf = obsdict['noshear'].psf.image.reshape(1,45,45).astype('float32') \n",
    "\n",
    "mcal = autometacal.generate_mcal_image(im.repeat(3,0), \n",
    "                                       psf.repeat(3,0), \n",
    "                                       rpsf.repeat(3,0), \n",
    "                                       np.array([[0,0],\n",
    "                                                 [0.01,0],\n",
    "                                                 [0,0.01]]).astype('float32'))\n"
   ]
  },
  {
   "cell_type": "code",
   "execution_count": 6,
   "id": "390c6a22-0798-4566-8b5f-1095a147e40a",
   "metadata": {},
   "outputs": [],
   "source": [
    "assert_allclose(mcal[0], obsdict['noshear'].image, atol=1e-5)\n",
    "assert_allclose(mcal[1], obsdict['1p'].image, atol=2e-5)\n",
    "assert_allclose(mcal[2], obsdict['2p'].image, atol=2e-5)"
   ]
  },
  {
   "cell_type": "code",
   "execution_count": 7,
   "id": "a89fe39f-12cc-4a8f-be29-dbcd43b098f3",
   "metadata": {},
   "outputs": [
    {
     "data": {
      "text/plain": [
       "array([[[ 2.12652049e-05, -3.17956142e-06, -1.77759011e-06, ...,\n",
       "         -1.96514939e-05,  7.79824586e-06,  7.71479790e-06],\n",
       "        [-1.64147423e-05,  8.17717137e-06,  9.00753639e-06, ...,\n",
       "          4.87767875e-06,  1.36765848e-05, -1.30221615e-05],\n",
       "        [ 2.72141142e-06,  1.46704597e-05,  2.43854129e-06, ...,\n",
       "          6.69854808e-06, -5.62765672e-06, -1.74260604e-05],\n",
       "        ...,\n",
       "        [-2.87779335e-06, -5.77675291e-06, -9.75662806e-06, ...,\n",
       "         -1.73997933e-06, -1.65110919e-06, -2.26874199e-05],\n",
       "        [-1.01461128e-05,  9.19423201e-06, -3.35721620e-06, ...,\n",
       "          1.15719677e-05,  1.41280852e-05, -1.44461262e-06],\n",
       "        [-1.15097407e-06,  1.39316708e-05,  4.50049674e-06, ...,\n",
       "          1.38360965e-05,  9.04265744e-06, -1.41828893e-09]]],\n",
       "      dtype=float32)"
      ]
     },
     "execution_count": 7,
     "metadata": {},
     "output_type": "execute_result"
    }
   ],
   "source": [
    "im"
   ]
  },
  {
   "cell_type": "code",
   "execution_count": null,
   "id": "194ba621-b7ce-4941-84d2-69f03168cc81",
   "metadata": {},
   "outputs": [],
   "source": []
  }
 ],
 "metadata": {
  "kernelspec": {
   "display_name": "Python 3",
   "language": "python",
   "name": "python3"
  },
  "language_info": {
   "codemirror_mode": {
    "name": "ipython",
    "version": 3
   },
   "file_extension": ".py",
   "mimetype": "text/x-python",
   "name": "python",
   "nbconvert_exporter": "python",
   "pygments_lexer": "ipython3",
   "version": "3.8.6"
  }
 },
 "nbformat": 4,
 "nbformat_minor": 5
}
