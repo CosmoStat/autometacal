{
 "cells": [
  {
   "cell_type": "markdown",
   "id": "ec62a405-a6a3-4571-b072-66d1a5ebd016",
   "metadata": {},
   "source": [
    "# Reverse engineering ngmix' gaussian moments - part 4"
   ]
  },
  {
   "cell_type": "code",
   "execution_count": 1,
   "id": "13f57ed4-b6f6-4771-bb8f-e8bab4bc69cb",
   "metadata": {},
   "outputs": [
    {
     "name": "stdout",
     "output_type": "stream",
     "text": [
      "Populating the interactive namespace from numpy and matplotlib\n"
     ]
    }
   ],
   "source": [
    "%pylab inline"
   ]
  },
  {
   "cell_type": "code",
   "execution_count": 2,
   "id": "9e78cd47-9516-49c9-b99c-511802a05b64",
   "metadata": {},
   "outputs": [],
   "source": [
    "import ngmix\n",
    "import autometacal\n",
    "import tensorflow as tf"
   ]
  },
  {
   "cell_type": "markdown",
   "id": "ab1866c4-da66-4223-b30d-9fbfa2bad376",
   "metadata": {},
   "source": [
    "Get a galaxy:"
   ]
  },
  {
   "cell_type": "code",
   "execution_count": 3,
   "id": "834e94b4-2446-4de5-8eb4-d0d0297488dd",
   "metadata": {},
   "outputs": [],
   "source": [
    "scale = .2\n",
    "stamp_size=51\n",
    "Ngals = 100\n",
    "gals, _ = autometacal.data.galaxies.make_data(Ngals=100, img_noise=0.0005,\n",
    "                                               gal_g1=np.random.uniform(-.1,.1,100),\n",
    "                                               gal_g2=np.random.uniform(-.1,.1,100),\n",
    "                                               scale=scale)"
   ]
  },
  {
   "cell_type": "code",
   "execution_count": 4,
   "id": "5ee7780d-27cf-494b-a474-9959b08bbede",
   "metadata": {},
   "outputs": [
    {
     "data": {
      "image/png": "[encoded data removed]",
      "text/plain": [
       "<Figure size 432x288 with 1 Axes>"
      ]
     },
     "metadata": {
      "needs_background": "light"
     },
     "output_type": "display_data"
    }
   ],
   "source": [
    "imshow(gals[0].numpy())\n",
    "obs=ngmix.Observation(gals.numpy()[0],jacobian=ngmix.DiagonalJacobian(row=25, col=25, scale=.2))"
   ]
  },
  {
   "cell_type": "markdown",
   "id": "77ea531b-abd9-47b5-81b7-4c0de9c2cf48",
   "metadata": {},
   "source": [
    "Set a fitter with Gaussian moments:"
   ]
  },
  {
   "cell_type": "code",
   "execution_count": 10,
   "id": "ea9cf507-448e-421c-91bd-ddcd3fb67ec4",
   "metadata": {},
   "outputs": [],
   "source": [
    "weight_fwhm = scale*stamp_size/2 # <- this sets everything for the window function\n",
    "fitter = ngmix.gaussmom.GaussMom(fwhm=weight_fwhm)\n",
    "ngmix_results_list = []\n",
    "for gal in gals:\n",
    "  obs = ngmix.Observation(gal.numpy(),jacobian=ngmix.DiagonalJacobian(row=25, col=25, scale=.2))\n",
    "  ngmix_results_list.append(fitter._measure_moments(obs)['e'])"
   ]
  },
  {
   "cell_type": "code",
   "execution_count": 13,
   "id": "738b296f-d4e3-4e64-8616-eda3a375d6b1",
   "metadata": {},
   "outputs": [
    {
     "data": {
      "text/plain": [
       "[array([0.03656366, 0.02443017]),\n",
       " array([0.04815181, 0.02997293]),\n",
       " array([-0.04406886,  0.08280817]),\n",
       " array([ 0.04700529, -0.10790162]),\n",
       " array([0.00070784, 0.03412434]),\n",
       " array([-0.05285146, -0.0680782 ]),\n",
       " array([0.09130455, 0.02951935]),\n",
       " array([-0.01679221,  0.01659495]),\n",
       " array([-0.04438404, -0.02144907]),\n",
       " array([ 0.09306163, -0.14146918]),\n",
       " array([0.04210909, 0.0756807 ]),\n",
       " array([-0.05643344,  0.04180502]),\n",
       " array([-0.01534008, -0.07672307]),\n",
       " array([0.02377236, 0.00820497]),\n",
       " array([ 0.05771182, -0.0423924 ]),\n",
       " array([ 0.01978225, -0.04336401]),\n",
       " array([ 0.00335184, -0.05047551]),\n",
       " array([0.06131557, 0.05297165]),\n",
       " array([-0.00337466, -0.02391362]),\n",
       " array([ 0.00801941, -0.01223694]),\n",
       " array([-0.09009533, -0.07046277]),\n",
       " array([ 0.02456844, -0.07570937]),\n",
       " array([-0.01973316, -0.00221001]),\n",
       " array([-0.06726366,  0.06111391]),\n",
       " array([ 0.08412127, -0.08621217]),\n",
       " array([ 0.05886854, -0.07570288]),\n",
       " array([-0.02714963,  0.0594077 ]),\n",
       " array([0.13303385, 0.05892162]),\n",
       " array([ 0.05253538, -0.01736   ]),\n",
       " array([-0.07035655, -0.02629903]),\n",
       " array([0.0453092 , 0.00713373]),\n",
       " array([ 0.02932937, -0.00499662]),\n",
       " array([0.03749456, 0.02446012]),\n",
       " array([0.02582359, 0.03977091]),\n",
       " array([ 0.01256931, -0.04154634]),\n",
       " array([-0.12247955,  0.04419704]),\n",
       " array([-0.02211889, -0.00856763]),\n",
       " array([-0.08658199,  0.07929715]),\n",
       " array([-0.01867704,  0.00366847]),\n",
       " array([-0.09664423,  0.01789835]),\n",
       " array([-0.10499527,  0.09036912]),\n",
       " array([ 0.02104484, -0.03162656]),\n",
       " array([-0.06550833,  0.00134405]),\n",
       " array([-0.02708103, -0.035806  ]),\n",
       " array([-0.1522696 , -0.02352304]),\n",
       " array([ 0.03429069, -0.02750301]),\n",
       " array([-0.04078004, -0.06351958]),\n",
       " array([-0.02363895,  0.0063943 ]),\n",
       " array([ 0.03159512, -0.07578292]),\n",
       " array([-0.06706169, -0.04606608]),\n",
       " array([-0.07374973, -0.05252321]),\n",
       " array([-0.02697539, -0.10645235]),\n",
       " array([-0.00565539, -0.0636707 ]),\n",
       " array([-0.07393768,  0.00038865]),\n",
       " array([ 0.03260793, -0.0515875 ]),\n",
       " array([-0.02863151, -0.04176652]),\n",
       " array([ 0.04173684, -0.01810711]),\n",
       " array([-0.11916861,  0.02772267]),\n",
       " array([ 0.04519589, -0.05989621]),\n",
       " array([-0.08239856, -0.10814664]),\n",
       " array([-0.09947113,  0.00283748]),\n",
       " array([-0.05330116, -0.07360469]),\n",
       " array([-0.06861265,  0.08770094]),\n",
       " array([ 0.07958504, -0.08330893]),\n",
       " array([ 0.01645847, -0.05149688]),\n",
       " array([ 0.01909979, -0.05206012]),\n",
       " array([ 0.03247126, -0.01773285]),\n",
       " array([ 0.04967094, -0.06863894]),\n",
       " array([-0.11089111, -0.07171963]),\n",
       " array([0.10630286, 0.00762196]),\n",
       " array([ 0.07308238, -0.05296081]),\n",
       " array([ 0.03319208, -0.08400755]),\n",
       " array([ 0.00264619, -0.07817611]),\n",
       " array([-0.03314539, -0.03020784]),\n",
       " array([-0.04281042,  0.05387083]),\n",
       " array([-0.13431224, -0.02363675]),\n",
       " array([-0.02592187, -0.02957164]),\n",
       " array([-0.08121868, -0.09316956]),\n",
       " array([ 0.0577045 , -0.04235732]),\n",
       " array([ 0.00898724, -0.01989359]),\n",
       " array([0.01992179, 0.05280721]),\n",
       " array([-0.0364867 , -0.12566233]),\n",
       " array([ 0.02634344, -0.09523076]),\n",
       " array([-0.04584739,  0.00563727]),\n",
       " array([-0.04380729,  0.01867973]),\n",
       " array([ 0.00473906, -0.05331584]),\n",
       " array([0.05659336, 0.12926932]),\n",
       " array([ 0.03152382, -0.03780975]),\n",
       " array([ 0.02427035, -0.01840967]),\n",
       " array([-0.02323788,  0.12247664]),\n",
       " array([-0.00600202, -0.08906781]),\n",
       " array([0.05259994, 0.09335655]),\n",
       " array([-0.00670447,  0.03096989]),\n",
       " array([-0.02938919,  0.01407997]),\n",
       " array([ 0.02380759, -0.11818003]),\n",
       " array([0.01412633, 0.00835313]),\n",
       " array([0.07206081, 0.04436442]),\n",
       " array([0.07378211, 0.00165378]),\n",
       " array([ 0.01882294, -0.05514626]),\n",
       " array([-0.03565906, -0.0892227 ])]"
      ]
     },
     "execution_count": 13,
     "metadata": {},
     "output_type": "execute_result"
    }
   ],
   "source": [
    "ngmix_results_list"
   ]
  },
  {
   "cell_type": "code",
   "execution_count": 22,
   "id": "0926867c-9493-4073-9e80-f8105baa1837",
   "metadata": {},
   "outputs": [],
   "source": [
    "pix_weights = tf.ones([Ngals,51,51])\n",
    "pixels = autometacal.tf_ngmix.make_pixels(gals, pix_weights, [25,25],.2)\n",
    "T = autometacal.tf_ngmix.fwhm_to_T(weight_fwhm)\n",
    "weights = autometacal.tf_ngmix.create_gmix([0.,0.,0.,0.,T,1.],'gauss')\n",
    "our_results =autometacal.tf_ngmix.get_moments(weights,pixels)"
   ]
  },
  {
   "cell_type": "code",
   "execution_count": 18,
   "id": "bc6c415b-101b-42df-95ff-a88d8a8cb72e",
   "metadata": {},
   "outputs": [
    {
     "data": {
      "text/plain": [
       "array([[[-4.37837063e-08, -7.63069475e-09],\n",
       "        [ 9.19085397e-08,  1.27154992e-09],\n",
       "        [-2.19621907e-08,  8.61053090e-10],\n",
       "        [-3.44838241e-08, -2.42480402e-09],\n",
       "        [-2.93439039e-09,  2.88972386e-09],\n",
       "        [ 3.52096540e-08, -5.16435063e-09],\n",
       "        [-5.55975208e-08,  5.62030729e-09],\n",
       "        [-9.93307274e-09, -1.02740560e-08],\n",
       "        [ 1.14614930e-08,  8.52259033e-09],\n",
       "        [ 3.45854042e-08,  1.70166384e-09],\n",
       "        [-4.13421888e-08, -1.42905948e-09],\n",
       "        [ 5.12735025e-08,  2.35447749e-09],\n",
       "        [ 4.04012967e-08,  1.14470788e-08],\n",
       "        [-5.73226104e-09,  6.46235957e-09],\n",
       "        [-2.70767369e-08,  6.10461141e-09],\n",
       "        [-1.15236837e-08,  5.51341874e-09],\n",
       "        [ 6.64312352e-09,  4.43507463e-09],\n",
       "        [-4.38290117e-09,  1.45406983e-08],\n",
       "        [-2.87393939e-08,  5.32181263e-09],\n",
       "        [-8.13937258e-08,  7.38602437e-09],\n",
       "        [-4.28215710e-08,  9.23858152e-09],\n",
       "        [-3.85645930e-08, -8.89763578e-09],\n",
       "        [-5.79676212e-08, -1.43685933e-08],\n",
       "        [-1.68406413e-08,  4.07189497e-09],\n",
       "        [-1.38708386e-08,  9.32788581e-09],\n",
       "        [-1.32255767e-08,  1.54907337e-08],\n",
       "        [-1.41133757e-08,  3.85848548e-09],\n",
       "        [ 4.76266389e-08, -3.51980253e-09],\n",
       "        [-2.78569258e-08,  5.41394138e-09],\n",
       "        [-1.36167275e-09,  6.19416709e-09],\n",
       "        [-5.33491463e-08,  1.78187250e-08],\n",
       "        [-9.93950486e-09, -1.23073725e-08],\n",
       "        [ 6.06800848e-09, -8.34471452e-09],\n",
       "        [ 9.44603003e-08, -8.03615574e-09],\n",
       "        [-5.34345790e-09, -1.19225545e-09],\n",
       "        [ 3.68878134e-08, -5.00342133e-09],\n",
       "        [ 1.40849570e-08,  1.82373796e-09],\n",
       "        [ 5.63779324e-08,  9.26271031e-09],\n",
       "        [-5.34619895e-09, -1.36094390e-08],\n",
       "        [-4.16888154e-08, -2.75842633e-09],\n",
       "        [ 5.05888826e-08, -2.11734709e-08],\n",
       "        [ 5.16722623e-09,  7.35625640e-09],\n",
       "        [ 1.17817276e-08, -9.92753900e-10],\n",
       "        [ 1.65901898e-09,  1.30487400e-08],\n",
       "        [ 5.50263824e-08,  1.06121248e-08],\n",
       "        [-4.94879283e-09, -4.12543558e-09],\n",
       "        [ 5.15728735e-08,  9.14051444e-09],\n",
       "        [ 2.02392696e-08,  1.12919602e-08],\n",
       "        [-5.36932632e-09,  5.48366241e-10],\n",
       "        [-2.48873318e-08, -2.19638722e-09],\n",
       "        [-5.09588966e-08,  1.92555895e-08],\n",
       "        [-7.46923394e-08,  1.59568969e-09],\n",
       "        [-1.13060254e-08,  7.84592259e-09],\n",
       "        [-4.70308490e-08,  5.28008846e-09],\n",
       "        [ 2.10775320e-08, -2.86757097e-09],\n",
       "        [ 1.59070519e-08,  1.47523499e-08],\n",
       "        [ 5.45112698e-08,  6.49167231e-09],\n",
       "        [-5.48193357e-08, -5.17853664e-09],\n",
       "        [ 1.97735749e-08, -1.66995991e-09],\n",
       "        [ 4.53642083e-08,  8.03091341e-09],\n",
       "        [-5.56502991e-09,  8.04047436e-09],\n",
       "        [ 7.93360697e-10,  7.93520073e-09],\n",
       "        [ 1.89467476e-08, -5.80183548e-09],\n",
       "        [ 1.19536176e-08,  2.17866461e-09],\n",
       "        [-1.63419537e-08,  9.49842162e-09],\n",
       "        [ 8.58967723e-11, -2.26748258e-09],\n",
       "        [-3.81285345e-08,  1.39856909e-09],\n",
       "        [ 3.12751196e-08,  1.66257673e-08],\n",
       "        [-5.33125595e-09, -4.31697736e-09],\n",
       "        [ 8.94505665e-09, -7.91912098e-09],\n",
       "        [ 4.93729424e-08,  6.99640778e-09],\n",
       "        [ 4.66378905e-08,  2.25470145e-09],\n",
       "        [-4.20444351e-10,  6.39952448e-09],\n",
       "        [ 3.53435591e-09,  8.36226536e-09],\n",
       "        [ 3.92773735e-08,  1.07211980e-08],\n",
       "        [ 1.70544256e-08, -5.26878228e-09],\n",
       "        [-4.07747622e-08,  7.32240241e-10],\n",
       "        [ 5.60740691e-08,  5.80504850e-09],\n",
       "        [-5.53830137e-08, -1.21097357e-08],\n",
       "        [-4.44693600e-08,  2.10291934e-09],\n",
       "        [-1.28230989e-08, -7.66132689e-09],\n",
       "        [ 1.22897276e-08,  2.82866915e-08],\n",
       "        [ 4.25430563e-09,  2.12305014e-08],\n",
       "        [ 5.48599757e-08,  6.74385888e-09],\n",
       "        [ 7.98072105e-09,  9.28355278e-10],\n",
       "        [ 6.57330286e-08, -5.45803578e-09],\n",
       "        [ 3.52002722e-08, -1.65507042e-08],\n",
       "        [-6.02382993e-08,  2.42005932e-09],\n",
       "        [-8.78283773e-08, -3.65973628e-09],\n",
       "        [ 4.97937057e-08, -3.53278586e-09],\n",
       "        [-4.42057672e-08,  4.82148382e-09],\n",
       "        [ 1.64213315e-08, -1.72262084e-09],\n",
       "        [ 4.97037976e-08,  1.92031602e-10],\n",
       "        [ 7.27369880e-08,  1.31504343e-09],\n",
       "        [-1.08189768e-08, -2.88953565e-09],\n",
       "        [ 8.00864585e-08, -1.28766254e-08],\n",
       "        [ 6.25252510e-08,  1.22062736e-09],\n",
       "        [-5.55144483e-09, -1.24270164e-09],\n",
       "        [ 4.21957648e-09,  1.47586736e-08],\n",
       "        [ 4.96936140e-08,  8.94843848e-09]]])"
      ]
     },
     "execution_count": 18,
     "metadata": {},
     "output_type": "execute_result"
    }
   ],
   "source": [
    "our_results.numpy() - np.array(ngmix_results_list)"
   ]
  },
  {
   "cell_type": "markdown",
   "id": "84a036f3-8c3f-4765-b117-9cfdfb86f05f",
   "metadata": {},
   "source": [
    "## Testing"
   ]
  },
  {
   "cell_type": "code",
   "execution_count": 37,
   "id": "a679f912-8c53-4bac-9682-961ebdcc338e",
   "metadata": {},
   "outputs": [],
   "source": [
    "from numpy.testing import assert_allclose\n",
    "def test_tf_ngmix():\n",
    "  \"\"\"\n",
    "  This test generates a simple galaxy and measure moments with ngmix, vs.\n",
    "  tf_ngmix.\n",
    "  \"\"\"\n",
    "  scale = .2\n",
    "  stamp_size=51\n",
    "  Ngals = 100\n",
    "\n",
    "  gals, _ = autometacal.data.galaxies.make_data(Ngals=Ngals, img_noise=0.0005,\n",
    "                                                 gal_g1=np.random.uniform(-.1,.1,100),\n",
    "                                                 gal_g2=np.random.uniform(-.1,.1,100),\n",
    "                                                 scale=scale)\n",
    "\n",
    "  weight_fwhm = scale*stamp_size/2 # <- this sets everything for the window function\n",
    "  results_ngmix=[]\n",
    "  #ngmix version\n",
    "  \n",
    "  fitter = ngmix.gaussmom.GaussMom(fwhm=weight_fwhm)\n",
    "  for gal in gals:\n",
    "    obs = ngmix.Observation(gal.numpy(),jacobian=ngmix.DiagonalJacobian(row=25, col=25, scale=.2))\n",
    "    results_ngmix.append(fitter._measure_moments(obs)['e'])\n",
    "\n",
    "\n",
    "  #our version:\n",
    "  pix_weights = tf.ones([Ngals,51,51])\n",
    "  pixels = autometacal.tf_ngmix.make_pixels(gals, pix_weights, [25,25],.2)\n",
    "  T = autometacal.tf_ngmix.fwhm_to_T(weight_fwhm)\n",
    "  weights = autometacal.tf_ngmix.create_gmix([0.,0.,0.,0.,T,1.],'gauss')\n",
    "  result_tf_ngmix =autometacal.tf_ngmix.get_moments(weights,pixels)\n",
    "  \n",
    "  assert_allclose(results_ngmix,result_tf_ngmix[0],rtol=1e-4)\n",
    "  \n",
    "test_tf_ngmix()"
   ]
  },
  {
   "cell_type": "code",
   "execution_count": 25,
   "id": "f14cb3cc-03cd-4936-88f9-cb6fe348ae8e",
   "metadata": {},
   "outputs": [],
   "source": []
  },
  {
   "cell_type": "code",
   "execution_count": null,
   "id": "a5f0d304-b995-4678-ab4c-4aa9830d4f35",
   "metadata": {},
   "outputs": [],
   "source": []
  }
 ],
 "metadata": {
  "kernelspec": {
   "display_name": "Python 3",
   "language": "python",
   "name": "python3"
  },
  "language_info": {
   "codemirror_mode": {
    "name": "ipython",
    "version": 3
   },
   "file_extension": ".py",
   "mimetype": "text/x-python",
   "name": "python",
   "nbconvert_exporter": "python",
   "pygments_lexer": "ipython3",
   "version": "3.8.6"
  }
 },
 "nbformat": 4,
 "nbformat_minor": 5
}
