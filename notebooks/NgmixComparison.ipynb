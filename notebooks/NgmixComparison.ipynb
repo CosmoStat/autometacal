{
 "cells": [
  {
   "cell_type": "code",
   "execution_count": 1,
   "metadata": {},
   "outputs": [
    {
     "name": "stdout",
     "output_type": "stream",
     "text": [
      "Populating the interactive namespace from numpy and matplotlib\n"
     ]
    }
   ],
   "source": [
    "%load_ext autoreload\n",
    "%autoreload 2\n",
    "\n",
    "import numpy as np\n",
    "import ngmix\n",
    "import galsim\n",
    "import autometacal\n",
    "%pylab inline"
   ]
  },
  {
   "cell_type": "code",
   "execution_count": 84,
   "metadata": {},
   "outputs": [],
   "source": [
    "# Genertate some data\n",
    "def make_data(rng, noise, shear):\n",
    "    \"\"\"\n",
    "    simulate an exponential object with moffat psf\n",
    "    Parameters\n",
    "    ----------\n",
    "    rng: np.random.RandomState\n",
    "        The random number generator\n",
    "    noise: float\n",
    "        Noise for the image\n",
    "    shear: (g1, g2)\n",
    "        The shear in each component\n",
    "    Returns\n",
    "    -------\n",
    "    ngmix.Observation\n",
    "    \"\"\"\n",
    "\n",
    "    psf_noise = 1.0e-6\n",
    "\n",
    "    scale = 0.263\n",
    "\n",
    "    psf_fwhm = 0.9\n",
    "    gal_hlr = 0.5\n",
    "    dy, dx = rng.uniform(low=-scale/2, high=scale/2, size=2)\n",
    "\n",
    "    psf = galsim.Moffat(\n",
    "        beta=2.5, fwhm=psf_fwhm,\n",
    "    ).shear(\n",
    "        g1=0.02,\n",
    "        g2=-0.01,\n",
    "    )\n",
    "\n",
    "    obj0 = galsim.Exponential(\n",
    "        half_light_radius=gal_hlr,\n",
    "    ).shear(\n",
    "        g1=shear[0],\n",
    "        g2=shear[1],\n",
    "    ).shift(\n",
    "        dx=dx,\n",
    "        dy=dy,\n",
    "    )\n",
    "\n",
    "    obj = galsim.Convolve(psf, obj0)\n",
    "\n",
    "    psf_im = psf.drawImage(scale=scale).array\n",
    "    im = obj.drawImage(scale=scale).array\n",
    "\n",
    "    psf_im += rng.normal(scale=psf_noise, size=psf_im.shape)\n",
    "    im += rng.normal(scale=noise, size=im.shape)\n",
    "\n",
    "    cen = (np.array(im.shape)-1.0)/2.0\n",
    "    psf_cen = (np.array(psf_im.shape)-1.0)/2.0\n",
    "\n",
    "    jacobian = ngmix.DiagonalJacobian(\n",
    "        row=cen[0] + dy/scale, col=cen[1] + dx/scale, scale=scale,\n",
    "    )\n",
    "    psf_jacobian = ngmix.DiagonalJacobian(\n",
    "        row=psf_cen[0], col=psf_cen[1], scale=scale,\n",
    "    )\n",
    "\n",
    "    wt = im*0 + 1.0/noise**2\n",
    "    psf_wt = psf_im*0 + 1.0/psf_noise**2\n",
    "\n",
    "    psf_obs = ngmix.Observation(\n",
    "        psf_im,\n",
    "        weight=psf_wt,\n",
    "        jacobian=psf_jacobian,\n",
    "    )\n",
    "\n",
    "    obs = ngmix.Observation(\n",
    "        im,\n",
    "        weight=wt,\n",
    "        jacobian=jacobian,\n",
    "        psf=psf_obs,\n",
    "    )\n",
    "\n",
    "    return obs"
   ]
  },
  {
   "cell_type": "code",
   "execution_count": 85,
   "metadata": {},
   "outputs": [],
   "source": [
    "args={'seed':31415,\n",
    "      'ntrial':1000,\n",
    "      'noise': 1.0e-7,\n",
    "      'psf': 'gauss'}\n",
    "shear_true = [0.0, 0.00]\n",
    "rng = np.random.RandomState(args['seed'])"
   ]
  },
  {
   "cell_type": "code",
   "execution_count": 86,
   "metadata": {},
   "outputs": [],
   "source": [
    "obs = make_data(rng=rng, noise=args['noise'], shear=shear_true)"
   ]
  },
  {
   "cell_type": "code",
   "execution_count": 159,
   "metadata": {},
   "outputs": [],
   "source": [
    "# We will measure moments with a fixed gaussian weight function\n",
    "weight_fwhm = 1.2\n",
    "fitter = ngmix.gaussmom.GaussMom(fwhm=weight_fwhm)\n",
    "psf_fitter = ngmix.gaussmom.GaussMom(fwhm=weight_fwhm)\n",
    "\n",
    "# these \"runners\" run the measurement code on observations\n",
    "psf_runner = ngmix.runners.PSFRunner(fitter=psf_fitter)\n",
    "runner = ngmix.runners.Runner(fitter=fitter)\n",
    "\n",
    "# this \"bootstrapper\" runs the metacal image shearing as well as both psf\n",
    "# and object measurements\n",
    "#\n",
    "# We will just do R11 for simplicity and to speed up this example;\n",
    "# typically the off diagonal terms are negligible, and R11 and R22 are\n",
    "# usually consistent\n",
    "\n",
    "boot = ngmix.metacal.MetacalBootstrapper(\n",
    "    runner=runner, psf_runner=psf_runner,\n",
    "    rng=rng,\n",
    "    psf=args['psf'],\n",
    "    step=0.001,\n",
    "    fixnoise=False\n",
    ")\n",
    "\n",
    "dlist = []"
   ]
  },
  {
   "cell_type": "code",
   "execution_count": 160,
   "metadata": {},
   "outputs": [],
   "source": [
    "resdict, obsdict = boot.go(obs)"
   ]
  },
  {
   "cell_type": "code",
   "execution_count": 161,
   "metadata": {},
   "outputs": [],
   "source": [
    "import tensorflow as tf\n",
    "import galflow\n",
    "zero_padding_factor=1\n",
    "interp_factor=1"
   ]
  },
  {
   "cell_type": "code",
   "execution_count": 162,
   "metadata": {},
   "outputs": [],
   "source": [
    "def drawKimage(images, \n",
    "               x_interpolant=tf.image.ResizeMethod.BICUBIC,\n",
    "               interp_factor=2,\n",
    "               zero_padding_factor=2):\n",
    "  \"\"\"\n",
    "  Takes an input image (or a batch of images), \n",
    "  and turns it into a Fourier image using specified interpolant and \n",
    "  padding parameters\n",
    "  \"\"\"\n",
    "  batch_size, Nx, Ny, Nc = images.get_shape().as_list()\n",
    "  # For now, we only support square, even images, in only one band\n",
    "  assert Nx == Ny\n",
    "  assert Nx % 2 == 0\n",
    "  assert Nc == 1\n",
    "\n",
    "#     # First, we interpolate the image on a finer grid\n",
    "#   if interp_factor > 1:\n",
    "#     im = tf.image.resize(images,\n",
    "#                         [Nx*interp_factor,\n",
    "#                          Ny*interp_factor],\n",
    "#                         method=x_interpolant)\n",
    "#     # Since we lower the resolution of the image, we also scale the flux\n",
    "#     # accordingly\n",
    "#     images = im / interp_factor**2\n",
    "\n",
    "#   # Second, we pad as necessary\n",
    "#   im = tf.image.resize_with_crop_or_pad(images,\n",
    "#                                        zero_padding_factor*Nx*interp_factor,\n",
    "#                                        zero_padding_factor*Ny*interp_factor)\n",
    "\n",
    "  im = images\n",
    "  # Compute DFT\n",
    "  return tf.signal.fft2d(tf.cast(im[...,0], tf.complex64))"
   ]
  },
  {
   "cell_type": "code",
   "execution_count": 163,
   "metadata": {},
   "outputs": [],
   "source": [
    "i = pad(obs.image, [[22,22],[22,22]])\n",
    "im = tf.convert_to_tensor(fftshift(i).reshape([1,88,88,1]), tf.float32)\n",
    "imk = tf.signal.fftshift(drawKimage(im, interp_factor=interp_factor, zero_padding_factor=zero_padding_factor))\n",
    "psf = tf.convert_to_tensor(obs.psf.image.reshape([1,38,38,1]), tf.float32)\n",
    "psf = tf.image.resize_with_crop_or_pad((psf),88,88)\n",
    "kpsf = tf.cast(tf.abs(drawKimage(psf, interp_factor=interp_factor, \n",
    "                                         zero_padding_factor=zero_padding_factor)), tf.complex64)\n",
    "kpsf = tf.signal.fftshift(kpsf)"
   ]
  },
  {
   "cell_type": "code",
   "execution_count": 164,
   "metadata": {},
   "outputs": [],
   "source": [
    "rpsf = obsdict['noshear'].psf.galsim_obj.drawImage(nx=88,ny=88, scale= 0.263).array\n",
    "rpsf = tf.convert_to_tensor(rpsf.reshape([1,88,88,1]), tf.float32)\n",
    "krpsf = tf.cast(tf.abs(drawKimage(rpsf, interp_factor=interp_factor, \n",
    "                                        zero_padding_factor=zero_padding_factor)), tf.complex64)\n",
    "krpsf = tf.signal.fftshift(krpsf)"
   ]
  },
  {
   "cell_type": "code",
   "execution_count": 165,
   "metadata": {},
   "outputs": [],
   "source": [
    "# compute mask in Fourier space \n",
    "fac = zero_padding_factor*interp_factor\n",
    "kx, ky = meshgrid(fftfreq(88*fac), fftfreq(88*fac))\n",
    "mask = sqrt(kx**2 + ky**2) <= 0.5\n",
    "mask = fftshift(mask)"
   ]
  },
  {
   "cell_type": "code",
   "execution_count": 166,
   "metadata": {},
   "outputs": [],
   "source": [
    "# Deconvolve obs by PSF\n",
    "im_deconv = imk * ( (1./(kpsf+1e-15))*mask)"
   ]
  },
  {
   "cell_type": "code",
   "execution_count": 167,
   "metadata": {},
   "outputs": [],
   "source": [
    "im_sheared = galflow.shear(tf.expand_dims(im_deconv,-1), \n",
    "                           atleast_1d(0.0), atleast_1d(0.0))[...,0]"
   ]
  },
  {
   "cell_type": "code",
   "execution_count": 168,
   "metadata": {},
   "outputs": [],
   "source": [
    "def to_rfft(x):\n",
    "    return tf.signal.fftshift(x)[:,:,:88*fac//2+1]"
   ]
  },
  {
   "cell_type": "code",
   "execution_count": 169,
   "metadata": {},
   "outputs": [],
   "source": [
    "# Reconvolve obs by PSF\n",
    "im_reconv = galflow.kconvolve(to_rfft(im_sheared), to_rfft(krpsf*mask), \n",
    "                              interp_factor=interp_factor, \n",
    "                              zero_padding_factor=2)\n",
    "im_reconv = tf.signal.fftshift(im_reconv[...,0])[:,22:-22,22:-22]"
   ]
  },
  {
   "cell_type": "code",
   "execution_count": 170,
   "metadata": {},
   "outputs": [
    {
     "data": {
      "text/plain": [
       "Text(0.5, 0.98, '1p')"
      ]
     },
     "execution_count": 170,
     "metadata": {},
     "output_type": "execute_result"
    },
    {
     "data": {
      "image/png": "[encoded data removed]",
      "text/plain": [
       "<Figure size 1080x360 with 6 Axes>"
      ]
     },
     "metadata": {
      "needs_background": "light"
     },
     "output_type": "display_data"
    }
   ],
   "source": [
    "figure(figsize=[15,5])\n",
    "subplot(131)\n",
    "title('ngmix')\n",
    "imshow(obsdict['1p'].image,cmap='gist_stern'); colorbar()\n",
    "subplot(132)\n",
    "imshow(im_reconv[0,:,:],cmap='gist_stern'); colorbar()\n",
    "title('galflow')\n",
    "subplot(133)\n",
    "imshow(im_reconv[0,:,:] - obsdict['noshear'].image); colorbar()\n",
    "title('residuals')\n",
    "suptitle('1p')"
   ]
  },
  {
   "cell_type": "code",
   "execution_count": 173,
   "metadata": {},
   "outputs": [],
   "source": [
    "im_sheared = galflow.shear(tf.expand_dims(im_deconv,-1), \n",
    "                           atleast_1d(0.001), atleast_1d(0.0))[...,0]\n",
    "# Reconvolve obs by PSF\n",
    "im_reconv = galflow.kconvolve(to_rfft(im_sheared), to_rfft(krpsf*mask), \n",
    "                              interp_factor=interp_factor, \n",
    "                              zero_padding_factor=2)\n",
    "im_reconv = tf.signal.fftshift(im_reconv[...,0])[:,22:-22,22:-22]"
   ]
  },
  {
   "cell_type": "code",
   "execution_count": 174,
   "metadata": {},
   "outputs": [
    {
     "data": {
      "text/plain": [
       "Text(0.5, 0.98, '1p')"
      ]
     },
     "execution_count": 174,
     "metadata": {},
     "output_type": "execute_result"
    },
    {
     "data": {
      "image/png": "[encoded data removed]",
      "text/plain": [
       "<Figure size 1080x360 with 6 Axes>"
      ]
     },
     "metadata": {
      "needs_background": "light"
     },
     "output_type": "display_data"
    }
   ],
   "source": [
    "figure(figsize=[15,5])\n",
    "subplot(131)\n",
    "title('ngmix')\n",
    "imshow(obsdict['1p'].image,cmap='gist_stern'); colorbar()\n",
    "subplot(132)\n",
    "imshow(im_reconv[0,:,:],cmap='gist_stern'); colorbar()\n",
    "title('galflow')\n",
    "subplot(133)\n",
    "imshow(im_reconv[0,:,:] - obsdict['1p'].image); colorbar()\n",
    "title('residuals')\n",
    "suptitle('1p')"
   ]
  },
  {
   "cell_type": "code",
   "execution_count": 158,
   "metadata": {},
   "outputs": [
    {
     "data": {
      "text/plain": [
       "<matplotlib.colorbar.Colorbar at 0x7fcfa446d7f0>"
      ]
     },
     "execution_count": 158,
     "metadata": {},
     "output_type": "execute_result"
    },
    {
     "data": {
      "image/png": "[encoded data removed]",
      "text/plain": [
       "<Figure size 432x288 with 2 Axes>"
      ]
     },
     "metadata": {
      "needs_background": "light"
     },
     "output_type": "display_data"
    }
   ],
   "source": [
    "imshow(fftshift(real(fft2(fftshift(im_reconv[0,:,:])))) - fftshift(real(fft2(fftshift(obsdict['1p'].image))))); colorbar()"
   ]
  },
  {
   "cell_type": "code",
   "execution_count": 23,
   "metadata": {},
   "outputs": [
    {
     "data": {
      "text/plain": [
       "<matplotlib.colorbar.Colorbar at 0x7fd0b3e645e0>"
      ]
     },
     "execution_count": 23,
     "metadata": {},
     "output_type": "execute_result"
    },
    {
     "data": {
      "image/png": "[encoded data removed]",
      "text/plain": [
       "<Figure size 432x288 with 2 Axes>"
      ]
     },
     "metadata": {
      "needs_background": "light"
     },
     "output_type": "display_data"
    }
   ],
   "source": [
    "imshow(fftshift(imag(fft2(fftshift(im_reconv[0,:,:])))) - fftshift(imag(fft2(fftshift(obsdict['1p'].image))))); colorbar()"
   ]
  },
  {
   "cell_type": "code",
   "execution_count": null,
   "metadata": {},
   "outputs": [],
   "source": []
  }
 ],
 "metadata": {
  "kernelspec": {
   "display_name": "Python 3",
   "language": "python",
   "name": "python3"
  },
  "language_info": {
   "codemirror_mode": {
    "name": "ipython",
    "version": 3
   },
   "file_extension": ".py",
   "mimetype": "text/x-python",
   "name": "python",
   "nbconvert_exporter": "python",
   "pygments_lexer": "ipython3",
   "version": "3.8.3"
  }
 },
 "nbformat": 4,
 "nbformat_minor": 4
}
