{
 "cells": [
  {
   "cell_type": "markdown",
   "id": "ec62a405-a6a3-4571-b072-66d1a5ebd016",
   "metadata": {},
   "source": [
    "# Reverse engineering ngmix' gaussian moments - part 2"
   ]
  },
  {
   "cell_type": "code",
   "execution_count": 1,
   "id": "13f57ed4-b6f6-4771-bb8f-e8bab4bc69cb",
   "metadata": {},
   "outputs": [
    {
     "name": "stdout",
     "output_type": "stream",
     "text": [
      "Populating the interactive namespace from numpy and matplotlib\n"
     ]
    }
   ],
   "source": [
    "%pylab inline"
   ]
  },
  {
   "cell_type": "code",
   "execution_count": 2,
   "id": "9e78cd47-9516-49c9-b99c-511802a05b64",
   "metadata": {},
   "outputs": [
    {
     "ename": "ImportError",
     "evalue": "cannot import name 'gmix_eval_pixel' from partially initialized module 'autometacal.python.tf_ngmix.gmix' (most likely due to a circular import) (/local/home/az264973/github/autometacal/autometacal/python/tf_ngmix/gmix.py)",
     "output_type": "error",
     "traceback": [
      "\u001b[0;31m---------------------------------------------------------------------------\u001b[0m",
      "\u001b[0;31mImportError\u001b[0m                               Traceback (most recent call last)",
      "\u001b[0;32m<ipython-input-2-273c126e93c2>\u001b[0m in \u001b[0;36m<module>\u001b[0;34m\u001b[0m\n\u001b[1;32m      1\u001b[0m \u001b[0;32mimport\u001b[0m \u001b[0mngmix\u001b[0m\u001b[0;34m\u001b[0m\u001b[0;34m\u001b[0m\u001b[0m\n\u001b[0;32m----> 2\u001b[0;31m \u001b[0;32mimport\u001b[0m \u001b[0mautometacal\u001b[0m\u001b[0;34m\u001b[0m\u001b[0;34m\u001b[0m\u001b[0m\n\u001b[0m\u001b[1;32m      3\u001b[0m \u001b[0;32mimport\u001b[0m \u001b[0mtensorflow\u001b[0m \u001b[0;32mas\u001b[0m \u001b[0mtf\u001b[0m\u001b[0;34m\u001b[0m\u001b[0;34m\u001b[0m\u001b[0m\n",
      "\u001b[0;32m~/github/autometacal/autometacal/__init__.py\u001b[0m in \u001b[0;36m<module>\u001b[0;34m\u001b[0m\n\u001b[0;32m----> 1\u001b[0;31m \u001b[0;32mfrom\u001b[0m \u001b[0mautometacal\u001b[0m\u001b[0;34m.\u001b[0m\u001b[0mpython\u001b[0m \u001b[0;32mimport\u001b[0m \u001b[0;34m*\u001b[0m\u001b[0;34m\u001b[0m\u001b[0;34m\u001b[0m\u001b[0m\n\u001b[0m",
      "\u001b[0;32m~/github/autometacal/autometacal/python/__init__.py\u001b[0m in \u001b[0;36m<module>\u001b[0;34m\u001b[0m\n\u001b[1;32m      1\u001b[0m \u001b[0;32mimport\u001b[0m \u001b[0mautometacal\u001b[0m\u001b[0;34m.\u001b[0m\u001b[0mpython\u001b[0m\u001b[0;34m.\u001b[0m\u001b[0mdata\u001b[0m \u001b[0;32mas\u001b[0m \u001b[0mdata\u001b[0m\u001b[0;34m\u001b[0m\u001b[0;34m\u001b[0m\u001b[0m\n\u001b[0;32m----> 2\u001b[0;31m \u001b[0;32mimport\u001b[0m \u001b[0mautometacal\u001b[0m\u001b[0;34m.\u001b[0m\u001b[0mpython\u001b[0m\u001b[0;34m.\u001b[0m\u001b[0mtf_ngmix\u001b[0m \u001b[0;32mas\u001b[0m \u001b[0mtf_ngmix\u001b[0m\u001b[0;34m\u001b[0m\u001b[0;34m\u001b[0m\u001b[0m\n\u001b[0m\u001b[1;32m      3\u001b[0m \u001b[0;32mfrom\u001b[0m \u001b[0mautometacal\u001b[0m\u001b[0;34m.\u001b[0m\u001b[0mpython\u001b[0m\u001b[0;34m.\u001b[0m\u001b[0mmetacal\u001b[0m \u001b[0;32mimport\u001b[0m \u001b[0mgenerate_mcal_image\u001b[0m\u001b[0;34m,\u001b[0m \u001b[0mget_metacal_response\u001b[0m\u001b[0;34m\u001b[0m\u001b[0;34m\u001b[0m\u001b[0m\n\u001b[1;32m      4\u001b[0m \u001b[0;32mfrom\u001b[0m \u001b[0mautometacal\u001b[0m\u001b[0;34m.\u001b[0m\u001b[0mpython\u001b[0m\u001b[0;34m.\u001b[0m\u001b[0mfitting\u001b[0m \u001b[0;32mimport\u001b[0m \u001b[0mfit_multivariate_gaussian\u001b[0m\u001b[0;34m,\u001b[0m \u001b[0mget_ellipticity\u001b[0m\u001b[0;34m\u001b[0m\u001b[0;34m\u001b[0m\u001b[0m\n",
      "\u001b[0;32m~/github/autometacal/autometacal/python/tf_ngmix/__init__.py\u001b[0m in \u001b[0;36m<module>\u001b[0;34m\u001b[0m\n\u001b[1;32m      1\u001b[0m \u001b[0;34m\"\"\"tf ngmix (ver 0.0.0)\"\"\"\u001b[0m\u001b[0;34m\u001b[0m\u001b[0;34m\u001b[0m\u001b[0m\n\u001b[1;32m      2\u001b[0m \u001b[0;31m#this is a test, so I just explicitly import everything\u001b[0m\u001b[0;34m\u001b[0m\u001b[0;34m\u001b[0m\u001b[0;34m\u001b[0m\u001b[0m\n\u001b[0;32m----> 3\u001b[0;31m \u001b[0;32mfrom\u001b[0m \u001b[0;34m.\u001b[0m\u001b[0mgmix\u001b[0m \u001b[0;32mimport\u001b[0m \u001b[0mgauss2d_eval_pixel\u001b[0m\u001b[0;34m,\u001b[0m \u001b[0mgauss2d_set\u001b[0m\u001b[0;34m,\u001b[0m \u001b[0mgmix_fill_simple\u001b[0m\u001b[0;34m,\u001b[0m \u001b[0mgauss2d_set_norm\u001b[0m\u001b[0;34m,\u001b[0m \u001b[0mcreate_empty_gmix\u001b[0m\u001b[0;34m,\u001b[0m \u001b[0mgmix_set_norms\u001b[0m\u001b[0;34m,\u001b[0m \u001b[0mcreate_gmix\u001b[0m\u001b[0;34m\u001b[0m\u001b[0;34m\u001b[0m\u001b[0m\n\u001b[0m\u001b[1;32m      4\u001b[0m \u001b[0;32mfrom\u001b[0m \u001b[0;34m.\u001b[0m\u001b[0mmoments\u001b[0m \u001b[0;32mimport\u001b[0m \u001b[0mfwhm_to_sigma\u001b[0m\u001b[0;34m,\u001b[0m \u001b[0mfwhm_to_T\u001b[0m\u001b[0;34m,\u001b[0m \u001b[0mg1g2_to_e1e2\u001b[0m\u001b[0;34m,\u001b[0m \u001b[0mget_weighted_sums\u001b[0m\u001b[0;34m\u001b[0m\u001b[0;34m\u001b[0m\u001b[0m\n\u001b[1;32m      5\u001b[0m \u001b[0;32mfrom\u001b[0m \u001b[0;34m.\u001b[0m\u001b[0mpixels\u001b[0m \u001b[0;32mimport\u001b[0m \u001b[0mmake_diagonal_jacobian\u001b[0m\u001b[0;34m,\u001b[0m \u001b[0mjacobian_get_vu\u001b[0m\u001b[0;34m,\u001b[0m \u001b[0mjacobian_get_area\u001b[0m\u001b[0;34m,\u001b[0m \u001b[0mmake_pixels\u001b[0m\u001b[0;34m,\u001b[0m \u001b[0mfill_pixels\u001b[0m\u001b[0;34m\u001b[0m\u001b[0;34m\u001b[0m\u001b[0m\n",
      "\u001b[0;32m~/github/autometacal/autometacal/python/tf_ngmix/gmix.py\u001b[0m in \u001b[0;36m<module>\u001b[0;34m\u001b[0m\n\u001b[1;32m     12\u001b[0m \u001b[0mpi\u001b[0m \u001b[0;34m=\u001b[0m \u001b[0;36m3.141592653589793\u001b[0m\u001b[0;34m\u001b[0m\u001b[0;34m\u001b[0m\u001b[0m\n\u001b[1;32m     13\u001b[0m \u001b[0;34m\u001b[0m\u001b[0m\n\u001b[0;32m---> 14\u001b[0;31m \u001b[0;32mfrom\u001b[0m \u001b[0;34m.\u001b[0m\u001b[0mmoments\u001b[0m \u001b[0;32mimport\u001b[0m \u001b[0mg1g2_to_e1e2\u001b[0m\u001b[0;34m\u001b[0m\u001b[0;34m\u001b[0m\u001b[0m\n\u001b[0m\u001b[1;32m     15\u001b[0m \u001b[0;34m\u001b[0m\u001b[0m\n\u001b[1;32m     16\u001b[0m \u001b[0;31m###################evaluate pixels#####################################\u001b[0m\u001b[0;34m\u001b[0m\u001b[0;34m\u001b[0m\u001b[0;34m\u001b[0m\u001b[0m\n",
      "\u001b[0;32m~/github/autometacal/autometacal/python/tf_ngmix/moments.py\u001b[0m in \u001b[0;36m<module>\u001b[0;34m\u001b[0m\n\u001b[1;32m      9\u001b[0m \u001b[0;32mimport\u001b[0m \u001b[0mtensorflow\u001b[0m \u001b[0;32mas\u001b[0m \u001b[0mtf\u001b[0m\u001b[0;34m\u001b[0m\u001b[0;34m\u001b[0m\u001b[0m\n\u001b[1;32m     10\u001b[0m \u001b[0;32mimport\u001b[0m \u001b[0mnumpy\u001b[0m \u001b[0;32mas\u001b[0m \u001b[0mnp\u001b[0m\u001b[0;34m\u001b[0m\u001b[0;34m\u001b[0m\u001b[0m\n\u001b[0;32m---> 11\u001b[0;31m \u001b[0;32mfrom\u001b[0m \u001b[0;34m.\u001b[0m\u001b[0mgmix\u001b[0m \u001b[0;32mimport\u001b[0m \u001b[0mgmix_eval_pixel\u001b[0m\u001b[0;34m\u001b[0m\u001b[0;34m\u001b[0m\u001b[0m\n\u001b[0m\u001b[1;32m     12\u001b[0m \u001b[0;34m\u001b[0m\u001b[0m\n\u001b[1;32m     13\u001b[0m \u001b[0;31m#############utilites conversions\u001b[0m\u001b[0;34m\u001b[0m\u001b[0;34m\u001b[0m\u001b[0;34m\u001b[0m\u001b[0m\n",
      "\u001b[0;31mImportError\u001b[0m: cannot import name 'gmix_eval_pixel' from partially initialized module 'autometacal.python.tf_ngmix.gmix' (most likely due to a circular import) (/local/home/az264973/github/autometacal/autometacal/python/tf_ngmix/gmix.py)"
     ]
    }
   ],
   "source": [
    "import ngmix\n",
    "import autometacal\n",
    "import tensorflow as tf"
   ]
  },
  {
   "cell_type": "markdown",
   "id": "ab1866c4-da66-4223-b30d-9fbfa2bad376",
   "metadata": {},
   "source": [
    "Get a galaxy:"
   ]
  },
  {
   "cell_type": "code",
   "execution_count": null,
   "id": "834e94b4-2446-4de5-8eb4-d0d0297488dd",
   "metadata": {},
   "outputs": [],
   "source": [
    "scale = .2\n",
    "stamp_size=51\n",
    "gal, psf = autometacal.data.galaxies.make_data(img_noise=0.0005,gal_g1=[0.],gal_g2=[0.5],scale=scale)"
   ]
  },
  {
   "cell_type": "code",
   "execution_count": null,
   "id": "5ee7780d-27cf-494b-a474-9959b08bbede",
   "metadata": {},
   "outputs": [],
   "source": [
    "imshow(gal.numpy()[0])\n",
    "obs=ngmix.Observation(gal.numpy()[0],jacobian=ngmix.DiagonalJacobian(row=25, col=25, scale=.2))"
   ]
  },
  {
   "cell_type": "markdown",
   "id": "77ea531b-abd9-47b5-81b7-4c0de9c2cf48",
   "metadata": {},
   "source": [
    "Set a fitter with Gaussian moments:"
   ]
  },
  {
   "cell_type": "code",
   "execution_count": null,
   "id": "ea9cf507-448e-421c-91bd-ddcd3fb67ec4",
   "metadata": {},
   "outputs": [],
   "source": [
    "weight_fwhm = scale*stamp_size/2 # <- this sets everything for the window function\n",
    "fitter = ngmix.gaussmom.GaussMom(fwhm=weight_fwhm)"
   ]
  },
  {
   "cell_type": "markdown",
   "id": "27809cbd-e3a2-4bf2-b6e8-949d6392d1a5",
   "metadata": {},
   "source": [
    "calculate moments:"
   ]
  },
  {
   "cell_type": "code",
   "execution_count": null,
   "id": "c29e09b3-2abd-49c0-850f-d289a835d4a7",
   "metadata": {},
   "outputs": [],
   "source": [
    "fitter._measure_moments(obs)"
   ]
  },
  {
   "cell_type": "code",
   "execution_count": null,
   "id": "7c4cd79e-7537-41aa-acc7-243b4cfdbc2a",
   "metadata": {},
   "outputs": [],
   "source": [
    "jacob = autometacal.tf_ngmix.make_diagonal_jacobian(25,25,0.2)"
   ]
  },
  {
   "cell_type": "code",
   "execution_count": null,
   "id": "6dcb34a6-d0d6-4dbd-a0f1-2cb82ae73105",
   "metadata": {},
   "outputs": [],
   "source": [
    "pix_weight = np.ones([51,51])"
   ]
  },
  {
   "cell_type": "code",
   "execution_count": null,
   "id": "80630ee5-421f-4e14-b342-2634e7d778ed",
   "metadata": {},
   "outputs": [],
   "source": [
    "image = gal.numpy()[0]"
   ]
  },
  {
   "cell_type": "code",
   "execution_count": null,
   "id": "c604ff7d-35fc-4294-b478-61879d8a033e",
   "metadata": {},
   "outputs": [],
   "source": [
    "obs_pixels = autometacal.tf_ngmix.make_pixels(image,pix_weight,jacob)"
   ]
  },
  {
   "cell_type": "code",
   "execution_count": null,
   "id": "40b82d8f-9924-41b6-ac8a-5f5079d21ff7",
   "metadata": {},
   "outputs": [],
   "source": [
    "obs_pixels"
   ]
  },
  {
   "cell_type": "code",
   "execution_count": null,
   "id": "24522bd3-dce5-4a43-8d29-fa7ef46ead82",
   "metadata": {},
   "outputs": [],
   "source": [
    "obs.pixels"
   ]
  },
  {
   "cell_type": "code",
   "execution_count": null,
   "id": "2b23d27a-1058-4950-bb55-8cfde79375ef",
   "metadata": {},
   "outputs": [],
   "source": []
  },
  {
   "cell_type": "code",
   "execution_count": null,
   "id": "ebd0342c-4774-48bc-ace5-67a09bc8f849",
   "metadata": {},
   "outputs": [],
   "source": []
  },
  {
   "cell_type": "code",
   "execution_count": null,
   "id": "07e5255e-83ef-4149-abd6-d64ede1c3804",
   "metadata": {},
   "outputs": [],
   "source": [
    "T = autometacal.tf_ngmix.fwhm_to_T(weight_fwhm)\n",
    "gaussian = autometacal.tf_ngmix.create_gmix([0.,0.,0.,0.,T,1.],'gauss')"
   ]
  },
  {
   "cell_type": "code",
   "execution_count": null,
   "id": "c30a51a3-dc3e-497e-93c2-910b4fda188e",
   "metadata": {},
   "outputs": [],
   "source": [
    "autometacal.tf_ngmix.get_weighted_sums(gaussian,obs_pixels,maxrad=400)"
   ]
  },
  {
   "cell_type": "code",
   "execution_count": null,
   "id": "4ee06559-797e-49b4-9566-679132b50a63",
   "metadata": {},
   "outputs": [],
   "source": []
  },
  {
   "cell_type": "code",
   "execution_count": null,
   "id": "2ce3e1d0-fde3-4e3c-8922-af8bdb54e745",
   "metadata": {},
   "outputs": [],
   "source": []
  },
  {
   "cell_type": "code",
   "execution_count": null,
   "id": "0926867c-9493-4073-9e80-f8105baa1837",
   "metadata": {},
   "outputs": [],
   "source": []
  },
  {
   "cell_type": "code",
   "execution_count": null,
   "id": "fd247201-6420-45ef-a817-3fa6757300de",
   "metadata": {},
   "outputs": [],
   "source": []
  },
  {
   "cell_type": "code",
   "execution_count": null,
   "id": "fbe90757-da41-4dc7-b19c-2a09311d4ecb",
   "metadata": {},
   "outputs": [],
   "source": []
  },
  {
   "cell_type": "code",
   "execution_count": null,
   "id": "ce4f3b64-8565-4b6e-9314-05b3d615164c",
   "metadata": {},
   "outputs": [],
   "source": []
  }
 ],
 "metadata": {
  "kernelspec": {
   "display_name": "Python 3",
   "language": "python",
   "name": "python3"
  },
  "language_info": {
   "codemirror_mode": {
    "name": "ipython",
    "version": 3
   },
   "file_extension": ".py",
   "mimetype": "text/x-python",
   "name": "python",
   "nbconvert_exporter": "python",
   "pygments_lexer": "ipython3",
   "version": "3.8.6"
  }
 },
 "nbformat": 4,
 "nbformat_minor": 5
}
