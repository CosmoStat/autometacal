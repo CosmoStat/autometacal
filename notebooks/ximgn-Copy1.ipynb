{
 "cells": [
  {
   "cell_type": "markdown",
   "id": "ec62a405-a6a3-4571-b072-66d1a5ebd016",
   "metadata": {},
   "source": [
    "# Reverse engineering ngmix' gaussian moments - part 2"
   ]
  },
  {
   "cell_type": "code",
   "execution_count": 1,
   "id": "13f57ed4-b6f6-4771-bb8f-e8bab4bc69cb",
   "metadata": {},
   "outputs": [
    {
     "name": "stdout",
     "output_type": "stream",
     "text": [
      "Populating the interactive namespace from numpy and matplotlib\n"
     ]
    }
   ],
   "source": [
    "%pylab inline"
   ]
  },
  {
   "cell_type": "code",
   "execution_count": 2,
   "id": "9e78cd47-9516-49c9-b99c-511802a05b64",
   "metadata": {},
   "outputs": [],
   "source": [
    "import ngmix\n",
    "import autometacal\n",
    "import tensorflow as tf"
   ]
  },
  {
   "cell_type": "code",
   "execution_count": null,
   "id": "d82a1005-c0f0-489e-8dab-bae9ef76d5dc",
   "metadata": {},
   "outputs": [],
   "source": []
  },
  {
   "cell_type": "markdown",
   "id": "ab1866c4-da66-4223-b30d-9fbfa2bad376",
   "metadata": {},
   "source": [
    "Get a galaxy:"
   ]
  },
  {
   "cell_type": "code",
   "execution_count": 3,
   "id": "834e94b4-2446-4de5-8eb4-d0d0297488dd",
   "metadata": {},
   "outputs": [],
   "source": [
    "scale = .2\n",
    "stamp_size=51\n",
    "gal, psf = autometacal.data.galaxies.make_data(img_noise=0.000005,gal_g1=[0.2],gal_g2=[0.1],scale=scale)"
   ]
  },
  {
   "cell_type": "code",
   "execution_count": 4,
   "id": "5ee7780d-27cf-494b-a474-9959b08bbede",
   "metadata": {},
   "outputs": [
    {
     "data": {
      "image/png": "[encoded data removed]",
      "text/plain": [
       "<Figure size 432x288 with 1 Axes>"
      ]
     },
     "metadata": {
      "needs_background": "light"
     },
     "output_type": "display_data"
    }
   ],
   "source": [
    "imshow(gal.numpy()[0])\n",
    "obs=ngmix.Observation(gal.numpy()[0],jacobian=ngmix.DiagonalJacobian(row=25, col=25, scale=.2))"
   ]
  },
  {
   "cell_type": "markdown",
   "id": "77ea531b-abd9-47b5-81b7-4c0de9c2cf48",
   "metadata": {},
   "source": [
    "Set a fitter with Gaussian moments:"
   ]
  },
  {
   "cell_type": "code",
   "execution_count": 5,
   "id": "ea9cf507-448e-421c-91bd-ddcd3fb67ec4",
   "metadata": {},
   "outputs": [
    {
     "data": {
      "text/plain": [
       "{'flags': 0,\n",
       " 'npix': 2601,\n",
       " 'wsum': 28.391886409860447,\n",
       " 'sums': array([-1.40819422e-06, -7.50545493e-06,  8.63656546e-03,  4.36321380e-03,\n",
       "         4.96443801e-02,  3.29991413e-02]),\n",
       " 'sums_cov': array([[ 1.36575550e+00, -1.54954090e-18, -1.90131368e-16,\n",
       "         -2.00238589e-17, -1.15060956e-17, -7.90294975e-18],\n",
       "        [-2.41076165e-18,  1.36575550e+00, -2.89693738e-17,\n",
       "         -5.68748743e-17, -8.08188016e-17, -1.94671994e-18],\n",
       "        [-1.89264642e-16,  1.43853723e-17,  1.21351863e+01,\n",
       "          2.98011602e-17,  4.72483448e-17,  2.22713847e-15],\n",
       "        [-6.14268293e-18, -5.75253956e-17,  2.29164764e-17,\n",
       "          1.26799874e+01, -3.73507648e-17, -3.52111596e-18],\n",
       "        [-9.28348110e-18, -6.00800469e-17,  9.92976724e-17,\n",
       "         -6.49979202e-17,  2.48151738e+01,  2.73151100e+00],\n",
       "        [-7.90294975e-18, -1.94671994e-18,  2.22713847e-15,\n",
       "         -3.52111596e-18,  2.73151100e+00,  5.88419538e-01]]),\n",
       " 'pars': array([-4.26736624e-05, -2.27443947e-04,  2.61720915e-01,  1.32222041e-01,\n",
       "         1.50441430e+00,  8.24978532e-01]),\n",
       " 'F': array([ 5.,  5.,  0., 50., 50.,  1.]),\n",
       " 'flux': 0.8249785324675749,\n",
       " 'flux_err': 19.177127288957244,\n",
       " 'T': 1.5044142997849053,\n",
       " 's2n': 0.043018879732973456,\n",
       " 'e': array([0.17396864, 0.08788938]),\n",
       " 'e_err': array([72.30905329, 72.26822909]),\n",
       " 'e_cov': array([[5228.5991878 ,    0.        ],\n",
       "        [   0.        , 5222.69693548]]),\n",
       " 'T_err': 128.31179824940472}"
      ]
     },
     "execution_count": 5,
     "metadata": {},
     "output_type": "execute_result"
    }
   ],
   "source": [
    "weight_fwhm = scale*stamp_size/2 # <- this sets everything for the window function\n",
    "fitter = ngmix.gaussmom.GaussMom(fwhm=weight_fwhm)\n",
    "fitter._measure_moments(obs)"
   ]
  },
  {
   "cell_type": "code",
   "execution_count": 6,
   "id": "0926867c-9493-4073-9e80-f8105baa1837",
   "metadata": {},
   "outputs": [
    {
     "data": {
      "text/plain": [
       "<tf.Tensor: shape=(2,), dtype=float32, numpy=array([0.17396869, 0.08788938], dtype=float32)>"
      ]
     },
     "execution_count": 6,
     "metadata": {},
     "output_type": "execute_result"
    }
   ],
   "source": [
    "pix_weights = tf.ones([51,51])\n",
    "jake=autometacal.tf_ngmix.make_diagonal_jacobian(25,25,scale=.2)\n",
    "image = gal.numpy()[0]\n",
    "pixels=autometacal.tf_ngmix.make_pixels(image,pix_weights,jake)\n",
    "T = autometacal.tf_ngmix.fwhm_to_T(weight_fwhm)\n",
    "weights = autometacal.tf_ngmix.create_gmix([0.,0.,0.,0.,T,1.],'gauss')\n",
    "autometacal.tf_ngmix.get_moments(weights,pixels)"
   ]
  },
  {
   "cell_type": "code",
   "execution_count": 7,
   "id": "70703f2f-64c4-4066-9015-1c2f902cdd1c",
   "metadata": {},
   "outputs": [
    {
     "data": {
      "text/plain": [
       "<tf.Tensor: shape=(1, 13), dtype=float32, numpy=\n",
       "array([[29.471672  ,  0.        ,  0.        ,  4.6905622 ,  0.        ,\n",
       "         4.6905622 , 22.001373  ,  1.        ,  0.21319406,  0.        ,\n",
       "         0.21319406,  0.03393089,  1.        ]], dtype=float32)>"
      ]
     },
     "execution_count": 7,
     "metadata": {},
     "output_type": "execute_result"
    }
   ],
   "source": [
    "weights"
   ]
  },
  {
   "cell_type": "markdown",
   "id": "84a036f3-8c3f-4765-b117-9cfdfb86f05f",
   "metadata": {},
   "source": [
    "## Testing"
   ]
  },
  {
   "cell_type": "code",
   "execution_count": 8,
   "id": "4b745eaa-01fd-49a7-add4-e102a602b80a",
   "metadata": {},
   "outputs": [],
   "source": [
    "from numpy.testing import assert_allclose\n",
    "def test_fitting():\n",
    "  \"\"\"\n",
    "  This test generates a simple galaxy and measure moments with ngmix, vs.\n",
    "  tf_ngmix.\n",
    "  \"\"\"\n",
    "  #create galaxy image\n",
    "  scale = .2\n",
    "  stamp_size=51\n",
    "  gal, _ = autometacal.data.galaxies.make_data(img_noise=0.0005,\n",
    "                                                 gal_g1=[0.],\n",
    "                                                 gal_g2=[0.5],\n",
    "                                                 scale=scale)\n",
    "  image = gal.numpy()[0]\n",
    "  \n",
    "  #ngmix version\n",
    "  obs=ngmix.Observation(image,\n",
    "                        jacobian=ngmix.DiagonalJacobian(row=25, \n",
    "                                                        col=25, \n",
    "                                                        scale=.2))\n",
    "  weight_fwhm = scale*stamp_size/2. \n",
    "  fitter = ngmix.gaussmom.GaussMom(fwhm=weight_fwhm)\n",
    "  result_ngmix =fitter._measure_moments(obs)['e']\n",
    "  \n",
    "  #our version:\n",
    "  pix_weights = tf.ones([51,51])\n",
    "  #make jacobian\n",
    "  jake=autometacal.tf_ngmix.make_diagonal_jacobian(25,25,scale=.2)\n",
    "  #make pixels\n",
    "  pixels=autometacal.tf_ngmix.make_pixels(image,pix_weights,jake)\n",
    "  \n",
    "  T = autometacal.tf_ngmix.fwhm_to_T(weight_fwhm)\n",
    "  weights = autometacal.tf_ngmix.create_gmix([0.,0.,0.,0.,T,1.],'gauss')\n",
    "  result_tf_ngmix = autometacal.tf_ngmix.get_moments(weights,pixels)\n",
    "  \n",
    "  \n",
    "  #test\n",
    "  assert_allclose(result_ngmix, result_tf_ngmix, rtol=1e-5)\n"
   ]
  },
  {
   "cell_type": "code",
   "execution_count": 9,
   "id": "ce22b740-82c2-4716-afaf-6202ac7d30d7",
   "metadata": {},
   "outputs": [],
   "source": [
    "test_fitting()"
   ]
  },
  {
   "cell_type": "code",
   "execution_count": null,
   "id": "f97e03a1-6928-49fc-904a-a94f890c5da6",
   "metadata": {},
   "outputs": [],
   "source": []
  },
  {
   "cell_type": "code",
   "execution_count": null,
   "id": "c4701200-007d-47f5-b9a3-12b7d9a0fbdb",
   "metadata": {},
   "outputs": [],
   "source": []
  }
 ],
 "metadata": {
  "kernelspec": {
   "display_name": "Python 3",
   "language": "python",
   "name": "python3"
  },
  "language_info": {
   "codemirror_mode": {
    "name": "ipython",
    "version": 3
   },
   "file_extension": ".py",
   "mimetype": "text/x-python",
   "name": "python",
   "nbconvert_exporter": "python",
   "pygments_lexer": "ipython3",
   "version": "3.8.6"
  }
 },
 "nbformat": 4,
 "nbformat_minor": 5
}
