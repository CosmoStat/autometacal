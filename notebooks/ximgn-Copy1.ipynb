{
 "cells": [
  {
   "cell_type": "markdown",
   "id": "ec62a405-a6a3-4571-b072-66d1a5ebd016",
   "metadata": {},
   "source": [
    "# Reverse engineering ngmix' gaussian moments - part 2"
   ]
  },
  {
   "cell_type": "code",
   "execution_count": 1,
   "id": "13f57ed4-b6f6-4771-bb8f-e8bab4bc69cb",
   "metadata": {},
   "outputs": [
    {
     "name": "stdout",
     "output_type": "stream",
     "text": [
      "Populating the interactive namespace from numpy and matplotlib\n"
     ]
    }
   ],
   "source": [
    "%pylab inline"
   ]
  },
  {
   "cell_type": "code",
   "execution_count": 2,
   "id": "9e78cd47-9516-49c9-b99c-511802a05b64",
   "metadata": {},
   "outputs": [],
   "source": [
    "import ngmix\n",
    "import autometacal\n",
    "import tensorflow as tf"
   ]
  },
  {
   "cell_type": "code",
   "execution_count": null,
   "id": "d82a1005-c0f0-489e-8dab-bae9ef76d5dc",
   "metadata": {},
   "outputs": [],
   "source": []
  },
  {
   "cell_type": "markdown",
   "id": "ab1866c4-da66-4223-b30d-9fbfa2bad376",
   "metadata": {},
   "source": [
    "Get a galaxy:"
   ]
  },
  {
   "cell_type": "code",
   "execution_count": 3,
   "id": "834e94b4-2446-4de5-8eb4-d0d0297488dd",
   "metadata": {},
   "outputs": [],
   "source": [
    "scale = .2\n",
    "stamp_size=51\n",
    "gal, psf = autometacal.data.galaxies.make_data(img_noise=0.0005,gal_g1=[0.],gal_g2=[0.5],scale=scale)"
   ]
  },
  {
   "cell_type": "code",
   "execution_count": 4,
   "id": "5ee7780d-27cf-494b-a474-9959b08bbede",
   "metadata": {},
   "outputs": [
    {
     "data": {
      "image/png": "[encoded data removed]",
      "text/plain": [
       "<Figure size 432x288 with 1 Axes>"
      ]
     },
     "metadata": {
      "needs_background": "light"
     },
     "output_type": "display_data"
    }
   ],
   "source": [
    "imshow(gal.numpy()[0])\n",
    "obs=ngmix.Observation(gal.numpy()[0],jacobian=ngmix.DiagonalJacobian(row=25, col=25, scale=.2))"
   ]
  },
  {
   "cell_type": "markdown",
   "id": "77ea531b-abd9-47b5-81b7-4c0de9c2cf48",
   "metadata": {},
   "source": [
    "Set a fitter with Gaussian moments:"
   ]
  },
  {
   "cell_type": "code",
   "execution_count": 5,
   "id": "ea9cf507-448e-421c-91bd-ddcd3fb67ec4",
   "metadata": {},
   "outputs": [
    {
     "data": {
      "text/plain": [
       "{'flags': 0,\n",
       " 'npix': 2601,\n",
       " 'wsum': 28.391886409860447,\n",
       " 'sums': array([-0.00014082, -0.00075055,  0.00196324,  0.0283736 ,  0.05426553,\n",
       "         0.03195314]),\n",
       " 'sums_cov': array([[ 1.36575550e+00, -1.54954090e-18, -1.90131368e-16,\n",
       "         -2.00238589e-17, -1.15060956e-17, -7.90294975e-18],\n",
       "        [-2.41076165e-18,  1.36575550e+00, -2.89693738e-17,\n",
       "         -5.68748743e-17, -8.08188016e-17, -1.94671994e-18],\n",
       "        [-1.89264642e-16,  1.43853723e-17,  1.21351863e+01,\n",
       "          2.98011602e-17,  4.72483448e-17,  2.22713847e-15],\n",
       "        [-6.14268293e-18, -5.75253956e-17,  2.29164764e-17,\n",
       "          1.26799874e+01, -3.73507648e-17, -3.52111596e-18],\n",
       "        [-9.28348110e-18, -6.00800469e-17,  9.92976724e-17,\n",
       "         -6.49979202e-17,  2.48151738e+01,  2.73151100e+00],\n",
       "        [-7.90294975e-18, -1.94671994e-18,  2.22713847e-15,\n",
       "         -3.52111596e-18,  2.73151100e+00,  5.88419538e-01]]),\n",
       " 'pars': array([-0.00440716, -0.02348914,  0.06144117,  0.88797558,  1.69828491,\n",
       "         0.79882841]),\n",
       " 'F': array([ 5.,  5.,  0., 50., 50.,  1.]),\n",
       " 'flux': 0.7988284083667097,\n",
       " 'flux_err': 19.177127288957244,\n",
       " 'T': 1.698284912095798,\n",
       " 's2n': 0.04165526965171153,\n",
       " 'e': array([0.03617836, 0.52286608]),\n",
       " 'e_err': array([64.28055256, 81.30065206]),\n",
       " 'e_cov': array([[4131.98943679,    0.        ],\n",
       "        [   0.        , 6609.79602601]]),\n",
       " 'T_err': 129.92297713111597}"
      ]
     },
     "execution_count": 5,
     "metadata": {},
     "output_type": "execute_result"
    }
   ],
   "source": [
    "weight_fwhm = scale*stamp_size/2 # <- this sets everything for the window function\n",
    "fitter = ngmix.gaussmom.GaussMom(fwhm=weight_fwhm)\n",
    "fitter._measure_moments(obs)"
   ]
  },
  {
   "cell_type": "code",
   "execution_count": 6,
   "id": "0926867c-9493-4073-9e80-f8105baa1837",
   "metadata": {},
   "outputs": [
    {
     "name": "stdout",
     "output_type": "stream",
     "text": [
      "tf.Tensor(0.031953137, shape=(), dtype=float32) tf.Tensor(0.879863, shape=(), dtype=float32) tf.Tensor(0.8184219, shape=(), dtype=float32) tf.Tensor(0.44398776, shape=(), dtype=float32)\n"
     ]
    },
    {
     "data": {
      "text/plain": [
       "<tf.Tensor: shape=(2,), dtype=float32, numpy=array([0.03617834, 0.5228661 ], dtype=float32)>"
      ]
     },
     "execution_count": 6,
     "metadata": {},
     "output_type": "execute_result"
    }
   ],
   "source": [
    "pix_weights = ones([51,51])\n",
    "jake=autometacal.tf_ngmix.make_diagonal_jacobian(25,25,scale=.2)\n",
    "image = gal.numpy()[0]\n",
    "pixels=autometacal.tf_ngmix.make_pixels(image,pix_weights,jake)\n",
    "T = autometacal.tf_ngmix.fwhm_to_T(weight_fwhm)\n",
    "weights = autometacal.tf_ngmix.create_gmix([0.,0.,0.,0.,T,1.],'gauss')\n",
    "autometacal.tf_ngmix.get_moments(weights,pixels)"
   ]
  },
  {
   "cell_type": "code",
   "execution_count": 7,
   "id": "70703f2f-64c4-4066-9015-1c2f902cdd1c",
   "metadata": {},
   "outputs": [
    {
     "data": {
      "text/plain": [
       "<tf.Tensor: shape=(1, 13), dtype=float32, numpy=\n",
       "array([[29.471672  ,  0.        ,  0.        ,  4.6905622 ,  0.        ,\n",
       "         4.6905622 , 22.001373  ,  1.        ,  0.21319406,  0.        ,\n",
       "         0.21319406,  0.03393089,  1.        ]], dtype=float32)>"
      ]
     },
     "execution_count": 7,
     "metadata": {},
     "output_type": "execute_result"
    }
   ],
   "source": [
    "weights"
   ]
  },
  {
   "cell_type": "markdown",
   "id": "84a036f3-8c3f-4765-b117-9cfdfb86f05f",
   "metadata": {},
   "source": [
    "## Testing"
   ]
  },
  {
   "cell_type": "code",
   "execution_count": 20,
   "id": "3a8f7dee-2c5e-499e-86aa-5b704378ec9c",
   "metadata": {},
   "outputs": [],
   "source": [
    "def make_diagonal_jacobian(row0, col0, scale):\n",
    "  \"\"\"make a simple diagonal jacobian, defining centre & pixel scale\"\"\"\n",
    "  \n",
    "  jacob={'row0': row0,\n",
    "  'col0': col0,\n",
    "  'dvdrow': scale,\n",
    "  'dvdcol': 0.0,\n",
    "  'dudrow': 0.0,\n",
    "  'dudcol': scale,\n",
    "  'det': scale*scale,\n",
    "  'scale': scale}\n",
    "\n",
    "  return jacob\n",
    "\n",
    "def jacobian_get_vu(jacob, row, col):\n",
    "  \"\"\"\n",
    "  convert row,col to v,u using the input jacobian\n",
    "  \"\"\"\n",
    "\n",
    "  rowdiff = row - jacob['row0']\n",
    "  coldiff = col - jacob['col0']\n",
    "\n",
    "  v = jacob['dvdrow']*rowdiff + jacob['dvdcol']*coldiff\n",
    "  u = jacob['dudrow']*rowdiff + jacob['dudcol']*coldiff\n",
    "\n",
    "  return v, u\n",
    "\n",
    "def jacobian_get_area(jacob):\n",
    "  \"\"\"\n",
    "  get the pixel area\n",
    "  \"\"\"\n",
    "  \n",
    "  return jacob['scale']**2\n",
    "\n",
    "#####make \"observation\" - in our case, it's just the pixels. \n",
    "#####these don't need to be tfied\n",
    "\n",
    "def make_pixels(image, weight, jacob, ignore_zero_weight=True):\n",
    "  \"\"\"\n",
    "  make a pixel array from the image and weight\n",
    "  stores v,u image value, and 1/err for each pixel\n",
    "  parameters\n",
    "  ----------\n",
    "  pixels: array\n",
    "      1-d array of pixel structures, u,v,val,ierr\n",
    "  image: 2-d array\n",
    "      2-d image array\n",
    "  weight: 2-d array\n",
    "      2-d image array same shape as image\n",
    "  jacob: jacobian structure\n",
    "      row0,col0,dvdrow,dvdcol,dudrow,dudcol,...\n",
    "  ignore_zero_weight: bool\n",
    "      If set, zero or negative weight pixels are ignored.  In this case the\n",
    "      returned pixels array is equal in length to the set of positive weight\n",
    "      pixels in the weight image.  Default True.\n",
    "  returns\n",
    "  -------\n",
    "  1-d pixels array\n",
    "  \"\"\"\n",
    "\n",
    "  if ignore_zero_weight:\n",
    "    w = np.where(weight > 0.0)\n",
    "    npixels = w[0].size\n",
    "  else:\n",
    "    npixels = image.size\n",
    "\n",
    "  pixels = np.zeros(npixels, dtype=_pixels_dtype)\n",
    "\n",
    "  fill_pixels(\n",
    "    pixels,\n",
    "    image,\n",
    "    weight,\n",
    "    jacob,\n",
    "    ignore_zero_weight=ignore_zero_weight,\n",
    "  )\n",
    "\n",
    "  return tf.convert_to_tensor([[*x] for x in pixels],dtype=tf.float32)\n",
    "  \n",
    "  \n",
    "def fill_pixels(pixels, image, weight, jacob, ignore_zero_weight=True):\n",
    "    \"\"\"\n",
    "    store v,u image value, and 1/err for each pixel\n",
    "    store into 1-d pixels array\n",
    "    parameters\n",
    "    ----------\n",
    "    pixels: array\n",
    "        1-d array of pixel structures, u,v,val,ierr\n",
    "    image: 2-d array\n",
    "        2-d image array\n",
    "    weight: 2-d array\n",
    "        2-d image array same shape as image\n",
    "    jacob: jacobian structure\n",
    "        row0,col0,dvdrow,dvdcol,dudrow,dudcol,...\n",
    "    ignore_zero_weight: bool\n",
    "        If set, zero or negative weight pixels are ignored.\n",
    "        In this case it verified that the input pixels\n",
    "        are equal in length to the set of positive weight\n",
    "        pixels in the weight image.  Default True.\n",
    "    \"\"\"\n",
    "    nrow, ncol = image.shape\n",
    "    pixel_area = jacobian_get_area(jacob)\n",
    "\n",
    "    ipixel = 0\n",
    "    for row in range(nrow):\n",
    "        for col in range(ncol):\n",
    "\n",
    "            ivar = weight[row, col]\n",
    "            if ignore_zero_weight and ivar <= 0.0:\n",
    "                continue\n",
    "\n",
    "            pixel = pixels[ipixel]\n",
    "\n",
    "            v, u = jacobian_get_vu(jacob, row, col)\n",
    "\n",
    "            pixel['v'] = v\n",
    "            pixel['u'] = u\n",
    "            pixel['area'] = pixel_area\n",
    "\n",
    "            pixel['val'] = image[row, col]\n",
    "\n",
    "            if ivar < 0.0:\n",
    "                ivar = 0.0\n",
    "\n",
    "            pixel['ierr'] = tf.math.sqrt(ivar)\n",
    "\n",
    "            ipixel += 1\n",
    "  \n",
    "_pixels_dtype = [\n",
    "  (\"u\", \"f8\"),\n",
    "  (\"v\", \"f8\"),\n",
    "  (\"area\", \"f8\"),\n",
    "  (\"val\", \"f8\"),\n",
    "  (\"ierr\", \"f8\"),\n",
    "  (\"fdiff\", \"f8\"),\n",
    "]"
   ]
  },
  {
   "cell_type": "code",
   "execution_count": null,
   "id": "2415785b-b294-44ef-b56e-d3a3232ce420",
   "metadata": {},
   "outputs": [],
   "source": []
  },
  {
   "cell_type": "code",
   "execution_count": null,
   "id": "03f7237d-07ad-42cd-81d2-9b6064530c66",
   "metadata": {},
   "outputs": [],
   "source": []
  },
  {
   "cell_type": "code",
   "execution_count": null,
   "id": "c3aff343-77e8-4dc8-b291-2af597312e5f",
   "metadata": {},
   "outputs": [],
   "source": []
  },
  {
   "cell_type": "code",
   "execution_count": null,
   "id": "b5148f30-00f8-43a3-9b2e-23b61c93ecd1",
   "metadata": {},
   "outputs": [],
   "source": []
  },
  {
   "cell_type": "code",
   "execution_count": 21,
   "id": "7c258051-26fe-46aa-9292-1b884b498eca",
   "metadata": {},
   "outputs": [
    {
     "name": "stdout",
     "output_type": "stream",
     "text": [
      "tf.Tensor(0.031953137, shape=(), dtype=float32) tf.Tensor(0.879863, shape=(), dtype=float32) tf.Tensor(0.8184219, shape=(), dtype=float32) tf.Tensor(0.44398776, shape=(), dtype=float32)\n"
     ]
    },
    {
     "data": {
      "text/plain": [
       "<tf.Tensor: shape=(2,), dtype=float32, numpy=array([0.03617834, 0.5228661 ], dtype=float32)>"
      ]
     },
     "execution_count": 21,
     "metadata": {},
     "output_type": "execute_result"
    }
   ],
   "source": [
    "pix_weights = ones([51,51])\n",
    "jake=autometacal.tf_ngmix.make_diagonal_jacobian(25,25,scale=.2)\n",
    "image = gal.numpy()[0]\n",
    "pixels=make_pixels(image,pix_weights,jake)\n",
    "T = autometacal.tf_ngmix.fwhm_to_T(weight_fwhm)\n",
    "weights = autometacal.tf_ngmix.create_gmix([0.,0.,0.,0.,T,1.],'gauss')\n",
    "autometacal.tf_ngmix.get_moments(weights,pixels)"
   ]
  },
  {
   "cell_type": "code",
   "execution_count": 18,
   "id": "8222609d-9e1a-489b-bc4a-9bf31b88af78",
   "metadata": {},
   "outputs": [
    {
     "data": {
      "text/plain": [
       "<tf.Tensor: shape=(2601,), dtype=float32, numpy=\n",
       "array([0.00019379, 0.00023882, 0.00029181, ..., 0.00029181, 0.00023882,\n",
       "       0.00019379], dtype=float32)>"
      ]
     },
     "execution_count": 18,
     "metadata": {},
     "output_type": "execute_result"
    }
   ],
   "source": [
    "gmix_eval_pixel_tf(weights,pixels)"
   ]
  },
  {
   "cell_type": "code",
   "execution_count": 16,
   "id": "601e0e1a-8328-46e8-b43d-1dbe624cf670",
   "metadata": {},
   "outputs": [
    {
     "data": {
      "text/plain": [
       "<tf.Tensor: shape=(), dtype=int32, numpy=2601>"
      ]
     },
     "execution_count": 16,
     "metadata": {},
     "output_type": "execute_result"
    }
   ],
   "source": [
    "tf.size(image)"
   ]
  },
  {
   "cell_type": "code",
   "execution_count": null,
   "id": "63eb6c79-53e7-432f-aef7-61017bbeffe7",
   "metadata": {},
   "outputs": [],
   "source": []
  }
 ],
 "metadata": {
  "kernelspec": {
   "display_name": "Python 3",
   "language": "python",
   "name": "python3"
  },
  "language_info": {
   "codemirror_mode": {
    "name": "ipython",
    "version": 3
   },
   "file_extension": ".py",
   "mimetype": "text/x-python",
   "name": "python",
   "nbconvert_exporter": "python",
   "pygments_lexer": "ipython3",
   "version": "3.8.6"
  }
 },
 "nbformat": 4,
 "nbformat_minor": 5
}
