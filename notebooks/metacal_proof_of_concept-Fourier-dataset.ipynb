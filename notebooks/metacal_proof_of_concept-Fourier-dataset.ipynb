{
 "cells": [
  {
   "cell_type": "markdown",
   "metadata": {},
   "source": [
    "# Dataset tests of Autometacal Proof-of-Concept"
   ]
  },
  {
   "cell_type": "markdown",
   "metadata": {},
   "source": [
    "This is a modified version of the Fourier proof-of-concept notebook that repeats the same steps, side by side with the original nb and an example from the dataset. \n",
    "\n",
    "The database example has:\n",
    "- example['gal_image']  # the observation of the galaxy, convolved with the psf\n",
    "- example['psf_image']  # the image of the psf\n",
    "- example['gal_kimage'] # k space image of observation\n",
    "- example['psf_kimage'] # k space image of psf\n",
    "- example['label']      # g1, g2 of galaxy\n",
    "\n",
    "Noise in the database is gaussian with SNR $200\\pm20$"
   ]
  },
  {
   "cell_type": "code",
   "execution_count": 1,
   "metadata": {},
   "outputs": [
    {
     "name": "stdout",
     "output_type": "stream",
     "text": [
      "Populating the interactive namespace from numpy and matplotlib\n"
     ]
    }
   ],
   "source": [
    "%pylab inline"
   ]
  },
  {
   "cell_type": "code",
   "execution_count": 2,
   "metadata": {},
   "outputs": [],
   "source": [
    "import galsim\n",
    "import os\n",
    "os.environ[\"CUDA_VISIBLE_DEVICES\"]=\"-1\"\n",
    "import sys"
   ]
  },
  {
   "cell_type": "code",
   "execution_count": 3,
   "metadata": {},
   "outputs": [],
   "source": [
    "sys.path.append(\"..\")\n",
    "import autometacal"
   ]
  },
  {
   "cell_type": "code",
   "execution_count": 4,
   "metadata": {},
   "outputs": [
    {
     "data": {
      "text/plain": [
       "<module 'autometacal' from '/home/andre/AstroPrograms/github/autometacal/notebooks/../autometacal/__init__.py'>"
      ]
     },
     "execution_count": 4,
     "metadata": {},
     "output_type": "execute_result"
    }
   ],
   "source": [
    "autometacal"
   ]
  },
  {
   "cell_type": "code",
   "execution_count": 5,
   "metadata": {},
   "outputs": [],
   "source": [
    "import tensorflow_datasets as tfds"
   ]
  },
  {
   "cell_type": "markdown",
   "metadata": {},
   "source": [
    "## Dataset"
   ]
  },
  {
   "cell_type": "code",
   "execution_count": 6,
   "metadata": {},
   "outputs": [],
   "source": [
    "data = tfds.load('gal_gen/small_stamp_100',as_supervised=False,with_info=False)\n",
    "data = data['train'].take(100)\n",
    "datait = data.as_numpy_iterator()\n",
    "datalist=[next(datait) for i in range(100)]\n"
   ]
  },
  {
   "cell_type": "code",
   "execution_count": 7,
   "metadata": {},
   "outputs": [],
   "source": [
    "example = datalist[0]"
   ]
  },
  {
   "cell_type": "markdown",
   "metadata": {},
   "source": [
    "## Create Galaxy Model"
   ]
  },
  {
   "cell_type": "markdown",
   "metadata": {},
   "source": [
    "Original:"
   ]
  },
  {
   "cell_type": "code",
   "execution_count": 8,
   "metadata": {},
   "outputs": [],
   "source": [
    "gal_flux = 1.e5    # counts\n",
    "gal_r0 = 1       # arcsec\n",
    "g1 = 0.1           #\n",
    "g2 = 0.2           #\n",
    "pixel_scale = 0.2  # arcsec / pixel\n",
    "img_size = 50\n",
    "\n",
    "psf_beta = 5       #\n",
    "psf_re = 1.0       # arcsec\n",
    "\n",
    "\n",
    "# Define the galaxy profile.\n",
    "gal = galsim.Exponential(flux=gal_flux, scale_radius=gal_r0)\n",
    "# To make sure that GalSim is not cheating, i.e. using the analytic formula of the light profile\n",
    "# when computing the affine transformation, it might be a good idea to instantiate the image as\n",
    "# an interpolated image.\n",
    "# We also make sure GalSim is using the same kind of interpolation as us (bilinear for TF)\n",
    "gal = galsim.InterpolatedImage(gal.drawImage(nx=img_size,ny=img_size, scale=pixel_scale),\n",
    "                               x_interpolant='linear')\n",
    "\n",
    "# Shear the galaxy by some value.\n",
    "# There are quite a few ways you can use to specify a shape.\n",
    "# q, beta      Axis ratio and position angle: q = b/a, 0 < q < 1\n",
    "# e, beta      Ellipticity and position angle: |e| = (1-q^2)/(1+q^2)\n",
    "# g, beta      (\"Reduced\") Shear and position angle: |g| = (1-q)/(1+q)\n",
    "# eta, beta    Conformal shear and position angle: eta = ln(1/q)\n",
    "# e1,e2        Ellipticity components: e1 = e cos(2 beta), e2 = e sin(2 beta)\n",
    "# g1,g2        (\"Reduced\") shear components: g1 = g cos(2 beta), g2 = g sin(2 beta)\n",
    "# eta1,eta2    Conformal shear components: eta1 = eta cos(2 beta), eta2 = eta sin(2 beta)\n",
    "gal0 = gal.shear(g1=g1, g2=g2)\n",
    "\n",
    "psf = galsim.Moffat(beta=psf_beta, flux=1., half_light_radius=psf_re)\n",
    "\n",
    "gal = galsim.Convolve([gal0, psf])"
   ]
  },
  {
   "cell_type": "code",
   "execution_count": 9,
   "metadata": {},
   "outputs": [],
   "source": [
    "image_original = gal0.original.drawImage(nx=img_size,ny=img_size, scale=pixel_scale, method='no_pixel').array\n",
    "image_shear = gal.drawImage(nx=img_size,ny=img_size,scale=pixel_scale, method='no_pixel', use_true_center=False).array"
   ]
  },
  {
   "cell_type": "code",
   "execution_count": 10,
   "metadata": {},
   "outputs": [
    {
     "data": {
      "text/plain": [
       "<matplotlib.image.AxesImage at 0x7fd958618cd0>"
      ]
     },
     "execution_count": 10,
     "metadata": {},
     "output_type": "execute_result"
    },
    {
     "data": {
      "image/png": "[encoded data removed]",
      "text/plain": [
       "<Figure size 432x288 with 2 Axes>"
      ]
     },
     "metadata": {
      "needs_background": "light"
     },
     "output_type": "display_data"
    }
   ],
   "source": [
    "subplot(121)\n",
    "imshow(image_original, origin='lower')\n",
    "title('original galaxy')\n",
    "subplot(122)\n",
    "title('after shear and PSF')\n",
    "imshow(image_shear, origin='lower')"
   ]
  },
  {
   "cell_type": "markdown",
   "metadata": {},
   "source": [
    "Dataset:"
   ]
  },
  {
   "cell_type": "code",
   "execution_count": 11,
   "metadata": {},
   "outputs": [
    {
     "data": {
      "text/plain": [
       "<matplotlib.image.AxesImage at 0x7fd95852bd00>"
      ]
     },
     "execution_count": 11,
     "metadata": {},
     "output_type": "execute_result"
    },
    {
     "data": {
      "image/png": "[encoded data removed]",
      "text/plain": [
       "<Figure size 432x288 with 1 Axes>"
      ]
     },
     "metadata": {
      "needs_background": "light"
     },
     "output_type": "display_data"
    }
   ],
   "source": [
    "imshow(example['gal_model'])"
   ]
  },
  {
   "cell_type": "markdown",
   "metadata": {},
   "source": [
    "## Create simple shear measurements"
   ]
  },
  {
   "cell_type": "code",
   "execution_count": 12,
   "metadata": {},
   "outputs": [],
   "source": [
    "import tensorflow as tf\n",
    "# let's try to do shape measurement using weigthed moments\n",
    "nx = img_size\n",
    "ny = img_size\n",
    "XX=np.zeros((nx,ny))\n",
    "XY=np.zeros((nx,ny))\n",
    "YY=np.zeros((nx,ny))\n",
    "w = np.zeros((nx,ny))\n",
    "sigma=40\n",
    "\n",
    "for i in range(0,nx):\n",
    "    x=0.5+i-(nx)/2.0\n",
    "    for j in range(0,ny):\n",
    "        y=0.5+j-(ny)/2.0\n",
    "        XX[i,j]=x*x\n",
    "        XY[i,j]=x*y\n",
    "        YY[i,j]=y*y\n",
    "        w[i,j]=np.exp(-((x) ** 2 + (y) ** 2) /\n",
    "                               (2 * sigma ** 2))\n",
    "\n",
    "def get_ellipticity(img):\n",
    "    img = tf.convert_to_tensor(img, dtype=tf.float32)\n",
    "    norm = tf.reduce_sum(w*img)\n",
    "    Q11 = tf.reduce_sum(w*img*YY)/norm\n",
    "    Q12 = tf.reduce_sum(w*img*XY)/norm\n",
    "    Q21 = Q12\n",
    "    Q22 = tf.reduce_sum(w*img*XX)/norm\n",
    "    \n",
    "    q1 = Q11 - Q22\n",
    "    q2 = 2*Q12\n",
    "    \n",
    "    T= Q11 + Q22  + 2*tf.sqrt(Q11*Q22 - Q12**2)\n",
    "    return q1/T, q2/T"
   ]
  },
  {
   "cell_type": "code",
   "execution_count": 13,
   "metadata": {},
   "outputs": [
    {
     "data": {
      "text/plain": [
       "(<tf.Tensor: shape=(), dtype=float32, numpy=0.05196943>,\n",
       " <tf.Tensor: shape=(), dtype=float32, numpy=0.11436677>)"
      ]
     },
     "execution_count": 13,
     "metadata": {},
     "output_type": "execute_result"
    }
   ],
   "source": [
    "get_ellipticity(image_shear+10*randn(img_size,img_size))"
   ]
  },
  {
   "cell_type": "code",
   "execution_count": 14,
   "metadata": {},
   "outputs": [
    {
     "data": {
      "text/plain": [
       "<matplotlib.image.AxesImage at 0x7fd9584a3490>"
      ]
     },
     "execution_count": 14,
     "metadata": {},
     "output_type": "execute_result"
    },
    {
     "data": {
      "image/png": "[encoded data removed]",
      "text/plain": [
       "<Figure size 432x288 with 1 Axes>"
      ]
     },
     "metadata": {
      "needs_background": "light"
     },
     "output_type": "display_data"
    }
   ],
   "source": [
    "imshow(w*(image_shear+10*randn(img_size,img_size)))"
   ]
  },
  {
   "cell_type": "markdown",
   "metadata": {},
   "source": [
    "Dataset:"
   ]
  },
  {
   "cell_type": "code",
   "execution_count": 15,
   "metadata": {},
   "outputs": [
    {
     "data": {
      "text/plain": [
       "<matplotlib.image.AxesImage at 0x7fd9584833d0>"
      ]
     },
     "execution_count": 15,
     "metadata": {},
     "output_type": "execute_result"
    },
    {
     "data": {
      "image/png": "[encoded data removed]",
      "text/plain": [
       "<Figure size 432x288 with 1 Axes>"
      ]
     },
     "metadata": {
      "needs_background": "light"
     },
     "output_type": "display_data"
    }
   ],
   "source": [
    "imshow(example['obs_image'])"
   ]
  },
  {
   "cell_type": "code",
   "execution_count": 16,
   "metadata": {},
   "outputs": [
    {
     "name": "stdout",
     "output_type": "stream",
     "text": [
      "(<tf.Tensor: shape=(), dtype=float32, numpy=-0.33899283>, <tf.Tensor: shape=(), dtype=float32, numpy=-0.049468886>)\n",
      "True: [-0.52710474 -0.0362318 ]\n"
     ]
    }
   ],
   "source": [
    "print(get_ellipticity(example['obs_image']))\n",
    "print(\"True:\", example['label'])"
   ]
  },
  {
   "cell_type": "markdown",
   "metadata": {},
   "source": [
    "## Create kspace images"
   ]
  },
  {
   "cell_type": "code",
   "execution_count": 17,
   "metadata": {},
   "outputs": [],
   "source": [
    "noise = galsim.GaussianNoise().withVariance(5)\n",
    "obs_imag = gal.drawImage(nx=img_size,ny=img_size, scale=pixel_scale, method='no_pixel')\n",
    "noise.applyTo(obs_imag)\n",
    "\n",
    "# Make noise image\n",
    "noise_imag = galsim.Image(img_size,img_size, scale=pixel_scale)\n",
    "noise.applyTo(noise_imag)\n",
    "\n",
    "# Building observed image object\n",
    "obs = galsim.InterpolatedImage(obs_imag)\n",
    "nos = galsim.InterpolatedImage(noise_imag)"
   ]
  },
  {
   "cell_type": "code",
   "execution_count": 18,
   "metadata": {},
   "outputs": [],
   "source": [
    "# We draw the PSF image in Kspace at the correct resolution\n",
    "N = img_size\n",
    "im_scale = pixel_scale\n",
    "interp_factor=2\n",
    "padding_factor=1\n",
    "Nk = N*interp_factor*padding_factor\n",
    "from galsim.bounds import _BoundsI\n",
    "\n",
    "bounds = _BoundsI(-Nk//2, Nk//2-1, -Nk//2, Nk//2-1)\n",
    "\n",
    "impsf = psf.drawKImage(bounds=bounds,\n",
    "                       scale=2.*np.pi/(N*padding_factor* im_scale),\n",
    "                       recenter=False)\n",
    "\n",
    "ipsf = galsim.Deconvolve(psf)\n",
    "\n",
    "imipsf = ipsf.drawKImage(bounds=bounds,\n",
    "                       scale=2.*np.pi/(N*padding_factor* im_scale),\n",
    "                       recenter=False)\n",
    "\n",
    "imgal = obs.drawKImage(bounds=bounds,\n",
    "                       scale=2.*np.pi/(N*padding_factor* im_scale),\n",
    "                       recenter=False)\n",
    "\n",
    "imnos = nos.drawKImage(bounds=bounds,\n",
    "                       scale=2.*np.pi/(N*padding_factor* im_scale),\n",
    "                       recenter=False)"
   ]
  },
  {
   "cell_type": "code",
   "execution_count": 19,
   "metadata": {},
   "outputs": [
    {
     "data": {
      "text/plain": [
       "(100, 100)"
      ]
     },
     "execution_count": 19,
     "metadata": {},
     "output_type": "execute_result"
    }
   ],
   "source": [
    "imipsf.array.shape"
   ]
  },
  {
   "cell_type": "code",
   "execution_count": 20,
   "metadata": {},
   "outputs": [],
   "source": [
    "tfimpsf = tf.signal.fftshift(tf.expand_dims(tf.convert_to_tensor(impsf.array, dtype=tf.complex64),0),axes=2)[:,:,:(img_size*interp_factor*padding_factor)//2+1]\n",
    "tfimipsf = tf.expand_dims(tf.convert_to_tensor(imipsf.array, dtype=tf.complex64),0)\n",
    "tfimgal = tf.expand_dims(tf.convert_to_tensor(imgal.array, dtype=tf.complex64),0)\n",
    "tfimnos = tf.expand_dims(tf.convert_to_tensor(imnos.array, dtype=tf.complex64),0)"
   ]
  },
  {
   "cell_type": "raw",
   "metadata": {},
   "source": [
    "tfimgal = tf.expand_dims(tfimgal ,0)\n",
    "tfimnos = tf.expand_dims(tfimnos ,0)\n",
    "tfimpsf = tf.expand_dims(tfimpsf ,0)\n",
    "tfimipsf = tf.expand_dims(tfimipsf ,0)\n",
    "tfimpsf = tf.signal.fftshift(tfimpsf,axes=2)[:,:,:(img_size*interp_factor*padding_factor)//2+1]"
   ]
  },
  {
   "cell_type": "markdown",
   "metadata": {},
   "source": [
    "Dataset:"
   ]
  },
  {
   "cell_type": "code",
   "execution_count": 21,
   "metadata": {},
   "outputs": [],
   "source": [
    "psf_kimage = autometacal.datasets.gal_gen.recomplexify(example['psf_kimage'])\n",
    "gal_kimage = autometacal.datasets.gal_gen.recomplexify(example['obs_kimage'])"
   ]
  },
  {
   "cell_type": "code",
   "execution_count": 22,
   "metadata": {},
   "outputs": [],
   "source": [
    "psf_inverse = autometacal.datasets.galaxies.gs_Deconvolve(example['psf_image'])"
   ]
  },
  {
   "cell_type": "code",
   "execution_count": 23,
   "metadata": {},
   "outputs": [],
   "source": [
    "tfimpsf_dataset = tf.convert_to_tensor(psf_kimage, dtype=tf.complex64)   #psf k image\n",
    "tfimipsf_dataset = tf.convert_to_tensor(psf_inverse, dtype=tf.complex64)#psf deconv \n",
    "tfimgal_dataset = tf.convert_to_tensor(gal_kimage, dtype=tf.complex64)# gal k image \n",
    "tfimnos_dataset = tf.convert_to_tensor(imnos.array, dtype=tf.complex64)# noise image\n",
    "\n",
    "tfimgal_dataset = tf.expand_dims(tfimgal_dataset ,0) #gal k image\n",
    "tfimnos_dataset = tf.expand_dims(tfimnos_dataset ,0) #noise k image\n",
    "tfimpsf_dataset = tf.expand_dims(tfimpsf_dataset ,0) # psf k image\n",
    "tfimipsf_dataset = tf.expand_dims(tfimipsf_dataset ,0) #psf deconv\n",
    "tfimpsf_dataset = tf.signal.fftshift(tfimpsf_dataset,axes=2)[:,:,:(img_size*interp_factor*padding_factor)//2+1]\n"
   ]
  },
  {
   "cell_type": "code",
   "execution_count": null,
   "metadata": {},
   "outputs": [],
   "source": []
  },
  {
   "cell_type": "code",
   "execution_count": null,
   "metadata": {},
   "outputs": [],
   "source": []
  },
  {
   "cell_type": "markdown",
   "metadata": {},
   "source": [
    "## Show Conv/Deconv"
   ]
  },
  {
   "cell_type": "code",
   "execution_count": 24,
   "metadata": {},
   "outputs": [],
   "source": [
    "import galflow as gf"
   ]
  },
  {
   "cell_type": "code",
   "execution_count": 25,
   "metadata": {},
   "outputs": [],
   "source": [
    "# Deconvolve image\n",
    "temp = tfimgal * tfimipsf\n",
    "temp = tf.signal.fftshift(temp,axes=2)[:,:,:(img_size*interp_factor*padding_factor)//2+1]\n",
    "# Reconvolve image\n",
    "tst2 = gf.kconvolve(temp, tfimpsf)[...,0]\n",
    "tst2 = tf.expand_dims(tf.signal.fftshift(tst2),-1)\n",
    "tst2 = tf.image.resize_with_crop_or_pad(tst2, img_size, img_size)"
   ]
  },
  {
   "cell_type": "code",
   "execution_count": 26,
   "metadata": {},
   "outputs": [
    {
     "data": {
      "image/png": "[encoded data removed]",
      "text/plain": [
       "<Figure size 1080x360 with 3 Axes>"
      ]
     },
     "metadata": {
      "needs_background": "light"
     },
     "output_type": "display_data"
    }
   ],
   "source": [
    "figure(figsize=[15,5])\n",
    "subplot(131)\n",
    "title('input image')\n",
    "imshow(image_shear)\n",
    "subplot(132)\n",
    "title('reconvolved image')\n",
    "imshow(tst2[0]);\n",
    "subplot(133)\n",
    "title('residuals image')\n",
    "imshow(((tst2[0,...,0] - image_shear)));# colorbar();"
   ]
  },
  {
   "cell_type": "markdown",
   "metadata": {},
   "source": [
    "Dataset:"
   ]
  },
  {
   "cell_type": "code",
   "execution_count": 27,
   "metadata": {},
   "outputs": [],
   "source": [
    "# Deconvolve image\n",
    "temp_dataset = tfimgal_dataset * tfimipsf_dataset\n",
    "temp_dataset = tf.signal.fftshift(temp_dataset,axes=2)[:,:,:(img_size*interp_factor*padding_factor)//2+1]\n",
    "# Reconvolve image\n",
    "tst2_dataset = gf.kconvolve(temp_dataset, tfimpsf_dataset)[...,0]\n",
    "tst2_dataset = tf.expand_dims(tf.signal.fftshift(tst2_dataset),-1)\n",
    "tst2_dataset = tf.image.resize_with_crop_or_pad(tst2_dataset, img_size, img_size)"
   ]
  },
  {
   "cell_type": "code",
   "execution_count": 28,
   "metadata": {},
   "outputs": [
    {
     "data": {
      "image/png": "[encoded data removed]",
      "text/plain": [
       "<Figure size 1080x360 with 3 Axes>"
      ]
     },
     "metadata": {
      "needs_background": "light"
     },
     "output_type": "display_data"
    }
   ],
   "source": [
    "figure(figsize=[15,5])\n",
    "subplot(131)\n",
    "title('input image')\n",
    "imshow(example['obs_image'])\n",
    "subplot(132)\n",
    "title('reconvolved image')\n",
    "imshow(tst2_dataset[0]);\n",
    "subplot(133)\n",
    "title('residuals image')\n",
    "imshow(((tst2_dataset[0,...,0] - example['obs_image'])));# colorbar();"
   ]
  },
  {
   "cell_type": "markdown",
   "metadata": {},
   "source": [
    "## Metacal Test"
   ]
  },
  {
   "cell_type": "code",
   "execution_count": 29,
   "metadata": {},
   "outputs": [],
   "source": [
    "@tf.function\n",
    "def metacal_shear(gal_img, #gal_kimage\n",
    "                  nos_img, #noise_kimage\n",
    "                  inv_psf_img,\n",
    "                  psf_img,\n",
    "                  g1, g2):\n",
    "    g1 = tf.reshape(tf.convert_to_tensor(g1, dtype=tf.float32), [-1])\n",
    "    g2 = tf.reshape(tf.convert_to_tensor(g2, dtype=tf.float32), [-1])\n",
    "        \n",
    "    # Step1: remove observed psf\n",
    "    img = gal_img * inv_psf_img\n",
    "    imgn = nos_img * inv_psf_img\n",
    "    # Step2: add shear layer\n",
    "    img = gf.shear(tf.expand_dims(img,-1), g1, g2)[...,0]\n",
    "    imgn = gf.shear(tf.expand_dims(imgn,-1), -g1, -g2)\n",
    "    imgn=tf.image.rot90(imgn,-1)[...,0]\n",
    "    \n",
    "    # Step3: apply psf again\n",
    "    img = gf.kconvolve(tf.signal.fftshift(img,axes=2)[...,:(len(img[0]))//2+1], (psf_img))[...,0]\n",
    "    img = tf.expand_dims(tf.signal.fftshift(img),-1)\n",
    "    img = tf.image.resize_with_crop_or_pad(img, img_size, img_size)\n",
    "    \n",
    "    imgn = gf.kconvolve(tf.signal.fftshift(imgn,axes=2)[...,:(len(imgn[0]))//2+1], (psf_img))[...,0]\n",
    "    imgn = tf.expand_dims(tf.signal.fftshift(imgn),-1)\n",
    "    imgn = tf.image.resize_with_crop_or_pad(imgn, img_size, img_size)\n",
    "    \n",
    "    # Adding the inversed sheared noise\n",
    "    img += imgn\n",
    "    \n",
    "    # Step4: compute ellipticity\n",
    "    return img, tf.stack(get_ellipticity(img[0,:,:,0] ))"
   ]
  },
  {
   "cell_type": "code",
   "execution_count": 30,
   "metadata": {},
   "outputs": [
    {
     "name": "stdout",
     "output_type": "stream",
     "text": [
      "measured shape [-0.35584694  0.00642705]\n"
     ]
    },
    {
     "data": {
      "text/plain": [
       "<matplotlib.image.AxesImage at 0x7fd958115f40>"
      ]
     },
     "execution_count": 30,
     "metadata": {},
     "output_type": "execute_result"
    },
    {
     "data": {
      "image/png": "[encoded data removed]",
      "text/plain": [
       "<Figure size 720x360 with 3 Axes>"
      ]
     },
     "metadata": {
      "needs_background": "light"
     },
     "output_type": "display_data"
    }
   ],
   "source": [
    "i, res = metacal_shear(tfimgal_dataset, tfimnos, tfimipsf_dataset, tfimpsf_dataset, 0.05, 0.05)\n",
    "print(\"measured shape\", res.numpy())\n",
    "figure(figsize=[10,5])\n",
    "subplot(131)\n",
    "title('input image')\n",
    "imshow(example['obs_image'])\n",
    "subplot(132)\n",
    "title('metacal image')\n",
    "imshow(i[0,:,:,0])\n",
    "subplot(133)\n",
    "title('residuals')\n",
    "imshow(example['obs_image']-i[0,:,:,0])"
   ]
  },
  {
   "cell_type": "code",
   "execution_count": 31,
   "metadata": {},
   "outputs": [
    {
     "data": {
      "text/plain": [
       "array([-0.35584694,  0.00642705], dtype=float32)"
      ]
     },
     "execution_count": 31,
     "metadata": {},
     "output_type": "execute_result"
    }
   ],
   "source": [
    "res.numpy()"
   ]
  },
  {
   "cell_type": "code",
   "execution_count": 32,
   "metadata": {},
   "outputs": [],
   "source": [
    "# True ellipticity: [0.1, 0.2]\n",
    "@tf.function\n",
    "def get_metacal_response(tfimgal, tfimnos, tfimipsf, tfimpsf):\n",
    "    g = tf.zeros(2)\n",
    "    with tf.GradientTape() as tape:\n",
    "        tape.watch(g)\n",
    "        # Measure ellipticity under metacal\n",
    "        _, e = metacal_shear(tfimgal, tfimnos, tfimipsf, tfimpsf, g[0], g[1])\n",
    "    # Compute response matrix\n",
    "    R = tape.jacobian(e, g)\n",
    "    return e, R"
   ]
  },
  {
   "cell_type": "code",
   "execution_count": 33,
   "metadata": {},
   "outputs": [
    {
     "name": "stdout",
     "output_type": "stream",
     "text": [
      "WARNING:tensorflow:Using a while_loop for converting Roll\n"
     ]
    },
    {
     "name": "stderr",
     "output_type": "stream",
     "text": [
      "WARNING:tensorflow:Using a while_loop for converting Roll\n"
     ]
    },
    {
     "name": "stdout",
     "output_type": "stream",
     "text": [
      "WARNING:tensorflow:Using a while_loop for converting Roll\n"
     ]
    },
    {
     "name": "stderr",
     "output_type": "stream",
     "text": [
      "WARNING:tensorflow:Using a while_loop for converting Roll\n"
     ]
    },
    {
     "name": "stdout",
     "output_type": "stream",
     "text": [
      "WARNING:tensorflow:Using a while_loop for converting Roll\n"
     ]
    },
    {
     "name": "stderr",
     "output_type": "stream",
     "text": [
      "WARNING:tensorflow:Using a while_loop for converting Roll\n"
     ]
    },
    {
     "name": "stdout",
     "output_type": "stream",
     "text": [
      "WARNING:tensorflow:Using a while_loop for converting Roll\n"
     ]
    },
    {
     "name": "stderr",
     "output_type": "stream",
     "text": [
      "WARNING:tensorflow:Using a while_loop for converting Roll\n"
     ]
    },
    {
     "name": "stdout",
     "output_type": "stream",
     "text": [
      "WARNING:tensorflow:Using a while_loop for converting Addons>ResamplerGrad\n"
     ]
    },
    {
     "name": "stderr",
     "output_type": "stream",
     "text": [
      "WARNING:tensorflow:Using a while_loop for converting Addons>ResamplerGrad\n"
     ]
    },
    {
     "name": "stdout",
     "output_type": "stream",
     "text": [
      "WARNING:tensorflow:Using a while_loop for converting Addons>ResamplerGrad\n"
     ]
    },
    {
     "name": "stderr",
     "output_type": "stream",
     "text": [
      "WARNING:tensorflow:Using a while_loop for converting Addons>ResamplerGrad\n"
     ]
    },
    {
     "name": "stdout",
     "output_type": "stream",
     "text": [
      "WARNING:tensorflow:Using a while_loop for converting Roll\n"
     ]
    },
    {
     "name": "stderr",
     "output_type": "stream",
     "text": [
      "WARNING:tensorflow:Using a while_loop for converting Roll\n"
     ]
    },
    {
     "name": "stdout",
     "output_type": "stream",
     "text": [
      "WARNING:tensorflow:Using a while_loop for converting Roll\n"
     ]
    },
    {
     "name": "stderr",
     "output_type": "stream",
     "text": [
      "WARNING:tensorflow:Using a while_loop for converting Roll\n"
     ]
    },
    {
     "name": "stdout",
     "output_type": "stream",
     "text": [
      "WARNING:tensorflow:Using a while_loop for converting Roll\n"
     ]
    },
    {
     "name": "stderr",
     "output_type": "stream",
     "text": [
      "WARNING:tensorflow:Using a while_loop for converting Roll\n"
     ]
    },
    {
     "name": "stdout",
     "output_type": "stream",
     "text": [
      "WARNING:tensorflow:Using a while_loop for converting Roll\n"
     ]
    },
    {
     "name": "stderr",
     "output_type": "stream",
     "text": [
      "WARNING:tensorflow:Using a while_loop for converting Roll\n"
     ]
    },
    {
     "name": "stdout",
     "output_type": "stream",
     "text": [
      "WARNING:tensorflow:Using a while_loop for converting Addons>ResamplerGrad\n"
     ]
    },
    {
     "name": "stderr",
     "output_type": "stream",
     "text": [
      "WARNING:tensorflow:Using a while_loop for converting Addons>ResamplerGrad\n"
     ]
    },
    {
     "name": "stdout",
     "output_type": "stream",
     "text": [
      "WARNING:tensorflow:Using a while_loop for converting Addons>ResamplerGrad\n"
     ]
    },
    {
     "name": "stderr",
     "output_type": "stream",
     "text": [
      "WARNING:tensorflow:Using a while_loop for converting Addons>ResamplerGrad\n"
     ]
    }
   ],
   "source": [
    "e,R = get_metacal_response(tfimgal, tfimnos, tfimipsf, tfimpsf)"
   ]
  },
  {
   "cell_type": "code",
   "execution_count": 34,
   "metadata": {},
   "outputs": [],
   "source": [
    "# Apply inverse response matrix :-D\n",
    "calibrated_e = tf.linalg.inv(R) @ tf.reshape(e,[2,1])"
   ]
  },
  {
   "cell_type": "code",
   "execution_count": 35,
   "metadata": {},
   "outputs": [
    {
     "name": "stdout",
     "output_type": "stream",
     "text": [
      "measured ellipticity   [0.05538649 0.12171164]\n",
      "calibrated ellipticity [0.02701778 0.54891276]\n",
      "true g1,g2             0.1 0.2\n"
     ]
    }
   ],
   "source": [
    "print(\"measured ellipticity  \", e.numpy())\n",
    "print(\"calibrated ellipticity\", calibrated_e.numpy().squeeze())\n",
    "print(\"true g1,g2            \",g1,g2)"
   ]
  },
  {
   "cell_type": "code",
   "execution_count": null,
   "metadata": {},
   "outputs": [],
   "source": []
  },
  {
   "cell_type": "code",
   "execution_count": 36,
   "metadata": {},
   "outputs": [],
   "source": [
    "@tf.function\n",
    "def generate_mcal_image2(gal_image,\n",
    "                        psf_image,\n",
    "                        gal_kimage, \n",
    "                        psf_kimage,\n",
    "                        psf_inverse,\n",
    "                        noise_image, g):\n",
    "  \"\"\" Generate a metacalibrated image.\n",
    "  \"\"\"\n",
    "  g1, g2 = g[0], g[1]\n",
    "  g1 = tf.reshape(tf.convert_to_tensor(g1, dtype=tf.float32), [-1])\n",
    "  g2 = tf.reshape(tf.convert_to_tensor(g2, dtype=tf.float32), [-1])  \n",
    "  \n",
    "  #sizes\n",
    "  img_size = len(gal_image)\n",
    "  kmg_size = len(gal_kimage)\n",
    "  \n",
    "  ### tensorflow preparation ops\n",
    "  #galaxy k image\n",
    "  tf_gal_img = tf.expand_dims(tf.convert_to_tensor(gal_kimage, dtype=tf.complex64),0)\n",
    "  \n",
    "  #psf k image\n",
    "  tf_psf_img = tf.signal.fftshift(tf.expand_dims(tf.convert_to_tensor(psf_kimage, dtype=tf.complex64),0),axes=2)[:,:,:(kmg_size)//2+1]\n",
    "  \n",
    "  \n",
    "  #psf deconvolution kernel\n",
    "  tf_inv_psf_img = tf.expand_dims(tf.convert_to_tensor(psf_inverse, dtype=tf.complex64),0)\n",
    "  \n",
    "  #noise k image\n",
    "  tf_nos_img = tf.expand_dims(tf.convert_to_tensor(noise_image, dtype=tf.complex64),0)\n",
    "  \n",
    "\n",
    "  ### metacal procedure\n",
    "  # Step1: remove observed psf\n",
    "  img = tf_gal_img * tf_inv_psf_img\n",
    "  imgn = tf_nos_img * tf_inv_psf_img\n",
    "\n",
    "\n",
    "  # Step2: add shear layer\n",
    "  img = gf.shear(tf.expand_dims(img,-1), g1, g2)[...,0]\n",
    "  imgn = gf.shear(tf.expand_dims(imgn,-1), -g1, -g2)\n",
    "  imgn=tf.image.rot90(imgn,-1)[...,0]\n",
    "\n",
    "  # Step3: apply psf again\n",
    "  img = gf.kconvolve(tf.signal.fftshift(img,axes=2)[...,:(len(img[0]))//2+1], (tf_psf_img))[...,0]\n",
    "  img = tf.expand_dims(tf.signal.fftshift(img),-1)\n",
    "  img = tf.image.resize_with_crop_or_pad(img, img_size, img_size)\n",
    "  \n",
    "  imgn = gf.kconvolve(tf.signal.fftshift(imgn,axes=2)[...,:(len(imgn[0]))//2+1], (tf_psf_img))[...,0]\n",
    "  imgn = tf.expand_dims(tf.signal.fftshift(imgn),-1)\n",
    "  imgn = tf.image.resize_with_crop_or_pad(imgn, img_size, img_size)\n",
    "\n",
    "  # Adding the inverse sheared noise\n",
    "  img += imgn\n",
    "\n",
    "  return img\n"
   ]
  },
  {
   "cell_type": "code",
   "execution_count": 37,
   "metadata": {},
   "outputs": [],
   "source": [
    "psf_kimage = autometacal.datasets.gal_gen.recomplexify(example['psf_kimage'])\n",
    "gal_kimage = autometacal.datasets.gal_gen.recomplexify(example['obs_kimage'])\n",
    "psf_inverse = autometacal.datasets.galaxies.gs_Deconvolve(example['psf_image'])"
   ]
  },
  {
   "cell_type": "code",
   "execution_count": 38,
   "metadata": {},
   "outputs": [],
   "source": [
    "test=autometacal.metacal.generate_mcal_image(example['obs_image'],\n",
    "                    example['psf_image'],\n",
    "                    gal_kimage, \n",
    "                    psf_kimage,\n",
    "                    psf_inverse,\n",
    "                    imnos.array.astype('complex64'),  [0,0])"
   ]
  },
  {
   "cell_type": "code",
   "execution_count": 39,
   "metadata": {},
   "outputs": [
    {
     "data": {
      "text/plain": [
       "<matplotlib.image.AxesImage at 0x7fd91059fdc0>"
      ]
     },
     "execution_count": 39,
     "metadata": {},
     "output_type": "execute_result"
    },
    {
     "data": {
      "image/png": "[encoded data removed]",
      "text/plain": [
       "<Figure size 432x288 with 1 Axes>"
      ]
     },
     "metadata": {
      "needs_background": "light"
     },
     "output_type": "display_data"
    }
   ],
   "source": [
    "plt.imshow(test.numpy()[0,...,0])"
   ]
  },
  {
   "cell_type": "code",
   "execution_count": null,
   "metadata": {},
   "outputs": [],
   "source": []
  }
 ],
 "metadata": {
  "kernelspec": {
   "display_name": "Python 3",
   "language": "python",
   "name": "python3"
  },
  "language_info": {
   "codemirror_mode": {
    "name": "ipython",
    "version": 3
   },
   "file_extension": ".py",
   "mimetype": "text/x-python",
   "name": "python",
   "nbconvert_exporter": "python",
   "pygments_lexer": "ipython3",
   "version": "3.8.3"
  }
 },
 "nbformat": 4,
 "nbformat_minor": 4
}
