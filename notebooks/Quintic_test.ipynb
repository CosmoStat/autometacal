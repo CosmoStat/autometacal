{
 "cells": [
  {
   "cell_type": "code",
   "execution_count": 1,
   "id": "5ccfc5cf-d0cc-4cbb-8a02-1a2878f57d85",
   "metadata": {},
   "outputs": [
    {
     "name": "stdout",
     "output_type": "stream",
     "text": [
      "Populating the interactive namespace from numpy and matplotlib\n"
     ]
    }
   ],
   "source": [
    "%pylab inline"
   ]
  },
  {
   "cell_type": "code",
   "execution_count": 2,
   "id": "91198b6b-b772-46bf-b2b4-005c36b8af97",
   "metadata": {},
   "outputs": [],
   "source": [
    "def quintic(x,alpha=3/64):\n",
    "  \"\"\"Meijering et al. 1999\"\"\"\n",
    "  \n",
    "  matrix0 = array([10*alpha-21/16, \n",
    "                   -18*alpha+45/16, \n",
    "                   0, \n",
    "                   +8*alpha-5/2,\n",
    "                   0, \n",
    "                   1])\n",
    "  matrix1 = array([11*alpha-5/16,  \n",
    "                   -88*alpha+45/16,\n",
    "                   270*alpha-10,\n",
    "                   -392*alpha+35/2,\n",
    "                   265*alpha-15,\n",
    "                  -66*alpha+5])\n",
    "  matrix2 = array([alpha, \n",
    "                   -14*alpha, \n",
    "                   78*alpha, \n",
    "                   -216*alpha, \n",
    "                   297*alpha, \n",
    "                   -162*alpha])\n",
    "  \n",
    "  vector = array([abs(x)**(5-n) for n in range(6)])\n",
    "  \n",
    "  if abs(x)<1:\n",
    "    result = sum(vector*matrix0)\n",
    "    return result\n",
    "  if abs(x)< 2:\n",
    "    result = sum(vector*matrix1)\n",
    "    return result\n",
    "  if abs(x)<3:\n",
    "    result = sum(vector*matrix2)\n",
    "    return result\n",
    "  \n",
    "  return 0"
   ]
  },
  {
   "cell_type": "code",
   "execution_count": 3,
   "id": "4196ab26-8be2-440d-813f-54a667539b5a",
   "metadata": {},
   "outputs": [
    {
     "data": {
      "text/plain": [
       "0.006561000000001371"
      ]
     },
     "execution_count": 3,
     "metadata": {},
     "output_type": "execute_result"
    }
   ],
   "source": [
    "quintic(2.1,.1)"
   ]
  },
  {
   "cell_type": "code",
   "execution_count": 4,
   "id": "243d7995-2deb-4f5d-b0d0-90abc8556472",
   "metadata": {},
   "outputs": [
    {
     "data": {
      "text/plain": [
       "Text(0.5, 0, 'x')"
      ]
     },
     "execution_count": 4,
     "metadata": {},
     "output_type": "execute_result"
    },
    {
     "data": {
      "image/png": "[encoded data removed]",
      "text/plain": [
       "<Figure size 432x288 with 1 Axes>"
      ]
     },
     "metadata": {
      "needs_background": "light"
     },
     "output_type": "display_data"
    }
   ],
   "source": [
    "x = linspace(-3.1,3.1,1000)\n",
    "y = [quintic(xv,3/64) for xv in x]\n",
    "plot(x,sinc(x))\n",
    "plot(x,y)\n",
    "ylabel('residuals')\n",
    "xlabel('x')"
   ]
  },
  {
   "cell_type": "code",
   "execution_count": 5,
   "id": "82b70fe1-67a1-4f23-b125-60534e475cc0",
   "metadata": {},
   "outputs": [
    {
     "data": {
      "text/plain": [
       "0.046875"
      ]
     },
     "execution_count": 5,
     "metadata": {},
     "output_type": "execute_result"
    }
   ],
   "source": [
    "3/64"
   ]
  },
  {
   "cell_type": "code",
   "execution_count": null,
   "id": "b571cb9e-e4ce-40c7-a3a1-4ef44052ce9b",
   "metadata": {},
   "outputs": [],
   "source": []
  }
 ],
 "metadata": {
  "kernelspec": {
   "display_name": "Python 3",
   "language": "python",
   "name": "python3"
  },
  "language_info": {
   "codemirror_mode": {
    "name": "ipython",
    "version": 3
   },
   "file_extension": ".py",
   "mimetype": "text/x-python",
   "name": "python",
   "nbconvert_exporter": "python",
   "pygments_lexer": "ipython3",
   "version": "3.8.6"
  }
 },
 "nbformat": 4,
 "nbformat_minor": 5
}
